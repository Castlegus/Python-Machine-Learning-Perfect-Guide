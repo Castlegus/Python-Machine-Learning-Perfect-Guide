{
 "cells": [
  {
   "cell_type": "markdown",
   "metadata": {},
   "source": [
    "토픽 모델링이란 문서 속에 숨어 있는 주제를 찾아내는 것.\n",
    "\n",
    "많은 양의 문서가 있을 때 사람이 이 문서를 다 읽고 핵심 주제를 찾는 것은 매우 많은 시간이 소모되므로 머신러닝 기반의 토픽 모델링을 적용해 숨어 있는 중요 주제를 효과적으로 찾아낼 수 있다."
   ]
  },
  {
   "cell_type": "code",
   "execution_count": 5,
   "metadata": {},
   "outputs": [],
   "source": [
    "from sklearn.datasets import fetch_20newsgroups\n",
    "from sklearn.feature_extraction.text import CountVectorizer\n",
    "from sklearn.decomposition import LatentDirichletAllocation\n",
    "\n",
    "cats = ['rec.motorcycles','rec.sport.baseball','comp.graphics','comp.windows.x','talk.politics.mideast','soc.religion.christian','sci.electronics','sci.med']\n",
    "\n",
    "news_df = fetch_20newsgroups(subset='all',remove=('header','footer','quotes'), categories=cats, random_state=0)"
   ]
  },
  {
   "cell_type": "code",
   "execution_count": 6,
   "metadata": {},
   "outputs": [
    {
     "name": "stdout",
     "output_type": "stream",
     "text": [
      "CountVectorizer Shape: (7862, 1000)\n"
     ]
    }
   ],
   "source": [
    "# 피처 벡터화\n",
    "count_vect = CountVectorizer(max_df=0.95, max_features=1000, min_df=2, stop_words='english', ngram_range=(1,2))\n",
    "feat_vect = count_vect.fit_transform(news_df.data)\n",
    "print('CountVectorizer Shape:', feat_vect.shape)"
   ]
  },
  {
   "cell_type": "code",
   "execution_count": 7,
   "metadata": {},
   "outputs": [],
   "source": [
    "# 7862개의 문서가 1000개의 피처로 구성되었다."
   ]
  },
  {
   "cell_type": "code",
   "execution_count": 8,
   "metadata": {},
   "outputs": [
    {
     "data": {
      "text/plain": [
       "LatentDirichletAllocation(n_components=8, random_state=0)"
      ]
     },
     "execution_count": 8,
     "metadata": {},
     "output_type": "execute_result"
    }
   ],
   "source": [
    "# LDA 토픽 모델링\n",
    "lda = LatentDirichletAllocation(n_components=8, random_state=0) # 토픽은 뉴스그룹에서 추출한 주제와 동일하게 8개\n",
    "lda.fit(feat_vect)"
   ]
  },
  {
   "cell_type": "code",
   "execution_count": 11,
   "metadata": {},
   "outputs": [
    {
     "name": "stdout",
     "output_type": "stream",
     "text": [
      "(8, 1000)\n"
     ]
    },
    {
     "data": {
      "text/plain": [
       "array([[3.13483523e+02, 1.80694863e+02, 4.03990113e+01, ...,\n",
       "        8.44355322e+01, 1.25001932e-01, 1.25001646e-01],\n",
       "       [9.44043581e+01, 1.44080013e+01, 1.30242052e+02, ...,\n",
       "        7.82561496e+01, 1.25016648e-01, 1.25014688e-01],\n",
       "       [4.44766267e+00, 5.88923250e-01, 1.25170282e-01, ...,\n",
       "        4.02190900e+01, 1.25003957e-01, 1.25003865e-01],\n",
       "       ...,\n",
       "       [9.40699411e+00, 4.55386620e+01, 1.25194439e-01, ...,\n",
       "        3.24877033e+01, 1.25029032e-01, 1.25000579e-01],\n",
       "       [2.10365037e+01, 7.02607423e+00, 1.35839302e+01, ...,\n",
       "        2.20584629e+01, 1.25014981e-01, 1.25001025e-01],\n",
       "       [1.25057672e-01, 1.25115975e-01, 1.25009770e-01, ...,\n",
       "        4.22456002e+01, 1.25001380e-01, 1.25001457e-01]])"
      ]
     },
     "execution_count": 11,
     "metadata": {},
     "output_type": "execute_result"
    }
   ],
   "source": [
    "print(lda.components_.shape) # components_는 개별 토픽별로 각 word 피처가 얼마나 많이 그 토픽에 할당되었는지에 대한 수치를 가지고 있다.\n",
    "lda.components_"
   ]
  },
  {
   "cell_type": "code",
   "execution_count": 20,
   "metadata": {},
   "outputs": [
    {
     "name": "stdout",
     "output_type": "stream",
     "text": [
      "Topic # 0\n",
      "edu*568.9 , medical*526.9 , 10*475.4 , health*433.0 , information*422.0 , 1993*409.5 , research*402.2 , pitt*350.1 , disease*343.1 , cancer*341.1 , pitt edu*330.1 , 00*313.5 , new*306.1 , patients*303.9 , 12*298.7\n",
      "Topic # 1\n",
      "said*809.1 , people*577.7 , know*572.9 , don*571.2 , didn*531.2 , just*476.0 , went*440.7 , like*404.6 , say*362.0 , time*357.4 , did*352.0 , going*348.2 , came*340.3 , told*336.7 , ac*330.4\n",
      "Topic # 2\n",
      "don*937.1 , use*921.2 , just*859.0 , like*826.3 , good*689.6 , time*680.1 , make*644.4 , know*626.4 , way*588.6 , think*577.3 , does*556.0 , used*517.2 , organization*511.9 , people*495.7 , ve*488.9\n",
      "Topic # 3\n",
      "file*1522.9 , edu*1437.7 , image*1342.1 , graphics*1253.3 , program*1099.0 , use*980.7 , available*949.4 , window*941.2 , mit*902.9 , software*875.1 , windows*866.8 , ftp*852.1 , version*833.9 , jpeg*829.1 , server*809.1\n",
      "Topic # 4\n",
      "armenian*961.1 , israel*928.7 , turkish*917.8 , jews*701.9 , armenians*700.9 , people*655.0 , israeli*568.2 , jewish*547.8 , armenia*516.1 , government*495.7 , turks*448.1 , world*436.6 , war*436.1 , turkey*422.9 , muslim*414.0\n",
      "Topic # 5\n",
      "com*4045.9 , organization*1836.4 , don*566.2 , like*537.9 , just*488.7 , bike*465.0 , think*435.9 , netcom*414.6 , good*399.9 , ibm*393.9 , hp*390.9 , time*388.1 , com organization*383.4 , game*382.3 , ve*336.3\n",
      "Topic # 6\n",
      "edu*6668.2 , organization*4038.8 , posting*2876.1 , university*2864.8 , host*2814.1 , nntp*2808.0 , nntp posting*2805.2 , posting host*2798.5 , organization university*1032.7 , cs*1022.6 , reply*896.2 , distribution*869.4 , ca*831.2 , thanks*664.9 , know*644.7\n",
      "Topic # 7\n",
      "god*2197.9 , people*900.5 , jesus*747.1 , church*719.4 , believe*618.1 , christ*583.9 , christian*569.1 , think*568.2 , organization*547.7 , christians*526.0 , does*492.1 , say*490.2 , edu*464.5 , bible*459.8 , sin*454.1\n"
     ]
    }
   ],
   "source": [
    "# CountVectorizer 객체 내의 전체 word 명칭을 get_feature_names()를 통해 추출\n",
    "feature_names = count_vect.get_feature_names()\n",
    "\n",
    "# 토픽별로 연관도가 높은 순으로 word 나열\n",
    "def display_topics(model, feature_names, no_top_words):\n",
    "    for topic_index, topic in enumerate(model.components_):\n",
    "        print('Topic #', topic_index)\n",
    "        \n",
    "        topic_word_indexes = topic.argsort()[::-1] # 내림차순 정렬한 후 그 인덱스\n",
    "        top_indexes = topic_word_indexes[:no_top_words]\n",
    "        \n",
    "        feature_concat = ' , '.join([feature_names[i] +'*'+ str(round(topic[i],1)) for i in top_indexes])\n",
    "        print(feature_concat)\n",
    "\n",
    "display_topics(lda, feature_names, 15)"
   ]
  },
  {
   "cell_type": "code",
   "execution_count": 21,
   "metadata": {},
   "outputs": [],
   "source": [
    "# 어떤 주제인지 해석이 애매한 경우도 있다."
   ]
  },
  {
   "cell_type": "code",
   "execution_count": 22,
   "metadata": {},
   "outputs": [
    {
     "name": "stdout",
     "output_type": "stream",
     "text": [
      "(7862, 8)\n",
      "[[0.00781693 0.00781854 0.19349207 0.00781857 0.00782114 0.00781901\n",
      "  0.75958811 0.00782563]\n",
      " [0.24882762 0.07501554 0.31407259 0.00181456 0.00181406 0.35482677\n",
      "  0.00181459 0.00181425]\n",
      " [0.00379355 0.00379119 0.55224446 0.10064123 0.00379194 0.00379369\n",
      "  0.328152   0.00379195]]\n"
     ]
    }
   ],
   "source": [
    "# 개별 문서별 토픽 분포 확인\n",
    "doc_topics = lda.transform(feat_vect)\n",
    "print(doc_topics.shape)\n",
    "print(doc_topics[:3])"
   ]
  },
  {
   "cell_type": "code",
   "execution_count": null,
   "metadata": {},
   "outputs": [],
   "source": [
    "# # 7862개의 문서가 각 8개의 토픽으로 구성되었다."
   ]
  },
  {
   "cell_type": "code",
   "execution_count": 24,
   "metadata": {},
   "outputs": [
    {
     "name": "stdout",
     "output_type": "stream",
     "text": [
      "filename 개수: 7862 filename list 10개만: ['soc.religion.christian.20630', 'sci.med.59422', 'comp.graphics.38765', 'comp.graphics.38810', 'sci.med.59449', 'comp.graphics.38461', 'comp.windows.x.66959', 'rec.motorcycles.104487', 'sci.electronics.53875', 'sci.electronics.53617']\n"
     ]
    }
   ],
   "source": [
    "# 개별 문서별 토픽 분포도를 출력\n",
    "def get_filename_list(newsdata):\n",
    "    filename_list=[]\n",
    "\n",
    "    for file in newsdata.filenames:\n",
    "            #print(file)\n",
    "            filename_temp = file.split('\\\\')[-2:]\n",
    "            filename = '.'.join(filename_temp)\n",
    "            filename_list.append(filename)\n",
    "    \n",
    "    return filename_list\n",
    "\n",
    "filename_list = get_filename_list(news_df)\n",
    "print(\"filename 개수:\",len(filename_list), \"filename list 10개만:\",filename_list[:10])"
   ]
  },
  {
   "cell_type": "code",
   "execution_count": 25,
   "metadata": {},
   "outputs": [
    {
     "data": {
      "text/html": [
       "<div>\n",
       "<style scoped>\n",
       "    .dataframe tbody tr th:only-of-type {\n",
       "        vertical-align: middle;\n",
       "    }\n",
       "\n",
       "    .dataframe tbody tr th {\n",
       "        vertical-align: top;\n",
       "    }\n",
       "\n",
       "    .dataframe thead th {\n",
       "        text-align: right;\n",
       "    }\n",
       "</style>\n",
       "<table border=\"1\" class=\"dataframe\">\n",
       "  <thead>\n",
       "    <tr style=\"text-align: right;\">\n",
       "      <th></th>\n",
       "      <th>Topic #0</th>\n",
       "      <th>Topic #1</th>\n",
       "      <th>Topic #2</th>\n",
       "      <th>Topic #3</th>\n",
       "      <th>Topic #4</th>\n",
       "      <th>Topic #5</th>\n",
       "      <th>Topic #6</th>\n",
       "      <th>Topic #7</th>\n",
       "    </tr>\n",
       "  </thead>\n",
       "  <tbody>\n",
       "    <tr>\n",
       "      <th>soc.religion.christian.20630</th>\n",
       "      <td>0.007817</td>\n",
       "      <td>0.007819</td>\n",
       "      <td>0.193492</td>\n",
       "      <td>0.007819</td>\n",
       "      <td>0.007821</td>\n",
       "      <td>0.007819</td>\n",
       "      <td>0.759588</td>\n",
       "      <td>0.007826</td>\n",
       "    </tr>\n",
       "    <tr>\n",
       "      <th>sci.med.59422</th>\n",
       "      <td>0.248828</td>\n",
       "      <td>0.075016</td>\n",
       "      <td>0.314073</td>\n",
       "      <td>0.001815</td>\n",
       "      <td>0.001814</td>\n",
       "      <td>0.354827</td>\n",
       "      <td>0.001815</td>\n",
       "      <td>0.001814</td>\n",
       "    </tr>\n",
       "    <tr>\n",
       "      <th>comp.graphics.38765</th>\n",
       "      <td>0.003794</td>\n",
       "      <td>0.003791</td>\n",
       "      <td>0.552244</td>\n",
       "      <td>0.100641</td>\n",
       "      <td>0.003792</td>\n",
       "      <td>0.003794</td>\n",
       "      <td>0.328152</td>\n",
       "      <td>0.003792</td>\n",
       "    </tr>\n",
       "    <tr>\n",
       "      <th>comp.graphics.38810</th>\n",
       "      <td>0.003577</td>\n",
       "      <td>0.003583</td>\n",
       "      <td>0.322347</td>\n",
       "      <td>0.294480</td>\n",
       "      <td>0.003583</td>\n",
       "      <td>0.003574</td>\n",
       "      <td>0.365280</td>\n",
       "      <td>0.003575</td>\n",
       "    </tr>\n",
       "    <tr>\n",
       "      <th>sci.med.59449</th>\n",
       "      <td>0.076528</td>\n",
       "      <td>0.103664</td>\n",
       "      <td>0.661114</td>\n",
       "      <td>0.005212</td>\n",
       "      <td>0.005212</td>\n",
       "      <td>0.005218</td>\n",
       "      <td>0.137832</td>\n",
       "      <td>0.005219</td>\n",
       "    </tr>\n",
       "    <tr>\n",
       "      <th>comp.graphics.38461</th>\n",
       "      <td>0.003912</td>\n",
       "      <td>0.067820</td>\n",
       "      <td>0.288198</td>\n",
       "      <td>0.100390</td>\n",
       "      <td>0.003909</td>\n",
       "      <td>0.003911</td>\n",
       "      <td>0.527945</td>\n",
       "      <td>0.003914</td>\n",
       "    </tr>\n",
       "    <tr>\n",
       "      <th>comp.windows.x.66959</th>\n",
       "      <td>0.352067</td>\n",
       "      <td>0.012502</td>\n",
       "      <td>0.012503</td>\n",
       "      <td>0.012538</td>\n",
       "      <td>0.012507</td>\n",
       "      <td>0.012507</td>\n",
       "      <td>0.572872</td>\n",
       "      <td>0.012504</td>\n",
       "    </tr>\n",
       "    <tr>\n",
       "      <th>rec.motorcycles.104487</th>\n",
       "      <td>0.042139</td>\n",
       "      <td>0.003129</td>\n",
       "      <td>0.003133</td>\n",
       "      <td>0.059844</td>\n",
       "      <td>0.003131</td>\n",
       "      <td>0.677559</td>\n",
       "      <td>0.207938</td>\n",
       "      <td>0.003128</td>\n",
       "    </tr>\n",
       "    <tr>\n",
       "      <th>sci.electronics.53875</th>\n",
       "      <td>0.004473</td>\n",
       "      <td>0.004472</td>\n",
       "      <td>0.004468</td>\n",
       "      <td>0.004470</td>\n",
       "      <td>0.004468</td>\n",
       "      <td>0.968712</td>\n",
       "      <td>0.004469</td>\n",
       "      <td>0.004467</td>\n",
       "    </tr>\n",
       "    <tr>\n",
       "      <th>sci.electronics.53617</th>\n",
       "      <td>0.009637</td>\n",
       "      <td>0.009619</td>\n",
       "      <td>0.009658</td>\n",
       "      <td>0.009622</td>\n",
       "      <td>0.009619</td>\n",
       "      <td>0.009649</td>\n",
       "      <td>0.932567</td>\n",
       "      <td>0.009629</td>\n",
       "    </tr>\n",
       "    <tr>\n",
       "      <th>sci.electronics.54089</th>\n",
       "      <td>0.001360</td>\n",
       "      <td>0.001361</td>\n",
       "      <td>0.578974</td>\n",
       "      <td>0.117776</td>\n",
       "      <td>0.001359</td>\n",
       "      <td>0.149651</td>\n",
       "      <td>0.148158</td>\n",
       "      <td>0.001360</td>\n",
       "    </tr>\n",
       "    <tr>\n",
       "      <th>rec.sport.baseball.102713</th>\n",
       "      <td>0.654421</td>\n",
       "      <td>0.000620</td>\n",
       "      <td>0.039695</td>\n",
       "      <td>0.000620</td>\n",
       "      <td>0.000619</td>\n",
       "      <td>0.261243</td>\n",
       "      <td>0.042163</td>\n",
       "      <td>0.000620</td>\n",
       "    </tr>\n",
       "    <tr>\n",
       "      <th>rec.sport.baseball.104711</th>\n",
       "      <td>0.079549</td>\n",
       "      <td>0.005212</td>\n",
       "      <td>0.246080</td>\n",
       "      <td>0.005216</td>\n",
       "      <td>0.060328</td>\n",
       "      <td>0.005217</td>\n",
       "      <td>0.593179</td>\n",
       "      <td>0.005219</td>\n",
       "    </tr>\n",
       "    <tr>\n",
       "      <th>comp.graphics.38232</th>\n",
       "      <td>0.003130</td>\n",
       "      <td>0.003129</td>\n",
       "      <td>0.350629</td>\n",
       "      <td>0.551884</td>\n",
       "      <td>0.003127</td>\n",
       "      <td>0.081839</td>\n",
       "      <td>0.003133</td>\n",
       "      <td>0.003130</td>\n",
       "    </tr>\n",
       "    <tr>\n",
       "      <th>sci.electronics.52732</th>\n",
       "      <td>0.004474</td>\n",
       "      <td>0.004470</td>\n",
       "      <td>0.132616</td>\n",
       "      <td>0.004470</td>\n",
       "      <td>0.004468</td>\n",
       "      <td>0.840560</td>\n",
       "      <td>0.004475</td>\n",
       "      <td>0.004468</td>\n",
       "    </tr>\n",
       "    <tr>\n",
       "      <th>talk.politics.mideast.76440</th>\n",
       "      <td>0.001896</td>\n",
       "      <td>0.134017</td>\n",
       "      <td>0.388613</td>\n",
       "      <td>0.001896</td>\n",
       "      <td>0.105331</td>\n",
       "      <td>0.001896</td>\n",
       "      <td>0.364453</td>\n",
       "      <td>0.001898</td>\n",
       "    </tr>\n",
       "    <tr>\n",
       "      <th>sci.med.59243</th>\n",
       "      <td>0.379075</td>\n",
       "      <td>0.277621</td>\n",
       "      <td>0.003053</td>\n",
       "      <td>0.003051</td>\n",
       "      <td>0.003052</td>\n",
       "      <td>0.328046</td>\n",
       "      <td>0.003051</td>\n",
       "      <td>0.003051</td>\n",
       "    </tr>\n",
       "    <tr>\n",
       "      <th>talk.politics.mideast.75888</th>\n",
       "      <td>0.005685</td>\n",
       "      <td>0.005688</td>\n",
       "      <td>0.005688</td>\n",
       "      <td>0.005684</td>\n",
       "      <td>0.005683</td>\n",
       "      <td>0.110229</td>\n",
       "      <td>0.855657</td>\n",
       "      <td>0.005686</td>\n",
       "    </tr>\n",
       "    <tr>\n",
       "      <th>soc.religion.christian.21526</th>\n",
       "      <td>0.002235</td>\n",
       "      <td>0.002236</td>\n",
       "      <td>0.252479</td>\n",
       "      <td>0.002234</td>\n",
       "      <td>0.217450</td>\n",
       "      <td>0.002236</td>\n",
       "      <td>0.002234</td>\n",
       "      <td>0.518897</td>\n",
       "    </tr>\n",
       "    <tr>\n",
       "      <th>comp.windows.x.66408</th>\n",
       "      <td>0.000087</td>\n",
       "      <td>0.000087</td>\n",
       "      <td>0.357507</td>\n",
       "      <td>0.641969</td>\n",
       "      <td>0.000087</td>\n",
       "      <td>0.000087</td>\n",
       "      <td>0.000087</td>\n",
       "      <td>0.000087</td>\n",
       "    </tr>\n",
       "  </tbody>\n",
       "</table>\n",
       "</div>"
      ],
      "text/plain": [
       "                              Topic #0  Topic #1  Topic #2  Topic #3  \\\n",
       "soc.religion.christian.20630  0.007817  0.007819  0.193492  0.007819   \n",
       "sci.med.59422                 0.248828  0.075016  0.314073  0.001815   \n",
       "comp.graphics.38765           0.003794  0.003791  0.552244  0.100641   \n",
       "comp.graphics.38810           0.003577  0.003583  0.322347  0.294480   \n",
       "sci.med.59449                 0.076528  0.103664  0.661114  0.005212   \n",
       "comp.graphics.38461           0.003912  0.067820  0.288198  0.100390   \n",
       "comp.windows.x.66959          0.352067  0.012502  0.012503  0.012538   \n",
       "rec.motorcycles.104487        0.042139  0.003129  0.003133  0.059844   \n",
       "sci.electronics.53875         0.004473  0.004472  0.004468  0.004470   \n",
       "sci.electronics.53617         0.009637  0.009619  0.009658  0.009622   \n",
       "sci.electronics.54089         0.001360  0.001361  0.578974  0.117776   \n",
       "rec.sport.baseball.102713     0.654421  0.000620  0.039695  0.000620   \n",
       "rec.sport.baseball.104711     0.079549  0.005212  0.246080  0.005216   \n",
       "comp.graphics.38232           0.003130  0.003129  0.350629  0.551884   \n",
       "sci.electronics.52732         0.004474  0.004470  0.132616  0.004470   \n",
       "talk.politics.mideast.76440   0.001896  0.134017  0.388613  0.001896   \n",
       "sci.med.59243                 0.379075  0.277621  0.003053  0.003051   \n",
       "talk.politics.mideast.75888   0.005685  0.005688  0.005688  0.005684   \n",
       "soc.religion.christian.21526  0.002235  0.002236  0.252479  0.002234   \n",
       "comp.windows.x.66408          0.000087  0.000087  0.357507  0.641969   \n",
       "\n",
       "                              Topic #4  Topic #5  Topic #6  Topic #7  \n",
       "soc.religion.christian.20630  0.007821  0.007819  0.759588  0.007826  \n",
       "sci.med.59422                 0.001814  0.354827  0.001815  0.001814  \n",
       "comp.graphics.38765           0.003792  0.003794  0.328152  0.003792  \n",
       "comp.graphics.38810           0.003583  0.003574  0.365280  0.003575  \n",
       "sci.med.59449                 0.005212  0.005218  0.137832  0.005219  \n",
       "comp.graphics.38461           0.003909  0.003911  0.527945  0.003914  \n",
       "comp.windows.x.66959          0.012507  0.012507  0.572872  0.012504  \n",
       "rec.motorcycles.104487        0.003131  0.677559  0.207938  0.003128  \n",
       "sci.electronics.53875         0.004468  0.968712  0.004469  0.004467  \n",
       "sci.electronics.53617         0.009619  0.009649  0.932567  0.009629  \n",
       "sci.electronics.54089         0.001359  0.149651  0.148158  0.001360  \n",
       "rec.sport.baseball.102713     0.000619  0.261243  0.042163  0.000620  \n",
       "rec.sport.baseball.104711     0.060328  0.005217  0.593179  0.005219  \n",
       "comp.graphics.38232           0.003127  0.081839  0.003133  0.003130  \n",
       "sci.electronics.52732         0.004468  0.840560  0.004475  0.004468  \n",
       "talk.politics.mideast.76440   0.105331  0.001896  0.364453  0.001898  \n",
       "sci.med.59243                 0.003052  0.328046  0.003051  0.003051  \n",
       "talk.politics.mideast.75888   0.005683  0.110229  0.855657  0.005686  \n",
       "soc.religion.christian.21526  0.217450  0.002236  0.002234  0.518897  \n",
       "comp.windows.x.66408          0.000087  0.000087  0.000087  0.000087  "
      ]
     },
     "execution_count": 25,
     "metadata": {},
     "output_type": "execute_result"
    }
   ],
   "source": [
    "# DataFrame으로 생성하여 문서별 토픽 분포도 확인\n",
    "import pandas as pd \n",
    "\n",
    "topic_names = ['Topic #'+ str(i) for i in range(0, 8)]\n",
    "doc_topic_df = pd.DataFrame(data=doc_topics, columns=topic_names, index=filename_list)\n",
    "doc_topic_df.head(20)"
   ]
  },
  {
   "cell_type": "code",
   "execution_count": null,
   "metadata": {},
   "outputs": [],
   "source": []
  }
 ],
 "metadata": {
  "kernelspec": {
   "display_name": "Python 3",
   "language": "python",
   "name": "python3"
  },
  "language_info": {
   "codemirror_mode": {
    "name": "ipython",
    "version": 3
   },
   "file_extension": ".py",
   "mimetype": "text/x-python",
   "name": "python",
   "nbconvert_exporter": "python",
   "pygments_lexer": "ipython3",
   "version": "3.8.5"
  }
 },
 "nbformat": 4,
 "nbformat_minor": 4
}
