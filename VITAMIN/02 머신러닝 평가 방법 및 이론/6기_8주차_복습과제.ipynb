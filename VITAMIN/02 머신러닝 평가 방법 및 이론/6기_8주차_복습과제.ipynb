{
 "cells": [
  {
   "cell_type": "code",
   "execution_count": 1,
   "metadata": {},
   "outputs": [],
   "source": [
    "import pandas as pd\n",
    "import numpy as np\n",
    "import matplotlib.pyplot as plt\n",
    "import seaborn as sns\n",
    "import sklearn"
   ]
  },
  {
   "cell_type": "code",
   "execution_count": 2,
   "metadata": {},
   "outputs": [],
   "source": [
    "from sklearn.model_selection import train_test_split\n",
    "from sklearn.linear_model import LogisticRegression\n",
    "from sklearn.metrics import accuracy_score, recall_score, precision_score, confusion_matrix\n",
    "from sklearn.datasets import load_breast_cancer\n",
    "from sklearn.metrics import precision_recall_curve\n",
    "from sklearn.preprocessing import Binarizer"
   ]
  },
  {
   "cell_type": "code",
   "execution_count": 3,
   "metadata": {},
   "outputs": [],
   "source": [
    "import matplotlib.pyplot as plt\n",
    "import matplotlib.ticker as ticker\n",
    "%matplotlib inline"
   ]
  },
  {
   "cell_type": "markdown",
   "metadata": {},
   "source": [
    "## 1.  종양종류 예측(모델학습/예측/평가지표)"
   ]
  },
  {
   "cell_type": "markdown",
   "metadata": {},
   "source": [
    "### (1) load_breast_cancer데이터를 Logistic Regression으로 예측하고 정확도, 정밀도, 재현율, 오차행렬을 산출하세요."
   ]
  },
  {
   "cell_type": "markdown",
   "metadata": {},
   "source": [
    "- load_breast_cancer은 위스콘신 유방암 데이터로 악성종양(malignant)과 양성종양(benign)으로 구분되는 데이터세트 입니다. \n",
    "- 타깃 레이블 값의 종류는 악성이 '0'으로 양성이 '1'로 되어 있습니다.\n",
    "- sklearn.model_selection 의 train_test_split(test_size=0.3, random_state=11) 이용.\n",
    "- sklearn.linear_model의 LogisticRegression(random_state=11).\n",
    "- sklearn.metrics의 정확도, 정밀도, 재현율, 오차행렬 이용."
   ]
  },
  {
   "cell_type": "code",
   "execution_count": 4,
   "metadata": {},
   "outputs": [],
   "source": [
    "dataset = load_breast_cancer()\n",
    "X_features=dataset.data\n",
    "y_label=dataset.target"
   ]
  },
  {
   "cell_type": "code",
   "execution_count": 5,
   "metadata": {},
   "outputs": [],
   "source": [
    "X_train ,X_test, y_train, y_test = train_test_split(X_features, y_label, test_size=0.3, random_state=11)"
   ]
  },
  {
   "cell_type": "code",
   "execution_count": 6,
   "metadata": {},
   "outputs": [],
   "source": [
    "lr_clf = LogisticRegression(random_state=11, max_iter=2000)"
   ]
  },
  {
   "cell_type": "code",
   "execution_count": 7,
   "metadata": {},
   "outputs": [
    {
     "name": "stdout",
     "output_type": "stream",
     "text": [
      "정확도: 0.9298245614035088\n",
      "정밀도: 0.9545454545454546\n",
      "재현율: 0.9375\n",
      "오차행렬:\n",
      "[[ 54   5]\n",
      " [  7 105]]\n"
     ]
    }
   ],
   "source": [
    "lr_clf.fit(X_train, y_train)\n",
    "pred = lr_clf.predict(X_test)\n",
    "accuracy = accuracy_score(pred, y_test)\n",
    "precision = precision_score(pred, y_test)\n",
    "recall = recall_score(pred, y_test)\n",
    "cm = confusion_matrix(pred, y_test)\n",
    "\n",
    "print(f'정확도: {accuracy}\\n정밀도: {precision}\\n재현율: {recall}\\n오차행렬:\\n{cm}')"
   ]
  },
  {
   "cell_type": "markdown",
   "metadata": {},
   "source": [
    "## 2. 임계값에 따른 성능 평가 지표"
   ]
  },
  {
   "cell_type": "markdown",
   "metadata": {},
   "source": [
    "### (1) 임계값이 0.3, 0.5, 0.7, 0.9일때 오차행렬, 정확도, 정밀도, 재현율을 구하세요"
   ]
  },
  {
   "cell_type": "code",
   "execution_count": 8,
   "metadata": {},
   "outputs": [],
   "source": [
    "thresholds = [0.3, 0.5, 0.7, 0.9]"
   ]
  },
  {
   "cell_type": "code",
   "execution_count": 9,
   "metadata": {},
   "outputs": [
    {
     "data": {
      "text/plain": [
       "array([[9.99999713e-01, 2.87161421e-07],\n",
       "       [1.00000000e+00, 1.01792057e-10],\n",
       "       [9.99999988e-01, 1.18455230e-08],\n",
       "       [9.99999986e-01, 1.44512231e-08],\n",
       "       [1.00000000e+00, 1.13942059e-10],\n",
       "       [8.39544473e-04, 9.99160456e-01],\n",
       "       [9.79956976e-02, 9.02004302e-01],\n",
       "       [2.60311201e-03, 9.97396888e-01],\n",
       "       [1.40132939e-05, 9.99985987e-01],\n",
       "       [7.84603446e-04, 9.99215397e-01],\n",
       "       [4.82658892e-05, 9.99951734e-01],\n",
       "       [8.08599433e-01, 1.91400567e-01],\n",
       "       [1.60997206e-01, 8.39002794e-01],\n",
       "       [2.67814602e-06, 9.99997322e-01],\n",
       "       [1.49539874e-07, 9.99999850e-01],\n",
       "       [1.68520680e-04, 9.99831479e-01],\n",
       "       [9.32306982e-01, 6.76930182e-02],\n",
       "       [1.35183535e-01, 8.64816465e-01],\n",
       "       [3.48395309e-04, 9.99651605e-01],\n",
       "       [1.00000000e+00, 1.40216220e-10],\n",
       "       [9.94755163e-01, 5.24483734e-03],\n",
       "       [2.28636745e-05, 9.99977136e-01],\n",
       "       [1.38943118e-04, 9.99861057e-01],\n",
       "       [3.68649784e-06, 9.99996314e-01],\n",
       "       [9.48404580e-03, 9.90515954e-01],\n",
       "       [2.28755666e-05, 9.99977124e-01],\n",
       "       [6.60967351e-07, 9.99999339e-01],\n",
       "       [2.13548108e-01, 7.86451892e-01],\n",
       "       [1.83103636e-03, 9.98168964e-01],\n",
       "       [3.31945174e-02, 9.66805483e-01],\n",
       "       [1.02715123e-03, 9.98972849e-01],\n",
       "       [2.48495871e-04, 9.99751504e-01],\n",
       "       [3.48659357e-05, 9.99965134e-01],\n",
       "       [3.26787134e-05, 9.99967321e-01],\n",
       "       [7.22125469e-02, 9.27787453e-01],\n",
       "       [1.49596711e-04, 9.99850403e-01],\n",
       "       [1.44685615e-02, 9.85531438e-01],\n",
       "       [2.04792934e-03, 9.97952071e-01],\n",
       "       [1.99554612e-02, 9.80044539e-01],\n",
       "       [9.00760201e-02, 9.09923980e-01],\n",
       "       [5.39864102e-05, 9.99946014e-01],\n",
       "       [9.99162528e-01, 8.37472379e-04],\n",
       "       [1.45056253e-05, 9.99985494e-01],\n",
       "       [9.96972947e-07, 9.99999003e-01],\n",
       "       [3.96344320e-02, 9.60365568e-01],\n",
       "       [1.04594163e-05, 9.99989541e-01],\n",
       "       [9.99999924e-01, 7.56058035e-08],\n",
       "       [1.30139100e-02, 9.86986090e-01],\n",
       "       [9.99999262e-01, 7.37582268e-07],\n",
       "       [9.99999594e-01, 4.06196383e-07],\n",
       "       [1.23742927e-06, 9.99998763e-01],\n",
       "       [1.29854464e-04, 9.99870146e-01],\n",
       "       [9.99997234e-01, 2.76563251e-06],\n",
       "       [9.57755937e-05, 9.99904224e-01],\n",
       "       [3.34844014e-02, 9.66515599e-01],\n",
       "       [6.14637859e-03, 9.93853621e-01],\n",
       "       [9.96874800e-01, 3.12519989e-03],\n",
       "       [2.13803993e-04, 9.99786196e-01],\n",
       "       [2.64975829e-02, 9.73502417e-01],\n",
       "       [5.47610093e-06, 9.99994524e-01],\n",
       "       [9.98429134e-01, 1.57086571e-03],\n",
       "       [9.96966294e-01, 3.03370594e-03],\n",
       "       [5.13798148e-03, 9.94862019e-01],\n",
       "       [4.04357945e-03, 9.95956421e-01],\n",
       "       [9.99953236e-01, 4.67639263e-05],\n",
       "       [4.46848441e-06, 9.99995532e-01],\n",
       "       [2.38594015e-06, 9.99997614e-01],\n",
       "       [8.78661828e-01, 1.21338172e-01],\n",
       "       [1.12696815e-06, 9.99998873e-01],\n",
       "       [7.82621030e-01, 2.17378970e-01],\n",
       "       [3.96173729e-01, 6.03826271e-01],\n",
       "       [1.49817054e-04, 9.99850183e-01],\n",
       "       [3.08075633e-05, 9.99969192e-01],\n",
       "       [9.91734864e-01, 8.26513646e-03],\n",
       "       [2.55168890e-05, 9.99974483e-01],\n",
       "       [1.00000000e+00, 2.26178768e-10],\n",
       "       [6.61784656e-01, 3.38215344e-01],\n",
       "       [8.56309498e-06, 9.99991437e-01],\n",
       "       [1.52799265e-03, 9.98472007e-01],\n",
       "       [1.78922553e-03, 9.98210774e-01],\n",
       "       [1.83233368e-04, 9.99816767e-01],\n",
       "       [2.77627590e-04, 9.99722372e-01],\n",
       "       [9.99958358e-01, 4.16418542e-05],\n",
       "       [6.21114452e-03, 9.93788855e-01],\n",
       "       [9.99999979e-01, 2.14749405e-08],\n",
       "       [5.48627686e-03, 9.94513723e-01],\n",
       "       [1.00000000e+00, 5.57259838e-37],\n",
       "       [9.70420994e-01, 2.95790056e-02],\n",
       "       [9.19774593e-05, 9.99908023e-01],\n",
       "       [1.75956609e-04, 9.99824043e-01],\n",
       "       [9.99142376e-01, 8.57623727e-04],\n",
       "       [2.32059123e-01, 7.67940877e-01],\n",
       "       [9.62066043e-02, 9.03793396e-01],\n",
       "       [9.31898106e-04, 9.99068102e-01],\n",
       "       [9.99466054e-01, 5.33945846e-04],\n",
       "       [2.45563659e-05, 9.99975444e-01],\n",
       "       [3.52555300e-03, 9.96474447e-01],\n",
       "       [6.97514468e-08, 9.99999930e-01],\n",
       "       [2.61383482e-06, 9.99997386e-01],\n",
       "       [4.49477139e-01, 5.50522861e-01],\n",
       "       [9.98840392e-01, 1.15960840e-03],\n",
       "       [8.79309584e-04, 9.99120690e-01],\n",
       "       [7.37207425e-01, 2.62792575e-01],\n",
       "       [5.51337605e-06, 9.99994487e-01],\n",
       "       [9.99829584e-01, 1.70416028e-04],\n",
       "       [9.99998259e-01, 1.74063504e-06],\n",
       "       [1.00000000e+00, 6.02990926e-14],\n",
       "       [5.45235646e-05, 9.99945476e-01],\n",
       "       [1.04667947e-02, 9.89533205e-01],\n",
       "       [4.41835130e-07, 9.99999558e-01],\n",
       "       [3.44992492e-03, 9.96550075e-01],\n",
       "       [1.00000000e+00, 2.98611443e-15],\n",
       "       [2.24259834e-04, 9.99775740e-01],\n",
       "       [9.99999944e-01, 5.59488588e-08],\n",
       "       [9.99999449e-01, 5.51128383e-07],\n",
       "       [1.89443927e-03, 9.98105561e-01],\n",
       "       [8.78499118e-02, 9.12150088e-01],\n",
       "       [9.99999999e-01, 1.11171307e-09],\n",
       "       [3.89063813e-04, 9.99610936e-01],\n",
       "       [9.46787692e-01, 5.32123078e-02],\n",
       "       [9.99437184e-01, 5.62815737e-04],\n",
       "       [6.96648237e-06, 9.99993034e-01],\n",
       "       [9.91603060e-01, 8.39694047e-03],\n",
       "       [6.52159478e-05, 9.99934784e-01],\n",
       "       [8.86499963e-01, 1.13500037e-01],\n",
       "       [2.58334810e-05, 9.99974167e-01],\n",
       "       [8.47818798e-01, 1.52181202e-01],\n",
       "       [5.22462346e-02, 9.47753765e-01],\n",
       "       [9.90709831e-01, 9.29016946e-03],\n",
       "       [1.01119802e-04, 9.99898880e-01],\n",
       "       [7.64539516e-02, 9.23546048e-01],\n",
       "       [8.40236035e-05, 9.99915976e-01],\n",
       "       [9.00287147e-01, 9.97128531e-02],\n",
       "       [4.06427347e-04, 9.99593573e-01],\n",
       "       [1.00000000e+00, 1.16204996e-10],\n",
       "       [9.99554232e-01, 4.45768430e-04],\n",
       "       [9.01259336e-01, 9.87406645e-02],\n",
       "       [7.29335237e-05, 9.99927066e-01],\n",
       "       [9.99999255e-01, 7.44682591e-07],\n",
       "       [8.48393028e-02, 9.15160697e-01],\n",
       "       [9.99999632e-01, 3.67887014e-07],\n",
       "       [4.77228941e-04, 9.99522771e-01],\n",
       "       [9.00318563e-03, 9.90996814e-01],\n",
       "       [9.94918443e-01, 5.08155744e-03],\n",
       "       [7.22022769e-02, 9.27797723e-01],\n",
       "       [9.88134956e-01, 1.18650436e-02],\n",
       "       [1.99241177e-05, 9.99980076e-01],\n",
       "       [2.47347398e-03, 9.97526526e-01],\n",
       "       [5.80763990e-03, 9.94192360e-01],\n",
       "       [9.99999917e-01, 8.28717922e-08],\n",
       "       [9.87347769e-04, 9.99012652e-01],\n",
       "       [9.99754663e-01, 2.45337326e-04],\n",
       "       [9.99999053e-01, 9.46890379e-07],\n",
       "       [9.99992154e-01, 7.84569179e-06],\n",
       "       [8.01472393e-01, 1.98527607e-01],\n",
       "       [2.86348257e-02, 9.71365174e-01],\n",
       "       [9.93939630e-03, 9.90060604e-01],\n",
       "       [5.31727256e-07, 9.99999468e-01],\n",
       "       [4.77778745e-01, 5.22221255e-01],\n",
       "       [8.05886783e-02, 9.19411322e-01],\n",
       "       [2.02196130e-03, 9.97978039e-01],\n",
       "       [5.85483557e-02, 9.41451644e-01],\n",
       "       [1.42874753e-01, 8.57125247e-01],\n",
       "       [6.64739187e-03, 9.93352608e-01],\n",
       "       [5.46153146e-01, 4.53846854e-01],\n",
       "       [2.79042757e-04, 9.99720957e-01],\n",
       "       [1.74883988e-03, 9.98251160e-01],\n",
       "       [4.52615643e-04, 9.99547384e-01],\n",
       "       [1.06417386e-07, 9.99999894e-01],\n",
       "       [9.61443157e-01, 3.85568431e-02],\n",
       "       [6.13052343e-05, 9.99938695e-01]])"
      ]
     },
     "execution_count": 9,
     "metadata": {},
     "output_type": "execute_result"
    }
   ],
   "source": [
    "pred_proba = lr_clf.predict_proba(X_test)\n",
    "pred_proba"
   ]
  },
  {
   "cell_type": "code",
   "execution_count": 10,
   "metadata": {},
   "outputs": [
    {
     "data": {
      "text/plain": [
       "array([[2.87161421e-07],\n",
       "       [1.01792057e-10],\n",
       "       [1.18455230e-08],\n",
       "       [1.44512231e-08],\n",
       "       [1.13942059e-10],\n",
       "       [9.99160456e-01],\n",
       "       [9.02004302e-01],\n",
       "       [9.97396888e-01],\n",
       "       [9.99985987e-01],\n",
       "       [9.99215397e-01],\n",
       "       [9.99951734e-01],\n",
       "       [1.91400567e-01],\n",
       "       [8.39002794e-01],\n",
       "       [9.99997322e-01],\n",
       "       [9.99999850e-01],\n",
       "       [9.99831479e-01],\n",
       "       [6.76930182e-02],\n",
       "       [8.64816465e-01],\n",
       "       [9.99651605e-01],\n",
       "       [1.40216220e-10],\n",
       "       [5.24483734e-03],\n",
       "       [9.99977136e-01],\n",
       "       [9.99861057e-01],\n",
       "       [9.99996314e-01],\n",
       "       [9.90515954e-01],\n",
       "       [9.99977124e-01],\n",
       "       [9.99999339e-01],\n",
       "       [7.86451892e-01],\n",
       "       [9.98168964e-01],\n",
       "       [9.66805483e-01],\n",
       "       [9.98972849e-01],\n",
       "       [9.99751504e-01],\n",
       "       [9.99965134e-01],\n",
       "       [9.99967321e-01],\n",
       "       [9.27787453e-01],\n",
       "       [9.99850403e-01],\n",
       "       [9.85531438e-01],\n",
       "       [9.97952071e-01],\n",
       "       [9.80044539e-01],\n",
       "       [9.09923980e-01],\n",
       "       [9.99946014e-01],\n",
       "       [8.37472379e-04],\n",
       "       [9.99985494e-01],\n",
       "       [9.99999003e-01],\n",
       "       [9.60365568e-01],\n",
       "       [9.99989541e-01],\n",
       "       [7.56058035e-08],\n",
       "       [9.86986090e-01],\n",
       "       [7.37582268e-07],\n",
       "       [4.06196383e-07],\n",
       "       [9.99998763e-01],\n",
       "       [9.99870146e-01],\n",
       "       [2.76563251e-06],\n",
       "       [9.99904224e-01],\n",
       "       [9.66515599e-01],\n",
       "       [9.93853621e-01],\n",
       "       [3.12519989e-03],\n",
       "       [9.99786196e-01],\n",
       "       [9.73502417e-01],\n",
       "       [9.99994524e-01],\n",
       "       [1.57086571e-03],\n",
       "       [3.03370594e-03],\n",
       "       [9.94862019e-01],\n",
       "       [9.95956421e-01],\n",
       "       [4.67639263e-05],\n",
       "       [9.99995532e-01],\n",
       "       [9.99997614e-01],\n",
       "       [1.21338172e-01],\n",
       "       [9.99998873e-01],\n",
       "       [2.17378970e-01],\n",
       "       [6.03826271e-01],\n",
       "       [9.99850183e-01],\n",
       "       [9.99969192e-01],\n",
       "       [8.26513646e-03],\n",
       "       [9.99974483e-01],\n",
       "       [2.26178768e-10],\n",
       "       [3.38215344e-01],\n",
       "       [9.99991437e-01],\n",
       "       [9.98472007e-01],\n",
       "       [9.98210774e-01],\n",
       "       [9.99816767e-01],\n",
       "       [9.99722372e-01],\n",
       "       [4.16418542e-05],\n",
       "       [9.93788855e-01],\n",
       "       [2.14749405e-08],\n",
       "       [9.94513723e-01],\n",
       "       [5.57259838e-37],\n",
       "       [2.95790056e-02],\n",
       "       [9.99908023e-01],\n",
       "       [9.99824043e-01],\n",
       "       [8.57623727e-04],\n",
       "       [7.67940877e-01],\n",
       "       [9.03793396e-01],\n",
       "       [9.99068102e-01],\n",
       "       [5.33945846e-04],\n",
       "       [9.99975444e-01],\n",
       "       [9.96474447e-01],\n",
       "       [9.99999930e-01],\n",
       "       [9.99997386e-01],\n",
       "       [5.50522861e-01],\n",
       "       [1.15960840e-03],\n",
       "       [9.99120690e-01],\n",
       "       [2.62792575e-01],\n",
       "       [9.99994487e-01],\n",
       "       [1.70416028e-04],\n",
       "       [1.74063504e-06],\n",
       "       [6.02990926e-14],\n",
       "       [9.99945476e-01],\n",
       "       [9.89533205e-01],\n",
       "       [9.99999558e-01],\n",
       "       [9.96550075e-01],\n",
       "       [2.98611443e-15],\n",
       "       [9.99775740e-01],\n",
       "       [5.59488588e-08],\n",
       "       [5.51128383e-07],\n",
       "       [9.98105561e-01],\n",
       "       [9.12150088e-01],\n",
       "       [1.11171307e-09],\n",
       "       [9.99610936e-01],\n",
       "       [5.32123078e-02],\n",
       "       [5.62815737e-04],\n",
       "       [9.99993034e-01],\n",
       "       [8.39694047e-03],\n",
       "       [9.99934784e-01],\n",
       "       [1.13500037e-01],\n",
       "       [9.99974167e-01],\n",
       "       [1.52181202e-01],\n",
       "       [9.47753765e-01],\n",
       "       [9.29016946e-03],\n",
       "       [9.99898880e-01],\n",
       "       [9.23546048e-01],\n",
       "       [9.99915976e-01],\n",
       "       [9.97128531e-02],\n",
       "       [9.99593573e-01],\n",
       "       [1.16204996e-10],\n",
       "       [4.45768430e-04],\n",
       "       [9.87406645e-02],\n",
       "       [9.99927066e-01],\n",
       "       [7.44682591e-07],\n",
       "       [9.15160697e-01],\n",
       "       [3.67887014e-07],\n",
       "       [9.99522771e-01],\n",
       "       [9.90996814e-01],\n",
       "       [5.08155744e-03],\n",
       "       [9.27797723e-01],\n",
       "       [1.18650436e-02],\n",
       "       [9.99980076e-01],\n",
       "       [9.97526526e-01],\n",
       "       [9.94192360e-01],\n",
       "       [8.28717922e-08],\n",
       "       [9.99012652e-01],\n",
       "       [2.45337326e-04],\n",
       "       [9.46890379e-07],\n",
       "       [7.84569179e-06],\n",
       "       [1.98527607e-01],\n",
       "       [9.71365174e-01],\n",
       "       [9.90060604e-01],\n",
       "       [9.99999468e-01],\n",
       "       [5.22221255e-01],\n",
       "       [9.19411322e-01],\n",
       "       [9.97978039e-01],\n",
       "       [9.41451644e-01],\n",
       "       [8.57125247e-01],\n",
       "       [9.93352608e-01],\n",
       "       [4.53846854e-01],\n",
       "       [9.99720957e-01],\n",
       "       [9.98251160e-01],\n",
       "       [9.99547384e-01],\n",
       "       [9.99999894e-01],\n",
       "       [3.85568431e-02],\n",
       "       [9.99938695e-01]])"
      ]
     },
     "execution_count": 10,
     "metadata": {},
     "output_type": "execute_result"
    }
   ],
   "source": [
    "pred_proba_1 = pred_proba[:,1]\n",
    "pred_proba_1.reshape(-1,1)"
   ]
  },
  {
   "cell_type": "code",
   "execution_count": 11,
   "metadata": {},
   "outputs": [
    {
     "name": "stdout",
     "output_type": "stream",
     "text": [
      "임계값: 0.3 \n",
      "정확도: 0.9298245614035088\n",
      "정밀도: 0.9636363636363636\n",
      "재현율: 0.9298245614035088\n",
      "오차행렬:\n",
      "[[ 53   4]\n",
      " [  8 106]]\n",
      "\n",
      "임계값: 0.5 \n",
      "정확도: 0.9298245614035088\n",
      "정밀도: 0.9545454545454546\n",
      "재현율: 0.9375\n",
      "오차행렬:\n",
      "[[ 54   5]\n",
      " [  7 105]]\n",
      "\n",
      "임계값: 0.7 \n",
      "정확도: 0.9473684210526315\n",
      "정밀도: 0.9545454545454546\n",
      "재현율: 0.963302752293578\n",
      "오차행렬:\n",
      "[[ 57   5]\n",
      " [  4 105]]\n",
      "\n",
      "임계값: 0.9 \n",
      "정확도: 0.9415204678362573\n",
      "정밀도: 0.9272727272727272\n",
      "재현율: 0.9807692307692307\n",
      "오차행렬:\n",
      "[[ 59   8]\n",
      " [  2 102]]\n",
      "\n"
     ]
    }
   ],
   "source": [
    "for threshold in thresholds:\n",
    "    binarizer = Binarizer(threshold=threshold)\n",
    "    transformed = binarizer.fit_transform(pred_proba_1.reshape(-1,1))\n",
    "\n",
    "    accuracy = accuracy_score(transformed, y_test)\n",
    "    precision = precision_score(transformed, y_test)\n",
    "    recall = recall_score(transformed, y_test)\n",
    "    cm = confusion_matrix(transformed, y_test)\n",
    "    print(f'임계값: {threshold} \\n정확도: {accuracy}\\n정밀도: {precision}\\n재현율: {recall}\\n오차행렬:\\n{cm}\\n')"
   ]
  },
  {
   "cell_type": "markdown",
   "metadata": {},
   "source": [
    "### (2) positive(1)에 대한 임계값 변화에 따른 예측확률의 정밀도-재현율 변화 곡선을 시각화해 보세요."
   ]
  },
  {
   "cell_type": "code",
   "execution_count": 12,
   "metadata": {},
   "outputs": [
    {
     "data": {
      "image/png": "[encoded data removed]",
      "text/plain": [
       "<Figure size 576x432 with 1 Axes>"
      ]
     },
     "metadata": {
      "needs_background": "light"
     },
     "output_type": "display_data"
    }
   ],
   "source": [
    "precisions, recalls, thresholds = precision_recall_curve(y_test, pred_proba_1)\n",
    "plt.figure(figsize=(8,6))\n",
    "threshold_boundary = thresholds.shape[0]\n",
    "plt.plot(thresholds, precisions[0:threshold_boundary], label='precision')\n",
    "plt.plot(thresholds, recalls[0:threshold_boundary],label='recall')\n",
    "\n",
    "start, end = plt.xlim()\n",
    "plt.xticks(np.arange(start, end, 0.1))\n",
    "\n",
    "plt.xlabel('Threshold value'); plt.ylabel('Precision and Recall value')\n",
    "plt.legend(); plt.grid()\n",
    "plt.show()"
   ]
  },
  {
   "cell_type": "markdown",
   "metadata": {},
   "source": [
    "### (3) 위의 결과들을 볼 때 이 모델은 좋은 모델이라고 할 수 있을까요? 이에 대한 답과 이유를 서술하세요. \n",
    "### 또한 임계치가 어느 정도일때 가장 좋은 성능인지 자유롭게 서술하세요."
   ]
  },
  {
   "cell_type": "markdown",
   "metadata": {},
   "source": [
    "답:\n",
    "\n",
    "좋은 모델인지는 글쎄요 그래프 해석하는 법을 잘 모르겠습니다. 임계치에 따라 다르지 않을까요\n",
    "\n",
    "임계치 약 0.6에서 정밀도와 재현율이 비슷해지기 때문에 0.6에서 가장 좋은 성능을 보인다고 할 수 있습니다.\n"
   ]
  },
  {
   "cell_type": "markdown",
   "metadata": {},
   "source": [
    "## 3. 과일종류 예측(모델학습/예측/평가지표)"
   ]
  },
  {
   "cell_type": "markdown",
   "metadata": {},
   "source": [
    "### (1) 데이터 확인 및 전처리\n",
    "- citrus.csv는 오렌지와 자몽의 직경, 무게, 색상(RGB) 데이터 입니다. 직경, 무게, 색상(RGB)로 오렌지와 자몽을 분류해 봅시다.\n",
    "- 아래의 코드를 실행시켜 주세요"
   ]
  },
  {
   "cell_type": "code",
   "execution_count": 13,
   "metadata": {},
   "outputs": [
    {
     "data": {
      "text/html": [
       "<div>\n",
       "<style scoped>\n",
       "    .dataframe tbody tr th:only-of-type {\n",
       "        vertical-align: middle;\n",
       "    }\n",
       "\n",
       "    .dataframe tbody tr th {\n",
       "        vertical-align: top;\n",
       "    }\n",
       "\n",
       "    .dataframe thead th {\n",
       "        text-align: right;\n",
       "    }\n",
       "</style>\n",
       "<table border=\"1\" class=\"dataframe\">\n",
       "  <thead>\n",
       "    <tr style=\"text-align: right;\">\n",
       "      <th></th>\n",
       "      <th>name</th>\n",
       "      <th>diameter</th>\n",
       "      <th>weight</th>\n",
       "      <th>red</th>\n",
       "      <th>green</th>\n",
       "      <th>blue</th>\n",
       "    </tr>\n",
       "  </thead>\n",
       "  <tbody>\n",
       "    <tr>\n",
       "      <th>0</th>\n",
       "      <td>orange</td>\n",
       "      <td>2.96</td>\n",
       "      <td>86.76</td>\n",
       "      <td>172</td>\n",
       "      <td>85</td>\n",
       "      <td>2</td>\n",
       "    </tr>\n",
       "    <tr>\n",
       "      <th>1</th>\n",
       "      <td>orange</td>\n",
       "      <td>3.91</td>\n",
       "      <td>88.05</td>\n",
       "      <td>166</td>\n",
       "      <td>78</td>\n",
       "      <td>3</td>\n",
       "    </tr>\n",
       "    <tr>\n",
       "      <th>2</th>\n",
       "      <td>orange</td>\n",
       "      <td>4.42</td>\n",
       "      <td>95.17</td>\n",
       "      <td>156</td>\n",
       "      <td>81</td>\n",
       "      <td>2</td>\n",
       "    </tr>\n",
       "    <tr>\n",
       "      <th>3</th>\n",
       "      <td>orange</td>\n",
       "      <td>4.47</td>\n",
       "      <td>95.60</td>\n",
       "      <td>163</td>\n",
       "      <td>81</td>\n",
       "      <td>4</td>\n",
       "    </tr>\n",
       "    <tr>\n",
       "      <th>4</th>\n",
       "      <td>orange</td>\n",
       "      <td>4.48</td>\n",
       "      <td>95.76</td>\n",
       "      <td>161</td>\n",
       "      <td>72</td>\n",
       "      <td>9</td>\n",
       "    </tr>\n",
       "  </tbody>\n",
       "</table>\n",
       "</div>"
      ],
      "text/plain": [
       "     name  diameter  weight  red  green  blue\n",
       "0  orange      2.96   86.76  172     85     2\n",
       "1  orange      3.91   88.05  166     78     3\n",
       "2  orange      4.42   95.17  156     81     2\n",
       "3  orange      4.47   95.60  163     81     4\n",
       "4  orange      4.48   95.76  161     72     9"
      ]
     },
     "metadata": {},
     "output_type": "display_data"
    },
    {
     "name": "stdout",
     "output_type": "stream",
     "text": [
      "\n",
      "\n",
      "<class 'pandas.core.frame.DataFrame'>\n",
      "RangeIndex: 10000 entries, 0 to 9999\n",
      "Data columns (total 6 columns):\n",
      " #   Column    Non-Null Count  Dtype  \n",
      "---  ------    --------------  -----  \n",
      " 0   name      10000 non-null  object \n",
      " 1   diameter  10000 non-null  float64\n",
      " 2   weight    10000 non-null  float64\n",
      " 3   red       10000 non-null  int64  \n",
      " 4   green     10000 non-null  int64  \n",
      " 5   blue      10000 non-null  int64  \n",
      "dtypes: float64(2), int64(3), object(1)\n",
      "memory usage: 468.9+ KB\n",
      "None\n",
      "\n",
      "\n",
      "grapefruit    5000\n",
      "orange        5000\n",
      "Name: name, dtype: int64\n"
     ]
    }
   ],
   "source": [
    "from sklearn.model_selection import train_test_split\n",
    "from sklearn.metrics import accuracy_score, precision_score, recall_score, roc_auc_score\n",
    "from sklearn.metrics import f1_score, confusion_matrix\n",
    "from sklearn import preprocessing\n",
    "from sklearn.tree import DecisionTreeClassifier\n",
    "from sklearn.ensemble import RandomForestClassifier\n",
    "from sklearn.linear_model import LogisticRegression\n",
    "\n",
    "import pandas as pd\n",
    "citrus_df=pd.read_csv('./citrus.csv')\n",
    "display(citrus_df.head())\n",
    "print('\\n')\n",
    "print(citrus_df.info())\n",
    "print('\\n')\n",
    "print(citrus_df['name'].value_counts())"
   ]
  },
  {
   "cell_type": "markdown",
   "metadata": {},
   "source": [
    "1)  'grapefruit'와 'orange'를 각각 '0', '1'로 인코딩 해주세요"
   ]
  },
  {
   "cell_type": "code",
   "execution_count": 14,
   "metadata": {},
   "outputs": [
    {
     "data": {
      "text/html": [
       "<div>\n",
       "<style scoped>\n",
       "    .dataframe tbody tr th:only-of-type {\n",
       "        vertical-align: middle;\n",
       "    }\n",
       "\n",
       "    .dataframe tbody tr th {\n",
       "        vertical-align: top;\n",
       "    }\n",
       "\n",
       "    .dataframe thead th {\n",
       "        text-align: right;\n",
       "    }\n",
       "</style>\n",
       "<table border=\"1\" class=\"dataframe\">\n",
       "  <thead>\n",
       "    <tr style=\"text-align: right;\">\n",
       "      <th></th>\n",
       "      <th>name</th>\n",
       "      <th>diameter</th>\n",
       "      <th>weight</th>\n",
       "      <th>red</th>\n",
       "      <th>green</th>\n",
       "      <th>blue</th>\n",
       "    </tr>\n",
       "  </thead>\n",
       "  <tbody>\n",
       "    <tr>\n",
       "      <th>0</th>\n",
       "      <td>1</td>\n",
       "      <td>2.96</td>\n",
       "      <td>86.76</td>\n",
       "      <td>172</td>\n",
       "      <td>85</td>\n",
       "      <td>2</td>\n",
       "    </tr>\n",
       "    <tr>\n",
       "      <th>1</th>\n",
       "      <td>1</td>\n",
       "      <td>3.91</td>\n",
       "      <td>88.05</td>\n",
       "      <td>166</td>\n",
       "      <td>78</td>\n",
       "      <td>3</td>\n",
       "    </tr>\n",
       "    <tr>\n",
       "      <th>2</th>\n",
       "      <td>1</td>\n",
       "      <td>4.42</td>\n",
       "      <td>95.17</td>\n",
       "      <td>156</td>\n",
       "      <td>81</td>\n",
       "      <td>2</td>\n",
       "    </tr>\n",
       "    <tr>\n",
       "      <th>3</th>\n",
       "      <td>1</td>\n",
       "      <td>4.47</td>\n",
       "      <td>95.60</td>\n",
       "      <td>163</td>\n",
       "      <td>81</td>\n",
       "      <td>4</td>\n",
       "    </tr>\n",
       "    <tr>\n",
       "      <th>4</th>\n",
       "      <td>1</td>\n",
       "      <td>4.48</td>\n",
       "      <td>95.76</td>\n",
       "      <td>161</td>\n",
       "      <td>72</td>\n",
       "      <td>9</td>\n",
       "    </tr>\n",
       "    <tr>\n",
       "      <th>...</th>\n",
       "      <td>...</td>\n",
       "      <td>...</td>\n",
       "      <td>...</td>\n",
       "      <td>...</td>\n",
       "      <td>...</td>\n",
       "      <td>...</td>\n",
       "    </tr>\n",
       "    <tr>\n",
       "      <th>9995</th>\n",
       "      <td>0</td>\n",
       "      <td>15.35</td>\n",
       "      <td>253.89</td>\n",
       "      <td>149</td>\n",
       "      <td>77</td>\n",
       "      <td>20</td>\n",
       "    </tr>\n",
       "    <tr>\n",
       "      <th>9996</th>\n",
       "      <td>0</td>\n",
       "      <td>15.41</td>\n",
       "      <td>254.67</td>\n",
       "      <td>148</td>\n",
       "      <td>68</td>\n",
       "      <td>7</td>\n",
       "    </tr>\n",
       "    <tr>\n",
       "      <th>9997</th>\n",
       "      <td>0</td>\n",
       "      <td>15.59</td>\n",
       "      <td>256.50</td>\n",
       "      <td>168</td>\n",
       "      <td>82</td>\n",
       "      <td>20</td>\n",
       "    </tr>\n",
       "    <tr>\n",
       "      <th>9998</th>\n",
       "      <td>0</td>\n",
       "      <td>15.92</td>\n",
       "      <td>260.14</td>\n",
       "      <td>142</td>\n",
       "      <td>72</td>\n",
       "      <td>11</td>\n",
       "    </tr>\n",
       "    <tr>\n",
       "      <th>9999</th>\n",
       "      <td>0</td>\n",
       "      <td>16.45</td>\n",
       "      <td>261.51</td>\n",
       "      <td>152</td>\n",
       "      <td>74</td>\n",
       "      <td>2</td>\n",
       "    </tr>\n",
       "  </tbody>\n",
       "</table>\n",
       "<p>10000 rows × 6 columns</p>\n",
       "</div>"
      ],
      "text/plain": [
       "      name  diameter  weight  red  green  blue\n",
       "0        1      2.96   86.76  172     85     2\n",
       "1        1      3.91   88.05  166     78     3\n",
       "2        1      4.42   95.17  156     81     2\n",
       "3        1      4.47   95.60  163     81     4\n",
       "4        1      4.48   95.76  161     72     9\n",
       "...    ...       ...     ...  ...    ...   ...\n",
       "9995     0     15.35  253.89  149     77    20\n",
       "9996     0     15.41  254.67  148     68     7\n",
       "9997     0     15.59  256.50  168     82    20\n",
       "9998     0     15.92  260.14  142     72    11\n",
       "9999     0     16.45  261.51  152     74     2\n",
       "\n",
       "[10000 rows x 6 columns]"
      ]
     },
     "execution_count": 14,
     "metadata": {},
     "output_type": "execute_result"
    }
   ],
   "source": [
    "from sklearn.preprocessing import LabelEncoder\n",
    "encoder = LabelEncoder()\n",
    "citrus_df['name'] = encoder.fit_transform(citrus_df['name'])\n",
    "citrus_df"
   ]
  },
  {
   "cell_type": "code",
   "execution_count": 15,
   "metadata": {},
   "outputs": [
    {
     "data": {
      "text/plain": [
       "1    5000\n",
       "0    5000\n",
       "Name: name, dtype: int64"
      ]
     },
     "execution_count": 15,
     "metadata": {},
     "output_type": "execute_result"
    }
   ],
   "source": [
    "citrus_df['name'].value_counts()"
   ]
  },
  {
   "cell_type": "markdown",
   "metadata": {},
   "source": [
    "### (2) 데이터 분리 및 예측\n",
    "1) 'name'을 레이블로, 나머지는 피쳐로 나누고, train/test 데이터를 나눠주세요(test_size=0.2)"
   ]
  },
  {
   "cell_type": "code",
   "execution_count": 16,
   "metadata": {},
   "outputs": [],
   "source": [
    "y_labels = citrus_df['name']\n",
    "X_features = citrus_df.drop('name', axis=1)\n",
    "\n",
    "X_train, X_test, y_train, y_test = train_test_split(X_features, y_labels, test_size=0.2, random_state=11)"
   ]
  },
  {
   "cell_type": "code",
   "execution_count": 17,
   "metadata": {},
   "outputs": [
    {
     "data": {
      "text/html": [
       "<div>\n",
       "<style scoped>\n",
       "    .dataframe tbody tr th:only-of-type {\n",
       "        vertical-align: middle;\n",
       "    }\n",
       "\n",
       "    .dataframe tbody tr th {\n",
       "        vertical-align: top;\n",
       "    }\n",
       "\n",
       "    .dataframe thead th {\n",
       "        text-align: right;\n",
       "    }\n",
       "</style>\n",
       "<table border=\"1\" class=\"dataframe\">\n",
       "  <thead>\n",
       "    <tr style=\"text-align: right;\">\n",
       "      <th></th>\n",
       "      <th>diameter</th>\n",
       "      <th>weight</th>\n",
       "      <th>red</th>\n",
       "      <th>green</th>\n",
       "      <th>blue</th>\n",
       "    </tr>\n",
       "  </thead>\n",
       "  <tbody>\n",
       "    <tr>\n",
       "      <th>0</th>\n",
       "      <td>2.96</td>\n",
       "      <td>86.76</td>\n",
       "      <td>172</td>\n",
       "      <td>85</td>\n",
       "      <td>2</td>\n",
       "    </tr>\n",
       "    <tr>\n",
       "      <th>1</th>\n",
       "      <td>3.91</td>\n",
       "      <td>88.05</td>\n",
       "      <td>166</td>\n",
       "      <td>78</td>\n",
       "      <td>3</td>\n",
       "    </tr>\n",
       "    <tr>\n",
       "      <th>2</th>\n",
       "      <td>4.42</td>\n",
       "      <td>95.17</td>\n",
       "      <td>156</td>\n",
       "      <td>81</td>\n",
       "      <td>2</td>\n",
       "    </tr>\n",
       "    <tr>\n",
       "      <th>3</th>\n",
       "      <td>4.47</td>\n",
       "      <td>95.60</td>\n",
       "      <td>163</td>\n",
       "      <td>81</td>\n",
       "      <td>4</td>\n",
       "    </tr>\n",
       "    <tr>\n",
       "      <th>4</th>\n",
       "      <td>4.48</td>\n",
       "      <td>95.76</td>\n",
       "      <td>161</td>\n",
       "      <td>72</td>\n",
       "      <td>9</td>\n",
       "    </tr>\n",
       "    <tr>\n",
       "      <th>...</th>\n",
       "      <td>...</td>\n",
       "      <td>...</td>\n",
       "      <td>...</td>\n",
       "      <td>...</td>\n",
       "      <td>...</td>\n",
       "    </tr>\n",
       "    <tr>\n",
       "      <th>9995</th>\n",
       "      <td>15.35</td>\n",
       "      <td>253.89</td>\n",
       "      <td>149</td>\n",
       "      <td>77</td>\n",
       "      <td>20</td>\n",
       "    </tr>\n",
       "    <tr>\n",
       "      <th>9996</th>\n",
       "      <td>15.41</td>\n",
       "      <td>254.67</td>\n",
       "      <td>148</td>\n",
       "      <td>68</td>\n",
       "      <td>7</td>\n",
       "    </tr>\n",
       "    <tr>\n",
       "      <th>9997</th>\n",
       "      <td>15.59</td>\n",
       "      <td>256.50</td>\n",
       "      <td>168</td>\n",
       "      <td>82</td>\n",
       "      <td>20</td>\n",
       "    </tr>\n",
       "    <tr>\n",
       "      <th>9998</th>\n",
       "      <td>15.92</td>\n",
       "      <td>260.14</td>\n",
       "      <td>142</td>\n",
       "      <td>72</td>\n",
       "      <td>11</td>\n",
       "    </tr>\n",
       "    <tr>\n",
       "      <th>9999</th>\n",
       "      <td>16.45</td>\n",
       "      <td>261.51</td>\n",
       "      <td>152</td>\n",
       "      <td>74</td>\n",
       "      <td>2</td>\n",
       "    </tr>\n",
       "  </tbody>\n",
       "</table>\n",
       "<p>10000 rows × 5 columns</p>\n",
       "</div>"
      ],
      "text/plain": [
       "      diameter  weight  red  green  blue\n",
       "0         2.96   86.76  172     85     2\n",
       "1         3.91   88.05  166     78     3\n",
       "2         4.42   95.17  156     81     2\n",
       "3         4.47   95.60  163     81     4\n",
       "4         4.48   95.76  161     72     9\n",
       "...        ...     ...  ...    ...   ...\n",
       "9995     15.35  253.89  149     77    20\n",
       "9996     15.41  254.67  148     68     7\n",
       "9997     15.59  256.50  168     82    20\n",
       "9998     15.92  260.14  142     72    11\n",
       "9999     16.45  261.51  152     74     2\n",
       "\n",
       "[10000 rows x 5 columns]"
      ]
     },
     "execution_count": 17,
     "metadata": {},
     "output_type": "execute_result"
    }
   ],
   "source": [
    "X_features"
   ]
  },
  {
   "cell_type": "code",
   "execution_count": 18,
   "metadata": {},
   "outputs": [
    {
     "data": {
      "text/plain": [
       "0       1\n",
       "1       1\n",
       "2       1\n",
       "3       1\n",
       "4       1\n",
       "       ..\n",
       "9995    0\n",
       "9996    0\n",
       "9997    0\n",
       "9998    0\n",
       "9999    0\n",
       "Name: name, Length: 10000, dtype: int32"
      ]
     },
     "execution_count": 18,
     "metadata": {},
     "output_type": "execute_result"
    }
   ],
   "source": [
    "y_labels"
   ]
  },
  {
   "cell_type": "markdown",
   "metadata": {},
   "source": [
    "2) 결정트리, 랜덤포레스트, 로지스틱 회귀(이 순서를 계속 유지)를 이용하여 모델학습과 예측을 수행하세요.\n",
    "- 결정트리와 랜덤포레스트의 경우, random_state=11\n",
    "   (DecisonTreeClassifier(random_state=11),RandomForestClassifier(random_state=11))\n",
    "- 모델변수명을 차례대로 dt_clf, rt_clf, lr_clf 로 설정하세요.\n",
    "- 예측값 변수명을 차례대로 dt_pred, rt_pred, lr_pred 로 설정하세요."
   ]
  },
  {
   "cell_type": "code",
   "execution_count": 19,
   "metadata": {},
   "outputs": [],
   "source": [
    "dt_clf = DecisionTreeClassifier()\n",
    "dt_clf.fit(X_train, y_train)\n",
    "dt_pred = dt_clf.predict(X_test)\n",
    "\n",
    "\n",
    "rt_clf = RandomForestClassifier()\n",
    "rt_clf.fit(X_train, y_train)\n",
    "rt_pred = rt_clf.predict(X_test)\n",
    "\n",
    "lr_clf = LogisticRegression()\n",
    "lr_clf.fit(X_train, y_train)\n",
    "lr_pred = lr_clf.predict(X_test)"
   ]
  },
  {
   "cell_type": "markdown",
   "metadata": {},
   "source": [
    "### (3) 성능 평가 지표 구하기"
   ]
  },
  {
   "cell_type": "markdown",
   "metadata": {},
   "source": [
    "1) 오차행렬을 파악하기 위해 각 모델에서의 예측확률값을 구하고 성능 평가 지표를 구하는 함수인 get_clf_eval을 작성하세요.\n",
    "- 예측확률값은 dt_pred_proba, rt_pred_proba, lr_pred_proba 에 저장하세요.\n",
    "- get_clf_eval은 평가지표 4가지 [정확도, 정밀도, 재현율, f1_score]를 포함하여야합니다."
   ]
  },
  {
   "cell_type": "code",
   "execution_count": 20,
   "metadata": {},
   "outputs": [],
   "source": [
    "def get_clf_eval(y_test , pred, pred_proba):\n",
    "    accuracy = accuracy_score(y_test, pred)\n",
    "    precision = precision_score(y_test, pred)\n",
    "    recall = recall_score(y_test, pred)\n",
    "    f1 = f1_score(y_test,pred)\n",
    "    confusion = confusion_matrix(y_test, pred)\n",
    "    \n",
    "    print(f'\\n정확도: {accuracy}\\n정밀도: {precision}\\n재현율: {recall}\\nf1스코어: {f1}\\n오차행렬:\\n{cm}\\n')\n",
    "\n",
    "dt_pred_proba = dt_clf.predict_proba(X_test)\n",
    "rt_pred_proba = rt_clf.predict_proba(X_test)\n",
    "lr_pred_proba = lr_clf.predict_proba(X_test)"
   ]
  },
  {
   "cell_type": "markdown",
   "metadata": {},
   "source": [
    "2) get_clf_eval를 사용하여 결정트리, 랜덤포레스트, 로지스틱 회귀의 성능 평가 지표값(오차행렬)을 출력하여 주세요"
   ]
  },
  {
   "cell_type": "code",
   "execution_count": 21,
   "metadata": {},
   "outputs": [
    {
     "name": "stdout",
     "output_type": "stream",
     "text": [
      "\n",
      "정확도: 0.9435\n",
      "정밀도: 0.9332003988035892\n",
      "재현율: 0.9531568228105907\n",
      "f1스코어: 0.9430730478589421\n",
      "오차행렬:\n",
      "[[ 59   8]\n",
      " [  2 102]]\n",
      "\n"
     ]
    }
   ],
   "source": [
    "# 결정트리\n",
    "get_clf_eval(y_test,dt_pred, dt_pred_proba[:,1])"
   ]
  },
  {
   "cell_type": "code",
   "execution_count": 22,
   "metadata": {},
   "outputs": [
    {
     "name": "stdout",
     "output_type": "stream",
     "text": [
      "\n",
      "정확도: 0.953\n",
      "정밀도: 0.9512195121951219\n",
      "재현율: 0.9531568228105907\n",
      "f1스코어: 0.9521871820956256\n",
      "오차행렬:\n",
      "[[ 59   8]\n",
      " [  2 102]]\n",
      "\n"
     ]
    }
   ],
   "source": [
    "# 랜덤포레스트\n",
    "get_clf_eval(y_test,rt_pred, rt_pred_proba[:,1])"
   ]
  },
  {
   "cell_type": "code",
   "execution_count": 23,
   "metadata": {},
   "outputs": [
    {
     "name": "stdout",
     "output_type": "stream",
     "text": [
      "\n",
      "정확도: 0.955\n",
      "정밀도: 0.9588477366255144\n",
      "재현율: 0.9490835030549898\n",
      "f1스코어: 0.9539406345957011\n",
      "오차행렬:\n",
      "[[ 59   8]\n",
      " [  2 102]]\n",
      "\n"
     ]
    }
   ],
   "source": [
    "# 로지스틱회귀\n",
    "get_clf_eval(y_test,lr_pred, lr_pred_proba[:,1])"
   ]
  },
  {
   "cell_type": "markdown",
   "metadata": {},
   "source": [
    "3) 어떤 모델의 성능이 가장 떨어진다고 할 수 있나요? 그 이유는 무엇인가요?"
   ]
  },
  {
   "cell_type": "markdown",
   "metadata": {},
   "source": [
    "답:\n",
    "\n",
    "결정트리. f1 스코어와 정확도가 가장 낮기 때문입니다.\n",
    "\n",
    "그런데 로지스틱 회귀의 경우 Label을 인코딩할 때 레이블인코더로 0,1로 하면 왜곡이 생기기 때문에 원핫인코딩을 적용해야 하는 것으로 알고 있습니다."
   ]
  },
  {
   "cell_type": "markdown",
   "metadata": {},
   "source": [
    "## 4. ROC 곡선 및 AUC"
   ]
  },
  {
   "cell_type": "markdown",
   "metadata": {},
   "source": [
    "### (1) 모델별 ROC 곡선\n",
    "- fprs, tprs 를 이용하여 roc 곡선을 그릴 수 있는 함수인 roc_curve_plot을 작성하세요.\n",
    "- 임계값 간 간격은 5로 설정해주세요.\n",
    "- 세 모델의 roc 곡선을 그리고, plt.subplot(.)을 이용하여 한 면에 세 그래프를 동시에 나타내세요."
   ]
  },
  {
   "cell_type": "code",
   "execution_count": 24,
   "metadata": {},
   "outputs": [],
   "source": [
    "from sklearn.metrics import roc_curve\n",
    "import matplotlib.pyplot as plt\n",
    "import numpy as np"
   ]
  },
  {
   "cell_type": "code",
   "execution_count": 25,
   "metadata": {},
   "outputs": [
    {
     "data": {
      "image/png": "[encoded data removed]",
      "text/plain": [
       "<Figure size 576x396 with 1 Axes>"
      ]
     },
     "metadata": {},
     "output_type": "display_data"
    },
    {
     "data": {
      "image/png": "[encoded data removed]",
      "text/plain": [
       "<Figure size 576x396 with 1 Axes>"
      ]
     },
     "metadata": {},
     "output_type": "display_data"
    },
    {
     "data": {
      "image/png": "[encoded data removed]",
      "text/plain": [
       "<Figure size 576x396 with 1 Axes>"
      ]
     },
     "metadata": {},
     "output_type": "display_data"
    }
   ],
   "source": [
    "import warnings\n",
    "warnings.filterwarnings(\"ignore\")\n",
    "from yellowbrick.classifier import ROCAUC\n",
    "\n",
    "plt.subplot(311) \n",
    "visualizer = ROCAUC(dt_clf, classes=[0,1])\n",
    "visualizer.fit(X_train, y_train)       \n",
    "visualizer.score(X_test, y_test)\n",
    "visualizer.show()  \n",
    "\n",
    "plt.subplot(312)\n",
    "visualizer = ROCAUC(rt_clf, classes=[0,1])\n",
    "visualizer.fit(X_train, y_train)       \n",
    "visualizer.score(X_test, y_test)\n",
    "visualizer.show()   \n",
    "\n",
    "# 복붙\n",
    "plt.subplot(313)\n",
    "def roc_curve_plot(y_test , pred_proba_c1):\n",
    "    # 임곗값에 따른 FPR, TPR 값을 반환 받음. \n",
    "    fprs , tprs , thresholds = roc_curve(y_test ,pred_proba_c1)\n",
    "\n",
    "    # ROC Curve를 plot 곡선으로 그림. \n",
    "    plt.plot(fprs , tprs, label='ROC')\n",
    "    # 가운데 대각선 직선을 그림. \n",
    "    plt.plot([0, 1], [0, 1], 'k--', label='Random')\n",
    "    \n",
    "    # FPR X 축의 Scale을 0.1 단위로 변경, X,Y 축명 설정등   \n",
    "    start, end = plt.xlim()\n",
    "    plt.xticks(np.round(np.arange(start, end, 0.1),2))\n",
    "    plt.xlim(0,1); plt.ylim(0,1)\n",
    "    plt.xlabel('FPR( 1 - Sensitivity )'); plt.ylabel('TPR( Recall )')\n",
    "    plt.legend()\n",
    "    plt.show()\n",
    "    \n",
    "roc_curve_plot(y_test, lr_clf.predict_proba(X_test)[:, 1] )\n",
    "\n",
    "plt.show()"
   ]
  },
  {
   "cell_type": "markdown",
   "metadata": {},
   "source": [
    "### (2) 모델별 AUC"
   ]
  },
  {
   "cell_type": "markdown",
   "metadata": {},
   "source": [
    "1) 각 모델별 AUC를 구하세요.\n",
    "- 차례대로 dt_roc_auc, rt_roc_auc, lr_roc_auc 에 저장하시고 출력해 주세요."
   ]
  },
  {
   "cell_type": "code",
   "execution_count": 26,
   "metadata": {},
   "outputs": [
    {
     "name": "stdout",
     "output_type": "stream",
     "text": [
      "0.9436707493227807\n",
      "0.9904374017181568\n",
      "0.9888323816916681\n"
     ]
    }
   ],
   "source": [
    "dt_roc_auc = roc_auc_score(y_test, dt_pred_proba[:,1])\n",
    "rt_roc_auc = roc_auc_score(y_test, rt_pred_proba[:,1])\n",
    "lr_roc_auc = roc_auc_score(y_test, lr_pred_proba[:,1])\n",
    "print(dt_roc_auc)\n",
    "print(rt_roc_auc)\n",
    "print(lr_roc_auc)"
   ]
  },
  {
   "cell_type": "markdown",
   "metadata": {},
   "source": [
    "2) AUC 기준으로, 어느 모델의 성능이 가장 떨어지나요? 그 이유는 무엇인가요?"
   ]
  },
  {
   "cell_type": "markdown",
   "metadata": {},
   "source": [
    "답:\n",
    "\n",
    "결정나무. 1에 가까울수록 성능이 좋기 때문에"
   ]
  },
  {
   "cell_type": "code",
   "execution_count": null,
   "metadata": {},
   "outputs": [],
   "source": []
  }
 ],
 "metadata": {
  "kernelspec": {
   "display_name": "Python 3",
   "language": "python",
   "name": "python3"
  },
  "language_info": {
   "codemirror_mode": {
    "name": "ipython",
    "version": 3
   },
   "file_extension": ".py",
   "mimetype": "text/x-python",
   "name": "python",
   "nbconvert_exporter": "python",
   "pygments_lexer": "ipython3",
   "version": "3.7.9"
  }
 },
 "nbformat": 4,
 "nbformat_minor": 2
}
