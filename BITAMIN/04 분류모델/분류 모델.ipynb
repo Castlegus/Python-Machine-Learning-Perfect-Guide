{
 "cells": [
  {
   "cell_type": "markdown",
   "metadata": {},
   "source": [
    "# K 최근접 이웃( K-Nearest Neighbor)\n",
    "- K : 이웃의 수\n",
    "- Nearest: 거리"
   ]
  },
  {
   "cell_type": "code",
   "execution_count": 9,
   "metadata": {},
   "outputs": [
    {
     "data": {
      "text/html": [
       "<div>\n",
       "<style scoped>\n",
       "    .dataframe tbody tr th:only-of-type {\n",
       "        vertical-align: middle;\n",
       "    }\n",
       "\n",
       "    .dataframe tbody tr th {\n",
       "        vertical-align: top;\n",
       "    }\n",
       "\n",
       "    .dataframe thead th {\n",
       "        text-align: right;\n",
       "    }\n",
       "</style>\n",
       "<table border=\"1\" class=\"dataframe\">\n",
       "  <thead>\n",
       "    <tr style=\"text-align: right;\">\n",
       "      <th></th>\n",
       "      <th>ax1</th>\n",
       "      <th>ax2</th>\n",
       "    </tr>\n",
       "  </thead>\n",
       "  <tbody>\n",
       "    <tr>\n",
       "      <th>0</th>\n",
       "      <td>1</td>\n",
       "      <td>1</td>\n",
       "    </tr>\n",
       "    <tr>\n",
       "      <th>1</th>\n",
       "      <td>2</td>\n",
       "      <td>3</td>\n",
       "    </tr>\n",
       "    <tr>\n",
       "      <th>2</th>\n",
       "      <td>4</td>\n",
       "      <td>3</td>\n",
       "    </tr>\n",
       "    <tr>\n",
       "      <th>3</th>\n",
       "      <td>10</td>\n",
       "      <td>8</td>\n",
       "    </tr>\n",
       "  </tbody>\n",
       "</table>\n",
       "</div>"
      ],
      "text/plain": [
       "   ax1  ax2\n",
       "0    1    1\n",
       "1    2    3\n",
       "2    4    3\n",
       "3   10    8"
      ]
     },
     "metadata": {},
     "output_type": "display_data"
    },
    {
     "data": {
      "text/html": [
       "<div>\n",
       "<style scoped>\n",
       "    .dataframe tbody tr th:only-of-type {\n",
       "        vertical-align: middle;\n",
       "    }\n",
       "\n",
       "    .dataframe tbody tr th {\n",
       "        vertical-align: top;\n",
       "    }\n",
       "\n",
       "    .dataframe thead th {\n",
       "        text-align: right;\n",
       "    }\n",
       "</style>\n",
       "<table border=\"1\" class=\"dataframe\">\n",
       "  <thead>\n",
       "    <tr style=\"text-align: right;\">\n",
       "      <th></th>\n",
       "      <th>type</th>\n",
       "    </tr>\n",
       "  </thead>\n",
       "  <tbody>\n",
       "    <tr>\n",
       "      <th>0</th>\n",
       "      <td>a</td>\n",
       "    </tr>\n",
       "    <tr>\n",
       "      <th>1</th>\n",
       "      <td>a</td>\n",
       "    </tr>\n",
       "    <tr>\n",
       "      <th>2</th>\n",
       "      <td>b</td>\n",
       "    </tr>\n",
       "    <tr>\n",
       "      <th>3</th>\n",
       "      <td>b</td>\n",
       "    </tr>\n",
       "  </tbody>\n",
       "</table>\n",
       "</div>"
      ],
      "text/plain": [
       "  type\n",
       "0    a\n",
       "1    a\n",
       "2    b\n",
       "3    b"
      ]
     },
     "metadata": {},
     "output_type": "display_data"
    },
    {
     "data": {
      "text/html": [
       "<div>\n",
       "<style scoped>\n",
       "    .dataframe tbody tr th:only-of-type {\n",
       "        vertical-align: middle;\n",
       "    }\n",
       "\n",
       "    .dataframe tbody tr th {\n",
       "        vertical-align: top;\n",
       "    }\n",
       "\n",
       "    .dataframe thead th {\n",
       "        text-align: right;\n",
       "    }\n",
       "</style>\n",
       "<table border=\"1\" class=\"dataframe\">\n",
       "  <thead>\n",
       "    <tr style=\"text-align: right;\">\n",
       "      <th></th>\n",
       "      <th>ax1</th>\n",
       "      <th>ax2</th>\n",
       "    </tr>\n",
       "  </thead>\n",
       "  <tbody>\n",
       "    <tr>\n",
       "      <th>0</th>\n",
       "      <td>2</td>\n",
       "      <td>7</td>\n",
       "    </tr>\n",
       "    <tr>\n",
       "      <th>1</th>\n",
       "      <td>5</td>\n",
       "      <td>4</td>\n",
       "    </tr>\n",
       "  </tbody>\n",
       "</table>\n",
       "</div>"
      ],
      "text/plain": [
       "   ax1  ax2\n",
       "0    2    7\n",
       "1    5    4"
      ]
     },
     "metadata": {},
     "output_type": "display_data"
    },
    {
     "name": "stdout",
     "output_type": "stream",
     "text": [
      "분류: ['a' 'a'] \n",
      "\n"
     ]
    }
   ],
   "source": [
    "from sklearn.neighbors import KNeighborsClassifier\n",
    "import numpy as np\n",
    "import pandas as pd\n",
    "import matplotlib.pyplot as plt\n",
    "import seaborn as sns\n",
    "sns.set(font_scale=1.3)\n",
    "%matplotlib inline\n",
    "import warnings\n",
    "warnings.filterwarnings('ignore')\n",
    "\n",
    "# 2차원 공간에 4개 train data 설정\n",
    "x = pd.DataFrame([[1,1],[2,3],[4,3],[10,8]], columns=['ax1','ax2'])\n",
    "display(x)\n",
    "\n",
    "# train data의 label 설정\n",
    "y = pd.DataFrame(['a','a','b','b'], columns=['type'])\n",
    "display(y)\n",
    "\n",
    "# 3-NN classifier\n",
    "knn = KNeighborsClassifier(n_neighbors=3)\n",
    "knn.fit(x,y)\n",
    "\n",
    "# test data\n",
    "x_test = pd.DataFrame([[2,7],[5,4]], columns=['ax1','ax2'])\n",
    "display(x_test)\n",
    "\n",
    "pred = knn.predict(x_test)\n",
    "print('분류:',pred,'\\n')"
   ]
  },
  {
   "cell_type": "code",
   "execution_count": 16,
   "metadata": {},
   "outputs": [
    {
     "name": "stdout",
     "output_type": "stream",
     "text": [
      "(array([[4.        , 4.47213595, 6.08276253, 8.06225775],\n",
      "       [1.41421356, 3.16227766, 5.        , 6.40312424]]), array([[1, 2, 0, 3],\n",
      "       [2, 1, 0, 3]], dtype=int64))\n"
     ]
    }
   ],
   "source": [
    "# test data와 train data와의 거리\n",
    "print(knn.kneighbors(x_test,4)) # kneighbors(X=None, n_neighbors=None, return_distance=True)\n",
    "                                # 입력한 데이터와 이웃들의 거리와 인덱스를 반환"
   ]
  },
  {
   "cell_type": "code",
   "execution_count": 14,
   "metadata": {},
   "outputs": [
    {
     "name": "stdout",
     "output_type": "stream",
     "text": [
      "test data(2,7)와 (10,8)과의 거리:  8.06225774829855\n"
     ]
    }
   ],
   "source": [
    "from math import sqrt\n",
    "print('test data(2,7)와 (10,8)과의 거리: ',sqrt((2-10)**2+(7-8)**2))"
   ]
  },
  {
   "cell_type": "code",
   "execution_count": 19,
   "metadata": {},
   "outputs": [
    {
     "data": {
      "text/html": [
       "<div>\n",
       "<style scoped>\n",
       "    .dataframe tbody tr th:only-of-type {\n",
       "        vertical-align: middle;\n",
       "    }\n",
       "\n",
       "    .dataframe tbody tr th {\n",
       "        vertical-align: top;\n",
       "    }\n",
       "\n",
       "    .dataframe thead th {\n",
       "        text-align: right;\n",
       "    }\n",
       "</style>\n",
       "<table border=\"1\" class=\"dataframe\">\n",
       "  <thead>\n",
       "    <tr style=\"text-align: right;\">\n",
       "      <th></th>\n",
       "      <th>ax1</th>\n",
       "      <th>ax2</th>\n",
       "      <th>type</th>\n",
       "    </tr>\n",
       "  </thead>\n",
       "  <tbody>\n",
       "    <tr>\n",
       "      <th>0</th>\n",
       "      <td>1</td>\n",
       "      <td>1</td>\n",
       "      <td>a</td>\n",
       "    </tr>\n",
       "    <tr>\n",
       "      <th>1</th>\n",
       "      <td>2</td>\n",
       "      <td>3</td>\n",
       "      <td>a</td>\n",
       "    </tr>\n",
       "    <tr>\n",
       "      <th>2</th>\n",
       "      <td>4</td>\n",
       "      <td>3</td>\n",
       "      <td>b</td>\n",
       "    </tr>\n",
       "    <tr>\n",
       "      <th>3</th>\n",
       "      <td>10</td>\n",
       "      <td>8</td>\n",
       "      <td>b</td>\n",
       "    </tr>\n",
       "    <tr>\n",
       "      <th>0</th>\n",
       "      <td>2</td>\n",
       "      <td>7</td>\n",
       "      <td>NaN</td>\n",
       "    </tr>\n",
       "    <tr>\n",
       "      <th>1</th>\n",
       "      <td>5</td>\n",
       "      <td>4</td>\n",
       "      <td>NaN</td>\n",
       "    </tr>\n",
       "  </tbody>\n",
       "</table>\n",
       "</div>"
      ],
      "text/plain": [
       "   ax1  ax2 type\n",
       "0    1    1    a\n",
       "1    2    3    a\n",
       "2    4    3    b\n",
       "3   10    8    b\n",
       "0    2    7  NaN\n",
       "1    5    4  NaN"
      ]
     },
     "execution_count": 19,
     "metadata": {},
     "output_type": "execute_result"
    }
   ],
   "source": [
    "sample = pd.concat([x.join(y), x_test])\n",
    "sample"
   ]
  },
  {
   "cell_type": "code",
   "execution_count": 22,
   "metadata": {},
   "outputs": [],
   "source": [
    "sample.reset_index(inplace=True)\n",
    "sample.drop('index', axis=1, inplace=True)\n",
    "sample.fillna('u', inplace=True)"
   ]
  },
  {
   "cell_type": "code",
   "execution_count": 24,
   "metadata": {},
   "outputs": [
    {
     "name": "stdout",
     "output_type": "stream",
     "text": [
      "\n",
      "\n",
      "[[0.66666667 0.33333333]\n",
      " [0.66666667 0.33333333]]\n"
     ]
    },
    {
     "data": {
      "image/png": "[encoded data removed]",
      "text/plain": [
       "<Figure size 419.48x360 with 1 Axes>"
      ]
     },
     "metadata": {
      "needs_background": "light"
     },
     "output_type": "display_data"
    }
   ],
   "source": [
    "sns.lmplot('ax1','ax2', data=sample, hue='type', fit_reg=False)\n",
    "print('\\n')\n",
    "print(knn.predict_proba(x_test))"
   ]
  },
  {
   "cell_type": "code",
   "execution_count": 30,
   "metadata": {},
   "outputs": [
    {
     "name": "stdout",
     "output_type": "stream",
     "text": [
      "분류:  ['a' 'a'] \n",
      "\n",
      "(array([[4., 6., 7., 9.],\n",
      "       [2., 4., 7., 9.]]), array([[1, 2, 0, 3],\n",
      "       [2, 1, 0, 3]], dtype=int64))\n"
     ]
    }
   ],
   "source": [
    "# 3-NN\n",
    "# 맨해튼 거리\n",
    "knn = KNeighborsClassifier(n_neighbors=3, weights='uniform', metric='manhattan')\n",
    "knn.fit(x,y)\n",
    "\n",
    "# test data\n",
    "x_test = pd.DataFrame([[2,7],[5,4]], columns=['ax1','ax2'])\n",
    "pred = knn.predict(x_test)\n",
    "print('분류: ',pred,'\\n')\n",
    "\n",
    "# test data와 train data와의 거리\n",
    "print(knn.kneighbors(x_test,4))"
   ]
  },
  {
   "cell_type": "code",
   "execution_count": 31,
   "metadata": {},
   "outputs": [
    {
     "data": {
      "text/html": [
       "<div>\n",
       "<style scoped>\n",
       "    .dataframe tbody tr th:only-of-type {\n",
       "        vertical-align: middle;\n",
       "    }\n",
       "\n",
       "    .dataframe tbody tr th {\n",
       "        vertical-align: top;\n",
       "    }\n",
       "\n",
       "    .dataframe thead th {\n",
       "        text-align: right;\n",
       "    }\n",
       "</style>\n",
       "<table border=\"1\" class=\"dataframe\">\n",
       "  <thead>\n",
       "    <tr style=\"text-align: right;\">\n",
       "      <th></th>\n",
       "      <th>ax1</th>\n",
       "      <th>ax2</th>\n",
       "      <th>type</th>\n",
       "    </tr>\n",
       "  </thead>\n",
       "  <tbody>\n",
       "    <tr>\n",
       "      <th>0</th>\n",
       "      <td>1</td>\n",
       "      <td>1</td>\n",
       "      <td>a</td>\n",
       "    </tr>\n",
       "    <tr>\n",
       "      <th>1</th>\n",
       "      <td>2</td>\n",
       "      <td>3</td>\n",
       "      <td>a</td>\n",
       "    </tr>\n",
       "    <tr>\n",
       "      <th>2</th>\n",
       "      <td>4</td>\n",
       "      <td>3</td>\n",
       "      <td>b</td>\n",
       "    </tr>\n",
       "    <tr>\n",
       "      <th>3</th>\n",
       "      <td>10</td>\n",
       "      <td>8</td>\n",
       "      <td>b</td>\n",
       "    </tr>\n",
       "    <tr>\n",
       "      <th>0</th>\n",
       "      <td>2</td>\n",
       "      <td>7</td>\n",
       "      <td>a</td>\n",
       "    </tr>\n",
       "    <tr>\n",
       "      <th>1</th>\n",
       "      <td>5</td>\n",
       "      <td>4</td>\n",
       "      <td>a</td>\n",
       "    </tr>\n",
       "  </tbody>\n",
       "</table>\n",
       "</div>"
      ],
      "text/plain": [
       "   ax1  ax2 type\n",
       "0    1    1    a\n",
       "1    2    3    a\n",
       "2    4    3    b\n",
       "3   10    8    b\n",
       "0    2    7    a\n",
       "1    5    4    a"
      ]
     },
     "execution_count": 31,
     "metadata": {},
     "output_type": "execute_result"
    }
   ],
   "source": [
    "sample = pd.concat([x.join(y), x_test.join(pd.DataFrame(pred,columns=['type']))])\n",
    "sample"
   ]
  },
  {
   "cell_type": "code",
   "execution_count": 32,
   "metadata": {},
   "outputs": [],
   "source": [
    "sample.reset_index(inplace=True)\n",
    "sample.drop('index',axis=1,inplace=True) # 반드시 reset_index를 먼저 수행해야 함"
   ]
  },
  {
   "cell_type": "code",
   "execution_count": 34,
   "metadata": {},
   "outputs": [
    {
     "name": "stdout",
     "output_type": "stream",
     "text": [
      "[[0.66666667 0.33333333]\n",
      " [0.66666667 0.33333333]]\n"
     ]
    },
    {
     "data": {
      "image/png": "[encoded data removed]",
      "text/plain": [
       "<Figure size 419.355x360 with 1 Axes>"
      ]
     },
     "metadata": {
      "needs_background": "light"
     },
     "output_type": "display_data"
    }
   ],
   "source": [
    "sns.lmplot('ax1','ax2', data=sample, hue='type',fit_reg=False)\n",
    "print(knn.predict_proba(x_test))"
   ]
  },
  {
   "cell_type": "code",
   "execution_count": 36,
   "metadata": {},
   "outputs": [
    {
     "name": "stdout",
     "output_type": "stream",
     "text": [
      "분류:  ['a' 'a'] \n",
      "\n",
      "(array([[4.        , 4.47213595, 6.08276253, 8.06225775],\n",
      "       [1.41421356, 3.16227766, 5.        , 6.40312424]]), array([[1, 2, 0, 3],\n",
      "       [2, 1, 0, 3]], dtype=int64))\n",
      "\n",
      " [[0.5 0.5]\n",
      " [0.5 0.5]]\n"
     ]
    },
    {
     "data": {
      "image/png": "[encoded data removed]",
      "text/plain": [
       "<Figure size 419.355x360 with 1 Axes>"
      ]
     },
     "metadata": {
      "needs_background": "light"
     },
     "output_type": "display_data"
    }
   ],
   "source": [
    "# 2-NN classifier\n",
    "knn = KNeighborsClassifier(n_neighbors=2)\n",
    "knn.fit(x,y)\n",
    "\n",
    "# test data\n",
    "x_test = pd.DataFrame([[2,7],[5,4]], columns=['ax1','ax2'])\n",
    "pred = knn.predict(x_test)\n",
    "print('분류: ',pred,'\\n')\n",
    "\n",
    "# test data와 train data와의 거리\n",
    "print(knn.kneighbors(x_test,4))\n",
    "\n",
    "sample = pd.concat([x.join(y), x_test.join(pd.DataFrame(pred,columns=['type']))])\n",
    "sample.reset_index(inplace=True)\n",
    "sample.drop('index',axis=1,inplace=True) # 반드시 reset_index를 먼저 수행해야 함\n",
    "\n",
    "sns.lmplot('ax1','ax2', data=sample, hue='type',fit_reg=False)\n",
    "print('\\n',knn.predict_proba(x_test))"
   ]
  },
  {
   "cell_type": "code",
   "execution_count": 39,
   "metadata": {},
   "outputs": [
    {
     "name": "stdout",
     "output_type": "stream",
     "text": [
      "분류:  ['a' 'b'] \n",
      "\n",
      "(array([[4.        , 4.47213595, 6.08276253, 8.06225775],\n",
      "       [1.41421356, 3.16227766, 5.        , 6.40312424]]), array([[1, 2, 0, 3],\n",
      "       [2, 1, 0, 3]], dtype=int64))\n",
      "\n",
      " [[0.52786405 0.47213595]\n",
      " [0.30901699 0.69098301]]\n",
      "\n",
      " 0.5278640447218036 0.47213595527819635\n"
     ]
    },
    {
     "data": {
      "image/png": "[encoded data removed]",
      "text/plain": [
       "<Figure size 419.355x360 with 1 Axes>"
      ]
     },
     "metadata": {
      "needs_background": "light"
     },
     "output_type": "display_data"
    }
   ],
   "source": [
    "# 2-NN classifier\n",
    "# 가중치 부여\n",
    "knn = KNeighborsClassifier(n_neighbors=2, weights='distance')\n",
    "knn.fit(x,y)\n",
    "\n",
    "# test data\n",
    "x_test = pd.DataFrame([[2,7],[5,4]], columns=['ax1','ax2'])\n",
    "pred = knn.predict(x_test)\n",
    "print('분류: ',pred,'\\n')\n",
    "\n",
    "# test data와 train data와의 거리\n",
    "print(knn.kneighbors(x_test,4))\n",
    "\n",
    "sample = pd.concat([x.join(y), x_test.join(pd.DataFrame(pred,columns=['type']))])\n",
    "sample.reset_index(inplace=True)\n",
    "sample.drop('index',axis=1,inplace=True) # 반드시 reset_index를 먼저 수행해야 함\n",
    "\n",
    "sns.lmplot('ax1','ax2', data=sample, hue='type',fit_reg=False)\n",
    "print('\\n',knn.predict_proba(x_test))\n",
    "\n",
    "ap = 1/4\n",
    "bp = 1/4.47213595\n",
    "n = 1/(ap+bp)\n",
    "\n",
    "print('\\n',ap*n, bp*n)"
   ]
  },
  {
   "cell_type": "code",
   "execution_count": null,
   "metadata": {},
   "outputs": [],
   "source": []
  }
 ],
 "metadata": {
  "kernelspec": {
   "display_name": "Python 3",
   "language": "python",
   "name": "python3"
  },
  "language_info": {
   "codemirror_mode": {
    "name": "ipython",
    "version": 3
   },
   "file_extension": ".py",
   "mimetype": "text/x-python",
   "name": "python",
   "nbconvert_exporter": "python",
   "pygments_lexer": "ipython3",
   "version": "3.7.9"
  }
 },
 "nbformat": 4,
 "nbformat_minor": 4
}
