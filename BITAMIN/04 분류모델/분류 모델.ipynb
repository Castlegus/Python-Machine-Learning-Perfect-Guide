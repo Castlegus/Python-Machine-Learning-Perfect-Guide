{
 "cells": [
  {
   "cell_type": "markdown",
   "metadata": {
    "id": "zfdMhzOanEe3"
   },
   "source": [
    "# K 최근접 이웃( K-Nearest Neighbor)\n",
    "- K : 이웃의 수\n",
    "- Nearest: 거리"
   ]
  },
  {
   "cell_type": "code",
   "execution_count": 1,
   "metadata": {
    "colab": {
     "base_uri": "https://localhost:8080/",
     "height": 439
    },
    "id": "8PKEKYg7nDoJ",
    "outputId": "f00f1bae-0bad-4edc-e9fc-8611ed56fe87"
   },
   "outputs": [
    {
     "data": {
      "text/html": [
       "<div>\n",
       "<style scoped>\n",
       "    .dataframe tbody tr th:only-of-type {\n",
       "        vertical-align: middle;\n",
       "    }\n",
       "\n",
       "    .dataframe tbody tr th {\n",
       "        vertical-align: top;\n",
       "    }\n",
       "\n",
       "    .dataframe thead th {\n",
       "        text-align: right;\n",
       "    }\n",
       "</style>\n",
       "<table border=\"1\" class=\"dataframe\">\n",
       "  <thead>\n",
       "    <tr style=\"text-align: right;\">\n",
       "      <th></th>\n",
       "      <th>ax1</th>\n",
       "      <th>ax2</th>\n",
       "    </tr>\n",
       "  </thead>\n",
       "  <tbody>\n",
       "    <tr>\n",
       "      <th>0</th>\n",
       "      <td>1</td>\n",
       "      <td>1</td>\n",
       "    </tr>\n",
       "    <tr>\n",
       "      <th>1</th>\n",
       "      <td>2</td>\n",
       "      <td>3</td>\n",
       "    </tr>\n",
       "    <tr>\n",
       "      <th>2</th>\n",
       "      <td>4</td>\n",
       "      <td>3</td>\n",
       "    </tr>\n",
       "    <tr>\n",
       "      <th>3</th>\n",
       "      <td>10</td>\n",
       "      <td>8</td>\n",
       "    </tr>\n",
       "  </tbody>\n",
       "</table>\n",
       "</div>"
      ],
      "text/plain": [
       "   ax1  ax2\n",
       "0    1    1\n",
       "1    2    3\n",
       "2    4    3\n",
       "3   10    8"
      ]
     },
     "metadata": {},
     "output_type": "display_data"
    },
    {
     "data": {
      "text/html": [
       "<div>\n",
       "<style scoped>\n",
       "    .dataframe tbody tr th:only-of-type {\n",
       "        vertical-align: middle;\n",
       "    }\n",
       "\n",
       "    .dataframe tbody tr th {\n",
       "        vertical-align: top;\n",
       "    }\n",
       "\n",
       "    .dataframe thead th {\n",
       "        text-align: right;\n",
       "    }\n",
       "</style>\n",
       "<table border=\"1\" class=\"dataframe\">\n",
       "  <thead>\n",
       "    <tr style=\"text-align: right;\">\n",
       "      <th></th>\n",
       "      <th>type</th>\n",
       "    </tr>\n",
       "  </thead>\n",
       "  <tbody>\n",
       "    <tr>\n",
       "      <th>0</th>\n",
       "      <td>a</td>\n",
       "    </tr>\n",
       "    <tr>\n",
       "      <th>1</th>\n",
       "      <td>a</td>\n",
       "    </tr>\n",
       "    <tr>\n",
       "      <th>2</th>\n",
       "      <td>b</td>\n",
       "    </tr>\n",
       "    <tr>\n",
       "      <th>3</th>\n",
       "      <td>b</td>\n",
       "    </tr>\n",
       "  </tbody>\n",
       "</table>\n",
       "</div>"
      ],
      "text/plain": [
       "  type\n",
       "0    a\n",
       "1    a\n",
       "2    b\n",
       "3    b"
      ]
     },
     "metadata": {},
     "output_type": "display_data"
    },
    {
     "data": {
      "text/html": [
       "<div>\n",
       "<style scoped>\n",
       "    .dataframe tbody tr th:only-of-type {\n",
       "        vertical-align: middle;\n",
       "    }\n",
       "\n",
       "    .dataframe tbody tr th {\n",
       "        vertical-align: top;\n",
       "    }\n",
       "\n",
       "    .dataframe thead th {\n",
       "        text-align: right;\n",
       "    }\n",
       "</style>\n",
       "<table border=\"1\" class=\"dataframe\">\n",
       "  <thead>\n",
       "    <tr style=\"text-align: right;\">\n",
       "      <th></th>\n",
       "      <th>ax1</th>\n",
       "      <th>ax2</th>\n",
       "    </tr>\n",
       "  </thead>\n",
       "  <tbody>\n",
       "    <tr>\n",
       "      <th>0</th>\n",
       "      <td>2</td>\n",
       "      <td>7</td>\n",
       "    </tr>\n",
       "    <tr>\n",
       "      <th>1</th>\n",
       "      <td>5</td>\n",
       "      <td>4</td>\n",
       "    </tr>\n",
       "  </tbody>\n",
       "</table>\n",
       "</div>"
      ],
      "text/plain": [
       "   ax1  ax2\n",
       "0    2    7\n",
       "1    5    4"
      ]
     },
     "metadata": {},
     "output_type": "display_data"
    },
    {
     "name": "stdout",
     "output_type": "stream",
     "text": [
      "분류: ['a' 'a'] \n",
      "\n"
     ]
    }
   ],
   "source": [
    "from sklearn.neighbors import KNeighborsClassifier\n",
    "import numpy as np\n",
    "import pandas as pd\n",
    "import matplotlib.pyplot as plt\n",
    "import seaborn as sns\n",
    "sns.set(font_scale=1.3)\n",
    "%matplotlib inline\n",
    "import warnings\n",
    "warnings.filterwarnings('ignore')\n",
    "\n",
    "# 2차원 공간에 4개 train data 설정\n",
    "x = pd.DataFrame([[1,1],[2,3],[4,3],[10,8]], columns=['ax1','ax2'])\n",
    "display(x)\n",
    "\n",
    "# train data의 label 설정\n",
    "y = pd.DataFrame(['a','a','b','b'], columns=['type'])\n",
    "display(y)\n",
    "\n",
    "# 3-NN classifier\n",
    "knn = KNeighborsClassifier(n_neighbors=3)\n",
    "knn.fit(x,y)\n",
    "\n",
    "# test data\n",
    "x_test = pd.DataFrame([[2,7],[5,4]], columns=['ax1','ax2'])\n",
    "display(x_test)\n",
    "\n",
    "pred = knn.predict(x_test)\n",
    "print('분류:',pred,'\\n')"
   ]
  },
  {
   "cell_type": "code",
   "execution_count": 2,
   "metadata": {
    "colab": {
     "base_uri": "https://localhost:8080/"
    },
    "id": "sFxUacVSnLp0",
    "outputId": "04881085-9f16-4b79-9515-292b35fca8ee"
   },
   "outputs": [
    {
     "name": "stdout",
     "output_type": "stream",
     "text": [
      "(array([[4.        , 4.47213595, 6.08276253, 8.06225775],\n",
      "       [1.41421356, 3.16227766, 5.        , 6.40312424]]), array([[1, 2, 0, 3],\n",
      "       [2, 1, 0, 3]], dtype=int64))\n"
     ]
    }
   ],
   "source": [
    "# test data와 train data와의 거리\n",
    "print(knn.kneighbors(x_test,4)) # kneighbors(X=None, n_neighbors=None, return_distance=True)\n",
    "                                # 입력한 데이터와 이웃들의 거리와 인덱스를 반환"
   ]
  },
  {
   "cell_type": "code",
   "execution_count": 3,
   "metadata": {
    "colab": {
     "base_uri": "https://localhost:8080/"
    },
    "id": "sh5VtIRjnPOb",
    "outputId": "e5af7ce8-d879-47db-a1bb-be2286607713"
   },
   "outputs": [
    {
     "name": "stdout",
     "output_type": "stream",
     "text": [
      "test data(2,7)와 (10,8)과의 거리:  8.06225774829855\n"
     ]
    }
   ],
   "source": [
    "from math import sqrt\n",
    "print('test data(2,7)와 (10,8)과의 거리: ',sqrt((2-10)**2+(7-8)**2))"
   ]
  },
  {
   "cell_type": "code",
   "execution_count": 4,
   "metadata": {
    "colab": {
     "base_uri": "https://localhost:8080/",
     "height": 225
    },
    "id": "T-OOvCgDnQ5E",
    "outputId": "7ae72456-c0b2-44de-99e6-8f345e1de4bf"
   },
   "outputs": [
    {
     "data": {
      "text/html": [
       "<div>\n",
       "<style scoped>\n",
       "    .dataframe tbody tr th:only-of-type {\n",
       "        vertical-align: middle;\n",
       "    }\n",
       "\n",
       "    .dataframe tbody tr th {\n",
       "        vertical-align: top;\n",
       "    }\n",
       "\n",
       "    .dataframe thead th {\n",
       "        text-align: right;\n",
       "    }\n",
       "</style>\n",
       "<table border=\"1\" class=\"dataframe\">\n",
       "  <thead>\n",
       "    <tr style=\"text-align: right;\">\n",
       "      <th></th>\n",
       "      <th>ax1</th>\n",
       "      <th>ax2</th>\n",
       "      <th>type</th>\n",
       "    </tr>\n",
       "  </thead>\n",
       "  <tbody>\n",
       "    <tr>\n",
       "      <th>0</th>\n",
       "      <td>1</td>\n",
       "      <td>1</td>\n",
       "      <td>a</td>\n",
       "    </tr>\n",
       "    <tr>\n",
       "      <th>1</th>\n",
       "      <td>2</td>\n",
       "      <td>3</td>\n",
       "      <td>a</td>\n",
       "    </tr>\n",
       "    <tr>\n",
       "      <th>2</th>\n",
       "      <td>4</td>\n",
       "      <td>3</td>\n",
       "      <td>b</td>\n",
       "    </tr>\n",
       "    <tr>\n",
       "      <th>3</th>\n",
       "      <td>10</td>\n",
       "      <td>8</td>\n",
       "      <td>b</td>\n",
       "    </tr>\n",
       "    <tr>\n",
       "      <th>0</th>\n",
       "      <td>2</td>\n",
       "      <td>7</td>\n",
       "      <td>NaN</td>\n",
       "    </tr>\n",
       "    <tr>\n",
       "      <th>1</th>\n",
       "      <td>5</td>\n",
       "      <td>4</td>\n",
       "      <td>NaN</td>\n",
       "    </tr>\n",
       "  </tbody>\n",
       "</table>\n",
       "</div>"
      ],
      "text/plain": [
       "   ax1  ax2 type\n",
       "0    1    1    a\n",
       "1    2    3    a\n",
       "2    4    3    b\n",
       "3   10    8    b\n",
       "0    2    7  NaN\n",
       "1    5    4  NaN"
      ]
     },
     "execution_count": 4,
     "metadata": {},
     "output_type": "execute_result"
    }
   ],
   "source": [
    "sample = pd.concat([x.join(y), x_test])\n",
    "sample"
   ]
  },
  {
   "cell_type": "code",
   "execution_count": 5,
   "metadata": {
    "id": "9YIKzfdvnSSh"
   },
   "outputs": [],
   "source": [
    "sample.reset_index(inplace=True)\n",
    "sample.drop('index', axis=1, inplace=True)\n",
    "sample.fillna('u', inplace=True)"
   ]
  },
  {
   "cell_type": "code",
   "execution_count": 6,
   "metadata": {
    "colab": {
     "base_uri": "https://localhost:8080/",
     "height": 458
    },
    "id": "ib0tsoh_nTpR",
    "outputId": "4ce99807-d393-4183-9cae-cfe39d5236d9"
   },
   "outputs": [
    {
     "name": "stdout",
     "output_type": "stream",
     "text": [
      "\n",
      "\n",
      "[[0.66666667 0.33333333]\n",
      " [0.66666667 0.33333333]]\n"
     ]
    },
    {
     "data": {
      "image/png": "[encoded data removed]",
      "text/plain": [
       "<Figure size 419.48x360 with 1 Axes>"
      ]
     },
     "metadata": {
      "needs_background": "light"
     },
     "output_type": "display_data"
    }
   ],
   "source": [
    "sns.lmplot('ax1','ax2', data=sample, hue='type', fit_reg=False)\n",
    "print('\\n')\n",
    "print(knn.predict_proba(x_test))"
   ]
  },
  {
   "cell_type": "code",
   "execution_count": 7,
   "metadata": {
    "colab": {
     "base_uri": "https://localhost:8080/"
    },
    "id": "5moT97zrnU2L",
    "outputId": "ef0f286f-66ea-4a0d-e929-0c5f03332d8d"
   },
   "outputs": [
    {
     "name": "stdout",
     "output_type": "stream",
     "text": [
      "분류:  ['a' 'a'] \n",
      "\n",
      "(array([[4., 6., 7., 9.],\n",
      "       [2., 4., 7., 9.]]), array([[1, 2, 0, 3],\n",
      "       [2, 1, 0, 3]], dtype=int64))\n"
     ]
    }
   ],
   "source": [
    "# 3-NN\n",
    "# 맨해튼 거리\n",
    "knn = KNeighborsClassifier(n_neighbors=3, weights='uniform', metric='manhattan')\n",
    "knn.fit(x,y)\n",
    "\n",
    "# test data\n",
    "x_test = pd.DataFrame([[2,7],[5,4]], columns=['ax1','ax2'])\n",
    "pred = knn.predict(x_test)\n",
    "print('분류: ',pred,'\\n')\n",
    "\n",
    "# test data와 train data와의 거리\n",
    "print(knn.kneighbors(x_test,4))"
   ]
  },
  {
   "cell_type": "code",
   "execution_count": 8,
   "metadata": {
    "colab": {
     "base_uri": "https://localhost:8080/",
     "height": 225
    },
    "id": "1qC6kh_6nWk_",
    "outputId": "158be0cf-95a2-43af-bead-e485fe1111d4"
   },
   "outputs": [
    {
     "data": {
      "text/html": [
       "<div>\n",
       "<style scoped>\n",
       "    .dataframe tbody tr th:only-of-type {\n",
       "        vertical-align: middle;\n",
       "    }\n",
       "\n",
       "    .dataframe tbody tr th {\n",
       "        vertical-align: top;\n",
       "    }\n",
       "\n",
       "    .dataframe thead th {\n",
       "        text-align: right;\n",
       "    }\n",
       "</style>\n",
       "<table border=\"1\" class=\"dataframe\">\n",
       "  <thead>\n",
       "    <tr style=\"text-align: right;\">\n",
       "      <th></th>\n",
       "      <th>ax1</th>\n",
       "      <th>ax2</th>\n",
       "      <th>type</th>\n",
       "    </tr>\n",
       "  </thead>\n",
       "  <tbody>\n",
       "    <tr>\n",
       "      <th>0</th>\n",
       "      <td>1</td>\n",
       "      <td>1</td>\n",
       "      <td>a</td>\n",
       "    </tr>\n",
       "    <tr>\n",
       "      <th>1</th>\n",
       "      <td>2</td>\n",
       "      <td>3</td>\n",
       "      <td>a</td>\n",
       "    </tr>\n",
       "    <tr>\n",
       "      <th>2</th>\n",
       "      <td>4</td>\n",
       "      <td>3</td>\n",
       "      <td>b</td>\n",
       "    </tr>\n",
       "    <tr>\n",
       "      <th>3</th>\n",
       "      <td>10</td>\n",
       "      <td>8</td>\n",
       "      <td>b</td>\n",
       "    </tr>\n",
       "    <tr>\n",
       "      <th>0</th>\n",
       "      <td>2</td>\n",
       "      <td>7</td>\n",
       "      <td>a</td>\n",
       "    </tr>\n",
       "    <tr>\n",
       "      <th>1</th>\n",
       "      <td>5</td>\n",
       "      <td>4</td>\n",
       "      <td>a</td>\n",
       "    </tr>\n",
       "  </tbody>\n",
       "</table>\n",
       "</div>"
      ],
      "text/plain": [
       "   ax1  ax2 type\n",
       "0    1    1    a\n",
       "1    2    3    a\n",
       "2    4    3    b\n",
       "3   10    8    b\n",
       "0    2    7    a\n",
       "1    5    4    a"
      ]
     },
     "execution_count": 8,
     "metadata": {},
     "output_type": "execute_result"
    }
   ],
   "source": [
    "sample = pd.concat([x.join(y), x_test.join(pd.DataFrame(pred,columns=['type']))])\n",
    "sample"
   ]
  },
  {
   "cell_type": "code",
   "execution_count": 9,
   "metadata": {
    "id": "wbaDshkJnYLY"
   },
   "outputs": [],
   "source": [
    "sample.reset_index(inplace=True)\n",
    "sample.drop('index',axis=1,inplace=True) # 반드시 reset_index를 먼저 수행해야 함"
   ]
  },
  {
   "cell_type": "code",
   "execution_count": 10,
   "metadata": {
    "colab": {
     "base_uri": "https://localhost:8080/",
     "height": 423
    },
    "id": "ogK9y1vDnZqU",
    "outputId": "2a90cfbf-4694-41ae-b8d1-61871e087c81"
   },
   "outputs": [
    {
     "name": "stdout",
     "output_type": "stream",
     "text": [
      "[[0.66666667 0.33333333]\n",
      " [0.66666667 0.33333333]]\n"
     ]
    },
    {
     "data": {
      "image/png": "[encoded data removed]",
      "text/plain": [
       "<Figure size 419.355x360 with 1 Axes>"
      ]
     },
     "metadata": {
      "needs_background": "light"
     },
     "output_type": "display_data"
    }
   ],
   "source": [
    "sns.lmplot('ax1','ax2', data=sample, hue='type',fit_reg=False)\n",
    "print(knn.predict_proba(x_test))"
   ]
  },
  {
   "cell_type": "code",
   "execution_count": 11,
   "metadata": {
    "colab": {
     "base_uri": "https://localhost:8080/",
     "height": 529
    },
    "id": "HNiv63DQna75",
    "outputId": "a4a56e47-fa98-41df-b173-caecb0275a59"
   },
   "outputs": [
    {
     "name": "stdout",
     "output_type": "stream",
     "text": [
      "분류:  ['a' 'a'] \n",
      "\n",
      "(array([[4.        , 4.47213595, 6.08276253, 8.06225775],\n",
      "       [1.41421356, 3.16227766, 5.        , 6.40312424]]), array([[1, 2, 0, 3],\n",
      "       [2, 1, 0, 3]], dtype=int64))\n",
      "\n",
      " [[0.5 0.5]\n",
      " [0.5 0.5]]\n"
     ]
    },
    {
     "data": {
      "image/png": "[encoded data removed]",
      "text/plain": [
       "<Figure size 419.355x360 with 1 Axes>"
      ]
     },
     "metadata": {
      "needs_background": "light"
     },
     "output_type": "display_data"
    }
   ],
   "source": [
    "# 2-NN classifier\n",
    "knn = KNeighborsClassifier(n_neighbors=2)\n",
    "knn.fit(x,y)\n",
    "\n",
    "# test data\n",
    "x_test = pd.DataFrame([[2,7],[5,4]], columns=['ax1','ax2'])\n",
    "pred = knn.predict(x_test)\n",
    "print('분류: ',pred,'\\n')\n",
    "\n",
    "# test data와 train data와의 거리\n",
    "print(knn.kneighbors(x_test,4))\n",
    "\n",
    "sample = pd.concat([x.join(y), x_test.join(pd.DataFrame(pred,columns=['type']))])\n",
    "sample.reset_index(inplace=True)\n",
    "sample.drop('index',axis=1,inplace=True) # 반드시 reset_index를 먼저 수행해야 함\n",
    "\n",
    "sns.lmplot('ax1','ax2', data=sample, hue='type',fit_reg=False)\n",
    "print('\\n',knn.predict_proba(x_test))"
   ]
  },
  {
   "cell_type": "code",
   "execution_count": 12,
   "metadata": {
    "colab": {
     "base_uri": "https://localhost:8080/",
     "height": 564
    },
    "id": "VvESvb-zncwa",
    "outputId": "19bffb1c-dd73-4cba-b2a3-c10d2b37eb83"
   },
   "outputs": [
    {
     "name": "stdout",
     "output_type": "stream",
     "text": [
      "분류:  ['a' 'b'] \n",
      "\n",
      "(array([[4.        , 4.47213595, 6.08276253, 8.06225775],\n",
      "       [1.41421356, 3.16227766, 5.        , 6.40312424]]), array([[1, 2, 0, 3],\n",
      "       [2, 1, 0, 3]], dtype=int64))\n",
      "\n",
      " [[0.52786405 0.47213595]\n",
      " [0.30901699 0.69098301]]\n",
      "\n",
      " 0.5278640447218036 0.47213595527819635\n"
     ]
    },
    {
     "data": {
      "image/png": "[encoded data removed]",
      "text/plain": [
       "<Figure size 419.355x360 with 1 Axes>"
      ]
     },
     "metadata": {
      "needs_background": "light"
     },
     "output_type": "display_data"
    }
   ],
   "source": [
    "# 2-NN classifier\n",
    "# 가중치 부여\n",
    "knn = KNeighborsClassifier(n_neighbors=2, weights='distance')\n",
    "knn.fit(x,y)\n",
    "\n",
    "# test data\n",
    "x_test = pd.DataFrame([[2,7],[5,4]], columns=['ax1','ax2'])\n",
    "pred = knn.predict(x_test)\n",
    "print('분류: ',pred,'\\n')\n",
    "\n",
    "# test data와 train data와의 거리\n",
    "print(knn.kneighbors(x_test,4))\n",
    "\n",
    "sample = pd.concat([x.join(y), x_test.join(pd.DataFrame(pred,columns=['type']))])\n",
    "sample.reset_index(inplace=True)\n",
    "sample.drop('index',axis=1,inplace=True) # 반드시 reset_index를 먼저 수행해야 함\n",
    "\n",
    "sns.lmplot('ax1','ax2', data=sample, hue='type',fit_reg=False)\n",
    "print('\\n',knn.predict_proba(x_test))\n",
    "\n",
    "ap = 1/4\n",
    "bp = 1/4.47213595\n",
    "n = 1/(ap+bp)\n",
    "\n",
    "print('\\n',ap*n, bp*n)"
   ]
  },
  {
   "cell_type": "markdown",
   "metadata": {
    "id": "w0qTFJZynhXQ"
   },
   "source": [
    "# 서포트 벡터 머신 (Support Vector Machin)"
   ]
  },
  {
   "cell_type": "code",
   "execution_count": 13,
   "metadata": {
    "colab": {
     "base_uri": "https://localhost:8080/",
     "height": 295
    },
    "id": "QWYBh2-9ne1_",
    "outputId": "ba4f9eea-1500-4d87-9424-1c0b73c03bc1"
   },
   "outputs": [
    {
     "data": {
      "image/png": "[encoded data removed]",
      "text/plain": [
       "<Figure size 432x288 with 1 Axes>"
      ]
     },
     "metadata": {
      "needs_background": "light"
     },
     "output_type": "display_data"
    }
   ],
   "source": [
    "from sklearn.datasets import make_blobs\n",
    "import matplotlib.pyplot as plt\n",
    "\n",
    "X, y = make_blobs(n_samples=300, n_features=2, centers=2, random_state=3, cluster_std=1)\n",
    "\n",
    "y = 2*y-1 # +1, -1로 바꿔주는 함수\n",
    "\n",
    "plt.scatter(X[y==-1,0], X[y==-1,1], marker='o', label='-1')\n",
    "plt.scatter(X[y==+1,0], X[y==+1,1], marker='x', label='+1')\n",
    "plt.xlabel('$X_1$')\n",
    "plt.ylabel('$X_2$')\n",
    "plt.legend()\n",
    "plt.show()"
   ]
  },
  {
   "cell_type": "code",
   "execution_count": 14,
   "metadata": {
    "colab": {
     "base_uri": "https://localhost:8080/",
     "height": 309
    },
    "id": "4-OTYTB6ni98",
    "outputId": "d1b155cd-5815-453b-b9b5-8958eecbe773"
   },
   "outputs": [
    {
     "data": {
      "image/png": "[encoded data removed]",
      "text/plain": [
       "<Figure size 432x288 with 1 Axes>"
      ]
     },
     "metadata": {
      "needs_background": "light"
     },
     "output_type": "display_data"
    }
   ],
   "source": [
    "from sklearn.svm import SVC\n",
    "import numpy as np\n",
    "\n",
    "model = SVC(kernel = 'linear', C=0.1).fit(X,y)\n",
    "\n",
    "xmin = X[:,0].min()\n",
    "xmax = X[:,0].max()\n",
    "ymin = X[:,1].min()\n",
    "ymax = X[:,1].max()\n",
    "xx = np.linspace(xmin, xmax, 10)\n",
    "yy = np.linspace(ymin, ymax, 10)\n",
    "X1, X2 = np.meshgrid(xx,yy)\n",
    "\n",
    "Z = np.empty(X1.shape)\n",
    "for (i,j), val in np.ndenumerate(X1):\n",
    "    x1 = val\n",
    "    x2 = X2[i,j]\n",
    "    p = model.decision_function([[x1,x2]])\n",
    "    Z[i,j] = p[0]\n",
    "levels = [-1,0,1]\n",
    "linestyles = ['dashed','solid','dashed']\n",
    "plt.scatter(X[y==-1,0], X[y==-1,1], marker='o', label='-1')\n",
    "plt.scatter(X[y==+1,0], X[y==+1,1], marker='x', label='+1')\n",
    "plt.contour(X1,X2,Z,levels,colors='k',linestyles=linestyles)\n",
    "plt.scatter(model.support_vectors_[:,0], model.support_vectors_[:,1], s=300, alpha=0.3)\n",
    "\n",
    "plt.xlabel('x1')\n",
    "plt.ylabel('x2')\n",
    "plt.legend()\n",
    "plt.title('SVM predict')\n",
    "plt.show()"
   ]
  },
  {
   "cell_type": "code",
   "execution_count": 15,
   "metadata": {
    "colab": {
     "base_uri": "https://localhost:8080/",
     "height": 309
    },
    "id": "5A3o0gP_nlWs",
    "outputId": "f84e55ed-00fa-4f4f-91d6-ecc69114501f"
   },
   "outputs": [
    {
     "data": {
      "image/png": "[encoded data removed]",
      "text/plain": [
       "<Figure size 432x288 with 1 Axes>"
      ]
     },
     "metadata": {
      "needs_background": "light"
     },
     "output_type": "display_data"
    }
   ],
   "source": [
    "from sklearn.svm import SVC\n",
    "import numpy as np\n",
    "\n",
    "model = SVC(kernel = 'linear', C=10).fit(X,y)\n",
    "\n",
    "xmin = X[:,0].min()\n",
    "xmax = X[:,0].max()\n",
    "ymin = X[:,1].min()\n",
    "ymax = X[:,1].max()\n",
    "xx = np.linspace(xmin, xmax, 10)\n",
    "yy = np.linspace(ymin, ymax, 10)\n",
    "X1, X2 = np.meshgrid(xx,yy)\n",
    "\n",
    "Z = np.empty(X1.shape)\n",
    "for (i,j), val in np.ndenumerate(X1):\n",
    "    x1 = val\n",
    "    x2 = X2[i,j]\n",
    "    p = model.decision_function([[x1,x2]])\n",
    "    Z[i,j] = p[0]\n",
    "levels = [-1,0,1]\n",
    "linestyles = ['dashed','solid','dashed']\n",
    "plt.scatter(X[y==-1,0], X[y==-1,1], marker='o', label='-1')\n",
    "plt.scatter(X[y==+1,0], X[y==+1,1], marker='x', label='+1')\n",
    "plt.contour(X1,X2,Z,levels,colors='k',linestyles=linestyles)\n",
    "plt.scatter(model.support_vectors_[:,0], model.support_vectors_[:,1], s=300, alpha=0.3)\n",
    "\n",
    "plt.xlabel('x1')\n",
    "plt.ylabel('x2')\n",
    "plt.legend()\n",
    "plt.title('SVM predict')\n",
    "plt.show()"
   ]
  },
  {
   "cell_type": "markdown",
   "metadata": {
    "id": "9IjWY07ynq69"
   },
   "source": [
    "# 앙상블(Ensemble)"
   ]
  },
  {
   "cell_type": "code",
   "execution_count": 16,
   "metadata": {
    "colab": {
     "base_uri": "https://localhost:8080/",
     "height": 249
    },
    "id": "v5iQ9fh8nneL",
    "outputId": "540fa013-245a-4751-b532-44ec65a31ca8"
   },
   "outputs": [
    {
     "data": {
      "text/html": [
       "<div>\n",
       "<style scoped>\n",
       "    .dataframe tbody tr th:only-of-type {\n",
       "        vertical-align: middle;\n",
       "    }\n",
       "\n",
       "    .dataframe tbody tr th {\n",
       "        vertical-align: top;\n",
       "    }\n",
       "\n",
       "    .dataframe thead th {\n",
       "        text-align: right;\n",
       "    }\n",
       "</style>\n",
       "<table border=\"1\" class=\"dataframe\">\n",
       "  <thead>\n",
       "    <tr style=\"text-align: right;\">\n",
       "      <th></th>\n",
       "      <th>mean radius</th>\n",
       "      <th>mean texture</th>\n",
       "      <th>mean perimeter</th>\n",
       "      <th>mean area</th>\n",
       "      <th>mean smoothness</th>\n",
       "      <th>mean compactness</th>\n",
       "      <th>mean concavity</th>\n",
       "      <th>mean concave points</th>\n",
       "      <th>mean symmetry</th>\n",
       "      <th>mean fractal dimension</th>\n",
       "      <th>...</th>\n",
       "      <th>worst radius</th>\n",
       "      <th>worst texture</th>\n",
       "      <th>worst perimeter</th>\n",
       "      <th>worst area</th>\n",
       "      <th>worst smoothness</th>\n",
       "      <th>worst compactness</th>\n",
       "      <th>worst concavity</th>\n",
       "      <th>worst concave points</th>\n",
       "      <th>worst symmetry</th>\n",
       "      <th>worst fractal dimension</th>\n",
       "    </tr>\n",
       "  </thead>\n",
       "  <tbody>\n",
       "    <tr>\n",
       "      <th>0</th>\n",
       "      <td>17.99</td>\n",
       "      <td>10.38</td>\n",
       "      <td>122.80</td>\n",
       "      <td>1001.0</td>\n",
       "      <td>0.11840</td>\n",
       "      <td>0.27760</td>\n",
       "      <td>0.3001</td>\n",
       "      <td>0.14710</td>\n",
       "      <td>0.2419</td>\n",
       "      <td>0.07871</td>\n",
       "      <td>...</td>\n",
       "      <td>25.38</td>\n",
       "      <td>17.33</td>\n",
       "      <td>184.60</td>\n",
       "      <td>2019.0</td>\n",
       "      <td>0.1622</td>\n",
       "      <td>0.6656</td>\n",
       "      <td>0.7119</td>\n",
       "      <td>0.2654</td>\n",
       "      <td>0.4601</td>\n",
       "      <td>0.11890</td>\n",
       "    </tr>\n",
       "    <tr>\n",
       "      <th>1</th>\n",
       "      <td>20.57</td>\n",
       "      <td>17.77</td>\n",
       "      <td>132.90</td>\n",
       "      <td>1326.0</td>\n",
       "      <td>0.08474</td>\n",
       "      <td>0.07864</td>\n",
       "      <td>0.0869</td>\n",
       "      <td>0.07017</td>\n",
       "      <td>0.1812</td>\n",
       "      <td>0.05667</td>\n",
       "      <td>...</td>\n",
       "      <td>24.99</td>\n",
       "      <td>23.41</td>\n",
       "      <td>158.80</td>\n",
       "      <td>1956.0</td>\n",
       "      <td>0.1238</td>\n",
       "      <td>0.1866</td>\n",
       "      <td>0.2416</td>\n",
       "      <td>0.1860</td>\n",
       "      <td>0.2750</td>\n",
       "      <td>0.08902</td>\n",
       "    </tr>\n",
       "    <tr>\n",
       "      <th>2</th>\n",
       "      <td>19.69</td>\n",
       "      <td>21.25</td>\n",
       "      <td>130.00</td>\n",
       "      <td>1203.0</td>\n",
       "      <td>0.10960</td>\n",
       "      <td>0.15990</td>\n",
       "      <td>0.1974</td>\n",
       "      <td>0.12790</td>\n",
       "      <td>0.2069</td>\n",
       "      <td>0.05999</td>\n",
       "      <td>...</td>\n",
       "      <td>23.57</td>\n",
       "      <td>25.53</td>\n",
       "      <td>152.50</td>\n",
       "      <td>1709.0</td>\n",
       "      <td>0.1444</td>\n",
       "      <td>0.4245</td>\n",
       "      <td>0.4504</td>\n",
       "      <td>0.2430</td>\n",
       "      <td>0.3613</td>\n",
       "      <td>0.08758</td>\n",
       "    </tr>\n",
       "    <tr>\n",
       "      <th>3</th>\n",
       "      <td>11.42</td>\n",
       "      <td>20.38</td>\n",
       "      <td>77.58</td>\n",
       "      <td>386.1</td>\n",
       "      <td>0.14250</td>\n",
       "      <td>0.28390</td>\n",
       "      <td>0.2414</td>\n",
       "      <td>0.10520</td>\n",
       "      <td>0.2597</td>\n",
       "      <td>0.09744</td>\n",
       "      <td>...</td>\n",
       "      <td>14.91</td>\n",
       "      <td>26.50</td>\n",
       "      <td>98.87</td>\n",
       "      <td>567.7</td>\n",
       "      <td>0.2098</td>\n",
       "      <td>0.8663</td>\n",
       "      <td>0.6869</td>\n",
       "      <td>0.2575</td>\n",
       "      <td>0.6638</td>\n",
       "      <td>0.17300</td>\n",
       "    </tr>\n",
       "    <tr>\n",
       "      <th>4</th>\n",
       "      <td>20.29</td>\n",
       "      <td>14.34</td>\n",
       "      <td>135.10</td>\n",
       "      <td>1297.0</td>\n",
       "      <td>0.10030</td>\n",
       "      <td>0.13280</td>\n",
       "      <td>0.1980</td>\n",
       "      <td>0.10430</td>\n",
       "      <td>0.1809</td>\n",
       "      <td>0.05883</td>\n",
       "      <td>...</td>\n",
       "      <td>22.54</td>\n",
       "      <td>16.67</td>\n",
       "      <td>152.20</td>\n",
       "      <td>1575.0</td>\n",
       "      <td>0.1374</td>\n",
       "      <td>0.2050</td>\n",
       "      <td>0.4000</td>\n",
       "      <td>0.1625</td>\n",
       "      <td>0.2364</td>\n",
       "      <td>0.07678</td>\n",
       "    </tr>\n",
       "  </tbody>\n",
       "</table>\n",
       "<p>5 rows × 30 columns</p>\n",
       "</div>"
      ],
      "text/plain": [
       "   mean radius  mean texture  mean perimeter  mean area  mean smoothness  \\\n",
       "0        17.99         10.38          122.80     1001.0          0.11840   \n",
       "1        20.57         17.77          132.90     1326.0          0.08474   \n",
       "2        19.69         21.25          130.00     1203.0          0.10960   \n",
       "3        11.42         20.38           77.58      386.1          0.14250   \n",
       "4        20.29         14.34          135.10     1297.0          0.10030   \n",
       "\n",
       "   mean compactness  mean concavity  mean concave points  mean symmetry  \\\n",
       "0           0.27760          0.3001              0.14710         0.2419   \n",
       "1           0.07864          0.0869              0.07017         0.1812   \n",
       "2           0.15990          0.1974              0.12790         0.2069   \n",
       "3           0.28390          0.2414              0.10520         0.2597   \n",
       "4           0.13280          0.1980              0.10430         0.1809   \n",
       "\n",
       "   mean fractal dimension  ...  worst radius  worst texture  worst perimeter  \\\n",
       "0                 0.07871  ...         25.38          17.33           184.60   \n",
       "1                 0.05667  ...         24.99          23.41           158.80   \n",
       "2                 0.05999  ...         23.57          25.53           152.50   \n",
       "3                 0.09744  ...         14.91          26.50            98.87   \n",
       "4                 0.05883  ...         22.54          16.67           152.20   \n",
       "\n",
       "   worst area  worst smoothness  worst compactness  worst concavity  \\\n",
       "0      2019.0            0.1622             0.6656           0.7119   \n",
       "1      1956.0            0.1238             0.1866           0.2416   \n",
       "2      1709.0            0.1444             0.4245           0.4504   \n",
       "3       567.7            0.2098             0.8663           0.6869   \n",
       "4      1575.0            0.1374             0.2050           0.4000   \n",
       "\n",
       "   worst concave points  worst symmetry  worst fractal dimension  \n",
       "0                0.2654          0.4601                  0.11890  \n",
       "1                0.1860          0.2750                  0.08902  \n",
       "2                0.2430          0.3613                  0.08758  \n",
       "3                0.2575          0.6638                  0.17300  \n",
       "4                0.1625          0.2364                  0.07678  \n",
       "\n",
       "[5 rows x 30 columns]"
      ]
     },
     "execution_count": 16,
     "metadata": {},
     "output_type": "execute_result"
    }
   ],
   "source": [
    "import pandas as pd\n",
    "\n",
    "from sklearn.ensemble import VotingClassifier\n",
    "from sklearn.linear_model import LogisticRegression\n",
    "from sklearn.neighbors import KNeighborsClassifier\n",
    "\n",
    "from sklearn.datasets import load_breast_cancer\n",
    "from sklearn.model_selection import train_test_split\n",
    "from sklearn.metrics import accuracy_score\n",
    "\n",
    "cancer = load_breast_cancer()\n",
    "\n",
    "dta_df = pd.DataFrame(cancer.data, columns=cancer.feature_names)\n",
    "dta_df.head()"
   ]
  },
  {
   "cell_type": "markdown",
   "metadata": {
    "id": "5aO3xB_1nymD"
   },
   "source": [
    "## 1. 로지스틱회귀와 KNN을 활용해 앙상블(보팅) 모델 구현\n",
    "## 2. VotingClassifier의 정확도 평가"
   ]
  },
  {
   "cell_type": "code",
   "execution_count": 17,
   "metadata": {
    "colab": {
     "base_uri": "https://localhost:8080/"
    },
    "id": "VrqG7INDnvpf",
    "outputId": "b2286803-461b-45e5-ced6-03ff0b041b63"
   },
   "outputs": [
    {
     "name": "stdout",
     "output_type": "stream",
     "text": [
      "Voting 분류기 정확도: 0.9561\n"
     ]
    }
   ],
   "source": [
    "lr_clf = LogisticRegression(max_iter=500)\n",
    "knn_clf = KNeighborsClassifier(n_neighbors=8)\n",
    "\n",
    "# 개별 모델을 소프트 보팅 기반의 앙상블 모델로 구현한 분류기\n",
    "vo_clf = VotingClassifier(estimators=[('LR', lr_clf), ('KNN',knn_clf)], voting='soft')\n",
    "\n",
    "X_train, X_test, y_train, y_test = train_test_split(cancer.data, cancer.target, test_size=0.2, random_state=156)\n",
    "\n",
    "# VotingClassifier 학습/예측/평가\n",
    "vo_clf.fit(X_train, y_train)\n",
    "pred = vo_clf.predict(X_test)\n",
    "print('Voting 분류기 정확도: {0:.4f}'.format(accuracy_score(y_test,pred)))"
   ]
  },
  {
   "cell_type": "markdown",
   "metadata": {
    "id": "RkwYNRzyn3nB"
   },
   "source": [
    "## 개별모델(로지스틱회귀/KNN)의 정확도 측정"
   ]
  },
  {
   "cell_type": "code",
   "execution_count": 18,
   "metadata": {
    "colab": {
     "base_uri": "https://localhost:8080/"
    },
    "id": "RpWpjDq7n1QA",
    "outputId": "7aeb07b7-1456-40e0-e1af-4f60858f621e"
   },
   "outputs": [
    {
     "name": "stdout",
     "output_type": "stream",
     "text": [
      "LogisticRegression 정확도: 0.9474\n",
      "KNeighborsClassifier 정확도: 0.9386\n"
     ]
    }
   ],
   "source": [
    "# 개별모델의 학습/예측/평가\n",
    "classifiers = [lr_clf, knn_clf]\n",
    "for classifier in classifiers:\n",
    "    classifier.fit(X_train, y_train)\n",
    "    pred = classifier.predict(X_test)\n",
    "    class_name = classifier.__class__.__name__\n",
    "    print('{0} 정확도: {1:.4f}'.format(class_name, accuracy_score(y_test,pred)))"
   ]
  },
  {
   "cell_type": "code",
   "execution_count": 19,
   "metadata": {
    "colab": {
     "base_uri": "https://localhost:8080/"
    },
    "id": "oIFTguhMpWqf",
    "outputId": "5f21fc24-ae5a-44cf-f6c2-b249b35ee9b9"
   },
   "outputs": [
    {
     "name": "stdout",
     "output_type": "stream",
     "text": [
      "column_index    42\n",
      "dtype: int64\n"
     ]
    }
   ],
   "source": [
    "import pandas as pd\n",
    "import matplotlib.pyplot as plt\n",
    "%matplotlib inline\n",
    "\n",
    "# features.txt 파일에는 피처 이름 index와 피처명이 공백으로 분리되어 있음.\n",
    "# 이를 DataFrame으로 로드\n",
    "feature_name_df = pd.read_csv('C:/Users/정성현/비타민/파이썬 머신러닝 완벽 가이드/BITAMIN/03 머신러닝 - 분류의 개요와 결정트리/human_activity/features.txt', sep = '\\s+', header = None, names = ['column_index', 'column_name'])\n",
    "\n",
    "# 피처명 index를 제거하고 피처명만 리스트 객체로 생성한 뒤 샘플로 10개만 추출\n",
    "feature_name = feature_name_df.iloc[:,1].values.tolist()\n",
    "feature_dup_df = feature_name_df.groupby('column_name').count()\n",
    "print(feature_dup_df[feature_dup_df['column_index']>1].count())\n",
    "feature_dup_df[feature_dup_df['column_index']>1].head()\n",
    "\n",
    "def get_new_feature_name_df(old_feature_name_df):\n",
    "    feature_dup_df = pd.DataFrame(data = old_feature_name_df.groupby('column_name').cumcount(), columns = ['dup_cnt'])\n",
    "    feature_dup_df = feature_dup_df.reset_index()\n",
    "    new_feature_name_df = pd.merge(old_feature_name_df.reset_index(), feature_dup_df, how='outer')\n",
    "    new_feature_name_df['column_name'] = new_feature_name_df[['column_name', 'dup_cnt']].apply(lambda x : x[0]+'_'+str(x[1]) if x[1]>0 else x[0], axis = 1)\n",
    "    new_feature_name_df = new_feature_name_df.drop(['index'], axis = 1)\n",
    "    return new_feature_name_df\n",
    "\n",
    "def get_human_dataset():\n",
    "    feature_name_df = pd.read_csv('C:/Users/정성현/비타민/파이썬 머신러닝 완벽 가이드/BITAMIN/03 머신러닝 - 분류의 개요와 결정트리/human_activity/features.txt', sep = '\\s+', header=None, names=['column_index', 'column_name'])\n",
    "    new_feature_name_df = get_new_feature_name_df(feature_name_df)\n",
    "    feature_name = new_feature_name_df.iloc[:,1].values.tolist()\n",
    "    X_train = pd.read_csv('C:/Users/정성현/비타민/파이썬 머신러닝 완벽 가이드/BITAMIN/03 머신러닝 - 분류의 개요와 결정트리/human_activity/train/X_train.txt', sep='\\s+', names = feature_name)\n",
    "    X_test = pd.read_csv('C:/Users/정성현/비타민/파이썬 머신러닝 완벽 가이드/BITAMIN/03 머신러닝 - 분류의 개요와 결정트리/human_activity/test/X_test.txt', sep = '\\s+', names = feature_name)\n",
    "    y_train = pd.read_csv('C:/Users/정성현/비타민/파이썬 머신러닝 완벽 가이드/BITAMIN/03 머신러닝 - 분류의 개요와 결정트리/human_activity/train/y_train.txt', sep='\\s+', header=None, names = ['action'])\n",
    "    y_test = pd.read_csv('C:/Users/정성현/비타민/파이썬 머신러닝 완벽 가이드/BITAMIN/03 머신러닝 - 분류의 개요와 결정트리/human_activity/test/y_test.txt', sep = '\\s+', header=None, names = ['action'])\n",
    "    return X_train, X_test, y_train, y_test\n"
   ]
  },
  {
   "cell_type": "code",
   "execution_count": 20,
   "metadata": {
    "colab": {
     "base_uri": "https://localhost:8080/"
    },
    "id": "UPJYz6CVtc-5",
    "outputId": "47769ad1-b817-484c-9271-2aeb5da95c61"
   },
   "outputs": [
    {
     "name": "stdout",
     "output_type": "stream",
     "text": [
      "Deicison Tree 예측 정확도: 0.8595\n"
     ]
    }
   ],
   "source": [
    "from sklearn.metrics import accuracy_score\n",
    "from sklearn.tree import DecisionTreeClassifier\n",
    "\n",
    "X_train, X_test, y_train, y_test = get_human_dataset()\n",
    "\n",
    "dt_clf = DecisionTreeClassifier(random_state=0)\n",
    "dt_clf.fit(X_train, y_train)\n",
    "pred = dt_clf.predict(X_test)\n",
    "accuracy = accuracy_score(y_test,pred)\n",
    "print('Deicison Tree 예측 정확도: {0:.4f}'.format(accuracy))"
   ]
  },
  {
   "cell_type": "code",
   "execution_count": 21,
   "metadata": {
    "colab": {
     "base_uri": "https://localhost:8080/"
    },
    "id": "D8WL6dOgtrGB",
    "outputId": "0edd70d5-4b59-467d-c5ae-ceb5f9538f1e"
   },
   "outputs": [
    {
     "name": "stdout",
     "output_type": "stream",
     "text": [
      "랜덤 포레스트 정확도: 0.9253\n"
     ]
    }
   ],
   "source": [
    "from sklearn.ensemble import RandomForestClassifier\n",
    "from sklearn.metrics import accuracy_score\n",
    "import pandas as pd\n",
    "import warnings\n",
    "warnings.filterwarnings('ignore')\n",
    "\n",
    "# 결정트리에서 사용한 get_human_dataset()을 이용해 학습/테스트용 DataFrame 반환\n",
    "X_train, X_test, y_train, y_test = get_human_dataset()\n",
    "\n",
    "# 랜덤 포레스트 학습 및 별도의 테스트 세트로 예측 성능 평가\n",
    "rf_clf = RandomForestClassifier(random_state=0)\n",
    "rf_clf.fit(X_train, y_train)\n",
    "pred = rf_clf.predict(X_test)\n",
    "accuracy = accuracy_score(y_test,pred)\n",
    "print('랜덤 포레스트 정확도: {0:.4f}'.format(accuracy))"
   ]
  },
  {
   "cell_type": "markdown",
   "metadata": {
    "id": "TLYwuTsOuECQ"
   },
   "source": [
    "### 랜덤 포레스트 하이퍼 파라미터 튜닝"
   ]
  },
  {
   "cell_type": "code",
   "execution_count": 22,
   "metadata": {
    "colab": {
     "base_uri": "https://localhost:8080/"
    },
    "id": "mzB3wlbxuBCl",
    "outputId": "0be7dbd0-4261-46ab-99eb-711cf0169d28"
   },
   "outputs": [
    {
     "name": "stdout",
     "output_type": "stream",
     "text": [
      "최적 하이퍼 파라미터:\n",
      " {'max_depth': 10, 'min_samples_leaf': 8, 'min_samples_split': 8, 'n_estimators': 100}\n",
      "최고 예측 정확도:0.9180\n"
     ]
    }
   ],
   "source": [
    "from sklearn.model_selection import GridSearchCV\n",
    "\n",
    "params = {'n_estimators':[100],\n",
    "         'max_depth':[6,8,10,12],\n",
    "         'min_samples_leaf':[8,12,18],\n",
    "         'min_samples_split':[8,16,20]}\n",
    "\n",
    "rf_clf = RandomForestClassifier(random_state=0, n_jobs=-1)  # n_jobs=-1 : 모든 CPU 코어를 이용해 학습\n",
    "grid_cv = GridSearchCV(rf_clf, param_grid=params, cv=2, n_jobs=-1)\n",
    "grid_cv.fit(X_train, y_train)\n",
    "\n",
    "print('최적 하이퍼 파라미터:\\n',grid_cv.best_params_)\n",
    "print('최고 예측 정확도:{0:.4f}'.format(grid_cv.best_score_))"
   ]
  },
  {
   "cell_type": "code",
   "execution_count": 23,
   "metadata": {
    "colab": {
     "base_uri": "https://localhost:8080/"
    },
    "id": "Qe7yabQ5uGoH",
    "outputId": "0c0c484f-bc33-43d1-8c6f-a48e1c8b58a0"
   },
   "outputs": [
    {
     "name": "stdout",
     "output_type": "stream",
     "text": [
      "예측 정확도: 0.9165\n"
     ]
    }
   ],
   "source": [
    "rf_clf1 = RandomForestClassifier(n_estimators = 300, max_depth =10, min_samples_leaf =8, min_samples_split=8, random_state=0)\n",
    "rf_clf1.fit(X_train, y_train)\n",
    "pred = rf_clf1.predict(X_test)\n",
    "print('예측 정확도: {0:.4f}'.format(accuracy_score(y_test, pred)))"
   ]
  },
  {
   "cell_type": "code",
   "execution_count": 24,
   "metadata": {
    "id": "kWHd92hEvXsF"
   },
   "outputs": [],
   "source": [
    "import matplotlib.pyplot as plt\n",
    "import seaborn as sns\n",
    "%matplotlib inline\n",
    "\n",
    "ftr_importances_values = rf_clf1.feature_importances_\n",
    "ftr_importances = pd.Series(ftr_importances_values, index= X_train.columns)\n",
    "ftr_top20 = ftr_importances.sort_values(ascending=False)[:20]"
   ]
  },
  {
   "cell_type": "code",
   "execution_count": 25,
   "metadata": {
    "colab": {
     "base_uri": "https://localhost:8080/"
    },
    "id": "oSStB7c3wMmT",
    "outputId": "0276bc59-28ce-45b4-df40-a5b10da9ca28"
   },
   "outputs": [
    {
     "data": {
      "text/plain": [
       "tBodyAcc-mean()-X                       0.000077\n",
       "tBodyAcc-mean()-Y                       0.000155\n",
       "tBodyAcc-mean()-Z                       0.000075\n",
       "tBodyAcc-std()-X                        0.007179\n",
       "tBodyAcc-std()-Y                        0.000197\n",
       "                                          ...   \n",
       "angle(tBodyGyroMean,gravityMean)        0.000266\n",
       "angle(tBodyGyroJerkMean,gravityMean)    0.000471\n",
       "angle(X,gravityMean)                    0.029071\n",
       "angle(Y,gravityMean)                    0.029033\n",
       "angle(Z,gravityMean)                    0.010431\n",
       "Length: 561, dtype: float64"
      ]
     },
     "execution_count": 25,
     "metadata": {},
     "output_type": "execute_result"
    }
   ],
   "source": [
    "ftr_importances"
   ]
  },
  {
   "cell_type": "code",
   "execution_count": 26,
   "metadata": {
    "colab": {
     "base_uri": "https://localhost:8080/"
    },
    "id": "DZ2TlwJXwNnv",
    "outputId": "c81bb775-413f-4a3c-cb69-c4dcad0e3e4e"
   },
   "outputs": [
    {
     "data": {
      "text/plain": [
       "tGravityAcc-min()-X                0.032487\n",
       "tGravityAcc-mean()-Y               0.030986\n",
       "tGravityAcc-min()-Y                0.029188\n",
       "angle(X,gravityMean)               0.029071\n",
       "angle(Y,gravityMean)               0.029033\n",
       "tGravityAcc-energy()-X             0.028219\n",
       "tGravityAcc-max()-X                0.027648\n",
       "tGravityAcc-mean()-X               0.027126\n",
       "tGravityAcc-max()-Y                0.024552\n",
       "tGravityAcc-energy()-Y             0.015663\n",
       "fBodyAccJerk-bandsEnergy()-1,8     0.014605\n",
       "tGravityAcc-max()-Z                0.012352\n",
       "tGravityAcc-arCoeff()-Z,2          0.011623\n",
       "fBodyAccMag-mad()                  0.010764\n",
       "angle(Z,gravityMean)               0.010431\n",
       "tGravityAcc-arCoeff()-Y,1          0.010140\n",
       "fBodyAccJerk-bandsEnergy()-1,16    0.010058\n",
       "fBodyAccMag-energy()               0.009471\n",
       "tGravityAcc-mean()-Z               0.009270\n",
       "tGravityAcc-arCoeff()-Z,1          0.009110\n",
       "dtype: float64"
      ]
     },
     "execution_count": 26,
     "metadata": {},
     "output_type": "execute_result"
    }
   ],
   "source": [
    "ftr_top20"
   ]
  },
  {
   "cell_type": "code",
   "execution_count": 27,
   "metadata": {
    "colab": {
     "base_uri": "https://localhost:8080/",
     "height": 399
    },
    "id": "jBaZG1M9wQrI",
    "outputId": "c8defcaf-e740-4e94-ac3a-ac445a10e1cf"
   },
   "outputs": [
    {
     "data": {
      "image/png": "[encoded data removed]",
      "text/plain": [
       "<Figure size 576x432 with 1 Axes>"
      ]
     },
     "metadata": {
      "needs_background": "light"
     },
     "output_type": "display_data"
    }
   ],
   "source": [
    "plt.figure(figsize=(8,6))\n",
    "plt.title('Feature importances Top 20')\n",
    "sns.barplot(x = ftr_top20, y = ftr_top20.index)\n",
    "plt.show()"
   ]
  },
  {
   "cell_type": "markdown",
   "metadata": {
    "id": "uf0vrSAdzLy9"
   },
   "source": [
    "# 실습"
   ]
  },
  {
   "cell_type": "markdown",
   "metadata": {
    "id": "PL0wQG8n1BeH"
   },
   "source": [
    "## 아이리스 데이터 분석 : KNN"
   ]
  },
  {
   "cell_type": "code",
   "execution_count": 1,
   "metadata": {
    "id": "zqJOQySKwgzK"
   },
   "outputs": [],
   "source": [
    "import pandas as pd\n",
    "import numpy as np\n",
    "\n",
    "df = pd.read_csv('C:/Users/정성현/비타민/파이썬 머신러닝 완벽 가이드/BITAMIN/03 머신러닝 - 분류의 개요와 결정트리/iris.csv')\n",
    "X = df.drop('species', axis=1)\n",
    "y = df['species']"
   ]
  },
  {
   "cell_type": "code",
   "execution_count": 2,
   "metadata": {
    "colab": {
     "base_uri": "https://localhost:8080/"
    },
    "id": "kv-5E2ioyQFF",
    "outputId": "3b4de70e-e39b-4c6d-975f-5a1e09bc59e5"
   },
   "outputs": [
    {
     "name": "stdout",
     "output_type": "stream",
     "text": [
      "KNN training set 정확도:  0.95\n",
      "KNN test set 정확도:  1.0\n"
     ]
    },
    {
     "data": {
      "text/plain": [
       "array([[10,  0,  0],\n",
       "       [ 0, 10,  0],\n",
       "       [ 0,  0, 10]], dtype=int64)"
      ]
     },
     "execution_count": 2,
     "metadata": {},
     "output_type": "execute_result"
    }
   ],
   "source": [
    "from sklearn.model_selection import train_test_split\n",
    "from sklearn.neighbors import KNeighborsClassifier\n",
    "from sklearn.metrics import accuracy_score, confusion_matrix\n",
    "\n",
    "X_train, X_test, y_train, y_test = train_test_split(X, y, test_size=0.2, random_state=9, stratify=y)\n",
    "\n",
    "knn = KNeighborsClassifier(n_neighbors=3)\n",
    "knn.fit(X_train, y_train)\n",
    "pred = knn.predict(X_test)\n",
    "\n",
    "print('KNN training set 정확도: ', knn.score(X_train, y_train))\n",
    "print('KNN test set 정확도: ', accuracy_score(y_test, pred))\n",
    "confusion_matrix(y_test,pred)"
   ]
  },
  {
   "cell_type": "code",
   "execution_count": 4,
   "metadata": {
    "colab": {
     "base_uri": "https://localhost:8080/",
     "height": 327
    },
    "id": "eBcz9rsRzyxS",
    "outputId": "3eb41c4c-0ebb-465c-fce7-5d8d8ba323ac"
   },
   "outputs": [
    {
     "data": {
      "text/plain": [
       "<matplotlib.legend.Legend at 0x17699943760>"
      ]
     },
     "execution_count": 4,
     "metadata": {},
     "output_type": "execute_result"
    },
    {
     "data": {
      "image/png": "[encoded data removed]",
      "text/plain": [
       "<Figure size 504x288 with 1 Axes>"
      ]
     },
     "metadata": {
      "needs_background": "light"
     },
     "output_type": "display_data"
    }
   ],
   "source": [
    "import matplotlib.pyplot as plt\n",
    "from matplotlib import font_manager, rc\n",
    "font_path = 'malgun.ttf'\n",
    "font_name = font_manager.FontProperties(fname=font_path).get_name()\n",
    "rc('font', family=font_name)\n",
    "\n",
    "training_accuracy = []\n",
    "test_accuracy = []\n",
    "# 1에서 10까지 n_neighbors를 적용\n",
    "neighbors_settings = range(1,14)\n",
    "\n",
    "for n_neighbors in neighbors_settings:\n",
    "    knn = KNeighborsClassifier(n_neighbors=n_neighbors)\n",
    "    knn.fit(X_train, y_train)\n",
    "    # 훈련 세트 정확도 저장\n",
    "    training_accuracy.append(knn.score(X_train, y_train))\n",
    "    # 일반화 정확도 저장\n",
    "    test_accuracy.append(knn.score(X_test,y_test))\n",
    "\n",
    "plt.figure(figsize=(7,4))\n",
    "plt.plot(neighbors_settings, training_accuracy, label = '훈련 정확도')\n",
    "plt.plot(neighbors_settings, test_accuracy, label='테스트 정확도')\n",
    "plt.ylabel('정확도')\n",
    "plt.xlabel('n_neighbors')\n",
    "plt.legend(loc='upper right')  "
   ]
  },
  {
   "cell_type": "code",
   "execution_count": 5,
   "metadata": {
    "colab": {
     "base_uri": "https://localhost:8080/"
    },
    "id": "JYokWrTw4nfK",
    "outputId": "78e86918-771b-49d6-d23b-6ede92354110"
   },
   "outputs": [
    {
     "name": "stdout",
     "output_type": "stream",
     "text": [
      "                                              params  mean_test_score  \\\n",
      "4  {'metric': 'euclidean', 'n_neighbors': 7, 'wei...         0.975000   \n",
      "5  {'metric': 'euclidean', 'n_neighbors': 7, 'wei...         0.975000   \n",
      "7  {'metric': 'euclidean', 'n_neighbors': 9, 'wei...         0.975000   \n",
      "2  {'metric': 'euclidean', 'n_neighbors': 5, 'wei...         0.966667   \n",
      "3  {'metric': 'euclidean', 'n_neighbors': 5, 'wei...         0.966667   \n",
      "\n",
      "   rank_test_score  split0_test_score  split1_test_score  split1_test_score  \n",
      "4                1              1.000              0.975              0.975  \n",
      "5                1              1.000              0.950              0.950  \n",
      "7                1              0.975              0.975              0.975  \n",
      "2                4              0.975              0.950              0.950  \n",
      "3                4              0.975              0.950              0.950  \n",
      "\n",
      "\n",
      "{'metric': 'euclidean', 'n_neighbors': 7, 'weights': 'uniform'}\n",
      "{'metric': 'euclidean', 'n_neighbors': 7, 'weights': 'distance'}\n",
      "{'metric': 'euclidean', 'n_neighbors': 9, 'weights': 'distance'}\n"
     ]
    }
   ],
   "source": [
    "from sklearn.model_selection import GridSearchCV\n",
    "\n",
    "grid_params = {'n_neighbors':[3,5,7,9],\n",
    "               'weights':['uniform','distance'],\n",
    "               'metric':['euclidean','manhattan']}\n",
    "gs = GridSearchCV(knn, grid_params, cv=3)\n",
    "gs_results = gs.fit(X_train, y_train)\n",
    "\n",
    "gs_results.best_estimator_\n",
    "\n",
    "scores_df = pd.DataFrame(gs_results.cv_results_)\n",
    "print(scores_df[['params','mean_test_score','rank_test_score','split0_test_score','split1_test_score','split1_test_score']].sort_values(by=['rank_test_score']).head())\n",
    "\n",
    "params = scores_df['params'][scores_df['rank_test_score']==1]\n",
    "print('\\n')\n",
    "for i in range(len(params)):\n",
    "    print(params.iloc[i])"
   ]
  },
  {
   "cell_type": "markdown",
   "metadata": {
    "id": "mgpuf6aq8W1y"
   },
   "source": [
    "## 아이리스 데이터 분석 : SVM"
   ]
  },
  {
   "cell_type": "code",
   "execution_count": 6,
   "metadata": {
    "colab": {
     "base_uri": "https://localhost:8080/"
    },
    "id": "HDHBCSQE1QS-",
    "outputId": "f20dbff3-1ec3-4853-ff07-ff30768f0d04"
   },
   "outputs": [
    {
     "name": "stdout",
     "output_type": "stream",
     "text": [
      "SVM training set 정확도:  0.9916666666666667\n",
      "SVM test set 정확도:  1.0\n"
     ]
    },
    {
     "data": {
      "text/plain": [
       "array([[10,  0,  0],\n",
       "       [ 0, 10,  0],\n",
       "       [ 0,  0, 10]], dtype=int64)"
      ]
     },
     "execution_count": 6,
     "metadata": {},
     "output_type": "execute_result"
    }
   ],
   "source": [
    "from sklearn.svm import SVC\n",
    "\n",
    "svm = SVC(kernel='linear',C=1)\n",
    "svm.fit(X_train, y_train)\n",
    "pred = svm.predict(X_test)\n",
    "\n",
    "print('SVM training set 정확도: ', svm.score(X_train, y_train))\n",
    "print('SVM test set 정확도: ', accuracy_score(y_test,pred))\n",
    "confusion_matrix(y_test,pred)"
   ]
  },
  {
   "cell_type": "markdown",
   "metadata": {
    "id": "hSDbDs2f9Jkw"
   },
   "source": [
    "## 아이리스 데이터 분석 : 랜덤포레스트"
   ]
  },
  {
   "cell_type": "code",
   "execution_count": 211,
   "metadata": {
    "colab": {
     "base_uri": "https://localhost:8080/",
     "height": 195
    },
    "id": "TqxtRMcM9L9K",
    "outputId": "22827777-2d6f-4801-bff9-7766e3b89432"
   },
   "outputs": [
    {
     "data": {
      "text/html": [
       "<div>\n",
       "<style scoped>\n",
       "    .dataframe tbody tr th:only-of-type {\n",
       "        vertical-align: middle;\n",
       "    }\n",
       "\n",
       "    .dataframe tbody tr th {\n",
       "        vertical-align: top;\n",
       "    }\n",
       "\n",
       "    .dataframe thead th {\n",
       "        text-align: right;\n",
       "    }\n",
       "</style>\n",
       "<table border=\"1\" class=\"dataframe\">\n",
       "  <thead>\n",
       "    <tr style=\"text-align: right;\">\n",
       "      <th></th>\n",
       "      <th>sepal_length</th>\n",
       "      <th>sepal_width</th>\n",
       "      <th>petal_length</th>\n",
       "      <th>petal_width</th>\n",
       "      <th>species</th>\n",
       "    </tr>\n",
       "  </thead>\n",
       "  <tbody>\n",
       "    <tr>\n",
       "      <th>0</th>\n",
       "      <td>5.1</td>\n",
       "      <td>3.5</td>\n",
       "      <td>1.4</td>\n",
       "      <td>0.2</td>\n",
       "      <td>setosa</td>\n",
       "    </tr>\n",
       "    <tr>\n",
       "      <th>1</th>\n",
       "      <td>4.9</td>\n",
       "      <td>3.0</td>\n",
       "      <td>1.4</td>\n",
       "      <td>0.2</td>\n",
       "      <td>setosa</td>\n",
       "    </tr>\n",
       "    <tr>\n",
       "      <th>2</th>\n",
       "      <td>4.7</td>\n",
       "      <td>3.2</td>\n",
       "      <td>1.3</td>\n",
       "      <td>0.2</td>\n",
       "      <td>setosa</td>\n",
       "    </tr>\n",
       "    <tr>\n",
       "      <th>3</th>\n",
       "      <td>4.6</td>\n",
       "      <td>3.1</td>\n",
       "      <td>1.5</td>\n",
       "      <td>0.2</td>\n",
       "      <td>setosa</td>\n",
       "    </tr>\n",
       "    <tr>\n",
       "      <th>4</th>\n",
       "      <td>5.0</td>\n",
       "      <td>3.6</td>\n",
       "      <td>1.4</td>\n",
       "      <td>0.2</td>\n",
       "      <td>setosa</td>\n",
       "    </tr>\n",
       "  </tbody>\n",
       "</table>\n",
       "</div>"
      ],
      "text/plain": [
       "   sepal_length  sepal_width  petal_length  petal_width species\n",
       "0           5.1          3.5           1.4          0.2  setosa\n",
       "1           4.9          3.0           1.4          0.2  setosa\n",
       "2           4.7          3.2           1.3          0.2  setosa\n",
       "3           4.6          3.1           1.5          0.2  setosa\n",
       "4           5.0          3.6           1.4          0.2  setosa"
      ]
     },
     "execution_count": 211,
     "metadata": {},
     "output_type": "execute_result"
    }
   ],
   "source": [
    "df = pd.read_csv('C:/Users/정성현/비타민/파이썬 머신러닝 완벽 가이드/BITAMIN/03 머신러닝 - 분류의 개요와 결정트리/iris.csv')\n",
    "df.head()"
   ]
  },
  {
   "cell_type": "code",
   "execution_count": 212,
   "metadata": {
    "id": "28s7THtP9OrN"
   },
   "outputs": [],
   "source": [
    "X = df[['sepal_length','sepal_width','petal_length','petal_width']]\n",
    "y = df['species']\n",
    "\n",
    "X_train,X_test, y_train, y_test = train_test_split(X,y, test_size=0.25, random_state=7)"
   ]
  },
  {
   "cell_type": "code",
   "execution_count": 213,
   "metadata": {
    "colab": {
     "base_uri": "https://localhost:8080/"
    },
    "id": "twyqQFtR9jVT",
    "outputId": "a00fdabd-890c-4b2d-a6a0-3e4d283c3379"
   },
   "outputs": [
    {
     "data": {
      "text/plain": [
       "setosa        50\n",
       "versicolor    50\n",
       "virginica     50\n",
       "Name: species, dtype: int64"
      ]
     },
     "execution_count": 213,
     "metadata": {},
     "output_type": "execute_result"
    }
   ],
   "source": [
    "y.value_counts()"
   ]
  },
  {
   "cell_type": "code",
   "execution_count": 214,
   "metadata": {},
   "outputs": [
    {
     "data": {
      "text/plain": [
       "152"
      ]
     },
     "execution_count": 214,
     "metadata": {},
     "output_type": "execute_result"
    }
   ],
   "source": [
    "y_test.count() * 4"
   ]
  },
  {
   "cell_type": "code",
   "execution_count": 215,
   "metadata": {
    "colab": {
     "base_uri": "https://localhost:8080/"
    },
    "id": "xmh-6zpV9ywR",
    "outputId": "7167151e-2a24-44d8-bed0-d1d3efcb09f9"
   },
   "outputs": [
    {
     "name": "stdout",
     "output_type": "stream",
     "text": [
      "의사결정나무 training set 정확도:  1.0\n",
      "의사결정나무 test set 정확도:  0.9210526315789473\n"
     ]
    }
   ],
   "source": [
    "from sklearn.tree import DecisionTreeClassifier\n",
    "# Decision Tree로 학습/예측/평가\n",
    "dt_clf = DecisionTreeClassifier(random_state=7)\n",
    "dt_clf.fit(X_train, y_train)\n",
    "dt_pred = dt_clf.predict(X_test)\n",
    "dt_accuracy = accuracy_score(y_test, dt_pred)\n",
    "\n",
    "print('의사결정나무 training set 정확도: ', dt_clf.score(X_train, y_train))\n",
    "print('의사결정나무 test set 정확도: ', dt_accuracy)"
   ]
  },
  {
   "cell_type": "code",
   "execution_count": 216,
   "metadata": {
    "colab": {
     "base_uri": "https://localhost:8080/"
    },
    "id": "bslsbMdE-OO7",
    "outputId": "eab32092-3c5d-4e1f-b276-278fdc7385f9"
   },
   "outputs": [
    {
     "name": "stdout",
     "output_type": "stream",
     "text": [
      "랜덤포레스트 training set 정확도:  1.0\n",
      "랜덤포레스트 test set 정확도:  0.8947368421052632\n"
     ]
    }
   ],
   "source": [
    "from sklearn.ensemble import RandomForestClassifier\n",
    "# Random Forest로 학습/예측/평가\n",
    "rf_clf = RandomForestClassifier(n_estimators=100, random_state=7)\n",
    "rf_clf.fit(X_train, y_train)\n",
    "rf_pred = rf_clf.predict(X_test)\n",
    "rf_accuracy = accuracy_score(y_test,rf_pred)\n",
    "\n",
    "print('랜덤포레스트 training set 정확도: ', rf_clf.score(X_train, y_train))\n",
    "print('랜덤포레스트 test set 정확도: ', rf_accuracy)"
   ]
  },
  {
   "cell_type": "markdown",
   "metadata": {
    "id": "sYvtkHHf_vUx"
   },
   "source": [
    "#### train_test_split에서의 random_state와 estimator에서의 random_state에 대한 저자의 답변\n",
    "train_test_split와 DecisionTreeClassifier에 들어가는 random_state는 의미상으로 서로 살짝 차이가 있습니다만 수행할 때마다 동일한 결과를 도출하게 한다는 측면에서는 적용하는 게 좋습니다. 이는 성능과 무관하게 일반적으로 성능 결과를 Debugging할 때 유리한 점이 있기 때문입니다. \n",
    "\n",
    "1/. train_test_split 의 경우에 데이터 세트가 적을 경우 random_state를 어떻게 정하느냐에 따라 데이터 세트가 변경될 수 있기 때문에 종종 test 성능 수치가 달라질 수 있습니다. 때때로 성능 평가를 위한 정확한 test 데이터를 뽑아내는 것은 쉬운 일일이 아닙니다. 때문에 교차 검증 수치로 보완하거나 여러개의 테스트 세트를 만드는데 이때마다 다른 random_state를 주어서 평가하는 방법을 적용하곤 합니다.  train_test_split의 경우에는 random_state를 줄거냐 말거냐 보다는 어떻게 테스트 데이타를 정확하게 만들것인가를 좀더 고민이 필요합니다.\n",
    "\n",
    "하지만 random_state를 적용하지 않는 것 보다는 random_state를 적용하는 것을 권장 드립니다. 특정 random_state로 분리할 경우 테스트 성능이 좋거나 또는 나빠질 수 있지만,  이는 random state의 문제라기 보다는 전체를 대변하는 테스트 데이터 세트를 뽑기 어렵거나/전체 데이터가 너무 작거나 인 경우가 대부분입니다.  특정 random_state에서 성능 수치가 너무 변한다면 여러개의 random_state를 적용하면서 보편적인 테스트 데이터를 선택하는 방법을 권장 드립니다.\n",
    "\n",
    "2/. DecisionTreeClassifier과 같은 estimator에 생성자로 들어가는 random_state는 동일한 학습 결과를 도출한다는 것 외에도 알고리즘의 초기 weight나 최적 파라미터를 선택하는 기법에 이를 적용하게 됩니다. 일반적으로 random_state를 설정하는 것이 좋습니다. 단지 random_state를 이용하여 최적화를 할 경우 overfitting 할 수 있으므로 너무 의존적이 되지 않도록 해야 합니다.\n",
    "\n",
    "결과적으로 두가지 경우 모두 실전 분석에 random_state를 설정하는 것이 좋다고 생각합니다."
   ]
  },
  {
   "cell_type": "code",
   "execution_count": null,
   "metadata": {},
   "outputs": [],
   "source": []
  }
 ],
 "metadata": {
  "colab": {
   "collapsed_sections": [],
   "name": "분류 모델.ipynb",
   "provenance": [],
   "toc_visible": true
  },
  "kernelspec": {
   "display_name": "Python 3",
   "language": "python",
   "name": "python3"
  },
  "language_info": {
   "codemirror_mode": {
    "name": "ipython",
    "version": 3
   },
   "file_extension": ".py",
   "mimetype": "text/x-python",
   "name": "python",
   "nbconvert_exporter": "python",
   "pygments_lexer": "ipython3",
   "version": "3.8.5"
  }
 },
 "nbformat": 4,
 "nbformat_minor": 1
}
