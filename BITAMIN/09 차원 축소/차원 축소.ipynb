{
 "cells": [
  {
   "cell_type": "markdown",
   "metadata": {},
   "source": [
    "# PCA 실습"
   ]
  },
  {
   "cell_type": "markdown",
   "metadata": {},
   "source": [
    "## iris data"
   ]
  },
  {
   "cell_type": "code",
   "execution_count": 1,
   "metadata": {},
   "outputs": [
    {
     "data": {
      "text/html": [
       "<div>\n",
       "<style scoped>\n",
       "    .dataframe tbody tr th:only-of-type {\n",
       "        vertical-align: middle;\n",
       "    }\n",
       "\n",
       "    .dataframe tbody tr th {\n",
       "        vertical-align: top;\n",
       "    }\n",
       "\n",
       "    .dataframe thead th {\n",
       "        text-align: right;\n",
       "    }\n",
       "</style>\n",
       "<table border=\"1\" class=\"dataframe\">\n",
       "  <thead>\n",
       "    <tr style=\"text-align: right;\">\n",
       "      <th></th>\n",
       "      <th>sepal_length</th>\n",
       "      <th>sepal_width</th>\n",
       "      <th>petal_length</th>\n",
       "      <th>petal_width</th>\n",
       "      <th>target</th>\n",
       "    </tr>\n",
       "  </thead>\n",
       "  <tbody>\n",
       "    <tr>\n",
       "      <th>0</th>\n",
       "      <td>5.1</td>\n",
       "      <td>3.5</td>\n",
       "      <td>1.4</td>\n",
       "      <td>0.2</td>\n",
       "      <td>0</td>\n",
       "    </tr>\n",
       "    <tr>\n",
       "      <th>1</th>\n",
       "      <td>4.9</td>\n",
       "      <td>3.0</td>\n",
       "      <td>1.4</td>\n",
       "      <td>0.2</td>\n",
       "      <td>0</td>\n",
       "    </tr>\n",
       "    <tr>\n",
       "      <th>2</th>\n",
       "      <td>4.7</td>\n",
       "      <td>3.2</td>\n",
       "      <td>1.3</td>\n",
       "      <td>0.2</td>\n",
       "      <td>0</td>\n",
       "    </tr>\n",
       "    <tr>\n",
       "      <th>3</th>\n",
       "      <td>4.6</td>\n",
       "      <td>3.1</td>\n",
       "      <td>1.5</td>\n",
       "      <td>0.2</td>\n",
       "      <td>0</td>\n",
       "    </tr>\n",
       "    <tr>\n",
       "      <th>4</th>\n",
       "      <td>5.0</td>\n",
       "      <td>3.6</td>\n",
       "      <td>1.4</td>\n",
       "      <td>0.2</td>\n",
       "      <td>0</td>\n",
       "    </tr>\n",
       "  </tbody>\n",
       "</table>\n",
       "</div>"
      ],
      "text/plain": [
       "   sepal_length  sepal_width  petal_length  petal_width  target\n",
       "0           5.1          3.5           1.4          0.2       0\n",
       "1           4.9          3.0           1.4          0.2       0\n",
       "2           4.7          3.2           1.3          0.2       0\n",
       "3           4.6          3.1           1.5          0.2       0\n",
       "4           5.0          3.6           1.4          0.2       0"
      ]
     },
     "execution_count": 1,
     "metadata": {},
     "output_type": "execute_result"
    }
   ],
   "source": [
    "from sklearn.datasets import load_iris\n",
    "import pandas as pd\n",
    "import matplotlib.pyplot as plt\n",
    "%matplotlib inline\n",
    "\n",
    "iris = load_iris()\n",
    "\n",
    "columns = ['sepal_length','sepal_width','petal_length','petal_width']\n",
    "irisDF = pd.DataFrame(iris.data, columns = columns)\n",
    "irisDF['target'] = iris.target\n",
    "irisDF.head()"
   ]
  },
  {
   "cell_type": "code",
   "execution_count": 2,
   "metadata": {},
   "outputs": [
    {
     "data": {
      "image/png": "[encoded data removed]",
      "text/plain": [
       "<Figure size 432x288 with 1 Axes>"
      ]
     },
     "metadata": {
      "needs_background": "light"
     },
     "output_type": "display_data"
    }
   ],
   "source": [
    "markers = ['^','s','o']\n",
    "for i, marker in enumerate(markers):\n",
    "    x_axis_data = irisDF[irisDF['target']==i]['sepal_length']\n",
    "    y_axis_data = irisDF[irisDF['target']==i]['sepal_width']\n",
    "    plt.scatter(x_axis_data, y_axis_data, marker=marker, label=iris.target_names[i])\n",
    "    \n",
    "plt.legend()\n",
    "plt.xlabel('sepal length')\n",
    "plt.ylabel('sepal width')\n",
    "plt.show()"
   ]
  },
  {
   "cell_type": "code",
   "execution_count": 3,
   "metadata": {},
   "outputs": [
    {
     "name": "stdout",
     "output_type": "stream",
     "text": [
      "[0.72962445 0.22850762 0.03668922 0.00517871]\n"
     ]
    },
    {
     "data": {
      "text/html": [
       "<div>\n",
       "<style scoped>\n",
       "    .dataframe tbody tr th:only-of-type {\n",
       "        vertical-align: middle;\n",
       "    }\n",
       "\n",
       "    .dataframe tbody tr th {\n",
       "        vertical-align: top;\n",
       "    }\n",
       "\n",
       "    .dataframe thead th {\n",
       "        text-align: right;\n",
       "    }\n",
       "</style>\n",
       "<table border=\"1\" class=\"dataframe\">\n",
       "  <thead>\n",
       "    <tr style=\"text-align: right;\">\n",
       "      <th></th>\n",
       "      <th>Variance</th>\n",
       "      <th>n_components</th>\n",
       "    </tr>\n",
       "  </thead>\n",
       "  <tbody>\n",
       "    <tr>\n",
       "      <th>0</th>\n",
       "      <td>0.729624</td>\n",
       "      <td>1</td>\n",
       "    </tr>\n",
       "    <tr>\n",
       "      <th>1</th>\n",
       "      <td>0.228508</td>\n",
       "      <td>2</td>\n",
       "    </tr>\n",
       "    <tr>\n",
       "      <th>2</th>\n",
       "      <td>0.036689</td>\n",
       "      <td>3</td>\n",
       "    </tr>\n",
       "    <tr>\n",
       "      <th>3</th>\n",
       "      <td>0.005179</td>\n",
       "      <td>4</td>\n",
       "    </tr>\n",
       "  </tbody>\n",
       "</table>\n",
       "</div>"
      ],
      "text/plain": [
       "   Variance  n_components\n",
       "0  0.729624             1\n",
       "1  0.228508             2\n",
       "2  0.036689             3\n",
       "3  0.005179             4"
      ]
     },
     "execution_count": 3,
     "metadata": {},
     "output_type": "execute_result"
    }
   ],
   "source": [
    "import pandas as pd\n",
    "from sklearn.preprocessing import StandardScaler\n",
    "from sklearn.decomposition import PCA\n",
    "import seaborn as sns\n",
    "\n",
    "iris = load_iris()\n",
    "iris_scaled = StandardScaler().fit_transform(iris.data)\n",
    "\n",
    "pca = PCA()\n",
    "pca = pca.fit(iris_scaled)\n",
    "print(pca.explained_variance_ratio_) # 각 주성분이 차지하는 변동성 비율\n",
    "\n",
    "irisDF = pd.DataFrame({'Variance':pca.explained_variance_ratio_, 'n_components':range(1,5)})\n",
    "irisDF"
   ]
  },
  {
   "cell_type": "code",
   "execution_count": 4,
   "metadata": {},
   "outputs": [
    {
     "name": "stderr",
     "output_type": "stream",
     "text": [
      "C:\\ProgramData\\Anaconda3\\lib\\site-packages\\seaborn\\_decorators.py:36: FutureWarning: Pass the following variables as keyword args: x, y. From version 0.12, the only valid positional argument will be `data`, and passing other arguments without an explicit keyword will result in an error or misinterpretation.\n",
      "  warnings.warn(\n"
     ]
    },
    {
     "data": {
      "image/png": "[encoded data removed]",
      "text/plain": [
       "<Figure size 432x288 with 1 Axes>"
      ]
     },
     "metadata": {
      "needs_background": "light"
     },
     "output_type": "display_data"
    }
   ],
   "source": [
    "sns.lineplot('n_components','Variance', data = irisDF, marker='o', markersize=10)\n",
    "plt.show()"
   ]
  },
  {
   "cell_type": "code",
   "execution_count": 5,
   "metadata": {},
   "outputs": [
    {
     "data": {
      "text/html": [
       "<div>\n",
       "<style scoped>\n",
       "    .dataframe tbody tr th:only-of-type {\n",
       "        vertical-align: middle;\n",
       "    }\n",
       "\n",
       "    .dataframe tbody tr th {\n",
       "        vertical-align: top;\n",
       "    }\n",
       "\n",
       "    .dataframe thead th {\n",
       "        text-align: right;\n",
       "    }\n",
       "</style>\n",
       "<table border=\"1\" class=\"dataframe\">\n",
       "  <thead>\n",
       "    <tr style=\"text-align: right;\">\n",
       "      <th></th>\n",
       "      <th>sepal_length</th>\n",
       "      <th>sepal_width</th>\n",
       "      <th>petal_length</th>\n",
       "      <th>petal_width</th>\n",
       "      <th>target</th>\n",
       "    </tr>\n",
       "  </thead>\n",
       "  <tbody>\n",
       "    <tr>\n",
       "      <th>0</th>\n",
       "      <td>5.1</td>\n",
       "      <td>3.5</td>\n",
       "      <td>1.4</td>\n",
       "      <td>0.2</td>\n",
       "      <td>0</td>\n",
       "    </tr>\n",
       "    <tr>\n",
       "      <th>1</th>\n",
       "      <td>4.9</td>\n",
       "      <td>3.0</td>\n",
       "      <td>1.4</td>\n",
       "      <td>0.2</td>\n",
       "      <td>0</td>\n",
       "    </tr>\n",
       "    <tr>\n",
       "      <th>2</th>\n",
       "      <td>4.7</td>\n",
       "      <td>3.2</td>\n",
       "      <td>1.3</td>\n",
       "      <td>0.2</td>\n",
       "      <td>0</td>\n",
       "    </tr>\n",
       "    <tr>\n",
       "      <th>3</th>\n",
       "      <td>4.6</td>\n",
       "      <td>3.1</td>\n",
       "      <td>1.5</td>\n",
       "      <td>0.2</td>\n",
       "      <td>0</td>\n",
       "    </tr>\n",
       "    <tr>\n",
       "      <th>4</th>\n",
       "      <td>5.0</td>\n",
       "      <td>3.6</td>\n",
       "      <td>1.4</td>\n",
       "      <td>0.2</td>\n",
       "      <td>0</td>\n",
       "    </tr>\n",
       "  </tbody>\n",
       "</table>\n",
       "</div>"
      ],
      "text/plain": [
       "   sepal_length  sepal_width  petal_length  petal_width  target\n",
       "0           5.1          3.5           1.4          0.2       0\n",
       "1           4.9          3.0           1.4          0.2       0\n",
       "2           4.7          3.2           1.3          0.2       0\n",
       "3           4.6          3.1           1.5          0.2       0\n",
       "4           5.0          3.6           1.4          0.2       0"
      ]
     },
     "execution_count": 5,
     "metadata": {},
     "output_type": "execute_result"
    }
   ],
   "source": [
    "iris = load_iris()\n",
    "\n",
    "columns = ['sepal_length','sepal_width','petal_length','petal_width']\n",
    "irisDF = pd.DataFrame(iris.data, columns = columns)\n",
    "irisDF['target'] = iris.target\n",
    "irisDF.head()"
   ]
  },
  {
   "cell_type": "code",
   "execution_count": 6,
   "metadata": {},
   "outputs": [],
   "source": [
    "iris_scaled = StandardScaler().fit_transform(irisDF.iloc[:,:-1])"
   ]
  },
  {
   "cell_type": "code",
   "execution_count": 7,
   "metadata": {},
   "outputs": [
    {
     "name": "stdout",
     "output_type": "stream",
     "text": [
      "(150, 2)\n"
     ]
    }
   ],
   "source": [
    "pca = PCA(n_components=2)\n",
    "pca.fit(iris_scaled)\n",
    "iris_pca = pca.transform(iris_scaled)\n",
    "print(iris_pca.shape)"
   ]
  },
  {
   "cell_type": "code",
   "execution_count": 8,
   "metadata": {},
   "outputs": [
    {
     "data": {
      "text/html": [
       "<div>\n",
       "<style scoped>\n",
       "    .dataframe tbody tr th:only-of-type {\n",
       "        vertical-align: middle;\n",
       "    }\n",
       "\n",
       "    .dataframe tbody tr th {\n",
       "        vertical-align: top;\n",
       "    }\n",
       "\n",
       "    .dataframe thead th {\n",
       "        text-align: right;\n",
       "    }\n",
       "</style>\n",
       "<table border=\"1\" class=\"dataframe\">\n",
       "  <thead>\n",
       "    <tr style=\"text-align: right;\">\n",
       "      <th></th>\n",
       "      <th>pca_component_1</th>\n",
       "      <th>pca_component_2</th>\n",
       "      <th>target</th>\n",
       "    </tr>\n",
       "  </thead>\n",
       "  <tbody>\n",
       "    <tr>\n",
       "      <th>0</th>\n",
       "      <td>-2.264703</td>\n",
       "      <td>0.480027</td>\n",
       "      <td>0</td>\n",
       "    </tr>\n",
       "    <tr>\n",
       "      <th>1</th>\n",
       "      <td>-2.080961</td>\n",
       "      <td>-0.674134</td>\n",
       "      <td>0</td>\n",
       "    </tr>\n",
       "    <tr>\n",
       "      <th>2</th>\n",
       "      <td>-2.364229</td>\n",
       "      <td>-0.341908</td>\n",
       "      <td>0</td>\n",
       "    </tr>\n",
       "  </tbody>\n",
       "</table>\n",
       "</div>"
      ],
      "text/plain": [
       "   pca_component_1  pca_component_2  target\n",
       "0        -2.264703         0.480027       0\n",
       "1        -2.080961        -0.674134       0\n",
       "2        -2.364229        -0.341908       0"
      ]
     },
     "execution_count": 8,
     "metadata": {},
     "output_type": "execute_result"
    }
   ],
   "source": [
    "pca_columns = ['pca_component_1','pca_component_2']\n",
    "irisDF_pca = pd.DataFrame(iris_pca, columns=pca_columns)\n",
    "irisDF_pca['target'] = iris.target\n",
    "irisDF_pca.head(3)"
   ]
  },
  {
   "cell_type": "code",
   "execution_count": 9,
   "metadata": {},
   "outputs": [
    {
     "data": {
      "image/png": "[encoded data removed]",
      "text/plain": [
       "<Figure size 432x288 with 1 Axes>"
      ]
     },
     "metadata": {
      "needs_background": "light"
     },
     "output_type": "display_data"
    }
   ],
   "source": [
    "markers = ['^','s','o']\n",
    "\n",
    "for i , marker in enumerate(markers):\n",
    "    x_axis_data = irisDF_pca[irisDF_pca['target']==i]['pca_component_1']\n",
    "    y_axis_data = irisDF_pca[irisDF_pca['target']==i]['pca_component_2']\n",
    "    plt.scatter(x_axis_data,y_axis_data, marker=marker, label=iris.target_names[i])\n",
    "    \n",
    "plt.legend()\n",
    "plt.xlabel('pca_component_1')\n",
    "plt.ylabel('pca_component_2')\n",
    "plt.show()"
   ]
  },
  {
   "cell_type": "code",
   "execution_count": 10,
   "metadata": {},
   "outputs": [
    {
     "name": "stdout",
     "output_type": "stream",
     "text": [
      "[0.72962445 0.22850762]\n"
     ]
    }
   ],
   "source": [
    "print(pca.explained_variance_ratio_)"
   ]
  },
  {
   "cell_type": "code",
   "execution_count": 11,
   "metadata": {},
   "outputs": [
    {
     "name": "stdout",
     "output_type": "stream",
     "text": [
      "원본 데이터 교차 검증 개별 정확도:  [0.98 0.94 0.96]\n",
      "원본 데이터 평균 정확도:  0.96\n"
     ]
    }
   ],
   "source": [
    "import numpy as np\n",
    "from sklearn.ensemble import RandomForestClassifier\n",
    "from sklearn.model_selection import cross_val_score\n",
    "\n",
    "rcf = RandomForestClassifier(random_state=156)\n",
    "scores = cross_val_score(rcf, iris.data, iris.target, scoring = 'accuracy', cv=3)\n",
    "print('원본 데이터 교차 검증 개별 정확도: ',scores)\n",
    "print('원본 데이터 평균 정확도: ',np.mean(scores))"
   ]
  },
  {
   "cell_type": "code",
   "execution_count": 12,
   "metadata": {},
   "outputs": [
    {
     "name": "stdout",
     "output_type": "stream",
     "text": [
      "PCA 변환 데이터 교차 검증 개별 정확도: [0.88 0.88 0.88]\n",
      "PCA 변환 데이터 평균 정확도:  0.88\n"
     ]
    }
   ],
   "source": [
    "pca_X = irisDF_pca[['pca_component_1','pca_component_2']]\n",
    "scores_pca = cross_val_score(rcf, pca_X, iris.target, scoring = 'accuracy', cv=3)\n",
    "print('PCA 변환 데이터 교차 검증 개별 정확도:', scores_pca)\n",
    "print('PCA 변환 데이터 평균 정확도: ', np.mean(scores_pca))"
   ]
  },
  {
   "cell_type": "markdown",
   "metadata": {},
   "source": [
    "## 신용카드 고객 데이터"
   ]
  },
  {
   "cell_type": "code",
   "execution_count": 13,
   "metadata": {},
   "outputs": [
    {
     "name": "stdout",
     "output_type": "stream",
     "text": [
      "(30000, 24)\n"
     ]
    },
    {
     "data": {
      "text/html": [
       "<div>\n",
       "<style scoped>\n",
       "    .dataframe tbody tr th:only-of-type {\n",
       "        vertical-align: middle;\n",
       "    }\n",
       "\n",
       "    .dataframe tbody tr th {\n",
       "        vertical-align: top;\n",
       "    }\n",
       "\n",
       "    .dataframe thead th {\n",
       "        text-align: right;\n",
       "    }\n",
       "</style>\n",
       "<table border=\"1\" class=\"dataframe\">\n",
       "  <thead>\n",
       "    <tr style=\"text-align: right;\">\n",
       "      <th></th>\n",
       "      <th>LIMIT_BAL</th>\n",
       "      <th>SEX</th>\n",
       "      <th>EDUCATION</th>\n",
       "      <th>MARRIAGE</th>\n",
       "      <th>AGE</th>\n",
       "      <th>PAY_0</th>\n",
       "      <th>PAY_2</th>\n",
       "      <th>PAY_3</th>\n",
       "      <th>PAY_4</th>\n",
       "      <th>PAY_5</th>\n",
       "      <th>...</th>\n",
       "      <th>BILL_AMT4</th>\n",
       "      <th>BILL_AMT5</th>\n",
       "      <th>BILL_AMT6</th>\n",
       "      <th>PAY_AMT1</th>\n",
       "      <th>PAY_AMT2</th>\n",
       "      <th>PAY_AMT3</th>\n",
       "      <th>PAY_AMT4</th>\n",
       "      <th>PAY_AMT5</th>\n",
       "      <th>PAY_AMT6</th>\n",
       "      <th>default payment next month</th>\n",
       "    </tr>\n",
       "  </thead>\n",
       "  <tbody>\n",
       "    <tr>\n",
       "      <th>0</th>\n",
       "      <td>20000</td>\n",
       "      <td>2</td>\n",
       "      <td>2</td>\n",
       "      <td>1</td>\n",
       "      <td>24</td>\n",
       "      <td>2</td>\n",
       "      <td>2</td>\n",
       "      <td>-1</td>\n",
       "      <td>-1</td>\n",
       "      <td>-2</td>\n",
       "      <td>...</td>\n",
       "      <td>0</td>\n",
       "      <td>0</td>\n",
       "      <td>0</td>\n",
       "      <td>0</td>\n",
       "      <td>689</td>\n",
       "      <td>0</td>\n",
       "      <td>0</td>\n",
       "      <td>0</td>\n",
       "      <td>0</td>\n",
       "      <td>1</td>\n",
       "    </tr>\n",
       "    <tr>\n",
       "      <th>1</th>\n",
       "      <td>120000</td>\n",
       "      <td>2</td>\n",
       "      <td>2</td>\n",
       "      <td>2</td>\n",
       "      <td>26</td>\n",
       "      <td>-1</td>\n",
       "      <td>2</td>\n",
       "      <td>0</td>\n",
       "      <td>0</td>\n",
       "      <td>0</td>\n",
       "      <td>...</td>\n",
       "      <td>3272</td>\n",
       "      <td>3455</td>\n",
       "      <td>3261</td>\n",
       "      <td>0</td>\n",
       "      <td>1000</td>\n",
       "      <td>1000</td>\n",
       "      <td>1000</td>\n",
       "      <td>0</td>\n",
       "      <td>2000</td>\n",
       "      <td>1</td>\n",
       "    </tr>\n",
       "    <tr>\n",
       "      <th>2</th>\n",
       "      <td>90000</td>\n",
       "      <td>2</td>\n",
       "      <td>2</td>\n",
       "      <td>2</td>\n",
       "      <td>34</td>\n",
       "      <td>0</td>\n",
       "      <td>0</td>\n",
       "      <td>0</td>\n",
       "      <td>0</td>\n",
       "      <td>0</td>\n",
       "      <td>...</td>\n",
       "      <td>14331</td>\n",
       "      <td>14948</td>\n",
       "      <td>15549</td>\n",
       "      <td>1518</td>\n",
       "      <td>1500</td>\n",
       "      <td>1000</td>\n",
       "      <td>1000</td>\n",
       "      <td>1000</td>\n",
       "      <td>5000</td>\n",
       "      <td>0</td>\n",
       "    </tr>\n",
       "    <tr>\n",
       "      <th>3</th>\n",
       "      <td>50000</td>\n",
       "      <td>2</td>\n",
       "      <td>2</td>\n",
       "      <td>1</td>\n",
       "      <td>37</td>\n",
       "      <td>0</td>\n",
       "      <td>0</td>\n",
       "      <td>0</td>\n",
       "      <td>0</td>\n",
       "      <td>0</td>\n",
       "      <td>...</td>\n",
       "      <td>28314</td>\n",
       "      <td>28959</td>\n",
       "      <td>29547</td>\n",
       "      <td>2000</td>\n",
       "      <td>2019</td>\n",
       "      <td>1200</td>\n",
       "      <td>1100</td>\n",
       "      <td>1069</td>\n",
       "      <td>1000</td>\n",
       "      <td>0</td>\n",
       "    </tr>\n",
       "    <tr>\n",
       "      <th>4</th>\n",
       "      <td>50000</td>\n",
       "      <td>1</td>\n",
       "      <td>2</td>\n",
       "      <td>1</td>\n",
       "      <td>57</td>\n",
       "      <td>-1</td>\n",
       "      <td>0</td>\n",
       "      <td>-1</td>\n",
       "      <td>0</td>\n",
       "      <td>0</td>\n",
       "      <td>...</td>\n",
       "      <td>20940</td>\n",
       "      <td>19146</td>\n",
       "      <td>19131</td>\n",
       "      <td>2000</td>\n",
       "      <td>36681</td>\n",
       "      <td>10000</td>\n",
       "      <td>9000</td>\n",
       "      <td>689</td>\n",
       "      <td>679</td>\n",
       "      <td>0</td>\n",
       "    </tr>\n",
       "  </tbody>\n",
       "</table>\n",
       "<p>5 rows × 24 columns</p>\n",
       "</div>"
      ],
      "text/plain": [
       "   LIMIT_BAL  SEX  EDUCATION  MARRIAGE  AGE  PAY_0  PAY_2  PAY_3  PAY_4  \\\n",
       "0      20000    2          2         1   24      2      2     -1     -1   \n",
       "1     120000    2          2         2   26     -1      2      0      0   \n",
       "2      90000    2          2         2   34      0      0      0      0   \n",
       "3      50000    2          2         1   37      0      0      0      0   \n",
       "4      50000    1          2         1   57     -1      0     -1      0   \n",
       "\n",
       "   PAY_5  ...  BILL_AMT4  BILL_AMT5  BILL_AMT6  PAY_AMT1  PAY_AMT2  PAY_AMT3  \\\n",
       "0     -2  ...          0          0          0         0       689         0   \n",
       "1      0  ...       3272       3455       3261         0      1000      1000   \n",
       "2      0  ...      14331      14948      15549      1518      1500      1000   \n",
       "3      0  ...      28314      28959      29547      2000      2019      1200   \n",
       "4      0  ...      20940      19146      19131      2000     36681     10000   \n",
       "\n",
       "   PAY_AMT4  PAY_AMT5  PAY_AMT6  default payment next month  \n",
       "0         0         0         0                           1  \n",
       "1      1000         0      2000                           1  \n",
       "2      1000      1000      5000                           0  \n",
       "3      1100      1069      1000                           0  \n",
       "4      9000       689       679                           0  \n",
       "\n",
       "[5 rows x 24 columns]"
      ]
     },
     "execution_count": 13,
     "metadata": {},
     "output_type": "execute_result"
    }
   ],
   "source": [
    "df = pd.read_excel('credit_card.xls', header=1, sheet_name='Data').iloc[0:,1:]\n",
    "print(df.shape)\n",
    "df.head()"
   ]
  },
  {
   "cell_type": "code",
   "execution_count": 14,
   "metadata": {},
   "outputs": [],
   "source": [
    "df.rename(columns={'PAY_0':'PAY_1','default payment next month':'default'}, inplace=True)\n",
    "y_target = df['default']\n",
    "X_features=df.drop('default', axis=1)"
   ]
  },
  {
   "cell_type": "code",
   "execution_count": 15,
   "metadata": {},
   "outputs": [
    {
     "data": {
      "text/html": [
       "<div>\n",
       "<style scoped>\n",
       "    .dataframe tbody tr th:only-of-type {\n",
       "        vertical-align: middle;\n",
       "    }\n",
       "\n",
       "    .dataframe tbody tr th {\n",
       "        vertical-align: top;\n",
       "    }\n",
       "\n",
       "    .dataframe thead th {\n",
       "        text-align: right;\n",
       "    }\n",
       "</style>\n",
       "<table border=\"1\" class=\"dataframe\">\n",
       "  <thead>\n",
       "    <tr style=\"text-align: right;\">\n",
       "      <th></th>\n",
       "      <th>LIMIT_BAL</th>\n",
       "      <th>SEX</th>\n",
       "      <th>EDUCATION</th>\n",
       "      <th>MARRIAGE</th>\n",
       "      <th>AGE</th>\n",
       "      <th>PAY_1</th>\n",
       "      <th>PAY_2</th>\n",
       "      <th>PAY_3</th>\n",
       "      <th>PAY_4</th>\n",
       "      <th>PAY_5</th>\n",
       "      <th>...</th>\n",
       "      <th>BILL_AMT3</th>\n",
       "      <th>BILL_AMT4</th>\n",
       "      <th>BILL_AMT5</th>\n",
       "      <th>BILL_AMT6</th>\n",
       "      <th>PAY_AMT1</th>\n",
       "      <th>PAY_AMT2</th>\n",
       "      <th>PAY_AMT3</th>\n",
       "      <th>PAY_AMT4</th>\n",
       "      <th>PAY_AMT5</th>\n",
       "      <th>PAY_AMT6</th>\n",
       "    </tr>\n",
       "  </thead>\n",
       "  <tbody>\n",
       "    <tr>\n",
       "      <th>LIMIT_BAL</th>\n",
       "      <td>1.000000</td>\n",
       "      <td>0.024755</td>\n",
       "      <td>-0.219161</td>\n",
       "      <td>-0.108139</td>\n",
       "      <td>0.144713</td>\n",
       "      <td>-0.271214</td>\n",
       "      <td>-0.296382</td>\n",
       "      <td>-0.286123</td>\n",
       "      <td>-0.267460</td>\n",
       "      <td>-0.249411</td>\n",
       "      <td>...</td>\n",
       "      <td>0.283236</td>\n",
       "      <td>0.293988</td>\n",
       "      <td>0.295562</td>\n",
       "      <td>0.290389</td>\n",
       "      <td>0.195236</td>\n",
       "      <td>0.178408</td>\n",
       "      <td>0.210167</td>\n",
       "      <td>0.203242</td>\n",
       "      <td>0.217202</td>\n",
       "      <td>0.219595</td>\n",
       "    </tr>\n",
       "    <tr>\n",
       "      <th>SEX</th>\n",
       "      <td>0.024755</td>\n",
       "      <td>1.000000</td>\n",
       "      <td>0.014232</td>\n",
       "      <td>-0.031389</td>\n",
       "      <td>-0.090874</td>\n",
       "      <td>-0.057643</td>\n",
       "      <td>-0.070771</td>\n",
       "      <td>-0.066096</td>\n",
       "      <td>-0.060173</td>\n",
       "      <td>-0.055064</td>\n",
       "      <td>...</td>\n",
       "      <td>-0.024563</td>\n",
       "      <td>-0.021880</td>\n",
       "      <td>-0.017005</td>\n",
       "      <td>-0.016733</td>\n",
       "      <td>-0.000242</td>\n",
       "      <td>-0.001391</td>\n",
       "      <td>-0.008597</td>\n",
       "      <td>-0.002229</td>\n",
       "      <td>-0.001667</td>\n",
       "      <td>-0.002766</td>\n",
       "    </tr>\n",
       "    <tr>\n",
       "      <th>EDUCATION</th>\n",
       "      <td>-0.219161</td>\n",
       "      <td>0.014232</td>\n",
       "      <td>1.000000</td>\n",
       "      <td>-0.143464</td>\n",
       "      <td>0.175061</td>\n",
       "      <td>0.105364</td>\n",
       "      <td>0.121566</td>\n",
       "      <td>0.114025</td>\n",
       "      <td>0.108793</td>\n",
       "      <td>0.097520</td>\n",
       "      <td>...</td>\n",
       "      <td>0.013002</td>\n",
       "      <td>-0.000451</td>\n",
       "      <td>-0.007567</td>\n",
       "      <td>-0.009099</td>\n",
       "      <td>-0.037456</td>\n",
       "      <td>-0.030038</td>\n",
       "      <td>-0.039943</td>\n",
       "      <td>-0.038218</td>\n",
       "      <td>-0.040358</td>\n",
       "      <td>-0.037200</td>\n",
       "    </tr>\n",
       "    <tr>\n",
       "      <th>MARRIAGE</th>\n",
       "      <td>-0.108139</td>\n",
       "      <td>-0.031389</td>\n",
       "      <td>-0.143464</td>\n",
       "      <td>1.000000</td>\n",
       "      <td>-0.414170</td>\n",
       "      <td>0.019917</td>\n",
       "      <td>0.024199</td>\n",
       "      <td>0.032688</td>\n",
       "      <td>0.033122</td>\n",
       "      <td>0.035629</td>\n",
       "      <td>...</td>\n",
       "      <td>-0.024909</td>\n",
       "      <td>-0.023344</td>\n",
       "      <td>-0.025393</td>\n",
       "      <td>-0.021207</td>\n",
       "      <td>-0.005979</td>\n",
       "      <td>-0.008093</td>\n",
       "      <td>-0.003541</td>\n",
       "      <td>-0.012659</td>\n",
       "      <td>-0.001205</td>\n",
       "      <td>-0.006641</td>\n",
       "    </tr>\n",
       "    <tr>\n",
       "      <th>AGE</th>\n",
       "      <td>0.144713</td>\n",
       "      <td>-0.090874</td>\n",
       "      <td>0.175061</td>\n",
       "      <td>-0.414170</td>\n",
       "      <td>1.000000</td>\n",
       "      <td>-0.039447</td>\n",
       "      <td>-0.050148</td>\n",
       "      <td>-0.053048</td>\n",
       "      <td>-0.049722</td>\n",
       "      <td>-0.053826</td>\n",
       "      <td>...</td>\n",
       "      <td>0.053710</td>\n",
       "      <td>0.051353</td>\n",
       "      <td>0.049345</td>\n",
       "      <td>0.047613</td>\n",
       "      <td>0.026147</td>\n",
       "      <td>0.021785</td>\n",
       "      <td>0.029247</td>\n",
       "      <td>0.021379</td>\n",
       "      <td>0.022850</td>\n",
       "      <td>0.019478</td>\n",
       "    </tr>\n",
       "    <tr>\n",
       "      <th>PAY_1</th>\n",
       "      <td>-0.271214</td>\n",
       "      <td>-0.057643</td>\n",
       "      <td>0.105364</td>\n",
       "      <td>0.019917</td>\n",
       "      <td>-0.039447</td>\n",
       "      <td>1.000000</td>\n",
       "      <td>0.672164</td>\n",
       "      <td>0.574245</td>\n",
       "      <td>0.538841</td>\n",
       "      <td>0.509426</td>\n",
       "      <td>...</td>\n",
       "      <td>0.179785</td>\n",
       "      <td>0.179125</td>\n",
       "      <td>0.180635</td>\n",
       "      <td>0.176980</td>\n",
       "      <td>-0.079269</td>\n",
       "      <td>-0.070101</td>\n",
       "      <td>-0.070561</td>\n",
       "      <td>-0.064005</td>\n",
       "      <td>-0.058190</td>\n",
       "      <td>-0.058673</td>\n",
       "    </tr>\n",
       "    <tr>\n",
       "      <th>PAY_2</th>\n",
       "      <td>-0.296382</td>\n",
       "      <td>-0.070771</td>\n",
       "      <td>0.121566</td>\n",
       "      <td>0.024199</td>\n",
       "      <td>-0.050148</td>\n",
       "      <td>0.672164</td>\n",
       "      <td>1.000000</td>\n",
       "      <td>0.766552</td>\n",
       "      <td>0.662067</td>\n",
       "      <td>0.622780</td>\n",
       "      <td>...</td>\n",
       "      <td>0.224146</td>\n",
       "      <td>0.222237</td>\n",
       "      <td>0.221348</td>\n",
       "      <td>0.219403</td>\n",
       "      <td>-0.080701</td>\n",
       "      <td>-0.058990</td>\n",
       "      <td>-0.055901</td>\n",
       "      <td>-0.046858</td>\n",
       "      <td>-0.037093</td>\n",
       "      <td>-0.036500</td>\n",
       "    </tr>\n",
       "    <tr>\n",
       "      <th>PAY_3</th>\n",
       "      <td>-0.286123</td>\n",
       "      <td>-0.066096</td>\n",
       "      <td>0.114025</td>\n",
       "      <td>0.032688</td>\n",
       "      <td>-0.053048</td>\n",
       "      <td>0.574245</td>\n",
       "      <td>0.766552</td>\n",
       "      <td>1.000000</td>\n",
       "      <td>0.777359</td>\n",
       "      <td>0.686775</td>\n",
       "      <td>...</td>\n",
       "      <td>0.227494</td>\n",
       "      <td>0.227202</td>\n",
       "      <td>0.225145</td>\n",
       "      <td>0.222327</td>\n",
       "      <td>0.001295</td>\n",
       "      <td>-0.066793</td>\n",
       "      <td>-0.053311</td>\n",
       "      <td>-0.046067</td>\n",
       "      <td>-0.035863</td>\n",
       "      <td>-0.035861</td>\n",
       "    </tr>\n",
       "    <tr>\n",
       "      <th>PAY_4</th>\n",
       "      <td>-0.267460</td>\n",
       "      <td>-0.060173</td>\n",
       "      <td>0.108793</td>\n",
       "      <td>0.033122</td>\n",
       "      <td>-0.049722</td>\n",
       "      <td>0.538841</td>\n",
       "      <td>0.662067</td>\n",
       "      <td>0.777359</td>\n",
       "      <td>1.000000</td>\n",
       "      <td>0.819835</td>\n",
       "      <td>...</td>\n",
       "      <td>0.244983</td>\n",
       "      <td>0.245917</td>\n",
       "      <td>0.242902</td>\n",
       "      <td>0.239154</td>\n",
       "      <td>-0.009362</td>\n",
       "      <td>-0.001944</td>\n",
       "      <td>-0.069235</td>\n",
       "      <td>-0.043461</td>\n",
       "      <td>-0.033590</td>\n",
       "      <td>-0.026565</td>\n",
       "    </tr>\n",
       "    <tr>\n",
       "      <th>PAY_5</th>\n",
       "      <td>-0.249411</td>\n",
       "      <td>-0.055064</td>\n",
       "      <td>0.097520</td>\n",
       "      <td>0.035629</td>\n",
       "      <td>-0.053826</td>\n",
       "      <td>0.509426</td>\n",
       "      <td>0.622780</td>\n",
       "      <td>0.686775</td>\n",
       "      <td>0.819835</td>\n",
       "      <td>1.000000</td>\n",
       "      <td>...</td>\n",
       "      <td>0.243335</td>\n",
       "      <td>0.271915</td>\n",
       "      <td>0.269783</td>\n",
       "      <td>0.262509</td>\n",
       "      <td>-0.006089</td>\n",
       "      <td>-0.003191</td>\n",
       "      <td>0.009062</td>\n",
       "      <td>-0.058299</td>\n",
       "      <td>-0.033337</td>\n",
       "      <td>-0.023027</td>\n",
       "    </tr>\n",
       "    <tr>\n",
       "      <th>PAY_6</th>\n",
       "      <td>-0.235195</td>\n",
       "      <td>-0.044008</td>\n",
       "      <td>0.082316</td>\n",
       "      <td>0.034345</td>\n",
       "      <td>-0.048773</td>\n",
       "      <td>0.474553</td>\n",
       "      <td>0.575501</td>\n",
       "      <td>0.632684</td>\n",
       "      <td>0.716449</td>\n",
       "      <td>0.816900</td>\n",
       "      <td>...</td>\n",
       "      <td>0.241181</td>\n",
       "      <td>0.266356</td>\n",
       "      <td>0.290894</td>\n",
       "      <td>0.285091</td>\n",
       "      <td>-0.001496</td>\n",
       "      <td>-0.005223</td>\n",
       "      <td>0.005834</td>\n",
       "      <td>0.019018</td>\n",
       "      <td>-0.046434</td>\n",
       "      <td>-0.025299</td>\n",
       "    </tr>\n",
       "    <tr>\n",
       "      <th>BILL_AMT1</th>\n",
       "      <td>0.285430</td>\n",
       "      <td>-0.033642</td>\n",
       "      <td>0.023581</td>\n",
       "      <td>-0.023472</td>\n",
       "      <td>0.056239</td>\n",
       "      <td>0.187068</td>\n",
       "      <td>0.234887</td>\n",
       "      <td>0.208473</td>\n",
       "      <td>0.202812</td>\n",
       "      <td>0.206684</td>\n",
       "      <td>...</td>\n",
       "      <td>0.892279</td>\n",
       "      <td>0.860272</td>\n",
       "      <td>0.829779</td>\n",
       "      <td>0.802650</td>\n",
       "      <td>0.140277</td>\n",
       "      <td>0.099355</td>\n",
       "      <td>0.156887</td>\n",
       "      <td>0.158303</td>\n",
       "      <td>0.167026</td>\n",
       "      <td>0.179341</td>\n",
       "    </tr>\n",
       "    <tr>\n",
       "      <th>BILL_AMT2</th>\n",
       "      <td>0.278314</td>\n",
       "      <td>-0.031183</td>\n",
       "      <td>0.018749</td>\n",
       "      <td>-0.021602</td>\n",
       "      <td>0.054283</td>\n",
       "      <td>0.189859</td>\n",
       "      <td>0.235257</td>\n",
       "      <td>0.237295</td>\n",
       "      <td>0.225816</td>\n",
       "      <td>0.226913</td>\n",
       "      <td>...</td>\n",
       "      <td>0.928326</td>\n",
       "      <td>0.892482</td>\n",
       "      <td>0.859778</td>\n",
       "      <td>0.831594</td>\n",
       "      <td>0.280365</td>\n",
       "      <td>0.100851</td>\n",
       "      <td>0.150718</td>\n",
       "      <td>0.147398</td>\n",
       "      <td>0.157957</td>\n",
       "      <td>0.174256</td>\n",
       "    </tr>\n",
       "    <tr>\n",
       "      <th>BILL_AMT3</th>\n",
       "      <td>0.283236</td>\n",
       "      <td>-0.024563</td>\n",
       "      <td>0.013002</td>\n",
       "      <td>-0.024909</td>\n",
       "      <td>0.053710</td>\n",
       "      <td>0.179785</td>\n",
       "      <td>0.224146</td>\n",
       "      <td>0.227494</td>\n",
       "      <td>0.244983</td>\n",
       "      <td>0.243335</td>\n",
       "      <td>...</td>\n",
       "      <td>1.000000</td>\n",
       "      <td>0.923969</td>\n",
       "      <td>0.883910</td>\n",
       "      <td>0.853320</td>\n",
       "      <td>0.244335</td>\n",
       "      <td>0.316936</td>\n",
       "      <td>0.130011</td>\n",
       "      <td>0.143405</td>\n",
       "      <td>0.179712</td>\n",
       "      <td>0.182326</td>\n",
       "    </tr>\n",
       "    <tr>\n",
       "      <th>BILL_AMT4</th>\n",
       "      <td>0.293988</td>\n",
       "      <td>-0.021880</td>\n",
       "      <td>-0.000451</td>\n",
       "      <td>-0.023344</td>\n",
       "      <td>0.051353</td>\n",
       "      <td>0.179125</td>\n",
       "      <td>0.222237</td>\n",
       "      <td>0.227202</td>\n",
       "      <td>0.245917</td>\n",
       "      <td>0.271915</td>\n",
       "      <td>...</td>\n",
       "      <td>0.923969</td>\n",
       "      <td>1.000000</td>\n",
       "      <td>0.940134</td>\n",
       "      <td>0.900941</td>\n",
       "      <td>0.233012</td>\n",
       "      <td>0.207564</td>\n",
       "      <td>0.300023</td>\n",
       "      <td>0.130191</td>\n",
       "      <td>0.160433</td>\n",
       "      <td>0.177637</td>\n",
       "    </tr>\n",
       "    <tr>\n",
       "      <th>BILL_AMT5</th>\n",
       "      <td>0.295562</td>\n",
       "      <td>-0.017005</td>\n",
       "      <td>-0.007567</td>\n",
       "      <td>-0.025393</td>\n",
       "      <td>0.049345</td>\n",
       "      <td>0.180635</td>\n",
       "      <td>0.221348</td>\n",
       "      <td>0.225145</td>\n",
       "      <td>0.242902</td>\n",
       "      <td>0.269783</td>\n",
       "      <td>...</td>\n",
       "      <td>0.883910</td>\n",
       "      <td>0.940134</td>\n",
       "      <td>1.000000</td>\n",
       "      <td>0.946197</td>\n",
       "      <td>0.217031</td>\n",
       "      <td>0.181246</td>\n",
       "      <td>0.252305</td>\n",
       "      <td>0.293118</td>\n",
       "      <td>0.141574</td>\n",
       "      <td>0.164184</td>\n",
       "    </tr>\n",
       "    <tr>\n",
       "      <th>BILL_AMT6</th>\n",
       "      <td>0.290389</td>\n",
       "      <td>-0.016733</td>\n",
       "      <td>-0.009099</td>\n",
       "      <td>-0.021207</td>\n",
       "      <td>0.047613</td>\n",
       "      <td>0.176980</td>\n",
       "      <td>0.219403</td>\n",
       "      <td>0.222327</td>\n",
       "      <td>0.239154</td>\n",
       "      <td>0.262509</td>\n",
       "      <td>...</td>\n",
       "      <td>0.853320</td>\n",
       "      <td>0.900941</td>\n",
       "      <td>0.946197</td>\n",
       "      <td>1.000000</td>\n",
       "      <td>0.199965</td>\n",
       "      <td>0.172663</td>\n",
       "      <td>0.233770</td>\n",
       "      <td>0.250237</td>\n",
       "      <td>0.307729</td>\n",
       "      <td>0.115494</td>\n",
       "    </tr>\n",
       "    <tr>\n",
       "      <th>PAY_AMT1</th>\n",
       "      <td>0.195236</td>\n",
       "      <td>-0.000242</td>\n",
       "      <td>-0.037456</td>\n",
       "      <td>-0.005979</td>\n",
       "      <td>0.026147</td>\n",
       "      <td>-0.079269</td>\n",
       "      <td>-0.080701</td>\n",
       "      <td>0.001295</td>\n",
       "      <td>-0.009362</td>\n",
       "      <td>-0.006089</td>\n",
       "      <td>...</td>\n",
       "      <td>0.244335</td>\n",
       "      <td>0.233012</td>\n",
       "      <td>0.217031</td>\n",
       "      <td>0.199965</td>\n",
       "      <td>1.000000</td>\n",
       "      <td>0.285576</td>\n",
       "      <td>0.252191</td>\n",
       "      <td>0.199558</td>\n",
       "      <td>0.148459</td>\n",
       "      <td>0.185735</td>\n",
       "    </tr>\n",
       "    <tr>\n",
       "      <th>PAY_AMT2</th>\n",
       "      <td>0.178408</td>\n",
       "      <td>-0.001391</td>\n",
       "      <td>-0.030038</td>\n",
       "      <td>-0.008093</td>\n",
       "      <td>0.021785</td>\n",
       "      <td>-0.070101</td>\n",
       "      <td>-0.058990</td>\n",
       "      <td>-0.066793</td>\n",
       "      <td>-0.001944</td>\n",
       "      <td>-0.003191</td>\n",
       "      <td>...</td>\n",
       "      <td>0.316936</td>\n",
       "      <td>0.207564</td>\n",
       "      <td>0.181246</td>\n",
       "      <td>0.172663</td>\n",
       "      <td>0.285576</td>\n",
       "      <td>1.000000</td>\n",
       "      <td>0.244770</td>\n",
       "      <td>0.180107</td>\n",
       "      <td>0.180908</td>\n",
       "      <td>0.157634</td>\n",
       "    </tr>\n",
       "    <tr>\n",
       "      <th>PAY_AMT3</th>\n",
       "      <td>0.210167</td>\n",
       "      <td>-0.008597</td>\n",
       "      <td>-0.039943</td>\n",
       "      <td>-0.003541</td>\n",
       "      <td>0.029247</td>\n",
       "      <td>-0.070561</td>\n",
       "      <td>-0.055901</td>\n",
       "      <td>-0.053311</td>\n",
       "      <td>-0.069235</td>\n",
       "      <td>0.009062</td>\n",
       "      <td>...</td>\n",
       "      <td>0.130011</td>\n",
       "      <td>0.300023</td>\n",
       "      <td>0.252305</td>\n",
       "      <td>0.233770</td>\n",
       "      <td>0.252191</td>\n",
       "      <td>0.244770</td>\n",
       "      <td>1.000000</td>\n",
       "      <td>0.216325</td>\n",
       "      <td>0.159214</td>\n",
       "      <td>0.162740</td>\n",
       "    </tr>\n",
       "    <tr>\n",
       "      <th>PAY_AMT4</th>\n",
       "      <td>0.203242</td>\n",
       "      <td>-0.002229</td>\n",
       "      <td>-0.038218</td>\n",
       "      <td>-0.012659</td>\n",
       "      <td>0.021379</td>\n",
       "      <td>-0.064005</td>\n",
       "      <td>-0.046858</td>\n",
       "      <td>-0.046067</td>\n",
       "      <td>-0.043461</td>\n",
       "      <td>-0.058299</td>\n",
       "      <td>...</td>\n",
       "      <td>0.143405</td>\n",
       "      <td>0.130191</td>\n",
       "      <td>0.293118</td>\n",
       "      <td>0.250237</td>\n",
       "      <td>0.199558</td>\n",
       "      <td>0.180107</td>\n",
       "      <td>0.216325</td>\n",
       "      <td>1.000000</td>\n",
       "      <td>0.151830</td>\n",
       "      <td>0.157834</td>\n",
       "    </tr>\n",
       "    <tr>\n",
       "      <th>PAY_AMT5</th>\n",
       "      <td>0.217202</td>\n",
       "      <td>-0.001667</td>\n",
       "      <td>-0.040358</td>\n",
       "      <td>-0.001205</td>\n",
       "      <td>0.022850</td>\n",
       "      <td>-0.058190</td>\n",
       "      <td>-0.037093</td>\n",
       "      <td>-0.035863</td>\n",
       "      <td>-0.033590</td>\n",
       "      <td>-0.033337</td>\n",
       "      <td>...</td>\n",
       "      <td>0.179712</td>\n",
       "      <td>0.160433</td>\n",
       "      <td>0.141574</td>\n",
       "      <td>0.307729</td>\n",
       "      <td>0.148459</td>\n",
       "      <td>0.180908</td>\n",
       "      <td>0.159214</td>\n",
       "      <td>0.151830</td>\n",
       "      <td>1.000000</td>\n",
       "      <td>0.154896</td>\n",
       "    </tr>\n",
       "    <tr>\n",
       "      <th>PAY_AMT6</th>\n",
       "      <td>0.219595</td>\n",
       "      <td>-0.002766</td>\n",
       "      <td>-0.037200</td>\n",
       "      <td>-0.006641</td>\n",
       "      <td>0.019478</td>\n",
       "      <td>-0.058673</td>\n",
       "      <td>-0.036500</td>\n",
       "      <td>-0.035861</td>\n",
       "      <td>-0.026565</td>\n",
       "      <td>-0.023027</td>\n",
       "      <td>...</td>\n",
       "      <td>0.182326</td>\n",
       "      <td>0.177637</td>\n",
       "      <td>0.164184</td>\n",
       "      <td>0.115494</td>\n",
       "      <td>0.185735</td>\n",
       "      <td>0.157634</td>\n",
       "      <td>0.162740</td>\n",
       "      <td>0.157834</td>\n",
       "      <td>0.154896</td>\n",
       "      <td>1.000000</td>\n",
       "    </tr>\n",
       "  </tbody>\n",
       "</table>\n",
       "<p>23 rows × 23 columns</p>\n",
       "</div>"
      ],
      "text/plain": [
       "           LIMIT_BAL       SEX  EDUCATION  MARRIAGE       AGE     PAY_1  \\\n",
       "LIMIT_BAL   1.000000  0.024755  -0.219161 -0.108139  0.144713 -0.271214   \n",
       "SEX         0.024755  1.000000   0.014232 -0.031389 -0.090874 -0.057643   \n",
       "EDUCATION  -0.219161  0.014232   1.000000 -0.143464  0.175061  0.105364   \n",
       "MARRIAGE   -0.108139 -0.031389  -0.143464  1.000000 -0.414170  0.019917   \n",
       "AGE         0.144713 -0.090874   0.175061 -0.414170  1.000000 -0.039447   \n",
       "PAY_1      -0.271214 -0.057643   0.105364  0.019917 -0.039447  1.000000   \n",
       "PAY_2      -0.296382 -0.070771   0.121566  0.024199 -0.050148  0.672164   \n",
       "PAY_3      -0.286123 -0.066096   0.114025  0.032688 -0.053048  0.574245   \n",
       "PAY_4      -0.267460 -0.060173   0.108793  0.033122 -0.049722  0.538841   \n",
       "PAY_5      -0.249411 -0.055064   0.097520  0.035629 -0.053826  0.509426   \n",
       "PAY_6      -0.235195 -0.044008   0.082316  0.034345 -0.048773  0.474553   \n",
       "BILL_AMT1   0.285430 -0.033642   0.023581 -0.023472  0.056239  0.187068   \n",
       "BILL_AMT2   0.278314 -0.031183   0.018749 -0.021602  0.054283  0.189859   \n",
       "BILL_AMT3   0.283236 -0.024563   0.013002 -0.024909  0.053710  0.179785   \n",
       "BILL_AMT4   0.293988 -0.021880  -0.000451 -0.023344  0.051353  0.179125   \n",
       "BILL_AMT5   0.295562 -0.017005  -0.007567 -0.025393  0.049345  0.180635   \n",
       "BILL_AMT6   0.290389 -0.016733  -0.009099 -0.021207  0.047613  0.176980   \n",
       "PAY_AMT1    0.195236 -0.000242  -0.037456 -0.005979  0.026147 -0.079269   \n",
       "PAY_AMT2    0.178408 -0.001391  -0.030038 -0.008093  0.021785 -0.070101   \n",
       "PAY_AMT3    0.210167 -0.008597  -0.039943 -0.003541  0.029247 -0.070561   \n",
       "PAY_AMT4    0.203242 -0.002229  -0.038218 -0.012659  0.021379 -0.064005   \n",
       "PAY_AMT5    0.217202 -0.001667  -0.040358 -0.001205  0.022850 -0.058190   \n",
       "PAY_AMT6    0.219595 -0.002766  -0.037200 -0.006641  0.019478 -0.058673   \n",
       "\n",
       "              PAY_2     PAY_3     PAY_4     PAY_5  ...  BILL_AMT3  BILL_AMT4  \\\n",
       "LIMIT_BAL -0.296382 -0.286123 -0.267460 -0.249411  ...   0.283236   0.293988   \n",
       "SEX       -0.070771 -0.066096 -0.060173 -0.055064  ...  -0.024563  -0.021880   \n",
       "EDUCATION  0.121566  0.114025  0.108793  0.097520  ...   0.013002  -0.000451   \n",
       "MARRIAGE   0.024199  0.032688  0.033122  0.035629  ...  -0.024909  -0.023344   \n",
       "AGE       -0.050148 -0.053048 -0.049722 -0.053826  ...   0.053710   0.051353   \n",
       "PAY_1      0.672164  0.574245  0.538841  0.509426  ...   0.179785   0.179125   \n",
       "PAY_2      1.000000  0.766552  0.662067  0.622780  ...   0.224146   0.222237   \n",
       "PAY_3      0.766552  1.000000  0.777359  0.686775  ...   0.227494   0.227202   \n",
       "PAY_4      0.662067  0.777359  1.000000  0.819835  ...   0.244983   0.245917   \n",
       "PAY_5      0.622780  0.686775  0.819835  1.000000  ...   0.243335   0.271915   \n",
       "PAY_6      0.575501  0.632684  0.716449  0.816900  ...   0.241181   0.266356   \n",
       "BILL_AMT1  0.234887  0.208473  0.202812  0.206684  ...   0.892279   0.860272   \n",
       "BILL_AMT2  0.235257  0.237295  0.225816  0.226913  ...   0.928326   0.892482   \n",
       "BILL_AMT3  0.224146  0.227494  0.244983  0.243335  ...   1.000000   0.923969   \n",
       "BILL_AMT4  0.222237  0.227202  0.245917  0.271915  ...   0.923969   1.000000   \n",
       "BILL_AMT5  0.221348  0.225145  0.242902  0.269783  ...   0.883910   0.940134   \n",
       "BILL_AMT6  0.219403  0.222327  0.239154  0.262509  ...   0.853320   0.900941   \n",
       "PAY_AMT1  -0.080701  0.001295 -0.009362 -0.006089  ...   0.244335   0.233012   \n",
       "PAY_AMT2  -0.058990 -0.066793 -0.001944 -0.003191  ...   0.316936   0.207564   \n",
       "PAY_AMT3  -0.055901 -0.053311 -0.069235  0.009062  ...   0.130011   0.300023   \n",
       "PAY_AMT4  -0.046858 -0.046067 -0.043461 -0.058299  ...   0.143405   0.130191   \n",
       "PAY_AMT5  -0.037093 -0.035863 -0.033590 -0.033337  ...   0.179712   0.160433   \n",
       "PAY_AMT6  -0.036500 -0.035861 -0.026565 -0.023027  ...   0.182326   0.177637   \n",
       "\n",
       "           BILL_AMT5  BILL_AMT6  PAY_AMT1  PAY_AMT2  PAY_AMT3  PAY_AMT4  \\\n",
       "LIMIT_BAL   0.295562   0.290389  0.195236  0.178408  0.210167  0.203242   \n",
       "SEX        -0.017005  -0.016733 -0.000242 -0.001391 -0.008597 -0.002229   \n",
       "EDUCATION  -0.007567  -0.009099 -0.037456 -0.030038 -0.039943 -0.038218   \n",
       "MARRIAGE   -0.025393  -0.021207 -0.005979 -0.008093 -0.003541 -0.012659   \n",
       "AGE         0.049345   0.047613  0.026147  0.021785  0.029247  0.021379   \n",
       "PAY_1       0.180635   0.176980 -0.079269 -0.070101 -0.070561 -0.064005   \n",
       "PAY_2       0.221348   0.219403 -0.080701 -0.058990 -0.055901 -0.046858   \n",
       "PAY_3       0.225145   0.222327  0.001295 -0.066793 -0.053311 -0.046067   \n",
       "PAY_4       0.242902   0.239154 -0.009362 -0.001944 -0.069235 -0.043461   \n",
       "PAY_5       0.269783   0.262509 -0.006089 -0.003191  0.009062 -0.058299   \n",
       "PAY_6       0.290894   0.285091 -0.001496 -0.005223  0.005834  0.019018   \n",
       "BILL_AMT1   0.829779   0.802650  0.140277  0.099355  0.156887  0.158303   \n",
       "BILL_AMT2   0.859778   0.831594  0.280365  0.100851  0.150718  0.147398   \n",
       "BILL_AMT3   0.883910   0.853320  0.244335  0.316936  0.130011  0.143405   \n",
       "BILL_AMT4   0.940134   0.900941  0.233012  0.207564  0.300023  0.130191   \n",
       "BILL_AMT5   1.000000   0.946197  0.217031  0.181246  0.252305  0.293118   \n",
       "BILL_AMT6   0.946197   1.000000  0.199965  0.172663  0.233770  0.250237   \n",
       "PAY_AMT1    0.217031   0.199965  1.000000  0.285576  0.252191  0.199558   \n",
       "PAY_AMT2    0.181246   0.172663  0.285576  1.000000  0.244770  0.180107   \n",
       "PAY_AMT3    0.252305   0.233770  0.252191  0.244770  1.000000  0.216325   \n",
       "PAY_AMT4    0.293118   0.250237  0.199558  0.180107  0.216325  1.000000   \n",
       "PAY_AMT5    0.141574   0.307729  0.148459  0.180908  0.159214  0.151830   \n",
       "PAY_AMT6    0.164184   0.115494  0.185735  0.157634  0.162740  0.157834   \n",
       "\n",
       "           PAY_AMT5  PAY_AMT6  \n",
       "LIMIT_BAL  0.217202  0.219595  \n",
       "SEX       -0.001667 -0.002766  \n",
       "EDUCATION -0.040358 -0.037200  \n",
       "MARRIAGE  -0.001205 -0.006641  \n",
       "AGE        0.022850  0.019478  \n",
       "PAY_1     -0.058190 -0.058673  \n",
       "PAY_2     -0.037093 -0.036500  \n",
       "PAY_3     -0.035863 -0.035861  \n",
       "PAY_4     -0.033590 -0.026565  \n",
       "PAY_5     -0.033337 -0.023027  \n",
       "PAY_6     -0.046434 -0.025299  \n",
       "BILL_AMT1  0.167026  0.179341  \n",
       "BILL_AMT2  0.157957  0.174256  \n",
       "BILL_AMT3  0.179712  0.182326  \n",
       "BILL_AMT4  0.160433  0.177637  \n",
       "BILL_AMT5  0.141574  0.164184  \n",
       "BILL_AMT6  0.307729  0.115494  \n",
       "PAY_AMT1   0.148459  0.185735  \n",
       "PAY_AMT2   0.180908  0.157634  \n",
       "PAY_AMT3   0.159214  0.162740  \n",
       "PAY_AMT4   0.151830  0.157834  \n",
       "PAY_AMT5   1.000000  0.154896  \n",
       "PAY_AMT6   0.154896  1.000000  \n",
       "\n",
       "[23 rows x 23 columns]"
      ]
     },
     "execution_count": 15,
     "metadata": {},
     "output_type": "execute_result"
    }
   ],
   "source": [
    "corr = X_features.corr()\n",
    "corr"
   ]
  },
  {
   "cell_type": "code",
   "execution_count": 16,
   "metadata": {},
   "outputs": [
    {
     "data": {
      "image/png": "[encoded data removed]",
      "text/plain": [
       "<Figure size 1008x1008 with 2 Axes>"
      ]
     },
     "metadata": {
      "needs_background": "light"
     },
     "output_type": "display_data"
    }
   ],
   "source": [
    "plt.figure(figsize=(14,14))\n",
    "sns.heatmap(corr, annot=True, fmt='.1g')\n",
    "plt.show()"
   ]
  },
  {
   "cell_type": "code",
   "execution_count": 17,
   "metadata": {},
   "outputs": [
    {
     "name": "stdout",
     "output_type": "stream",
     "text": [
      "대상 속성명: ['BILL_AMT1', 'BILL_AMT2', 'BILL_AMT3', 'BILL_AMT4', 'BILL_AMT5', 'BILL_AMT6']\n"
     ]
    }
   ],
   "source": [
    "cols_bill = ['BILL_AMT'+str(i) for i in range(1,7)]\n",
    "print('대상 속성명:',cols_bill)"
   ]
  },
  {
   "cell_type": "code",
   "execution_count": 18,
   "metadata": {},
   "outputs": [
    {
     "name": "stdout",
     "output_type": "stream",
     "text": [
      "PCA Component별 변동성: [0.90555253 0.0509867 ]\n"
     ]
    }
   ],
   "source": [
    "scaler = StandardScaler()\n",
    "df_cols_scaled = scaler.fit_transform(X_features[cols_bill])\n",
    "X_features.loc[:, cols_bill] = df_cols_scaled\n",
    "pca = PCA(n_components=2)\n",
    "pca.fit(df_cols_scaled)\n",
    "print('PCA Component별 변동성:', pca.explained_variance_ratio_)"
   ]
  },
  {
   "cell_type": "code",
   "execution_count": 19,
   "metadata": {},
   "outputs": [
    {
     "name": "stdout",
     "output_type": "stream",
     "text": [
      "cv=3인 경우의 개별 fold 세트별 정확도: [0.8083 0.8196 0.8232]\n",
      "평균 정확도:0.8170\n"
     ]
    }
   ],
   "source": [
    "rcf = RandomForestClassifier(n_estimators=300, random_state=156)\n",
    "scores = cross_val_score(rcf, X_features, y_target, scoring='accuracy', cv=3)\n",
    "\n",
    "print('cv=3인 경우의 개별 fold 세트별 정확도:',scores)\n",
    "print('평균 정확도:{0:.4f}'.format(np.mean(scores)))"
   ]
  },
  {
   "cell_type": "code",
   "execution_count": 20,
   "metadata": {},
   "outputs": [
    {
     "name": "stdout",
     "output_type": "stream",
     "text": [
      "cv=3인 경우의 개별 fold 세트별 정확도: [0.7907 0.7961 0.8025]\n",
      "평균 정확도:0.7964\n"
     ]
    }
   ],
   "source": [
    "scaler = StandardScaler()\n",
    "df_scaled = scaler.fit_transform(X_features)\n",
    "\n",
    "pca = PCA(n_components=6)\n",
    "df_pca = pca.fit_transform(df_scaled)\n",
    "scores_pca = cross_val_score(rcf, df_pca, y_target, scoring='accuracy', cv=3)\n",
    "\n",
    "print('cv=3인 경우의 개별 fold 세트별 정확도:',scores_pca)\n",
    "print('평균 정확도:{0:.4f}'.format(np.mean(scores_pca)))"
   ]
  },
  {
   "cell_type": "markdown",
   "metadata": {},
   "source": [
    "# LDA 실습"
   ]
  },
  {
   "cell_type": "markdown",
   "metadata": {},
   "source": [
    "## iris data"
   ]
  },
  {
   "cell_type": "code",
   "execution_count": 1,
   "metadata": {},
   "outputs": [],
   "source": [
    "from sklearn.discriminant_analysis import LinearDiscriminantAnalysis\n",
    "from sklearn.preprocessing import StandardScaler\n",
    "from sklearn.datasets import load_iris\n",
    "\n",
    "iris = load_iris()\n",
    "iris_scaled = StandardScaler().fit_transform(iris.data)\n",
    "\n",
    "lda = LinearDiscriminantAnalysis(n_components=2)\n",
    "lda.fit(iris_scaled, iris.target)\n",
    "iris_lda = lda.transform(iris_scaled)"
   ]
  },
  {
   "cell_type": "code",
   "execution_count": 2,
   "metadata": {},
   "outputs": [
    {
     "data": {
      "text/html": [
       "<div>\n",
       "<style scoped>\n",
       "    .dataframe tbody tr th:only-of-type {\n",
       "        vertical-align: middle;\n",
       "    }\n",
       "\n",
       "    .dataframe tbody tr th {\n",
       "        vertical-align: top;\n",
       "    }\n",
       "\n",
       "    .dataframe thead th {\n",
       "        text-align: right;\n",
       "    }\n",
       "</style>\n",
       "<table border=\"1\" class=\"dataframe\">\n",
       "  <thead>\n",
       "    <tr style=\"text-align: right;\">\n",
       "      <th></th>\n",
       "      <th>lda_component_1</th>\n",
       "      <th>lda_component_2</th>\n",
       "      <th>target</th>\n",
       "    </tr>\n",
       "  </thead>\n",
       "  <tbody>\n",
       "    <tr>\n",
       "      <th>0</th>\n",
       "      <td>8.061800</td>\n",
       "      <td>0.300421</td>\n",
       "      <td>0</td>\n",
       "    </tr>\n",
       "    <tr>\n",
       "      <th>1</th>\n",
       "      <td>7.128688</td>\n",
       "      <td>-0.786660</td>\n",
       "      <td>0</td>\n",
       "    </tr>\n",
       "    <tr>\n",
       "      <th>2</th>\n",
       "      <td>7.489828</td>\n",
       "      <td>-0.265384</td>\n",
       "      <td>0</td>\n",
       "    </tr>\n",
       "    <tr>\n",
       "      <th>3</th>\n",
       "      <td>6.813201</td>\n",
       "      <td>-0.670631</td>\n",
       "      <td>0</td>\n",
       "    </tr>\n",
       "    <tr>\n",
       "      <th>4</th>\n",
       "      <td>8.132309</td>\n",
       "      <td>0.514463</td>\n",
       "      <td>0</td>\n",
       "    </tr>\n",
       "    <tr>\n",
       "      <th>...</th>\n",
       "      <td>...</td>\n",
       "      <td>...</td>\n",
       "      <td>...</td>\n",
       "    </tr>\n",
       "    <tr>\n",
       "      <th>145</th>\n",
       "      <td>-5.645003</td>\n",
       "      <td>1.677717</td>\n",
       "      <td>2</td>\n",
       "    </tr>\n",
       "    <tr>\n",
       "      <th>146</th>\n",
       "      <td>-5.179565</td>\n",
       "      <td>-0.363475</td>\n",
       "      <td>2</td>\n",
       "    </tr>\n",
       "    <tr>\n",
       "      <th>147</th>\n",
       "      <td>-4.967741</td>\n",
       "      <td>0.821141</td>\n",
       "      <td>2</td>\n",
       "    </tr>\n",
       "    <tr>\n",
       "      <th>148</th>\n",
       "      <td>-5.886145</td>\n",
       "      <td>2.345091</td>\n",
       "      <td>2</td>\n",
       "    </tr>\n",
       "    <tr>\n",
       "      <th>149</th>\n",
       "      <td>-4.683154</td>\n",
       "      <td>0.332034</td>\n",
       "      <td>2</td>\n",
       "    </tr>\n",
       "  </tbody>\n",
       "</table>\n",
       "<p>150 rows × 3 columns</p>\n",
       "</div>"
      ],
      "text/plain": [
       "     lda_component_1  lda_component_2  target\n",
       "0           8.061800         0.300421       0\n",
       "1           7.128688        -0.786660       0\n",
       "2           7.489828        -0.265384       0\n",
       "3           6.813201        -0.670631       0\n",
       "4           8.132309         0.514463       0\n",
       "..               ...              ...     ...\n",
       "145        -5.645003         1.677717       2\n",
       "146        -5.179565        -0.363475       2\n",
       "147        -4.967741         0.821141       2\n",
       "148        -5.886145         2.345091       2\n",
       "149        -4.683154         0.332034       2\n",
       "\n",
       "[150 rows x 3 columns]"
      ]
     },
     "execution_count": 2,
     "metadata": {},
     "output_type": "execute_result"
    }
   ],
   "source": [
    "import pandas as pd\n",
    "import matplotlib.pyplot as plt\n",
    "%matplotlib inline\n",
    "\n",
    "lda_columns = ['lda_component_1','lda_component_2']\n",
    "irisDF_lda = pd.DataFrame(iris_lda, columns = lda_columns)\n",
    "irisDF_lda['target'] = iris.target\n",
    "irisDF_lda"
   ]
  },
  {
   "cell_type": "code",
   "execution_count": 3,
   "metadata": {},
   "outputs": [
    {
     "data": {
      "image/png": "[encoded data removed]",
      "text/plain": [
       "<Figure size 432x288 with 1 Axes>"
      ]
     },
     "metadata": {
      "needs_background": "light"
     },
     "output_type": "display_data"
    }
   ],
   "source": [
    "markers = ['^','s','o']\n",
    "for i , marker in enumerate(markers):\n",
    "    x_axis_data = irisDF_lda[irisDF_lda['target']==i]['lda_component_1']\n",
    "    y_axis_data = irisDF_lda[irisDF_lda['target']==i]['lda_component_2']\n",
    "    \n",
    "    plt.scatter(x_axis_data, y_axis_data, marker=marker, label=iris.target_names[i])\n",
    "    \n",
    "plt.legend(loc='upper right'); plt.xlabel('lda_component_1'); plt.ylabel('lda_component_2')\n",
    "plt.show()"
   ]
  },
  {
   "cell_type": "markdown",
   "metadata": {},
   "source": [
    "# SVD 실습"
   ]
  },
  {
   "cell_type": "code",
   "execution_count": 4,
   "metadata": {},
   "outputs": [
    {
     "name": "stdout",
     "output_type": "stream",
     "text": [
      "[[-0.212 -0.285 -0.574 -0.44 ]\n",
      " [-0.33   1.184  1.615  0.367]\n",
      " [-0.014  0.63   1.71  -1.327]\n",
      " [ 0.402 -0.191  1.404 -1.969]]\n"
     ]
    }
   ],
   "source": [
    "import numpy as np\n",
    "from numpy.linalg import svd\n",
    "\n",
    "np.random.seed(121)\n",
    "a = np.random.randn(4,4)\n",
    "print(np.round(a,3))"
   ]
  },
  {
   "cell_type": "code",
   "execution_count": 5,
   "metadata": {},
   "outputs": [
    {
     "name": "stdout",
     "output_type": "stream",
     "text": [
      "(4, 4) (4,) (4, 4)\n",
      "U matrix:\n",
      " [[-0.079 -0.318  0.867  0.376]\n",
      " [ 0.383  0.787  0.12   0.469]\n",
      " [ 0.656  0.022  0.357 -0.664]\n",
      " [ 0.645 -0.529 -0.328  0.444]]\n",
      "Sigma Value:\n",
      " [3.423 2.023 0.463 0.079]\n",
      "Vt matrix:\n",
      " [[ 0.041  0.224  0.786 -0.574]\n",
      " [-0.2    0.562  0.37   0.712]\n",
      " [-0.778  0.395 -0.333 -0.357]\n",
      " [-0.593 -0.692  0.366  0.189]]\n"
     ]
    }
   ],
   "source": [
    "U,Sigma,Vt = svd(a)\n",
    "\n",
    "print(U.shape, Sigma.shape, Vt.shape)\n",
    "print('U matrix:\\n', np.round(U,3))\n",
    "print('Sigma Value:\\n', np.round(Sigma,3))\n",
    "print('Vt matrix:\\n', np.round(Vt,3))"
   ]
  },
  {
   "cell_type": "code",
   "execution_count": 6,
   "metadata": {},
   "outputs": [
    {
     "name": "stdout",
     "output_type": "stream",
     "text": [
      "[[-0.212 -0.285 -0.574 -0.44 ]\n",
      " [-0.33   1.184  1.615  0.367]\n",
      " [-0.014  0.63   1.71  -1.327]\n",
      " [ 0.402 -0.191  1.404 -1.969]]\n"
     ]
    }
   ],
   "source": [
    "# 원본행렬로 복원\n",
    "Sigma_mat = np.diag(Sigma)\n",
    "a_ = np.dot(np.dot(U, Sigma_mat),Vt)\n",
    "print(np.round(a_,3))"
   ]
  },
  {
   "cell_type": "code",
   "execution_count": 7,
   "metadata": {},
   "outputs": [
    {
     "name": "stdout",
     "output_type": "stream",
     "text": [
      "[[-0.212 -0.285 -0.574 -0.44 ]\n",
      " [-0.33   1.184  1.615  0.367]\n",
      " [-0.542  0.899  1.041 -0.073]\n",
      " [-0.212 -0.285 -0.574 -0.44 ]]\n"
     ]
    }
   ],
   "source": [
    "# 로우간 의존성이 있는 경우\n",
    "a[2]=a[0]+a[1]\n",
    "a[3]=a[0]\n",
    "print(np.round(a,3))"
   ]
  },
  {
   "cell_type": "code",
   "execution_count": 8,
   "metadata": {},
   "outputs": [
    {
     "name": "stdout",
     "output_type": "stream",
     "text": [
      "(4, 4) (4,) (4, 4)\n",
      "Sigma Value:\n",
      " [2.663 0.807 0.    0.   ]\n"
     ]
    }
   ],
   "source": [
    "U,Sigma,Vt = svd(a)\n",
    "print(U.shape, Sigma.shape, Vt.shape)\n",
    "print('Sigma Value:\\n',np.round(Sigma,3))"
   ]
  },
  {
   "cell_type": "code",
   "execution_count": 9,
   "metadata": {},
   "outputs": [
    {
     "name": "stdout",
     "output_type": "stream",
     "text": [
      "(4, 2) (2, 2) (2, 4)\n",
      "[[-0.212 -0.285 -0.574 -0.44 ]\n",
      " [-0.33   1.184  1.615  0.367]\n",
      " [-0.542  0.899  1.041 -0.073]\n",
      " [-0.212 -0.285 -0.574 -0.44 ]]\n"
     ]
    }
   ],
   "source": [
    "# 원본 행렬로 복원\n",
    "\n",
    "U_ = U[:,:2]\n",
    "Sigma_ = np.diag(Sigma[:2])\n",
    "Vt_ = Vt[:2]\n",
    "\n",
    "print(U_.shape, Sigma_.shape, Vt_.shape)\n",
    "\n",
    "a_ = np.dot(U_,np.dot(Sigma_,Vt_))\n",
    "print(np.round(a,3))"
   ]
  },
  {
   "cell_type": "code",
   "execution_count": 10,
   "metadata": {},
   "outputs": [
    {
     "name": "stdout",
     "output_type": "stream",
     "text": [
      "원본 행렬:\n",
      " [[0.24575605 0.22573721 0.03827786 0.58098021 0.82925331 0.77326256]\n",
      " [0.94693849 0.73632338 0.67328275 0.74517176 0.51161442 0.46920965]\n",
      " [0.6439515  0.82081228 0.14548493 0.01806415 0.38009078 0.42034243]\n",
      " [0.78146479 0.85605231 0.71129867 0.05546416 0.59424128 0.65574127]\n",
      " [0.07337714 0.0726814  0.01782185 0.2450048  0.49606654 0.38797335]\n",
      " [0.06239287 0.86778144 0.41956915 0.46921129 0.99127066 0.99148226]]\n",
      "\n",
      "분해 행렬 차원: (6, 6) (6,) (6, 6) \n",
      "Sigma값 행렬: [3.21882118 1.11468965 0.67781872 0.40698332 0.29562045 0.0512155 ]\n",
      "\n",
      "Truncated SVD 분해 행렬 차원: (6, 4) (4,) (4, 6) \n",
      "Truncated SVD Sigma값 행렬: [0.40698332 0.67781872 1.11468965 3.21882118]\n",
      "\n",
      "Truncated SVD로 분해 후 복원 행렬:\n",
      " [[ 0.22885832  0.26939164  0.01412926  0.60854956  0.82994662  0.73958918]\n",
      " [ 0.96669771  0.68550887  0.70327118  0.70989465  0.52829438  0.49134034]\n",
      " [ 0.67620905  0.73789961  0.19477048 -0.04009715  0.41060347  0.45323547]\n",
      " [ 0.72867813  0.99172521  0.63059897  0.15072376  0.54382806  0.60238982]\n",
      " [ 0.05190992  0.12742535 -0.01824581  0.28938528  0.44310308  0.39828194]\n",
      " [ 0.09040119  0.79581618  0.46255416  0.41837856  1.01968001  1.01815322]]\n"
     ]
    }
   ],
   "source": [
    "import numpy as np\n",
    "from scipy.sparse.linalg import svds\n",
    "from scipy.linalg import svd\n",
    "\n",
    "# 원본 행렬을 출력하고, SVD를 적용할 경우 U, Sigma, Vt의 차원 확인\n",
    "matrix = np.random.random((6,6))\n",
    "print('원본 행렬:\\n',matrix)\n",
    "U, Sigma, Vt = svd(matrix, full_matrices=False)\n",
    "print('\\n분해 행렬 차원:', U.shape, Sigma.shape, Vt.shape, '\\nSigma값 행렬:', Sigma)\n",
    "\n",
    "# Truncated SVD로 Sigma 행렬의 특이값을 4개로 하여 Truncated SVD 수행\n",
    "num_components = 4\n",
    "U_tr, Sigma_tr, Vt_tr = svds(matrix, k=num_components)\n",
    "print('\\nTruncated SVD 분해 행렬 차원:',U_tr.shape, Sigma_tr.shape, Vt_tr.shape, '\\nTruncated SVD Sigma값 행렬:', Sigma_tr)\n",
    "\n",
    "matrix_tr = np.dot(np.dot(U_tr,np.diag(Sigma_tr)),Vt_tr)\n",
    "print('\\nTruncated SVD로 분해 후 복원 행렬:\\n', matrix_tr)"
   ]
  },
  {
   "cell_type": "code",
   "execution_count": 11,
   "metadata": {},
   "outputs": [],
   "source": [
    "from sklearn.decomposition import TruncatedSVD, PCA\n",
    "from sklearn.datasets import load_iris\n",
    "import matplotlib.pyplot as plt\n",
    "%matplotlib inline\n",
    "\n",
    "iris=load_iris()\n",
    "iris_ftrs = iris.data\n",
    "\n",
    "# 2개의 주요 컴포넌트로 TruncatedSVD 변환\n",
    "tsvd = TruncatedSVD(n_components=2)\n",
    "tsvd.fit(iris_ftrs)\n",
    "iris_tsvd = tsvd.transform(iris_ftrs)"
   ]
  },
  {
   "cell_type": "code",
   "execution_count": 12,
   "metadata": {},
   "outputs": [
    {
     "data": {
      "text/plain": [
       "Text(0, 0.5, 'TruncatedSVD Component2')"
      ]
     },
     "execution_count": 12,
     "metadata": {},
     "output_type": "execute_result"
    },
    {
     "data": {
      "image/png": "[encoded data removed]",
      "text/plain": [
       "<Figure size 432x288 with 1 Axes>"
      ]
     },
     "metadata": {
      "needs_background": "light"
     },
     "output_type": "display_data"
    }
   ],
   "source": [
    "plt.scatter(x=iris_tsvd[:,0], y=iris_tsvd[:,1], c=iris.target)\n",
    "plt.xlabel('TruncatedSVD Component1')\n",
    "plt.ylabel('TruncatedSVD Component2')"
   ]
  },
  {
   "cell_type": "code",
   "execution_count": 13,
   "metadata": {},
   "outputs": [
    {
     "data": {
      "text/plain": [
       "Text(0.5, 1.0, 'PCA Transformed')"
      ]
     },
     "execution_count": 13,
     "metadata": {},
     "output_type": "execute_result"
    },
    {
     "data": {
      "image/png": "[encoded data removed]",
      "text/plain": [
       "<Figure size 648x288 with 2 Axes>"
      ]
     },
     "metadata": {
      "needs_background": "light"
     },
     "output_type": "display_data"
    }
   ],
   "source": [
    "# 붓꽃 데이터를 스케일링으로 변환한 뒤에 TruncatedSVD와 PCA 클래스 변환을 해 보자\n",
    "\n",
    "from sklearn.preprocessing import StandardScaler\n",
    "\n",
    "scaler = StandardScaler()\n",
    "iris_scaled = scaler.fit_transform(iris_ftrs)\n",
    "\n",
    "tsvd = TruncatedSVD(n_components=2)\n",
    "tsvd.fit(iris_scaled)\n",
    "iris_tsvd = tsvd.transform(iris_scaled)\n",
    "\n",
    "pca=PCA(n_components=2)\n",
    "pca.fit(iris_scaled)\n",
    "iris_pca = pca.transform(iris_scaled)\n",
    "\n",
    "fig, (ax1,ax2) = plt.subplots(figsize=(9,4), ncols=2)\n",
    "ax1.scatter(x=iris_tsvd[:,0], y=iris_tsvd[:,1], c=iris.target)\n",
    "ax2.scatter(x=iris_pca[:,0], y=iris_pca[:,1], c=iris.target)\n",
    "\n",
    "ax1.set_title('Truncated SVD Transformed')\n",
    "ax2.set_title('PCA Transformed')"
   ]
  },
  {
   "cell_type": "markdown",
   "metadata": {},
   "source": [
    "# NMF 실습"
   ]
  },
  {
   "cell_type": "code",
   "execution_count": 15,
   "metadata": {},
   "outputs": [
    {
     "data": {
      "text/plain": [
       "Text(0, 0.5, 'NMF Component2')"
      ]
     },
     "execution_count": 15,
     "metadata": {},
     "output_type": "execute_result"
    },
    {
     "data": {
      "image/png": "[encoded data removed]",
      "text/plain": [
       "<Figure size 432x288 with 1 Axes>"
      ]
     },
     "metadata": {
      "needs_background": "light"
     },
     "output_type": "display_data"
    }
   ],
   "source": [
    "from sklearn.decomposition import NMF\n",
    "from sklearn.datasets import load_iris\n",
    "import matplotlib.pyplot as plt\n",
    "%matplotlib inline\n",
    "\n",
    "iris=load_iris()\n",
    "iris_ftrs = iris.data\n",
    "nmf = NMF(n_components=2, max_iter=1000 )\n",
    "nmf.fit(iris_ftrs)\n",
    "iris_nmf = nmf.transform(iris_ftrs)\n",
    "\n",
    "plt.scatter(x=iris_nmf[:,0], y=iris_nmf[:,1], c=iris.target)\n",
    "plt.xlabel('NMF Component1')\n",
    "plt.ylabel('NMF Component2')"
   ]
  },
  {
   "cell_type": "code",
   "execution_count": null,
   "metadata": {},
   "outputs": [],
   "source": []
  }
 ],
 "metadata": {
  "kernelspec": {
   "display_name": "Python 3",
   "language": "python",
   "name": "python3"
  },
  "language_info": {
   "codemirror_mode": {
    "name": "ipython",
    "version": 3
   },
   "file_extension": ".py",
   "mimetype": "text/x-python",
   "name": "python",
   "nbconvert_exporter": "python",
   "pygments_lexer": "ipython3",
   "version": "3.8.5"
  }
 },
 "nbformat": 4,
 "nbformat_minor": 4
}
