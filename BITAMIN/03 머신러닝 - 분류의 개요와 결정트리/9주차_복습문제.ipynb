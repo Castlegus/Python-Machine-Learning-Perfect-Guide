{
 "cells": [
  {
   "cell_type": "markdown",
   "metadata": {},
   "source": [
    "# 1. 결정 트리 알고리즘 및 지니 계수"
   ]
  },
  {
   "cell_type": "markdown",
   "metadata": {},
   "source": [
    "## 1-1. ㄱ)과 ㄴ)에 들어갈 말을 쓰시오.\n",
    "결정 트리 알고리즘은 균일도를 기반으로 하는 알고리즘으로 쉽고 직관적이라는 장점이 있습니다. \n",
    "하지만 균일도가 다양할수록 트리는 복잡해지고, model이 train data에 너무 잘 맞는 (ㄱ) 문제가 발생합니다.\n",
    "따라서 (ㄴ)을 조정하여 (ㄱ) 문제를 해결 할 수 있습니다.\n"
   ]
  },
  {
   "cell_type": "markdown",
   "metadata": {},
   "source": [
    "답: (ㄱ) 과대적합 (ㄴ) 하이퍼파라미터"
   ]
  },
  {
   "cell_type": "markdown",
   "metadata": {},
   "source": [
    "## 1-2 N1과 N2의 지니 계수를 바탕으로 N의 지니 계수를 계산하시오. (code없이 계산기로 계산하셔도 됩니다.)\n",
    "참고. parent 노드에서 N1과 N2 노드로 나누어지는 구조입니다.\n",
    " \n",
    "        Parent |\tN1\t |  N2\n",
    "    C1     4   |\t3\t  |  1\n",
    "    C2     6   |\t2\t  |  4\n"
   ]
  },
  {
   "cell_type": "code",
   "execution_count": 1,
   "metadata": {},
   "outputs": [
    {
     "data": {
      "text/plain": [
       "0.48"
      ]
     },
     "execution_count": 1,
     "metadata": {},
     "output_type": "execute_result"
    }
   ],
   "source": [
    "Gini_n1 = 1-(3/5)**2-(2/5)**2\n",
    "Gini_n1"
   ]
  },
  {
   "cell_type": "code",
   "execution_count": 2,
   "metadata": {},
   "outputs": [
    {
     "data": {
      "text/plain": [
       "0.31999999999999984"
      ]
     },
     "execution_count": 2,
     "metadata": {},
     "output_type": "execute_result"
    }
   ],
   "source": [
    "Gini_n2 = 1-(1/5)**2-(4/5)**2\n",
    "Gini_n2"
   ]
  },
  {
   "cell_type": "code",
   "execution_count": 3,
   "metadata": {},
   "outputs": [
    {
     "data": {
      "text/plain": [
       "0.3999999999999999"
      ]
     },
     "execution_count": 3,
     "metadata": {},
     "output_type": "execute_result"
    }
   ],
   "source": [
    "Gini = 5/10 * Gini_n1 + 5/10 * Gini_n2\n",
    "Gini"
   ]
  },
  {
   "cell_type": "markdown",
   "metadata": {},
   "source": [
    "# 2. 엔트로피 복습문제"
   ]
  },
  {
   "cell_type": "markdown",
   "metadata": {},
   "source": [
    "## 2-1. 다음 빈칸의 답을 각주로 달아주세요.\n",
    "\n",
    "엔트로피란 ( ㉠ )를 정량화하여 표현한 값이다. \n",
    "어떤 집합의 엔트로피가 높을 수록 그 집단의 특징을 찾는 것이 어렵다. \n",
    "결정 트리의 리프 노드들은 엔트로피가 최소가 되는 방향으로 분류하는 것이 최적의 분류이다. \n",
    "( ㉡ )는 1-엔트로피로 나타내며 ( ㉡ )를 최대화하는 순서로 속성을 배치해야 한다."
   ]
  },
  {
   "cell_type": "markdown",
   "metadata": {},
   "source": [
    "답 : ㉠ 불순도 ㉡ 정보이득지수"
   ]
  },
  {
   "cell_type": "markdown",
   "metadata": {},
   "source": [
    "## 2-2. 파이썬을 사용해서 엔트로피를 직접 계산해보겠습니다. 다음은 엔트로피를 계산하는 함수입니다."
   ]
  },
  {
   "cell_type": "markdown",
   "metadata": {},
   "source": [
    "from IPython.display import Image\n",
    "![title](9주차_복습문제_그림.png) # markdown안에서 나오게 할 때"
   ]
  },
  {
   "cell_type": "code",
   "execution_count": 4,
   "metadata": {},
   "outputs": [],
   "source": [
    "import numpy as np\n",
    "\n",
    "def Entropy(p):\n",
    "    id_p = np.where(p!=0)\n",
    "    return -np.sum(p[id_p]*np.log(p[id_p]))"
   ]
  },
  {
   "cell_type": "markdown",
   "metadata": {},
   "source": [
    "### 2-2-1. 분할 전 엔트로피를 계산해서 소수점 넷째 자리에서 반올림해주세요. 확률을 np.array로 정의하여 함수 안에 넣어주시면 됩니다."
   ]
  },
  {
   "cell_type": "code",
   "execution_count": null,
   "metadata": {},
   "outputs": [],
   "source": []
  },
  {
   "cell_type": "markdown",
   "metadata": {},
   "source": [
    "### 2-2-2. 분할 후 엔트로피를 계산해서 서 소수점 넷째 자리에서 반올림해주세요."
   ]
  },
  {
   "cell_type": "code",
   "execution_count": null,
   "metadata": {},
   "outputs": [],
   "source": []
  },
  {
   "cell_type": "markdown",
   "metadata": {},
   "source": [
    "### 2-2-3. 도출한 결과를 바탕으로 결과를 해석해주세요."
   ]
  },
  {
   "cell_type": "code",
   "execution_count": null,
   "metadata": {},
   "outputs": [],
   "source": []
  },
  {
   "cell_type": "markdown",
   "metadata": {
    "id": "hvTGI473zwlU"
   },
   "source": [
    "# 3.breast-cancer 데이터 셋을 활용해서 다음 지시사항에 따라 문제를 풀어주세요."
   ]
  },
  {
   "cell_type": "markdown",
   "metadata": {
    "id": "7FvC6lCvzzLm"
   },
   "source": [
    "## 3-1. 데이터 셋을 활용해서 DecisionTreeClassifier로 학습해주세요!\n",
    "\n"
   ]
  },
  {
   "cell_type": "markdown",
   "metadata": {
    "id": "_1TEw4iP2vA_"
   },
   "source": [
    "* class열을 label로 나머지 열을 feature로 사용하시면 됩니다!"
   ]
  },
  {
   "cell_type": "markdown",
   "metadata": {
    "id": "YJz5mtCK2vlM"
   },
   "source": [
    "* test_size=0.3, random_state=본인 나이로 지정해주세요!"
   ]
  },
  {
   "cell_type": "code",
   "execution_count": 5,
   "metadata": {
    "id": "cYvaciXqzcjm"
   },
   "outputs": [],
   "source": [
    "from sklearn.tree import DecisionTreeClassifier\n",
    "from sklearn.model_selection import train_test_split\n",
    "import pandas as pd\n",
    "import numpy as np\n",
    "uci_path='http://archive.ics.uci.edu/ml/machine-learning-databases/breast-cancer-wisconsin/breast-cancer-wisconsin.data'\n",
    "df=pd.read_csv(uci_path,header=None)\n",
    "df.columns=['id','clump','cell_size','cell_shape','adhesion','epithlial','bare_nuclei','chromatin','normal_nucleoli','mitoses','class']\n",
    "pd.set_option('display.max_columns',15) #최대 열 개수 조정\n",
    "df['bare_nuclei'].replace('?',np.nan,inplace=True)\n",
    "df.dropna(subset=['bare_nuclei'],axis=0,inplace=True) #bare_nuclei 열 누락 데이터 삭제\n",
    "df['bare_nuclei']=df['bare_nuclei'].astype('int') #bare_nuclei 열 정수형 전환"
   ]
  },
  {
   "cell_type": "code",
   "execution_count": 6,
   "metadata": {
    "colab": {
     "base_uri": "https://localhost:8080/"
    },
    "id": "zlysxSkPzhDp",
    "outputId": "7eb7f04f-6521-4baf-bb62-3e06b08a2471"
   },
   "outputs": [
    {
     "data": {
      "text/html": [
       "<div>\n",
       "<style scoped>\n",
       "    .dataframe tbody tr th:only-of-type {\n",
       "        vertical-align: middle;\n",
       "    }\n",
       "\n",
       "    .dataframe tbody tr th {\n",
       "        vertical-align: top;\n",
       "    }\n",
       "\n",
       "    .dataframe thead th {\n",
       "        text-align: right;\n",
       "    }\n",
       "</style>\n",
       "<table border=\"1\" class=\"dataframe\">\n",
       "  <thead>\n",
       "    <tr style=\"text-align: right;\">\n",
       "      <th></th>\n",
       "      <th>id</th>\n",
       "      <th>clump</th>\n",
       "      <th>cell_size</th>\n",
       "      <th>cell_shape</th>\n",
       "      <th>adhesion</th>\n",
       "      <th>epithlial</th>\n",
       "      <th>bare_nuclei</th>\n",
       "      <th>chromatin</th>\n",
       "      <th>normal_nucleoli</th>\n",
       "      <th>mitoses</th>\n",
       "      <th>class</th>\n",
       "    </tr>\n",
       "  </thead>\n",
       "  <tbody>\n",
       "    <tr>\n",
       "      <th>0</th>\n",
       "      <td>1000025</td>\n",
       "      <td>5</td>\n",
       "      <td>1</td>\n",
       "      <td>1</td>\n",
       "      <td>1</td>\n",
       "      <td>2</td>\n",
       "      <td>1</td>\n",
       "      <td>3</td>\n",
       "      <td>1</td>\n",
       "      <td>1</td>\n",
       "      <td>2</td>\n",
       "    </tr>\n",
       "    <tr>\n",
       "      <th>1</th>\n",
       "      <td>1002945</td>\n",
       "      <td>5</td>\n",
       "      <td>4</td>\n",
       "      <td>4</td>\n",
       "      <td>5</td>\n",
       "      <td>7</td>\n",
       "      <td>10</td>\n",
       "      <td>3</td>\n",
       "      <td>2</td>\n",
       "      <td>1</td>\n",
       "      <td>2</td>\n",
       "    </tr>\n",
       "    <tr>\n",
       "      <th>2</th>\n",
       "      <td>1015425</td>\n",
       "      <td>3</td>\n",
       "      <td>1</td>\n",
       "      <td>1</td>\n",
       "      <td>1</td>\n",
       "      <td>2</td>\n",
       "      <td>2</td>\n",
       "      <td>3</td>\n",
       "      <td>1</td>\n",
       "      <td>1</td>\n",
       "      <td>2</td>\n",
       "    </tr>\n",
       "    <tr>\n",
       "      <th>3</th>\n",
       "      <td>1016277</td>\n",
       "      <td>6</td>\n",
       "      <td>8</td>\n",
       "      <td>8</td>\n",
       "      <td>1</td>\n",
       "      <td>3</td>\n",
       "      <td>4</td>\n",
       "      <td>3</td>\n",
       "      <td>7</td>\n",
       "      <td>1</td>\n",
       "      <td>2</td>\n",
       "    </tr>\n",
       "    <tr>\n",
       "      <th>4</th>\n",
       "      <td>1017023</td>\n",
       "      <td>4</td>\n",
       "      <td>1</td>\n",
       "      <td>1</td>\n",
       "      <td>3</td>\n",
       "      <td>2</td>\n",
       "      <td>1</td>\n",
       "      <td>3</td>\n",
       "      <td>1</td>\n",
       "      <td>1</td>\n",
       "      <td>2</td>\n",
       "    </tr>\n",
       "    <tr>\n",
       "      <th>...</th>\n",
       "      <td>...</td>\n",
       "      <td>...</td>\n",
       "      <td>...</td>\n",
       "      <td>...</td>\n",
       "      <td>...</td>\n",
       "      <td>...</td>\n",
       "      <td>...</td>\n",
       "      <td>...</td>\n",
       "      <td>...</td>\n",
       "      <td>...</td>\n",
       "      <td>...</td>\n",
       "    </tr>\n",
       "    <tr>\n",
       "      <th>694</th>\n",
       "      <td>776715</td>\n",
       "      <td>3</td>\n",
       "      <td>1</td>\n",
       "      <td>1</td>\n",
       "      <td>1</td>\n",
       "      <td>3</td>\n",
       "      <td>2</td>\n",
       "      <td>1</td>\n",
       "      <td>1</td>\n",
       "      <td>1</td>\n",
       "      <td>2</td>\n",
       "    </tr>\n",
       "    <tr>\n",
       "      <th>695</th>\n",
       "      <td>841769</td>\n",
       "      <td>2</td>\n",
       "      <td>1</td>\n",
       "      <td>1</td>\n",
       "      <td>1</td>\n",
       "      <td>2</td>\n",
       "      <td>1</td>\n",
       "      <td>1</td>\n",
       "      <td>1</td>\n",
       "      <td>1</td>\n",
       "      <td>2</td>\n",
       "    </tr>\n",
       "    <tr>\n",
       "      <th>696</th>\n",
       "      <td>888820</td>\n",
       "      <td>5</td>\n",
       "      <td>10</td>\n",
       "      <td>10</td>\n",
       "      <td>3</td>\n",
       "      <td>7</td>\n",
       "      <td>3</td>\n",
       "      <td>8</td>\n",
       "      <td>10</td>\n",
       "      <td>2</td>\n",
       "      <td>4</td>\n",
       "    </tr>\n",
       "    <tr>\n",
       "      <th>697</th>\n",
       "      <td>897471</td>\n",
       "      <td>4</td>\n",
       "      <td>8</td>\n",
       "      <td>6</td>\n",
       "      <td>4</td>\n",
       "      <td>3</td>\n",
       "      <td>4</td>\n",
       "      <td>10</td>\n",
       "      <td>6</td>\n",
       "      <td>1</td>\n",
       "      <td>4</td>\n",
       "    </tr>\n",
       "    <tr>\n",
       "      <th>698</th>\n",
       "      <td>897471</td>\n",
       "      <td>4</td>\n",
       "      <td>8</td>\n",
       "      <td>8</td>\n",
       "      <td>5</td>\n",
       "      <td>4</td>\n",
       "      <td>5</td>\n",
       "      <td>10</td>\n",
       "      <td>4</td>\n",
       "      <td>1</td>\n",
       "      <td>4</td>\n",
       "    </tr>\n",
       "  </tbody>\n",
       "</table>\n",
       "<p>683 rows × 11 columns</p>\n",
       "</div>"
      ],
      "text/plain": [
       "          id  clump  cell_size  cell_shape  adhesion  epithlial  bare_nuclei  \\\n",
       "0    1000025      5          1           1         1          2            1   \n",
       "1    1002945      5          4           4         5          7           10   \n",
       "2    1015425      3          1           1         1          2            2   \n",
       "3    1016277      6          8           8         1          3            4   \n",
       "4    1017023      4          1           1         3          2            1   \n",
       "..       ...    ...        ...         ...       ...        ...          ...   \n",
       "694   776715      3          1           1         1          3            2   \n",
       "695   841769      2          1           1         1          2            1   \n",
       "696   888820      5         10          10         3          7            3   \n",
       "697   897471      4          8           6         4          3            4   \n",
       "698   897471      4          8           8         5          4            5   \n",
       "\n",
       "     chromatin  normal_nucleoli  mitoses  class  \n",
       "0            3                1        1      2  \n",
       "1            3                2        1      2  \n",
       "2            3                1        1      2  \n",
       "3            3                7        1      2  \n",
       "4            3                1        1      2  \n",
       "..         ...              ...      ...    ...  \n",
       "694          1                1        1      2  \n",
       "695          1                1        1      2  \n",
       "696          8               10        2      4  \n",
       "697         10                6        1      4  \n",
       "698         10                4        1      4  \n",
       "\n",
       "[683 rows x 11 columns]"
      ]
     },
     "execution_count": 6,
     "metadata": {},
     "output_type": "execute_result"
    }
   ],
   "source": [
    "df"
   ]
  },
  {
   "cell_type": "code",
   "execution_count": 7,
   "metadata": {},
   "outputs": [],
   "source": [
    "df_label = df['class']\n",
    "df_features = df.drop('class',axis=1)"
   ]
  },
  {
   "cell_type": "code",
   "execution_count": 8,
   "metadata": {},
   "outputs": [
    {
     "data": {
      "text/plain": [
       "Index(['id', 'clump', 'cell_size', 'cell_shape', 'adhesion', 'epithlial',\n",
       "       'bare_nuclei', 'chromatin', 'normal_nucleoli', 'mitoses'],\n",
       "      dtype='object')"
      ]
     },
     "execution_count": 8,
     "metadata": {},
     "output_type": "execute_result"
    }
   ],
   "source": [
    "df_features.columns"
   ]
  },
  {
   "cell_type": "code",
   "execution_count": 9,
   "metadata": {},
   "outputs": [
    {
     "data": {
      "text/plain": [
       "2    444\n",
       "4    239\n",
       "Name: class, dtype: int64"
      ]
     },
     "execution_count": 9,
     "metadata": {},
     "output_type": "execute_result"
    }
   ],
   "source": [
    "df_label.value_counts()"
   ]
  },
  {
   "cell_type": "code",
   "execution_count": 10,
   "metadata": {},
   "outputs": [
    {
     "data": {
      "text/plain": [
       "DecisionTreeClassifier(random_state=26)"
      ]
     },
     "execution_count": 10,
     "metadata": {},
     "output_type": "execute_result"
    }
   ],
   "source": [
    "X_train, X_test, y_train, y_test = train_test_split(df_features,df_label,test_size=0.3,random_state=26)\n",
    "dt_clf = DecisionTreeClassifier(random_state=26)\n",
    "dt_clf.fit(X_train, y_train)"
   ]
  },
  {
   "cell_type": "markdown",
   "metadata": {
    "id": "u6IKzxcAz9pq"
   },
   "source": [
    "## 3-2. 학습한 모델을 graphviz모듈로 시각화 해주세요.\n",
    "\n"
   ]
  },
  {
   "cell_type": "markdown",
   "metadata": {
    "id": "KFsq7Q5J2gub"
   },
   "source": [
    "* 하이퍼 파라미터는 제어하지 말아주세요!"
   ]
  },
  {
   "cell_type": "markdown",
   "metadata": {
    "id": "1qmD3pQ22WN-"
   },
   "source": [
    "* class_names=['2','4']로 지정해 주세요!\n"
   ]
  },
  {
   "cell_type": "markdown",
   "metadata": {
    "id": "8k4biaYy25R5"
   },
   "source": [
    "* impurity와 filled 속성은 True로 지정해주세요!"
   ]
  },
  {
   "cell_type": "markdown",
   "metadata": {
    "id": "NLozQ_H-2WLQ"
   },
   "source": [
    "* 결정 트리 시각화 결과 모형에 어떤 문제점이 있는지 간단히 서술해주세요!"
   ]
  },
  {
   "cell_type": "code",
   "execution_count": 11,
   "metadata": {
    "colab": {
     "base_uri": "https://localhost:8080/",
     "height": 1000
    },
    "id": "63xy0sb5zhGc",
    "outputId": "2e6ff8d0-9aef-41b0-afcb-718f683a0d78"
   },
   "outputs": [
    {
     "data": {
      "image/svg+xml": [
       "<?xml version=\"1.0\" encoding=\"UTF-8\" standalone=\"no\"?>\r\n",
       "<!DOCTYPE svg PUBLIC \"-//W3C//DTD SVG 1.1//EN\"\r\n",
       " \"http://www.w3.org/Graphics/SVG/1.1/DTD/svg11.dtd\">\r\n",
       "<!-- Generated by graphviz version 2.38.0 (20140413.2041)\r\n",
       " -->\r\n",
       "<!-- Title: Tree Pages: 1 -->\r\n",
       "<svg width=\"1777pt\" height=\"790pt\"\r\n",
       " viewBox=\"0.00 0.00 1777.00 790.00\" xmlns=\"http://www.w3.org/2000/svg\" xmlns:xlink=\"http://www.w3.org/1999/xlink\">\r\n",
       "<g id=\"graph0\" class=\"graph\" transform=\"scale(1 1) rotate(0) translate(4 786)\">\r\n",
       "<title>Tree</title>\r\n",
       "<polygon fill=\"white\" stroke=\"none\" points=\"-4,4 -4,-786 1773,-786 1773,4 -4,4\"/>\r\n",
       "<!-- 0 -->\r\n",
       "<g id=\"node1\" class=\"node\"><title>0</title>\r\n",
       "<polygon fill=\"#f3c6a5\" stroke=\"black\" points=\"796,-782 678,-782 678,-699 796,-699 796,-782\"/>\r\n",
       "<text text-anchor=\"middle\" x=\"737\" y=\"-766.8\" font-family=\"Times New Roman,serif\" font-size=\"14.00\">cell_size &lt;= 3.5</text>\r\n",
       "<text text-anchor=\"middle\" x=\"737\" y=\"-751.8\" font-family=\"Times New Roman,serif\" font-size=\"14.00\">gini = 0.457</text>\r\n",
       "<text text-anchor=\"middle\" x=\"737\" y=\"-736.8\" font-family=\"Times New Roman,serif\" font-size=\"14.00\">samples = 478</text>\r\n",
       "<text text-anchor=\"middle\" x=\"737\" y=\"-721.8\" font-family=\"Times New Roman,serif\" font-size=\"14.00\">value = [309, 169]</text>\r\n",
       "<text text-anchor=\"middle\" x=\"737\" y=\"-706.8\" font-family=\"Times New Roman,serif\" font-size=\"14.00\">class = 2</text>\r\n",
       "</g>\r\n",
       "<!-- 1 -->\r\n",
       "<g id=\"node2\" class=\"node\"><title>1</title>\r\n",
       "<polygon fill=\"#e78c49\" stroke=\"black\" points=\"514,-663 392,-663 392,-580 514,-580 514,-663\"/>\r\n",
       "<text text-anchor=\"middle\" x=\"453\" y=\"-647.8\" font-family=\"Times New Roman,serif\" font-size=\"14.00\">bare_nuclei &lt;= 3.5</text>\r\n",
       "<text text-anchor=\"middle\" x=\"453\" y=\"-632.8\" font-family=\"Times New Roman,serif\" font-size=\"14.00\">gini = 0.142</text>\r\n",
       "<text text-anchor=\"middle\" x=\"453\" y=\"-617.8\" font-family=\"Times New Roman,serif\" font-size=\"14.00\">samples = 325</text>\r\n",
       "<text text-anchor=\"middle\" x=\"453\" y=\"-602.8\" font-family=\"Times New Roman,serif\" font-size=\"14.00\">value = [300, 25]</text>\r\n",
       "<text text-anchor=\"middle\" x=\"453\" y=\"-587.8\" font-family=\"Times New Roman,serif\" font-size=\"14.00\">class = 2</text>\r\n",
       "</g>\r\n",
       "<!-- 0&#45;&gt;1 -->\r\n",
       "<g id=\"edge1\" class=\"edge\"><title>0&#45;&gt;1</title>\r\n",
       "<path fill=\"none\" stroke=\"black\" d=\"M677.81,-715.115C632.851,-696.594 570.869,-671.059 523.371,-651.491\"/>\r\n",
       "<polygon fill=\"black\" stroke=\"black\" points=\"524.654,-648.234 514.074,-647.661 521.987,-654.706 524.654,-648.234\"/>\r\n",
       "<text text-anchor=\"middle\" x=\"523.686\" y=\"-667.04\" font-family=\"Times New Roman,serif\" font-size=\"14.00\">True</text>\r\n",
       "</g>\r\n",
       "<!-- 18 -->\r\n",
       "<g id=\"node19\" class=\"node\"><title>18</title>\r\n",
       "<polygon fill=\"#45a3e7\" stroke=\"black\" points=\"1089.5,-663 984.5,-663 984.5,-580 1089.5,-580 1089.5,-663\"/>\r\n",
       "<text text-anchor=\"middle\" x=\"1037\" y=\"-647.8\" font-family=\"Times New Roman,serif\" font-size=\"14.00\">cell_size &lt;= 4.5</text>\r\n",
       "<text text-anchor=\"middle\" x=\"1037\" y=\"-632.8\" font-family=\"Times New Roman,serif\" font-size=\"14.00\">gini = 0.111</text>\r\n",
       "<text text-anchor=\"middle\" x=\"1037\" y=\"-617.8\" font-family=\"Times New Roman,serif\" font-size=\"14.00\">samples = 153</text>\r\n",
       "<text text-anchor=\"middle\" x=\"1037\" y=\"-602.8\" font-family=\"Times New Roman,serif\" font-size=\"14.00\">value = [9, 144]</text>\r\n",
       "<text text-anchor=\"middle\" x=\"1037\" y=\"-587.8\" font-family=\"Times New Roman,serif\" font-size=\"14.00\">class = 4</text>\r\n",
       "</g>\r\n",
       "<!-- 0&#45;&gt;18 -->\r\n",
       "<g id=\"edge18\" class=\"edge\"><title>0&#45;&gt;18</title>\r\n",
       "<path fill=\"none\" stroke=\"black\" d=\"M796.27,-716.385C847.873,-696.26 922.422,-667.186 974.854,-646.737\"/>\r\n",
       "<polygon fill=\"black\" stroke=\"black\" points=\"976.332,-649.917 984.377,-643.023 973.788,-643.396 976.332,-649.917\"/>\r\n",
       "<text text-anchor=\"middle\" x=\"974.33\" y=\"-662.216\" font-family=\"Times New Roman,serif\" font-size=\"14.00\">False</text>\r\n",
       "</g>\r\n",
       "<!-- 2 -->\r\n",
       "<g id=\"node3\" class=\"node\"><title>2</title>\r\n",
       "<polygon fill=\"#e5823b\" stroke=\"black\" points=\"253,-544 107,-544 107,-461 253,-461 253,-544\"/>\r\n",
       "<text text-anchor=\"middle\" x=\"180\" y=\"-528.8\" font-family=\"Times New Roman,serif\" font-size=\"14.00\">normal_nucleoli &lt;= 2.5</text>\r\n",
       "<text text-anchor=\"middle\" x=\"180\" y=\"-513.8\" font-family=\"Times New Roman,serif\" font-size=\"14.00\">gini = 0.02</text>\r\n",
       "<text text-anchor=\"middle\" x=\"180\" y=\"-498.8\" font-family=\"Times New Roman,serif\" font-size=\"14.00\">samples = 292</text>\r\n",
       "<text text-anchor=\"middle\" x=\"180\" y=\"-483.8\" font-family=\"Times New Roman,serif\" font-size=\"14.00\">value = [289, 3]</text>\r\n",
       "<text text-anchor=\"middle\" x=\"180\" y=\"-468.8\" font-family=\"Times New Roman,serif\" font-size=\"14.00\">class = 2</text>\r\n",
       "</g>\r\n",
       "<!-- 1&#45;&gt;2 -->\r\n",
       "<g id=\"edge2\" class=\"edge\"><title>1&#45;&gt;2</title>\r\n",
       "<path fill=\"none\" stroke=\"black\" d=\"M391.733,-594.243C353.588,-577.895 304.042,-556.661 262.47,-538.844\"/>\r\n",
       "<polygon fill=\"black\" stroke=\"black\" points=\"263.753,-535.586 253.183,-534.864 260.996,-542.02 263.753,-535.586\"/>\r\n",
       "</g>\r\n",
       "<!-- 7 -->\r\n",
       "<g id=\"node8\" class=\"node\"><title>7</title>\r\n",
       "<polygon fill=\"#9ccef2\" stroke=\"black\" points=\"509.5,-544 396.5,-544 396.5,-461 509.5,-461 509.5,-544\"/>\r\n",
       "<text text-anchor=\"middle\" x=\"453\" y=\"-528.8\" font-family=\"Times New Roman,serif\" font-size=\"14.00\">chromatin &lt;= 1.5</text>\r\n",
       "<text text-anchor=\"middle\" x=\"453\" y=\"-513.8\" font-family=\"Times New Roman,serif\" font-size=\"14.00\">gini = 0.444</text>\r\n",
       "<text text-anchor=\"middle\" x=\"453\" y=\"-498.8\" font-family=\"Times New Roman,serif\" font-size=\"14.00\">samples = 33</text>\r\n",
       "<text text-anchor=\"middle\" x=\"453\" y=\"-483.8\" font-family=\"Times New Roman,serif\" font-size=\"14.00\">value = [11, 22]</text>\r\n",
       "<text text-anchor=\"middle\" x=\"453\" y=\"-468.8\" font-family=\"Times New Roman,serif\" font-size=\"14.00\">class = 4</text>\r\n",
       "</g>\r\n",
       "<!-- 1&#45;&gt;7 -->\r\n",
       "<g id=\"edge7\" class=\"edge\"><title>1&#45;&gt;7</title>\r\n",
       "<path fill=\"none\" stroke=\"black\" d=\"M453,-579.907C453,-571.649 453,-562.864 453,-554.302\"/>\r\n",
       "<polygon fill=\"black\" stroke=\"black\" points=\"456.5,-554.021 453,-544.021 449.5,-554.021 456.5,-554.021\"/>\r\n",
       "</g>\r\n",
       "<!-- 3 -->\r\n",
       "<g id=\"node4\" class=\"node\"><title>3</title>\r\n",
       "<polygon fill=\"#e58139\" stroke=\"black\" points=\"104,-417.5 0,-417.5 0,-349.5 104,-349.5 104,-417.5\"/>\r\n",
       "<text text-anchor=\"middle\" x=\"52\" y=\"-402.3\" font-family=\"Times New Roman,serif\" font-size=\"14.00\">gini = 0.0</text>\r\n",
       "<text text-anchor=\"middle\" x=\"52\" y=\"-387.3\" font-family=\"Times New Roman,serif\" font-size=\"14.00\">samples = 280</text>\r\n",
       "<text text-anchor=\"middle\" x=\"52\" y=\"-372.3\" font-family=\"Times New Roman,serif\" font-size=\"14.00\">value = [280, 0]</text>\r\n",
       "<text text-anchor=\"middle\" x=\"52\" y=\"-357.3\" font-family=\"Times New Roman,serif\" font-size=\"14.00\">class = 2</text>\r\n",
       "</g>\r\n",
       "<!-- 2&#45;&gt;3 -->\r\n",
       "<g id=\"edge3\" class=\"edge\"><title>2&#45;&gt;3</title>\r\n",
       "<path fill=\"none\" stroke=\"black\" d=\"M135.591,-460.907C122.674,-449.101 108.579,-436.217 95.7055,-424.45\"/>\r\n",
       "<polygon fill=\"black\" stroke=\"black\" points=\"98.0277,-421.83 88.2852,-417.667 93.3049,-426.997 98.0277,-421.83\"/>\r\n",
       "</g>\r\n",
       "<!-- 4 -->\r\n",
       "<g id=\"node5\" class=\"node\"><title>4</title>\r\n",
       "<polygon fill=\"#eeab7b\" stroke=\"black\" points=\"238,-425 122,-425 122,-342 238,-342 238,-425\"/>\r\n",
       "<text text-anchor=\"middle\" x=\"180\" y=\"-409.8\" font-family=\"Times New Roman,serif\" font-size=\"14.00\">cell_shape &lt;= 2.5</text>\r\n",
       "<text text-anchor=\"middle\" x=\"180\" y=\"-394.8\" font-family=\"Times New Roman,serif\" font-size=\"14.00\">gini = 0.375</text>\r\n",
       "<text text-anchor=\"middle\" x=\"180\" y=\"-379.8\" font-family=\"Times New Roman,serif\" font-size=\"14.00\">samples = 12</text>\r\n",
       "<text text-anchor=\"middle\" x=\"180\" y=\"-364.8\" font-family=\"Times New Roman,serif\" font-size=\"14.00\">value = [9, 3]</text>\r\n",
       "<text text-anchor=\"middle\" x=\"180\" y=\"-349.8\" font-family=\"Times New Roman,serif\" font-size=\"14.00\">class = 2</text>\r\n",
       "</g>\r\n",
       "<!-- 2&#45;&gt;4 -->\r\n",
       "<g id=\"edge4\" class=\"edge\"><title>2&#45;&gt;4</title>\r\n",
       "<path fill=\"none\" stroke=\"black\" d=\"M180,-460.907C180,-452.649 180,-443.864 180,-435.302\"/>\r\n",
       "<polygon fill=\"black\" stroke=\"black\" points=\"183.5,-435.021 180,-425.021 176.5,-435.021 183.5,-435.021\"/>\r\n",
       "</g>\r\n",
       "<!-- 5 -->\r\n",
       "<g id=\"node6\" class=\"node\"><title>5</title>\r\n",
       "<polygon fill=\"#e58139\" stroke=\"black\" points=\"116.5,-298.5 25.5,-298.5 25.5,-230.5 116.5,-230.5 116.5,-298.5\"/>\r\n",
       "<text text-anchor=\"middle\" x=\"71\" y=\"-283.3\" font-family=\"Times New Roman,serif\" font-size=\"14.00\">gini = 0.0</text>\r\n",
       "<text text-anchor=\"middle\" x=\"71\" y=\"-268.3\" font-family=\"Times New Roman,serif\" font-size=\"14.00\">samples = 9</text>\r\n",
       "<text text-anchor=\"middle\" x=\"71\" y=\"-253.3\" font-family=\"Times New Roman,serif\" font-size=\"14.00\">value = [9, 0]</text>\r\n",
       "<text text-anchor=\"middle\" x=\"71\" y=\"-238.3\" font-family=\"Times New Roman,serif\" font-size=\"14.00\">class = 2</text>\r\n",
       "</g>\r\n",
       "<!-- 4&#45;&gt;5 -->\r\n",
       "<g id=\"edge5\" class=\"edge\"><title>4&#45;&gt;5</title>\r\n",
       "<path fill=\"none\" stroke=\"black\" d=\"M142.183,-341.907C131.389,-330.321 119.629,-317.698 108.834,-306.111\"/>\r\n",
       "<polygon fill=\"black\" stroke=\"black\" points=\"111.277,-303.598 101.899,-298.667 106.155,-308.37 111.277,-303.598\"/>\r\n",
       "</g>\r\n",
       "<!-- 6 -->\r\n",
       "<g id=\"node7\" class=\"node\"><title>6</title>\r\n",
       "<polygon fill=\"#399de5\" stroke=\"black\" points=\"225.5,-298.5 134.5,-298.5 134.5,-230.5 225.5,-230.5 225.5,-298.5\"/>\r\n",
       "<text text-anchor=\"middle\" x=\"180\" y=\"-283.3\" font-family=\"Times New Roman,serif\" font-size=\"14.00\">gini = 0.0</text>\r\n",
       "<text text-anchor=\"middle\" x=\"180\" y=\"-268.3\" font-family=\"Times New Roman,serif\" font-size=\"14.00\">samples = 3</text>\r\n",
       "<text text-anchor=\"middle\" x=\"180\" y=\"-253.3\" font-family=\"Times New Roman,serif\" font-size=\"14.00\">value = [0, 3]</text>\r\n",
       "<text text-anchor=\"middle\" x=\"180\" y=\"-238.3\" font-family=\"Times New Roman,serif\" font-size=\"14.00\">class = 4</text>\r\n",
       "</g>\r\n",
       "<!-- 4&#45;&gt;6 -->\r\n",
       "<g id=\"edge6\" class=\"edge\"><title>4&#45;&gt;6</title>\r\n",
       "<path fill=\"none\" stroke=\"black\" d=\"M180,-341.907C180,-331.204 180,-319.615 180,-308.776\"/>\r\n",
       "<polygon fill=\"black\" stroke=\"black\" points=\"183.5,-308.667 180,-298.667 176.5,-308.667 183.5,-308.667\"/>\r\n",
       "</g>\r\n",
       "<!-- 8 -->\r\n",
       "<g id=\"node9\" class=\"node\"><title>8</title>\r\n",
       "<polygon fill=\"#eb9d65\" stroke=\"black\" points=\"450,-425 328,-425 328,-342 450,-342 450,-425\"/>\r\n",
       "<text text-anchor=\"middle\" x=\"389\" y=\"-409.8\" font-family=\"Times New Roman,serif\" font-size=\"14.00\">bare_nuclei &lt;= 5.5</text>\r\n",
       "<text text-anchor=\"middle\" x=\"389\" y=\"-394.8\" font-family=\"Times New Roman,serif\" font-size=\"14.00\">gini = 0.298</text>\r\n",
       "<text text-anchor=\"middle\" x=\"389\" y=\"-379.8\" font-family=\"Times New Roman,serif\" font-size=\"14.00\">samples = 11</text>\r\n",
       "<text text-anchor=\"middle\" x=\"389\" y=\"-364.8\" font-family=\"Times New Roman,serif\" font-size=\"14.00\">value = [9, 2]</text>\r\n",
       "<text text-anchor=\"middle\" x=\"389\" y=\"-349.8\" font-family=\"Times New Roman,serif\" font-size=\"14.00\">class = 2</text>\r\n",
       "</g>\r\n",
       "<!-- 7&#45;&gt;8 -->\r\n",
       "<g id=\"edge8\" class=\"edge\"><title>7&#45;&gt;8</title>\r\n",
       "<path fill=\"none\" stroke=\"black\" d=\"M430.796,-460.907C426.03,-452.195 420.944,-442.897 416.019,-433.893\"/>\r\n",
       "<polygon fill=\"black\" stroke=\"black\" points=\"419.035,-432.114 411.165,-425.021 412.894,-435.474 419.035,-432.114\"/>\r\n",
       "</g>\r\n",
       "<!-- 11 -->\r\n",
       "<g id=\"node12\" class=\"node\"><title>11</title>\r\n",
       "<polygon fill=\"#4da7e8\" stroke=\"black\" points=\"566,-425 468,-425 468,-342 566,-342 566,-425\"/>\r\n",
       "<text text-anchor=\"middle\" x=\"517\" y=\"-409.8\" font-family=\"Times New Roman,serif\" font-size=\"14.00\">clump &lt;= 1.5</text>\r\n",
       "<text text-anchor=\"middle\" x=\"517\" y=\"-394.8\" font-family=\"Times New Roman,serif\" font-size=\"14.00\">gini = 0.165</text>\r\n",
       "<text text-anchor=\"middle\" x=\"517\" y=\"-379.8\" font-family=\"Times New Roman,serif\" font-size=\"14.00\">samples = 22</text>\r\n",
       "<text text-anchor=\"middle\" x=\"517\" y=\"-364.8\" font-family=\"Times New Roman,serif\" font-size=\"14.00\">value = [2, 20]</text>\r\n",
       "<text text-anchor=\"middle\" x=\"517\" y=\"-349.8\" font-family=\"Times New Roman,serif\" font-size=\"14.00\">class = 4</text>\r\n",
       "</g>\r\n",
       "<!-- 7&#45;&gt;11 -->\r\n",
       "<g id=\"edge11\" class=\"edge\"><title>7&#45;&gt;11</title>\r\n",
       "<path fill=\"none\" stroke=\"black\" d=\"M475.204,-460.907C479.97,-452.195 485.056,-442.897 489.981,-433.893\"/>\r\n",
       "<polygon fill=\"black\" stroke=\"black\" points=\"493.106,-435.474 494.835,-425.021 486.965,-432.114 493.106,-435.474\"/>\r\n",
       "</g>\r\n",
       "<!-- 9 -->\r\n",
       "<g id=\"node10\" class=\"node\"><title>9</title>\r\n",
       "<polygon fill=\"#e58139\" stroke=\"black\" points=\"334.5,-298.5 243.5,-298.5 243.5,-230.5 334.5,-230.5 334.5,-298.5\"/>\r\n",
       "<text text-anchor=\"middle\" x=\"289\" y=\"-283.3\" font-family=\"Times New Roman,serif\" font-size=\"14.00\">gini = 0.0</text>\r\n",
       "<text text-anchor=\"middle\" x=\"289\" y=\"-268.3\" font-family=\"Times New Roman,serif\" font-size=\"14.00\">samples = 9</text>\r\n",
       "<text text-anchor=\"middle\" x=\"289\" y=\"-253.3\" font-family=\"Times New Roman,serif\" font-size=\"14.00\">value = [9, 0]</text>\r\n",
       "<text text-anchor=\"middle\" x=\"289\" y=\"-238.3\" font-family=\"Times New Roman,serif\" font-size=\"14.00\">class = 2</text>\r\n",
       "</g>\r\n",
       "<!-- 8&#45;&gt;9 -->\r\n",
       "<g id=\"edge9\" class=\"edge\"><title>8&#45;&gt;9</title>\r\n",
       "<path fill=\"none\" stroke=\"black\" d=\"M354.305,-341.907C344.497,-330.432 333.819,-317.938 323.993,-306.442\"/>\r\n",
       "<polygon fill=\"black\" stroke=\"black\" points=\"326.506,-303.995 317.348,-298.667 321.184,-308.543 326.506,-303.995\"/>\r\n",
       "</g>\r\n",
       "<!-- 10 -->\r\n",
       "<g id=\"node11\" class=\"node\"><title>10</title>\r\n",
       "<polygon fill=\"#399de5\" stroke=\"black\" points=\"443.5,-298.5 352.5,-298.5 352.5,-230.5 443.5,-230.5 443.5,-298.5\"/>\r\n",
       "<text text-anchor=\"middle\" x=\"398\" y=\"-283.3\" font-family=\"Times New Roman,serif\" font-size=\"14.00\">gini = 0.0</text>\r\n",
       "<text text-anchor=\"middle\" x=\"398\" y=\"-268.3\" font-family=\"Times New Roman,serif\" font-size=\"14.00\">samples = 2</text>\r\n",
       "<text text-anchor=\"middle\" x=\"398\" y=\"-253.3\" font-family=\"Times New Roman,serif\" font-size=\"14.00\">value = [0, 2]</text>\r\n",
       "<text text-anchor=\"middle\" x=\"398\" y=\"-238.3\" font-family=\"Times New Roman,serif\" font-size=\"14.00\">class = 4</text>\r\n",
       "</g>\r\n",
       "<!-- 8&#45;&gt;10 -->\r\n",
       "<g id=\"edge10\" class=\"edge\"><title>8&#45;&gt;10</title>\r\n",
       "<path fill=\"none\" stroke=\"black\" d=\"M392.123,-341.907C392.946,-331.204 393.837,-319.615 394.671,-308.776\"/>\r\n",
       "<polygon fill=\"black\" stroke=\"black\" points=\"398.171,-308.906 395.449,-298.667 391.192,-308.369 398.171,-308.906\"/>\r\n",
       "</g>\r\n",
       "<!-- 12 -->\r\n",
       "<g id=\"node13\" class=\"node\"><title>12</title>\r\n",
       "<polygon fill=\"#e58139\" stroke=\"black\" points=\"552.5,-298.5 461.5,-298.5 461.5,-230.5 552.5,-230.5 552.5,-298.5\"/>\r\n",
       "<text text-anchor=\"middle\" x=\"507\" y=\"-283.3\" font-family=\"Times New Roman,serif\" font-size=\"14.00\">gini = 0.0</text>\r\n",
       "<text text-anchor=\"middle\" x=\"507\" y=\"-268.3\" font-family=\"Times New Roman,serif\" font-size=\"14.00\">samples = 1</text>\r\n",
       "<text text-anchor=\"middle\" x=\"507\" y=\"-253.3\" font-family=\"Times New Roman,serif\" font-size=\"14.00\">value = [1, 0]</text>\r\n",
       "<text text-anchor=\"middle\" x=\"507\" y=\"-238.3\" font-family=\"Times New Roman,serif\" font-size=\"14.00\">class = 2</text>\r\n",
       "</g>\r\n",
       "<!-- 11&#45;&gt;12 -->\r\n",
       "<g id=\"edge12\" class=\"edge\"><title>11&#45;&gt;12</title>\r\n",
       "<path fill=\"none\" stroke=\"black\" d=\"M513.531,-341.907C512.616,-331.204 511.625,-319.615 510.699,-308.776\"/>\r\n",
       "<polygon fill=\"black\" stroke=\"black\" points=\"514.174,-308.333 509.835,-298.667 507.199,-308.929 514.174,-308.333\"/>\r\n",
       "</g>\r\n",
       "<!-- 13 -->\r\n",
       "<g id=\"node14\" class=\"node\"><title>13</title>\r\n",
       "<polygon fill=\"#43a2e6\" stroke=\"black\" points=\"671.5,-306 570.5,-306 570.5,-223 671.5,-223 671.5,-306\"/>\r\n",
       "<text text-anchor=\"middle\" x=\"621\" y=\"-290.8\" font-family=\"Times New Roman,serif\" font-size=\"14.00\">mitoses &lt;= 2.5</text>\r\n",
       "<text text-anchor=\"middle\" x=\"621\" y=\"-275.8\" font-family=\"Times New Roman,serif\" font-size=\"14.00\">gini = 0.091</text>\r\n",
       "<text text-anchor=\"middle\" x=\"621\" y=\"-260.8\" font-family=\"Times New Roman,serif\" font-size=\"14.00\">samples = 21</text>\r\n",
       "<text text-anchor=\"middle\" x=\"621\" y=\"-245.8\" font-family=\"Times New Roman,serif\" font-size=\"14.00\">value = [1, 20]</text>\r\n",
       "<text text-anchor=\"middle\" x=\"621\" y=\"-230.8\" font-family=\"Times New Roman,serif\" font-size=\"14.00\">class = 4</text>\r\n",
       "</g>\r\n",
       "<!-- 11&#45;&gt;13 -->\r\n",
       "<g id=\"edge13\" class=\"edge\"><title>11&#45;&gt;13</title>\r\n",
       "<path fill=\"none\" stroke=\"black\" d=\"M553.082,-341.907C561.149,-332.832 569.781,-323.121 578.094,-313.769\"/>\r\n",
       "<polygon fill=\"black\" stroke=\"black\" points=\"580.954,-315.82 584.982,-306.021 575.722,-311.17 580.954,-315.82\"/>\r\n",
       "</g>\r\n",
       "<!-- 14 -->\r\n",
       "<g id=\"node15\" class=\"node\"><title>14</title>\r\n",
       "<polygon fill=\"#399de5\" stroke=\"black\" points=\"530,-179.5 432,-179.5 432,-111.5 530,-111.5 530,-179.5\"/>\r\n",
       "<text text-anchor=\"middle\" x=\"481\" y=\"-164.3\" font-family=\"Times New Roman,serif\" font-size=\"14.00\">gini = 0.0</text>\r\n",
       "<text text-anchor=\"middle\" x=\"481\" y=\"-149.3\" font-family=\"Times New Roman,serif\" font-size=\"14.00\">samples = 18</text>\r\n",
       "<text text-anchor=\"middle\" x=\"481\" y=\"-134.3\" font-family=\"Times New Roman,serif\" font-size=\"14.00\">value = [0, 18]</text>\r\n",
       "<text text-anchor=\"middle\" x=\"481\" y=\"-119.3\" font-family=\"Times New Roman,serif\" font-size=\"14.00\">class = 4</text>\r\n",
       "</g>\r\n",
       "<!-- 13&#45;&gt;14 -->\r\n",
       "<g id=\"edge14\" class=\"edge\"><title>13&#45;&gt;14</title>\r\n",
       "<path fill=\"none\" stroke=\"black\" d=\"M572.428,-222.907C558.168,-210.99 542.595,-197.976 528.408,-186.12\"/>\r\n",
       "<polygon fill=\"black\" stroke=\"black\" points=\"530.605,-183.394 520.687,-179.667 526.116,-188.765 530.605,-183.394\"/>\r\n",
       "</g>\r\n",
       "<!-- 15 -->\r\n",
       "<g id=\"node16\" class=\"node\"><title>15</title>\r\n",
       "<polygon fill=\"#9ccef2\" stroke=\"black\" points=\"694,-187 548,-187 548,-104 694,-104 694,-187\"/>\r\n",
       "<text text-anchor=\"middle\" x=\"621\" y=\"-171.8\" font-family=\"Times New Roman,serif\" font-size=\"14.00\">normal_nucleoli &lt;= 4.5</text>\r\n",
       "<text text-anchor=\"middle\" x=\"621\" y=\"-156.8\" font-family=\"Times New Roman,serif\" font-size=\"14.00\">gini = 0.444</text>\r\n",
       "<text text-anchor=\"middle\" x=\"621\" y=\"-141.8\" font-family=\"Times New Roman,serif\" font-size=\"14.00\">samples = 3</text>\r\n",
       "<text text-anchor=\"middle\" x=\"621\" y=\"-126.8\" font-family=\"Times New Roman,serif\" font-size=\"14.00\">value = [1, 2]</text>\r\n",
       "<text text-anchor=\"middle\" x=\"621\" y=\"-111.8\" font-family=\"Times New Roman,serif\" font-size=\"14.00\">class = 4</text>\r\n",
       "</g>\r\n",
       "<!-- 13&#45;&gt;15 -->\r\n",
       "<g id=\"edge15\" class=\"edge\"><title>13&#45;&gt;15</title>\r\n",
       "<path fill=\"none\" stroke=\"black\" d=\"M621,-222.907C621,-214.649 621,-205.864 621,-197.302\"/>\r\n",
       "<polygon fill=\"black\" stroke=\"black\" points=\"624.5,-197.021 621,-187.021 617.5,-197.021 624.5,-197.021\"/>\r\n",
       "</g>\r\n",
       "<!-- 16 -->\r\n",
       "<g id=\"node17\" class=\"node\"><title>16</title>\r\n",
       "<polygon fill=\"#399de5\" stroke=\"black\" points=\"612.5,-68 521.5,-68 521.5,-0 612.5,-0 612.5,-68\"/>\r\n",
       "<text text-anchor=\"middle\" x=\"567\" y=\"-52.8\" font-family=\"Times New Roman,serif\" font-size=\"14.00\">gini = 0.0</text>\r\n",
       "<text text-anchor=\"middle\" x=\"567\" y=\"-37.8\" font-family=\"Times New Roman,serif\" font-size=\"14.00\">samples = 2</text>\r\n",
       "<text text-anchor=\"middle\" x=\"567\" y=\"-22.8\" font-family=\"Times New Roman,serif\" font-size=\"14.00\">value = [0, 2]</text>\r\n",
       "<text text-anchor=\"middle\" x=\"567\" y=\"-7.8\" font-family=\"Times New Roman,serif\" font-size=\"14.00\">class = 4</text>\r\n",
       "</g>\r\n",
       "<!-- 15&#45;&gt;16 -->\r\n",
       "<g id=\"edge16\" class=\"edge\"><title>15&#45;&gt;16</title>\r\n",
       "<path fill=\"none\" stroke=\"black\" d=\"M600.892,-103.726C596.664,-95.1527 592.195,-86.0891 587.937,-77.4555\"/>\r\n",
       "<polygon fill=\"black\" stroke=\"black\" points=\"590.984,-75.7203 583.422,-68.2996 584.706,-78.8164 590.984,-75.7203\"/>\r\n",
       "</g>\r\n",
       "<!-- 17 -->\r\n",
       "<g id=\"node18\" class=\"node\"><title>17</title>\r\n",
       "<polygon fill=\"#e58139\" stroke=\"black\" points=\"721.5,-68 630.5,-68 630.5,-0 721.5,-0 721.5,-68\"/>\r\n",
       "<text text-anchor=\"middle\" x=\"676\" y=\"-52.8\" font-family=\"Times New Roman,serif\" font-size=\"14.00\">gini = 0.0</text>\r\n",
       "<text text-anchor=\"middle\" x=\"676\" y=\"-37.8\" font-family=\"Times New Roman,serif\" font-size=\"14.00\">samples = 1</text>\r\n",
       "<text text-anchor=\"middle\" x=\"676\" y=\"-22.8\" font-family=\"Times New Roman,serif\" font-size=\"14.00\">value = [1, 0]</text>\r\n",
       "<text text-anchor=\"middle\" x=\"676\" y=\"-7.8\" font-family=\"Times New Roman,serif\" font-size=\"14.00\">class = 2</text>\r\n",
       "</g>\r\n",
       "<!-- 15&#45;&gt;17 -->\r\n",
       "<g id=\"edge17\" class=\"edge\"><title>15&#45;&gt;17</title>\r\n",
       "<path fill=\"none\" stroke=\"black\" d=\"M641.48,-103.726C645.786,-95.1527 650.339,-86.0891 654.675,-77.4555\"/>\r\n",
       "<polygon fill=\"black\" stroke=\"black\" points=\"657.913,-78.8067 659.274,-68.2996 651.658,-75.6647 657.913,-78.8067\"/>\r\n",
       "</g>\r\n",
       "<!-- 19 -->\r\n",
       "<g id=\"node20\" class=\"node\"><title>19</title>\r\n",
       "<polygon fill=\"#72b9ec\" stroke=\"black\" points=\"1091.5,-544 982.5,-544 982.5,-461 1091.5,-461 1091.5,-544\"/>\r\n",
       "<text text-anchor=\"middle\" x=\"1037\" y=\"-528.8\" font-family=\"Times New Roman,serif\" font-size=\"14.00\">id &lt;= 1199492.0</text>\r\n",
       "<text text-anchor=\"middle\" x=\"1037\" y=\"-513.8\" font-family=\"Times New Roman,serif\" font-size=\"14.00\">gini = 0.346</text>\r\n",
       "<text text-anchor=\"middle\" x=\"1037\" y=\"-498.8\" font-family=\"Times New Roman,serif\" font-size=\"14.00\">samples = 27</text>\r\n",
       "<text text-anchor=\"middle\" x=\"1037\" y=\"-483.8\" font-family=\"Times New Roman,serif\" font-size=\"14.00\">value = [6, 21]</text>\r\n",
       "<text text-anchor=\"middle\" x=\"1037\" y=\"-468.8\" font-family=\"Times New Roman,serif\" font-size=\"14.00\">class = 4</text>\r\n",
       "</g>\r\n",
       "<!-- 18&#45;&gt;19 -->\r\n",
       "<g id=\"edge19\" class=\"edge\"><title>18&#45;&gt;19</title>\r\n",
       "<path fill=\"none\" stroke=\"black\" d=\"M1037,-579.907C1037,-571.649 1037,-562.864 1037,-554.302\"/>\r\n",
       "<polygon fill=\"black\" stroke=\"black\" points=\"1040.5,-554.021 1037,-544.021 1033.5,-554.021 1040.5,-554.021\"/>\r\n",
       "</g>\r\n",
       "<!-- 32 -->\r\n",
       "<g id=\"node33\" class=\"node\"><title>32</title>\r\n",
       "<polygon fill=\"#3e9fe6\" stroke=\"black\" points=\"1414.5,-544 1307.5,-544 1307.5,-461 1414.5,-461 1414.5,-544\"/>\r\n",
       "<text text-anchor=\"middle\" x=\"1361\" y=\"-528.8\" font-family=\"Times New Roman,serif\" font-size=\"14.00\">adhesion &lt;= 1.5</text>\r\n",
       "<text text-anchor=\"middle\" x=\"1361\" y=\"-513.8\" font-family=\"Times New Roman,serif\" font-size=\"14.00\">gini = 0.046</text>\r\n",
       "<text text-anchor=\"middle\" x=\"1361\" y=\"-498.8\" font-family=\"Times New Roman,serif\" font-size=\"14.00\">samples = 126</text>\r\n",
       "<text text-anchor=\"middle\" x=\"1361\" y=\"-483.8\" font-family=\"Times New Roman,serif\" font-size=\"14.00\">value = [3, 123]</text>\r\n",
       "<text text-anchor=\"middle\" x=\"1361\" y=\"-468.8\" font-family=\"Times New Roman,serif\" font-size=\"14.00\">class = 4</text>\r\n",
       "</g>\r\n",
       "<!-- 18&#45;&gt;32 -->\r\n",
       "<g id=\"edge32\" class=\"edge\"><title>18&#45;&gt;32</title>\r\n",
       "<path fill=\"none\" stroke=\"black\" d=\"M1089.78,-601.442C1146.71,-580.882 1237.34,-548.156 1297.97,-526.26\"/>\r\n",
       "<polygon fill=\"black\" stroke=\"black\" points=\"1299.22,-529.531 1307.44,-522.842 1296.84,-522.947 1299.22,-529.531\"/>\r\n",
       "</g>\r\n",
       "<!-- 20 -->\r\n",
       "<g id=\"node21\" class=\"node\"><title>20</title>\r\n",
       "<polygon fill=\"#58ace9\" stroke=\"black\" points=\"1022,-425 924,-425 924,-342 1022,-342 1022,-425\"/>\r\n",
       "<text text-anchor=\"middle\" x=\"973\" y=\"-409.8\" font-family=\"Times New Roman,serif\" font-size=\"14.00\">clump &lt;= 4.5</text>\r\n",
       "<text text-anchor=\"middle\" x=\"973\" y=\"-394.8\" font-family=\"Times New Roman,serif\" font-size=\"14.00\">gini = 0.236</text>\r\n",
       "<text text-anchor=\"middle\" x=\"973\" y=\"-379.8\" font-family=\"Times New Roman,serif\" font-size=\"14.00\">samples = 22</text>\r\n",
       "<text text-anchor=\"middle\" x=\"973\" y=\"-364.8\" font-family=\"Times New Roman,serif\" font-size=\"14.00\">value = [3, 19]</text>\r\n",
       "<text text-anchor=\"middle\" x=\"973\" y=\"-349.8\" font-family=\"Times New Roman,serif\" font-size=\"14.00\">class = 4</text>\r\n",
       "</g>\r\n",
       "<!-- 19&#45;&gt;20 -->\r\n",
       "<g id=\"edge20\" class=\"edge\"><title>19&#45;&gt;20</title>\r\n",
       "<path fill=\"none\" stroke=\"black\" d=\"M1014.8,-460.907C1010.03,-452.195 1004.94,-442.897 1000.02,-433.893\"/>\r\n",
       "<polygon fill=\"black\" stroke=\"black\" points=\"1003.03,-432.114 995.165,-425.021 996.894,-435.474 1003.03,-432.114\"/>\r\n",
       "</g>\r\n",
       "<!-- 29 -->\r\n",
       "<g id=\"node30\" class=\"node\"><title>29</title>\r\n",
       "<polygon fill=\"#f6d5bd\" stroke=\"black\" points=\"1162,-425 1040,-425 1040,-342 1162,-342 1162,-425\"/>\r\n",
       "<text text-anchor=\"middle\" x=\"1101\" y=\"-409.8\" font-family=\"Times New Roman,serif\" font-size=\"14.00\">bare_nuclei &lt;= 8.5</text>\r\n",
       "<text text-anchor=\"middle\" x=\"1101\" y=\"-394.8\" font-family=\"Times New Roman,serif\" font-size=\"14.00\">gini = 0.48</text>\r\n",
       "<text text-anchor=\"middle\" x=\"1101\" y=\"-379.8\" font-family=\"Times New Roman,serif\" font-size=\"14.00\">samples = 5</text>\r\n",
       "<text text-anchor=\"middle\" x=\"1101\" y=\"-364.8\" font-family=\"Times New Roman,serif\" font-size=\"14.00\">value = [3, 2]</text>\r\n",
       "<text text-anchor=\"middle\" x=\"1101\" y=\"-349.8\" font-family=\"Times New Roman,serif\" font-size=\"14.00\">class = 2</text>\r\n",
       "</g>\r\n",
       "<!-- 19&#45;&gt;29 -->\r\n",
       "<g id=\"edge29\" class=\"edge\"><title>19&#45;&gt;29</title>\r\n",
       "<path fill=\"none\" stroke=\"black\" d=\"M1059.2,-460.907C1063.97,-452.195 1069.06,-442.897 1073.98,-433.893\"/>\r\n",
       "<polygon fill=\"black\" stroke=\"black\" points=\"1077.11,-435.474 1078.83,-425.021 1070.97,-432.114 1077.11,-435.474\"/>\r\n",
       "</g>\r\n",
       "<!-- 21 -->\r\n",
       "<g id=\"node22\" class=\"node\"><title>21</title>\r\n",
       "<polygon fill=\"#ffffff\" stroke=\"black\" points=\"912,-306 820,-306 820,-223 912,-223 912,-306\"/>\r\n",
       "<text text-anchor=\"middle\" x=\"866\" y=\"-290.8\" font-family=\"Times New Roman,serif\" font-size=\"14.00\">clump &lt;= 3.5</text>\r\n",
       "<text text-anchor=\"middle\" x=\"866\" y=\"-275.8\" font-family=\"Times New Roman,serif\" font-size=\"14.00\">gini = 0.5</text>\r\n",
       "<text text-anchor=\"middle\" x=\"866\" y=\"-260.8\" font-family=\"Times New Roman,serif\" font-size=\"14.00\">samples = 4</text>\r\n",
       "<text text-anchor=\"middle\" x=\"866\" y=\"-245.8\" font-family=\"Times New Roman,serif\" font-size=\"14.00\">value = [2, 2]</text>\r\n",
       "<text text-anchor=\"middle\" x=\"866\" y=\"-230.8\" font-family=\"Times New Roman,serif\" font-size=\"14.00\">class = 2</text>\r\n",
       "</g>\r\n",
       "<!-- 20&#45;&gt;21 -->\r\n",
       "<g id=\"edge21\" class=\"edge\"><title>20&#45;&gt;21</title>\r\n",
       "<path fill=\"none\" stroke=\"black\" d=\"M935.877,-341.907C927.494,-332.742 918.518,-322.927 909.887,-313.489\"/>\r\n",
       "<polygon fill=\"black\" stroke=\"black\" points=\"912.389,-311.038 903.057,-306.021 907.223,-315.762 912.389,-311.038\"/>\r\n",
       "</g>\r\n",
       "<!-- 24 -->\r\n",
       "<g id=\"node25\" class=\"node\"><title>24</title>\r\n",
       "<polygon fill=\"#45a3e7\" stroke=\"black\" points=\"1030,-306 930,-306 930,-223 1030,-223 1030,-306\"/>\r\n",
       "<text text-anchor=\"middle\" x=\"980\" y=\"-290.8\" font-family=\"Times New Roman,serif\" font-size=\"14.00\">epithlial &lt;= 6.5</text>\r\n",
       "<text text-anchor=\"middle\" x=\"980\" y=\"-275.8\" font-family=\"Times New Roman,serif\" font-size=\"14.00\">gini = 0.105</text>\r\n",
       "<text text-anchor=\"middle\" x=\"980\" y=\"-260.8\" font-family=\"Times New Roman,serif\" font-size=\"14.00\">samples = 18</text>\r\n",
       "<text text-anchor=\"middle\" x=\"980\" y=\"-245.8\" font-family=\"Times New Roman,serif\" font-size=\"14.00\">value = [1, 17]</text>\r\n",
       "<text text-anchor=\"middle\" x=\"980\" y=\"-230.8\" font-family=\"Times New Roman,serif\" font-size=\"14.00\">class = 4</text>\r\n",
       "</g>\r\n",
       "<!-- 20&#45;&gt;24 -->\r\n",
       "<g id=\"edge24\" class=\"edge\"><title>20&#45;&gt;24</title>\r\n",
       "<path fill=\"none\" stroke=\"black\" d=\"M975.429,-341.907C975.928,-333.558 976.46,-324.671 976.977,-316.02\"/>\r\n",
       "<polygon fill=\"black\" stroke=\"black\" points=\"980.472,-316.212 977.576,-306.021 973.485,-315.794 980.472,-316.212\"/>\r\n",
       "</g>\r\n",
       "<!-- 22 -->\r\n",
       "<g id=\"node23\" class=\"node\"><title>22</title>\r\n",
       "<polygon fill=\"#399de5\" stroke=\"black\" points=\"803.5,-179.5 712.5,-179.5 712.5,-111.5 803.5,-111.5 803.5,-179.5\"/>\r\n",
       "<text text-anchor=\"middle\" x=\"758\" y=\"-164.3\" font-family=\"Times New Roman,serif\" font-size=\"14.00\">gini = 0.0</text>\r\n",
       "<text text-anchor=\"middle\" x=\"758\" y=\"-149.3\" font-family=\"Times New Roman,serif\" font-size=\"14.00\">samples = 2</text>\r\n",
       "<text text-anchor=\"middle\" x=\"758\" y=\"-134.3\" font-family=\"Times New Roman,serif\" font-size=\"14.00\">value = [0, 2]</text>\r\n",
       "<text text-anchor=\"middle\" x=\"758\" y=\"-119.3\" font-family=\"Times New Roman,serif\" font-size=\"14.00\">class = 4</text>\r\n",
       "</g>\r\n",
       "<!-- 21&#45;&gt;22 -->\r\n",
       "<g id=\"edge22\" class=\"edge\"><title>21&#45;&gt;22</title>\r\n",
       "<path fill=\"none\" stroke=\"black\" d=\"M828.53,-222.907C817.835,-211.321 806.183,-198.698 795.487,-187.111\"/>\r\n",
       "<polygon fill=\"black\" stroke=\"black\" points=\"797.97,-184.641 788.616,-179.667 792.827,-189.389 797.97,-184.641\"/>\r\n",
       "</g>\r\n",
       "<!-- 23 -->\r\n",
       "<g id=\"node24\" class=\"node\"><title>23</title>\r\n",
       "<polygon fill=\"#e58139\" stroke=\"black\" points=\"912.5,-179.5 821.5,-179.5 821.5,-111.5 912.5,-111.5 912.5,-179.5\"/>\r\n",
       "<text text-anchor=\"middle\" x=\"867\" y=\"-164.3\" font-family=\"Times New Roman,serif\" font-size=\"14.00\">gini = 0.0</text>\r\n",
       "<text text-anchor=\"middle\" x=\"867\" y=\"-149.3\" font-family=\"Times New Roman,serif\" font-size=\"14.00\">samples = 2</text>\r\n",
       "<text text-anchor=\"middle\" x=\"867\" y=\"-134.3\" font-family=\"Times New Roman,serif\" font-size=\"14.00\">value = [2, 0]</text>\r\n",
       "<text text-anchor=\"middle\" x=\"867\" y=\"-119.3\" font-family=\"Times New Roman,serif\" font-size=\"14.00\">class = 2</text>\r\n",
       "</g>\r\n",
       "<!-- 21&#45;&gt;23 -->\r\n",
       "<g id=\"edge23\" class=\"edge\"><title>21&#45;&gt;23</title>\r\n",
       "<path fill=\"none\" stroke=\"black\" d=\"M866.347,-222.907C866.438,-212.204 866.537,-200.615 866.63,-189.776\"/>\r\n",
       "<polygon fill=\"black\" stroke=\"black\" points=\"870.131,-189.697 866.717,-179.667 863.131,-189.637 870.131,-189.697\"/>\r\n",
       "</g>\r\n",
       "<!-- 25 -->\r\n",
       "<g id=\"node26\" class=\"node\"><title>25</title>\r\n",
       "<polygon fill=\"#399de5\" stroke=\"black\" points=\"1029,-179.5 931,-179.5 931,-111.5 1029,-111.5 1029,-179.5\"/>\r\n",
       "<text text-anchor=\"middle\" x=\"980\" y=\"-164.3\" font-family=\"Times New Roman,serif\" font-size=\"14.00\">gini = 0.0</text>\r\n",
       "<text text-anchor=\"middle\" x=\"980\" y=\"-149.3\" font-family=\"Times New Roman,serif\" font-size=\"14.00\">samples = 16</text>\r\n",
       "<text text-anchor=\"middle\" x=\"980\" y=\"-134.3\" font-family=\"Times New Roman,serif\" font-size=\"14.00\">value = [0, 16]</text>\r\n",
       "<text text-anchor=\"middle\" x=\"980\" y=\"-119.3\" font-family=\"Times New Roman,serif\" font-size=\"14.00\">class = 4</text>\r\n",
       "</g>\r\n",
       "<!-- 24&#45;&gt;25 -->\r\n",
       "<g id=\"edge25\" class=\"edge\"><title>24&#45;&gt;25</title>\r\n",
       "<path fill=\"none\" stroke=\"black\" d=\"M980,-222.907C980,-212.204 980,-200.615 980,-189.776\"/>\r\n",
       "<polygon fill=\"black\" stroke=\"black\" points=\"983.5,-189.667 980,-179.667 976.5,-189.667 983.5,-189.667\"/>\r\n",
       "</g>\r\n",
       "<!-- 26 -->\r\n",
       "<g id=\"node27\" class=\"node\"><title>26</title>\r\n",
       "<polygon fill=\"#ffffff\" stroke=\"black\" points=\"1193,-187 1047,-187 1047,-104 1193,-104 1193,-187\"/>\r\n",
       "<text text-anchor=\"middle\" x=\"1120\" y=\"-171.8\" font-family=\"Times New Roman,serif\" font-size=\"14.00\">normal_nucleoli &lt;= 6.0</text>\r\n",
       "<text text-anchor=\"middle\" x=\"1120\" y=\"-156.8\" font-family=\"Times New Roman,serif\" font-size=\"14.00\">gini = 0.5</text>\r\n",
       "<text text-anchor=\"middle\" x=\"1120\" y=\"-141.8\" font-family=\"Times New Roman,serif\" font-size=\"14.00\">samples = 2</text>\r\n",
       "<text text-anchor=\"middle\" x=\"1120\" y=\"-126.8\" font-family=\"Times New Roman,serif\" font-size=\"14.00\">value = [1, 1]</text>\r\n",
       "<text text-anchor=\"middle\" x=\"1120\" y=\"-111.8\" font-family=\"Times New Roman,serif\" font-size=\"14.00\">class = 2</text>\r\n",
       "</g>\r\n",
       "<!-- 24&#45;&gt;26 -->\r\n",
       "<g id=\"edge26\" class=\"edge\"><title>24&#45;&gt;26</title>\r\n",
       "<path fill=\"none\" stroke=\"black\" d=\"M1028.57,-222.907C1039.87,-213.469 1051.98,-203.343 1063.58,-193.649\"/>\r\n",
       "<polygon fill=\"black\" stroke=\"black\" points=\"1066.08,-196.119 1071.51,-187.021 1061.6,-190.748 1066.08,-196.119\"/>\r\n",
       "</g>\r\n",
       "<!-- 27 -->\r\n",
       "<g id=\"node28\" class=\"node\"><title>27</title>\r\n",
       "<polygon fill=\"#e58139\" stroke=\"black\" points=\"1110.5,-68 1019.5,-68 1019.5,-0 1110.5,-0 1110.5,-68\"/>\r\n",
       "<text text-anchor=\"middle\" x=\"1065\" y=\"-52.8\" font-family=\"Times New Roman,serif\" font-size=\"14.00\">gini = 0.0</text>\r\n",
       "<text text-anchor=\"middle\" x=\"1065\" y=\"-37.8\" font-family=\"Times New Roman,serif\" font-size=\"14.00\">samples = 1</text>\r\n",
       "<text text-anchor=\"middle\" x=\"1065\" y=\"-22.8\" font-family=\"Times New Roman,serif\" font-size=\"14.00\">value = [1, 0]</text>\r\n",
       "<text text-anchor=\"middle\" x=\"1065\" y=\"-7.8\" font-family=\"Times New Roman,serif\" font-size=\"14.00\">class = 2</text>\r\n",
       "</g>\r\n",
       "<!-- 26&#45;&gt;27 -->\r\n",
       "<g id=\"edge27\" class=\"edge\"><title>26&#45;&gt;27</title>\r\n",
       "<path fill=\"none\" stroke=\"black\" d=\"M1099.52,-103.726C1095.21,-95.1527 1090.66,-86.0891 1086.32,-77.4555\"/>\r\n",
       "<polygon fill=\"black\" stroke=\"black\" points=\"1089.34,-75.6647 1081.73,-68.2996 1083.09,-78.8067 1089.34,-75.6647\"/>\r\n",
       "</g>\r\n",
       "<!-- 28 -->\r\n",
       "<g id=\"node29\" class=\"node\"><title>28</title>\r\n",
       "<polygon fill=\"#399de5\" stroke=\"black\" points=\"1219.5,-68 1128.5,-68 1128.5,-0 1219.5,-0 1219.5,-68\"/>\r\n",
       "<text text-anchor=\"middle\" x=\"1174\" y=\"-52.8\" font-family=\"Times New Roman,serif\" font-size=\"14.00\">gini = 0.0</text>\r\n",
       "<text text-anchor=\"middle\" x=\"1174\" y=\"-37.8\" font-family=\"Times New Roman,serif\" font-size=\"14.00\">samples = 1</text>\r\n",
       "<text text-anchor=\"middle\" x=\"1174\" y=\"-22.8\" font-family=\"Times New Roman,serif\" font-size=\"14.00\">value = [0, 1]</text>\r\n",
       "<text text-anchor=\"middle\" x=\"1174\" y=\"-7.8\" font-family=\"Times New Roman,serif\" font-size=\"14.00\">class = 4</text>\r\n",
       "</g>\r\n",
       "<!-- 26&#45;&gt;28 -->\r\n",
       "<g id=\"edge28\" class=\"edge\"><title>26&#45;&gt;28</title>\r\n",
       "<path fill=\"none\" stroke=\"black\" d=\"M1140.11,-103.726C1144.34,-95.1527 1148.81,-86.0891 1153.06,-77.4555\"/>\r\n",
       "<polygon fill=\"black\" stroke=\"black\" points=\"1156.29,-78.8164 1157.58,-68.2996 1150.02,-75.7203 1156.29,-78.8164\"/>\r\n",
       "</g>\r\n",
       "<!-- 30 -->\r\n",
       "<g id=\"node31\" class=\"node\"><title>30</title>\r\n",
       "<polygon fill=\"#e58139\" stroke=\"black\" points=\"1139.5,-298.5 1048.5,-298.5 1048.5,-230.5 1139.5,-230.5 1139.5,-298.5\"/>\r\n",
       "<text text-anchor=\"middle\" x=\"1094\" y=\"-283.3\" font-family=\"Times New Roman,serif\" font-size=\"14.00\">gini = 0.0</text>\r\n",
       "<text text-anchor=\"middle\" x=\"1094\" y=\"-268.3\" font-family=\"Times New Roman,serif\" font-size=\"14.00\">samples = 3</text>\r\n",
       "<text text-anchor=\"middle\" x=\"1094\" y=\"-253.3\" font-family=\"Times New Roman,serif\" font-size=\"14.00\">value = [3, 0]</text>\r\n",
       "<text text-anchor=\"middle\" x=\"1094\" y=\"-238.3\" font-family=\"Times New Roman,serif\" font-size=\"14.00\">class = 2</text>\r\n",
       "</g>\r\n",
       "<!-- 29&#45;&gt;30 -->\r\n",
       "<g id=\"edge30\" class=\"edge\"><title>29&#45;&gt;30</title>\r\n",
       "<path fill=\"none\" stroke=\"black\" d=\"M1098.57,-341.907C1097.93,-331.204 1097.24,-319.615 1096.59,-308.776\"/>\r\n",
       "<polygon fill=\"black\" stroke=\"black\" points=\"1100.08,-308.44 1095.98,-298.667 1093.09,-308.858 1100.08,-308.44\"/>\r\n",
       "</g>\r\n",
       "<!-- 31 -->\r\n",
       "<g id=\"node32\" class=\"node\"><title>31</title>\r\n",
       "<polygon fill=\"#399de5\" stroke=\"black\" points=\"1248.5,-298.5 1157.5,-298.5 1157.5,-230.5 1248.5,-230.5 1248.5,-298.5\"/>\r\n",
       "<text text-anchor=\"middle\" x=\"1203\" y=\"-283.3\" font-family=\"Times New Roman,serif\" font-size=\"14.00\">gini = 0.0</text>\r\n",
       "<text text-anchor=\"middle\" x=\"1203\" y=\"-268.3\" font-family=\"Times New Roman,serif\" font-size=\"14.00\">samples = 2</text>\r\n",
       "<text text-anchor=\"middle\" x=\"1203\" y=\"-253.3\" font-family=\"Times New Roman,serif\" font-size=\"14.00\">value = [0, 2]</text>\r\n",
       "<text text-anchor=\"middle\" x=\"1203\" y=\"-238.3\" font-family=\"Times New Roman,serif\" font-size=\"14.00\">class = 4</text>\r\n",
       "</g>\r\n",
       "<!-- 29&#45;&gt;31 -->\r\n",
       "<g id=\"edge31\" class=\"edge\"><title>29&#45;&gt;31</title>\r\n",
       "<path fill=\"none\" stroke=\"black\" d=\"M1136.39,-341.907C1146.39,-330.432 1157.28,-317.938 1167.31,-306.442\"/>\r\n",
       "<polygon fill=\"black\" stroke=\"black\" points=\"1170.15,-308.505 1174.09,-298.667 1164.88,-303.905 1170.15,-308.505\"/>\r\n",
       "</g>\r\n",
       "<!-- 33 -->\r\n",
       "<g id=\"node34\" class=\"node\"><title>33</title>\r\n",
       "<polygon fill=\"#7bbeee\" stroke=\"black\" points=\"1415.5,-425 1306.5,-425 1306.5,-342 1415.5,-342 1415.5,-425\"/>\r\n",
       "<text text-anchor=\"middle\" x=\"1361\" y=\"-409.8\" font-family=\"Times New Roman,serif\" font-size=\"14.00\">id &lt;= 1062323.5</text>\r\n",
       "<text text-anchor=\"middle\" x=\"1361\" y=\"-394.8\" font-family=\"Times New Roman,serif\" font-size=\"14.00\">gini = 0.375</text>\r\n",
       "<text text-anchor=\"middle\" x=\"1361\" y=\"-379.8\" font-family=\"Times New Roman,serif\" font-size=\"14.00\">samples = 8</text>\r\n",
       "<text text-anchor=\"middle\" x=\"1361\" y=\"-364.8\" font-family=\"Times New Roman,serif\" font-size=\"14.00\">value = [2, 6]</text>\r\n",
       "<text text-anchor=\"middle\" x=\"1361\" y=\"-349.8\" font-family=\"Times New Roman,serif\" font-size=\"14.00\">class = 4</text>\r\n",
       "</g>\r\n",
       "<!-- 32&#45;&gt;33 -->\r\n",
       "<g id=\"edge33\" class=\"edge\"><title>32&#45;&gt;33</title>\r\n",
       "<path fill=\"none\" stroke=\"black\" d=\"M1361,-460.907C1361,-452.649 1361,-443.864 1361,-435.302\"/>\r\n",
       "<polygon fill=\"black\" stroke=\"black\" points=\"1364.5,-435.021 1361,-425.021 1357.5,-435.021 1364.5,-435.021\"/>\r\n",
       "</g>\r\n",
       "<!-- 36 -->\r\n",
       "<g id=\"node37\" class=\"node\"><title>36</title>\r\n",
       "<polygon fill=\"#3b9ee5\" stroke=\"black\" points=\"1591.5,-425 1482.5,-425 1482.5,-342 1591.5,-342 1591.5,-425\"/>\r\n",
       "<text text-anchor=\"middle\" x=\"1537\" y=\"-409.8\" font-family=\"Times New Roman,serif\" font-size=\"14.00\">id &lt;= 1290191.0</text>\r\n",
       "<text text-anchor=\"middle\" x=\"1537\" y=\"-394.8\" font-family=\"Times New Roman,serif\" font-size=\"14.00\">gini = 0.017</text>\r\n",
       "<text text-anchor=\"middle\" x=\"1537\" y=\"-379.8\" font-family=\"Times New Roman,serif\" font-size=\"14.00\">samples = 118</text>\r\n",
       "<text text-anchor=\"middle\" x=\"1537\" y=\"-364.8\" font-family=\"Times New Roman,serif\" font-size=\"14.00\">value = [1, 117]</text>\r\n",
       "<text text-anchor=\"middle\" x=\"1537\" y=\"-349.8\" font-family=\"Times New Roman,serif\" font-size=\"14.00\">class = 4</text>\r\n",
       "</g>\r\n",
       "<!-- 32&#45;&gt;36 -->\r\n",
       "<g id=\"edge36\" class=\"edge\"><title>32&#45;&gt;36</title>\r\n",
       "<path fill=\"none\" stroke=\"black\" d=\"M1414.76,-465.76C1433.43,-453.35 1454.53,-439.321 1473.89,-426.455\"/>\r\n",
       "<polygon fill=\"black\" stroke=\"black\" points=\"1475.96,-429.279 1482.35,-420.828 1472.09,-423.45 1475.96,-429.279\"/>\r\n",
       "</g>\r\n",
       "<!-- 34 -->\r\n",
       "<g id=\"node35\" class=\"node\"><title>34</title>\r\n",
       "<polygon fill=\"#e58139\" stroke=\"black\" points=\"1357.5,-298.5 1266.5,-298.5 1266.5,-230.5 1357.5,-230.5 1357.5,-298.5\"/>\r\n",
       "<text text-anchor=\"middle\" x=\"1312\" y=\"-283.3\" font-family=\"Times New Roman,serif\" font-size=\"14.00\">gini = 0.0</text>\r\n",
       "<text text-anchor=\"middle\" x=\"1312\" y=\"-268.3\" font-family=\"Times New Roman,serif\" font-size=\"14.00\">samples = 2</text>\r\n",
       "<text text-anchor=\"middle\" x=\"1312\" y=\"-253.3\" font-family=\"Times New Roman,serif\" font-size=\"14.00\">value = [2, 0]</text>\r\n",
       "<text text-anchor=\"middle\" x=\"1312\" y=\"-238.3\" font-family=\"Times New Roman,serif\" font-size=\"14.00\">class = 2</text>\r\n",
       "</g>\r\n",
       "<!-- 33&#45;&gt;34 -->\r\n",
       "<g id=\"edge34\" class=\"edge\"><title>33&#45;&gt;34</title>\r\n",
       "<path fill=\"none\" stroke=\"black\" d=\"M1344,-341.907C1339.42,-330.983 1334.46,-319.137 1329.84,-308.107\"/>\r\n",
       "<polygon fill=\"black\" stroke=\"black\" points=\"1332.98,-306.539 1325.89,-298.667 1326.53,-309.243 1332.98,-306.539\"/>\r\n",
       "</g>\r\n",
       "<!-- 35 -->\r\n",
       "<g id=\"node36\" class=\"node\"><title>35</title>\r\n",
       "<polygon fill=\"#399de5\" stroke=\"black\" points=\"1466.5,-298.5 1375.5,-298.5 1375.5,-230.5 1466.5,-230.5 1466.5,-298.5\"/>\r\n",
       "<text text-anchor=\"middle\" x=\"1421\" y=\"-283.3\" font-family=\"Times New Roman,serif\" font-size=\"14.00\">gini = 0.0</text>\r\n",
       "<text text-anchor=\"middle\" x=\"1421\" y=\"-268.3\" font-family=\"Times New Roman,serif\" font-size=\"14.00\">samples = 6</text>\r\n",
       "<text text-anchor=\"middle\" x=\"1421\" y=\"-253.3\" font-family=\"Times New Roman,serif\" font-size=\"14.00\">value = [0, 6]</text>\r\n",
       "<text text-anchor=\"middle\" x=\"1421\" y=\"-238.3\" font-family=\"Times New Roman,serif\" font-size=\"14.00\">class = 4</text>\r\n",
       "</g>\r\n",
       "<!-- 33&#45;&gt;35 -->\r\n",
       "<g id=\"edge35\" class=\"edge\"><title>33&#45;&gt;35</title>\r\n",
       "<path fill=\"none\" stroke=\"black\" d=\"M1381.82,-341.907C1387.48,-330.873 1393.62,-318.898 1399.32,-307.773\"/>\r\n",
       "<polygon fill=\"black\" stroke=\"black\" points=\"1402.54,-309.162 1403.99,-298.667 1396.31,-305.968 1402.54,-309.162\"/>\r\n",
       "</g>\r\n",
       "<!-- 37 -->\r\n",
       "<g id=\"node38\" class=\"node\"><title>37</title>\r\n",
       "<polygon fill=\"#399de5\" stroke=\"black\" points=\"1589,-298.5 1485,-298.5 1485,-230.5 1589,-230.5 1589,-298.5\"/>\r\n",
       "<text text-anchor=\"middle\" x=\"1537\" y=\"-283.3\" font-family=\"Times New Roman,serif\" font-size=\"14.00\">gini = 0.0</text>\r\n",
       "<text text-anchor=\"middle\" x=\"1537\" y=\"-268.3\" font-family=\"Times New Roman,serif\" font-size=\"14.00\">samples = 102</text>\r\n",
       "<text text-anchor=\"middle\" x=\"1537\" y=\"-253.3\" font-family=\"Times New Roman,serif\" font-size=\"14.00\">value = [0, 102]</text>\r\n",
       "<text text-anchor=\"middle\" x=\"1537\" y=\"-238.3\" font-family=\"Times New Roman,serif\" font-size=\"14.00\">class = 4</text>\r\n",
       "</g>\r\n",
       "<!-- 36&#45;&gt;37 -->\r\n",
       "<g id=\"edge37\" class=\"edge\"><title>36&#45;&gt;37</title>\r\n",
       "<path fill=\"none\" stroke=\"black\" d=\"M1537,-341.907C1537,-331.204 1537,-319.615 1537,-308.776\"/>\r\n",
       "<polygon fill=\"black\" stroke=\"black\" points=\"1540.5,-308.667 1537,-298.667 1533.5,-308.667 1540.5,-308.667\"/>\r\n",
       "</g>\r\n",
       "<!-- 38 -->\r\n",
       "<g id=\"node39\" class=\"node\"><title>38</title>\r\n",
       "<polygon fill=\"#46a4e7\" stroke=\"black\" points=\"1720.5,-306 1607.5,-306 1607.5,-223 1720.5,-223 1720.5,-306\"/>\r\n",
       "<text text-anchor=\"middle\" x=\"1664\" y=\"-290.8\" font-family=\"Times New Roman,serif\" font-size=\"14.00\">chromatin &lt;= 4.5</text>\r\n",
       "<text text-anchor=\"middle\" x=\"1664\" y=\"-275.8\" font-family=\"Times New Roman,serif\" font-size=\"14.00\">gini = 0.117</text>\r\n",
       "<text text-anchor=\"middle\" x=\"1664\" y=\"-260.8\" font-family=\"Times New Roman,serif\" font-size=\"14.00\">samples = 16</text>\r\n",
       "<text text-anchor=\"middle\" x=\"1664\" y=\"-245.8\" font-family=\"Times New Roman,serif\" font-size=\"14.00\">value = [1, 15]</text>\r\n",
       "<text text-anchor=\"middle\" x=\"1664\" y=\"-230.8\" font-family=\"Times New Roman,serif\" font-size=\"14.00\">class = 4</text>\r\n",
       "</g>\r\n",
       "<!-- 36&#45;&gt;38 -->\r\n",
       "<g id=\"edge38\" class=\"edge\"><title>36&#45;&gt;38</title>\r\n",
       "<path fill=\"none\" stroke=\"black\" d=\"M1581.06,-341.907C1591.21,-332.56 1602.09,-322.538 1612.52,-312.929\"/>\r\n",
       "<polygon fill=\"black\" stroke=\"black\" points=\"1615.03,-315.371 1620.02,-306.021 1610.29,-310.222 1615.03,-315.371\"/>\r\n",
       "</g>\r\n",
       "<!-- 39 -->\r\n",
       "<g id=\"node40\" class=\"node\"><title>39</title>\r\n",
       "<polygon fill=\"#e58139\" stroke=\"black\" points=\"1652.5,-179.5 1561.5,-179.5 1561.5,-111.5 1652.5,-111.5 1652.5,-179.5\"/>\r\n",
       "<text text-anchor=\"middle\" x=\"1607\" y=\"-164.3\" font-family=\"Times New Roman,serif\" font-size=\"14.00\">gini = 0.0</text>\r\n",
       "<text text-anchor=\"middle\" x=\"1607\" y=\"-149.3\" font-family=\"Times New Roman,serif\" font-size=\"14.00\">samples = 1</text>\r\n",
       "<text text-anchor=\"middle\" x=\"1607\" y=\"-134.3\" font-family=\"Times New Roman,serif\" font-size=\"14.00\">value = [1, 0]</text>\r\n",
       "<text text-anchor=\"middle\" x=\"1607\" y=\"-119.3\" font-family=\"Times New Roman,serif\" font-size=\"14.00\">class = 2</text>\r\n",
       "</g>\r\n",
       "<!-- 38&#45;&gt;39 -->\r\n",
       "<g id=\"edge39\" class=\"edge\"><title>38&#45;&gt;39</title>\r\n",
       "<path fill=\"none\" stroke=\"black\" d=\"M1644.22,-222.907C1638.85,-211.873 1633.01,-199.898 1627.59,-188.773\"/>\r\n",
       "<polygon fill=\"black\" stroke=\"black\" points=\"1630.68,-187.124 1623.16,-179.667 1624.39,-190.19 1630.68,-187.124\"/>\r\n",
       "</g>\r\n",
       "<!-- 40 -->\r\n",
       "<g id=\"node41\" class=\"node\"><title>40</title>\r\n",
       "<polygon fill=\"#399de5\" stroke=\"black\" points=\"1769,-179.5 1671,-179.5 1671,-111.5 1769,-111.5 1769,-179.5\"/>\r\n",
       "<text text-anchor=\"middle\" x=\"1720\" y=\"-164.3\" font-family=\"Times New Roman,serif\" font-size=\"14.00\">gini = 0.0</text>\r\n",
       "<text text-anchor=\"middle\" x=\"1720\" y=\"-149.3\" font-family=\"Times New Roman,serif\" font-size=\"14.00\">samples = 15</text>\r\n",
       "<text text-anchor=\"middle\" x=\"1720\" y=\"-134.3\" font-family=\"Times New Roman,serif\" font-size=\"14.00\">value = [0, 15]</text>\r\n",
       "<text text-anchor=\"middle\" x=\"1720\" y=\"-119.3\" font-family=\"Times New Roman,serif\" font-size=\"14.00\">class = 4</text>\r\n",
       "</g>\r\n",
       "<!-- 38&#45;&gt;40 -->\r\n",
       "<g id=\"edge40\" class=\"edge\"><title>38&#45;&gt;40</title>\r\n",
       "<path fill=\"none\" stroke=\"black\" d=\"M1683.43,-222.907C1688.71,-211.873 1694.44,-199.898 1699.77,-188.773\"/>\r\n",
       "<polygon fill=\"black\" stroke=\"black\" points=\"1702.96,-190.198 1704.13,-179.667 1696.65,-187.176 1702.96,-190.198\"/>\r\n",
       "</g>\r\n",
       "</g>\r\n",
       "</svg>\r\n"
      ],
      "text/plain": [
       "<graphviz.files.Source at 0x274551fbbc8>"
      ]
     },
     "execution_count": 11,
     "metadata": {},
     "output_type": "execute_result"
    }
   ],
   "source": [
    "from sklearn.tree import export_graphviz\n",
    "\n",
    "export_graphviz(dt_clf,\n",
    "                out_file='9주차.dot',\n",
    "                class_names=['2','4'],\n",
    "                feature_names=df_features.columns,\n",
    "               impurity=True,\n",
    "               filled=True)\n",
    "\n",
    "import graphviz\n",
    "with open('9주차.dot') as f:\n",
    "    dot_graph = f.read()\n",
    "graphviz.Source(dot_graph)"
   ]
  },
  {
   "cell_type": "markdown",
   "metadata": {},
   "source": [
    "학습데이터에 지나치게 과적합 되었습니다."
   ]
  },
  {
   "cell_type": "markdown",
   "metadata": {
    "id": "Lji9wC-70NlX"
   },
   "source": [
    "## 3-3.GridSearchCV 모듈을 활용해서 결정 트리의 최적 하이퍼 파라미터를 찾고 모델에 적용한 후 다시 결정 트리를 시각화해주세요!\n"
   ]
  },
  {
   "cell_type": "markdown",
   "metadata": {
    "id": "wCA06tq22LG2"
   },
   "source": [
    "* GridSeacrchCV모듈에 지정한 parameters를 사용해주세요!"
   ]
  },
  {
   "cell_type": "markdown",
   "metadata": {
    "id": "uj0gSsgy2K6y"
   },
   "source": [
    "* cv=3로 지정해주세요!\n"
   ]
  },
  {
   "cell_type": "code",
   "execution_count": null,
   "metadata": {
    "colab": {
     "base_uri": "https://localhost:8080/"
    },
    "id": "XE0vmUtGzhIt",
    "outputId": "53590186-d0b6-4ef0-f94d-6276af83bc58"
   },
   "outputs": [],
   "source": []
  },
  {
   "cell_type": "code",
   "execution_count": null,
   "metadata": {
    "colab": {
     "base_uri": "https://localhost:8080/",
     "height": 597
    },
    "id": "3LSQsPfEzhLt",
    "outputId": "e9bb3ce9-e0d5-477b-e5f9-4e9578139a70"
   },
   "outputs": [],
   "source": []
  },
  {
   "cell_type": "markdown",
   "metadata": {},
   "source": [
    "## 3-4. 결정트리에 사용된 피처들의 중요도를 파악해주세요!"
   ]
  },
  {
   "cell_type": "markdown",
   "metadata": {},
   "source": [
    "* 각 피처들의 중요도를 열 이름과 함께 출력해주세요"
   ]
  },
  {
   "cell_type": "markdown",
   "metadata": {},
   "source": [
    "* 각 피처의 중요도를 barplot을 이용해서 시각화해주세요."
   ]
  },
  {
   "cell_type": "code",
   "execution_count": 12,
   "metadata": {},
   "outputs": [],
   "source": [
    "import seaborn as sns\n",
    "import numpy as np\n",
    "%matplotlib inline"
   ]
  },
  {
   "cell_type": "code",
   "execution_count": null,
   "metadata": {},
   "outputs": [],
   "source": []
  },
  {
   "cell_type": "code",
   "execution_count": null,
   "metadata": {
    "scrolled": true
   },
   "outputs": [],
   "source": []
  },
  {
   "cell_type": "markdown",
   "metadata": {},
   "source": [
    "## 3-5. 가장 중요도가 높다고 판단되는 피처 2개를 선택하여 중요도에 따른 class의 결과값을 산점도로 나타내주세요!"
   ]
  },
  {
   "cell_type": "markdown",
   "metadata": {},
   "source": [
    "* class의 분류는 색으로 판단하며, 동그라미 마크를 사용하고, edgecolor='k'로 해주세요."
   ]
  },
  {
   "cell_type": "code",
   "execution_count": null,
   "metadata": {
    "scrolled": true
   },
   "outputs": [],
   "source": []
  },
  {
   "cell_type": "markdown",
   "metadata": {},
   "source": [
    "# 4. 주어진  'titanic_train.csv'를 GraphViz를 이용하여 결정트리의 규칙을 시각해주세요. 그리고 결정트리 생성에 미친 피처의 중요도를 막대그래프로 나타내주세요!"
   ]
  },
  {
   "cell_type": "markdown",
   "metadata": {},
   "source": [
    "* Survived 속성을 클래스 결정값 데이터 세트로 설정해주세요."
   ]
  },
  {
   "cell_type": "markdown",
   "metadata": {},
   "source": [
    "* 피처는 문자 type의 열은 제외한다."
   ]
  },
  {
   "cell_type": "markdown",
   "metadata": {},
   "source": [
    "* test data는 전체 데이터의 20%로 지정합니다."
   ]
  },
  {
   "cell_type": "markdown",
   "metadata": {},
   "source": [
    "* 과적합 방지를 위해 적절한 max_depth를 사용해주세요."
   ]
  },
  {
   "cell_type": "code",
   "execution_count": 13,
   "metadata": {},
   "outputs": [],
   "source": [
    "from sklearn.tree import DecisionTreeClassifier\n",
    "from sklearn.model_selection import train_test_split\n",
    "from sklearn.model_selection import GridSearchCV\n",
    "from sklearn.tree import export_graphviz\n",
    "import pandas as pd\n",
    "import numpy as np\n",
    "titanic=pd.read_csv('titanic_train.csv')"
   ]
  },
  {
   "cell_type": "code",
   "execution_count": null,
   "metadata": {
    "scrolled": true
   },
   "outputs": [],
   "source": []
  },
  {
   "cell_type": "code",
   "execution_count": null,
   "metadata": {
    "scrolled": true
   },
   "outputs": [],
   "source": []
  },
  {
   "cell_type": "code",
   "execution_count": null,
   "metadata": {},
   "outputs": [],
   "source": []
  },
  {
   "cell_type": "code",
   "execution_count": null,
   "metadata": {},
   "outputs": [],
   "source": []
  },
  {
   "cell_type": "code",
   "execution_count": null,
   "metadata": {},
   "outputs": [],
   "source": []
  },
  {
   "cell_type": "code",
   "execution_count": null,
   "metadata": {},
   "outputs": [],
   "source": []
  },
  {
   "cell_type": "code",
   "execution_count": null,
   "metadata": {},
   "outputs": [],
   "source": []
  }
 ],
 "metadata": {
  "colab": {
   "name": "복습과제 3번(시각화)",
   "provenance": []
  },
  "kernelspec": {
   "display_name": "Python 3",
   "language": "python",
   "name": "python3"
  },
  "language_info": {
   "codemirror_mode": {
    "name": "ipython",
    "version": 3
   },
   "file_extension": ".py",
   "mimetype": "text/x-python",
   "name": "python",
   "nbconvert_exporter": "python",
   "pygments_lexer": "ipython3",
   "version": "3.7.9"
  },
  "varInspector": {
   "cols": {
    "lenName": 16,
    "lenType": 16,
    "lenVar": 40
   },
   "kernels_config": {
    "python": {
     "delete_cmd_postfix": "",
     "delete_cmd_prefix": "del ",
     "library": "var_list.py",
     "varRefreshCmd": "print(var_dic_list())"
    },
    "r": {
     "delete_cmd_postfix": ") ",
     "delete_cmd_prefix": "rm(",
     "library": "var_list.r",
     "varRefreshCmd": "cat(var_dic_list()) "
    }
   },
   "types_to_exclude": [
    "module",
    "function",
    "builtin_function_or_method",
    "instance",
    "_Feature"
   ],
   "window_display": false
  }
 },
 "nbformat": 4,
 "nbformat_minor": 1
}
