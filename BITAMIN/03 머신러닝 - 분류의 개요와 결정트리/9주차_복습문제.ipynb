{
 "cells": [
  {
   "cell_type": "markdown",
   "metadata": {},
   "source": [
    "# 1. 결정 트리 알고리즘 및 지니 계수"
   ]
  },
  {
   "cell_type": "markdown",
   "metadata": {},
   "source": [
    "## 1-1. ㄱ)과 ㄴ)에 들어갈 말을 쓰시오.\n",
    "결정 트리 알고리즘은 균일도를 기반으로 하는 알고리즘으로 쉽고 직관적이라는 장점이 있습니다. \n",
    "하지만 균일도가 다양할수록 트리는 복잡해지고, model이 train data에 너무 잘 맞는 (ㄱ) 문제가 발생합니다.\n",
    "따라서 (ㄴ)을 조정하여 (ㄱ) 문제를 해결 할 수 있습니다.\n"
   ]
  },
  {
   "cell_type": "markdown",
   "metadata": {},
   "source": [
    "답: (ㄱ) 과대적합 (ㄴ) 하이퍼파라미터"
   ]
  },
  {
   "cell_type": "markdown",
   "metadata": {},
   "source": [
    "## 1-2 N1과 N2의 지니 계수를 바탕으로 N의 지니 계수를 계산하시오. (code없이 계산기로 계산하셔도 됩니다.)\n",
    "참고. parent 노드에서 N1과 N2 노드로 나누어지는 구조입니다.\n",
    " \n",
    "        Parent |\tN1\t |  N2\n",
    "    C1     4   |\t3\t  |  1\n",
    "    C2     6   |\t2\t  |  4\n"
   ]
  },
  {
   "cell_type": "code",
   "execution_count": 1,
   "metadata": {},
   "outputs": [
    {
     "data": {
      "text/plain": [
       "0.48"
      ]
     },
     "execution_count": 1,
     "metadata": {},
     "output_type": "execute_result"
    }
   ],
   "source": [
    "Gini_n1 = 1-(3/5)**2-(2/5)**2\n",
    "Gini_n1"
   ]
  },
  {
   "cell_type": "code",
   "execution_count": 2,
   "metadata": {},
   "outputs": [
    {
     "data": {
      "text/plain": [
       "0.31999999999999984"
      ]
     },
     "execution_count": 2,
     "metadata": {},
     "output_type": "execute_result"
    }
   ],
   "source": [
    "Gini_n2 = 1-(1/5)**2-(4/5)**2\n",
    "Gini_n2"
   ]
  },
  {
   "cell_type": "code",
   "execution_count": 3,
   "metadata": {},
   "outputs": [
    {
     "data": {
      "text/plain": [
       "0.3999999999999999"
      ]
     },
     "execution_count": 3,
     "metadata": {},
     "output_type": "execute_result"
    }
   ],
   "source": [
    "Gini = 5/10 * Gini_n1 + 5/10 * Gini_n2\n",
    "Gini"
   ]
  },
  {
   "cell_type": "markdown",
   "metadata": {},
   "source": [
    "# 2. 엔트로피 복습문제"
   ]
  },
  {
   "cell_type": "markdown",
   "metadata": {},
   "source": [
    "## 2-1. 다음 빈칸의 답을 각주로 달아주세요.\n",
    "\n",
    "엔트로피란 ( ㉠ )를 정량화하여 표현한 값이다. \n",
    "어떤 집합의 엔트로피가 높을 수록 그 집단의 특징을 찾는 것이 어렵다. \n",
    "결정 트리의 리프 노드들은 엔트로피가 최소가 되는 방향으로 분류하는 것이 최적의 분류이다. \n",
    "( ㉡ )는 1-엔트로피로 나타내며 ( ㉡ )를 최대화하는 순서로 속성을 배치해야 한다."
   ]
  },
  {
   "cell_type": "markdown",
   "metadata": {},
   "source": [
    "답 : ㉠ 불순도 ㉡ 정보이득지수"
   ]
  },
  {
   "cell_type": "markdown",
   "metadata": {},
   "source": [
    "## 2-2. 파이썬을 사용해서 엔트로피를 직접 계산해보겠습니다. 다음은 엔트로피를 계산하는 함수입니다."
   ]
  },
  {
   "cell_type": "markdown",
   "metadata": {},
   "source": [
    "from IPython.display import Image\n",
    "![title](9주차_복습문제_그림.png) # markdown안에서 나오게 할 때"
   ]
  },
  {
   "cell_type": "code",
   "execution_count": 1,
   "metadata": {},
   "outputs": [],
   "source": [
    "import numpy as np\n",
    "\n",
    "def Entropy(p):\n",
    "    id_p = np.where(p!=0)\n",
    "    return -np.sum(p[id_p]*np.log2(p[id_p]))"
   ]
  },
  {
   "cell_type": "markdown",
   "metadata": {},
   "source": [
    "### 2-2-1. 분할 전 엔트로피를 계산해서 소수점 넷째 자리에서 반올림해주세요. 확률을 np.array로 정의하여 함수 안에 넣어주시면 됩니다."
   ]
  },
  {
   "cell_type": "code",
   "execution_count": 2,
   "metadata": {},
   "outputs": [
    {
     "data": {
      "text/plain": [
       "1.583"
      ]
     },
     "execution_count": 2,
     "metadata": {},
     "output_type": "execute_result"
    }
   ],
   "source": [
    "p_1 = np.array([8/25, 8/25, 9/25])\n",
    "round(Entropy(p_1),3)"
   ]
  },
  {
   "cell_type": "markdown",
   "metadata": {},
   "source": [
    "### 2-2-2. 분할 후 엔트로피를 계산해서 서 소수점 넷째 자리에서 반올림해주세요."
   ]
  },
  {
   "cell_type": "code",
   "execution_count": 3,
   "metadata": {},
   "outputs": [
    {
     "data": {
      "text/plain": [
       "1.551"
      ]
     },
     "execution_count": 3,
     "metadata": {},
     "output_type": "execute_result"
    }
   ],
   "source": [
    "p_2 = np.array([5/13, 5/13, 3/13])\n",
    "p_3 = np.array([3/12, 4/12, 5/12])\n",
    "\n",
    "E = (Entropy(p_2) * 13/25) + (Entropy(p_3) * 12/25)\n",
    "round(E, 3)"
   ]
  },
  {
   "cell_type": "markdown",
   "metadata": {},
   "source": [
    "### 2-2-3. 도출한 결과를 바탕으로 결과를 해석해주세요."
   ]
  },
  {
   "cell_type": "markdown",
   "metadata": {},
   "source": [
    "답: 분할 전 엔트로피는 1.097이고 분할 후 엔트로피는 1.075로 약 0.022 줄어들었으나 큰 차이가 보이지 않아\n",
    "유의미한 분할이 일어났다고 얘기하기 어려움."
   ]
  },
  {
   "cell_type": "markdown",
   "metadata": {
    "id": "hvTGI473zwlU"
   },
   "source": [
    "# 3.breast-cancer 데이터 셋을 활용해서 다음 지시사항에 따라 문제를 풀어주세요."
   ]
  },
  {
   "cell_type": "markdown",
   "metadata": {
    "id": "7FvC6lCvzzLm"
   },
   "source": [
    "## 3-1. 데이터 셋을 활용해서 DecisionTreeClassifier로 학습해주세요!\n",
    "\n"
   ]
  },
  {
   "cell_type": "markdown",
   "metadata": {
    "id": "_1TEw4iP2vA_"
   },
   "source": [
    "* class열을 label로 나머지 열을 feature로 사용하시면 됩니다!"
   ]
  },
  {
   "cell_type": "markdown",
   "metadata": {
    "id": "YJz5mtCK2vlM"
   },
   "source": [
    "* test_size=0.3, random_state=본인 나이로 지정해주세요!"
   ]
  },
  {
   "cell_type": "code",
   "execution_count": 4,
   "metadata": {
    "id": "cYvaciXqzcjm"
   },
   "outputs": [],
   "source": [
    "from sklearn.tree import DecisionTreeClassifier\n",
    "from sklearn.model_selection import train_test_split\n",
    "import pandas as pd\n",
    "import numpy as np\n",
    "uci_path='http://archive.ics.uci.edu/ml/machine-learning-databases/breast-cancer-wisconsin/breast-cancer-wisconsin.data'\n",
    "df=pd.read_csv(uci_path,header=None)\n",
    "df.columns=['id','clump','cell_size','cell_shape','adhesion','epithlial','bare_nuclei','chromatin','normal_nucleoli','mitoses','class']\n",
    "pd.set_option('display.max_columns',15) #최대 열 개수 조정\n",
    "df['bare_nuclei'].replace('?',np.nan,inplace=True)\n",
    "df.dropna(subset=['bare_nuclei'],axis=0,inplace=True) #bare_nuclei 열 누락 데이터 삭제\n",
    "df['bare_nuclei']=df['bare_nuclei'].astype('int') #bare_nuclei 열 정수형 전환"
   ]
  },
  {
   "cell_type": "code",
   "execution_count": 5,
   "metadata": {
    "colab": {
     "base_uri": "https://localhost:8080/"
    },
    "id": "zlysxSkPzhDp",
    "outputId": "7eb7f04f-6521-4baf-bb62-3e06b08a2471"
   },
   "outputs": [
    {
     "data": {
      "text/html": [
       "<div>\n",
       "<style scoped>\n",
       "    .dataframe tbody tr th:only-of-type {\n",
       "        vertical-align: middle;\n",
       "    }\n",
       "\n",
       "    .dataframe tbody tr th {\n",
       "        vertical-align: top;\n",
       "    }\n",
       "\n",
       "    .dataframe thead th {\n",
       "        text-align: right;\n",
       "    }\n",
       "</style>\n",
       "<table border=\"1\" class=\"dataframe\">\n",
       "  <thead>\n",
       "    <tr style=\"text-align: right;\">\n",
       "      <th></th>\n",
       "      <th>id</th>\n",
       "      <th>clump</th>\n",
       "      <th>cell_size</th>\n",
       "      <th>cell_shape</th>\n",
       "      <th>adhesion</th>\n",
       "      <th>epithlial</th>\n",
       "      <th>bare_nuclei</th>\n",
       "      <th>chromatin</th>\n",
       "      <th>normal_nucleoli</th>\n",
       "      <th>mitoses</th>\n",
       "      <th>class</th>\n",
       "    </tr>\n",
       "  </thead>\n",
       "  <tbody>\n",
       "    <tr>\n",
       "      <th>0</th>\n",
       "      <td>1000025</td>\n",
       "      <td>5</td>\n",
       "      <td>1</td>\n",
       "      <td>1</td>\n",
       "      <td>1</td>\n",
       "      <td>2</td>\n",
       "      <td>1</td>\n",
       "      <td>3</td>\n",
       "      <td>1</td>\n",
       "      <td>1</td>\n",
       "      <td>2</td>\n",
       "    </tr>\n",
       "    <tr>\n",
       "      <th>1</th>\n",
       "      <td>1002945</td>\n",
       "      <td>5</td>\n",
       "      <td>4</td>\n",
       "      <td>4</td>\n",
       "      <td>5</td>\n",
       "      <td>7</td>\n",
       "      <td>10</td>\n",
       "      <td>3</td>\n",
       "      <td>2</td>\n",
       "      <td>1</td>\n",
       "      <td>2</td>\n",
       "    </tr>\n",
       "    <tr>\n",
       "      <th>2</th>\n",
       "      <td>1015425</td>\n",
       "      <td>3</td>\n",
       "      <td>1</td>\n",
       "      <td>1</td>\n",
       "      <td>1</td>\n",
       "      <td>2</td>\n",
       "      <td>2</td>\n",
       "      <td>3</td>\n",
       "      <td>1</td>\n",
       "      <td>1</td>\n",
       "      <td>2</td>\n",
       "    </tr>\n",
       "    <tr>\n",
       "      <th>3</th>\n",
       "      <td>1016277</td>\n",
       "      <td>6</td>\n",
       "      <td>8</td>\n",
       "      <td>8</td>\n",
       "      <td>1</td>\n",
       "      <td>3</td>\n",
       "      <td>4</td>\n",
       "      <td>3</td>\n",
       "      <td>7</td>\n",
       "      <td>1</td>\n",
       "      <td>2</td>\n",
       "    </tr>\n",
       "    <tr>\n",
       "      <th>4</th>\n",
       "      <td>1017023</td>\n",
       "      <td>4</td>\n",
       "      <td>1</td>\n",
       "      <td>1</td>\n",
       "      <td>3</td>\n",
       "      <td>2</td>\n",
       "      <td>1</td>\n",
       "      <td>3</td>\n",
       "      <td>1</td>\n",
       "      <td>1</td>\n",
       "      <td>2</td>\n",
       "    </tr>\n",
       "  </tbody>\n",
       "</table>\n",
       "</div>"
      ],
      "text/plain": [
       "        id  clump  cell_size  cell_shape  adhesion  epithlial  bare_nuclei  \\\n",
       "0  1000025      5          1           1         1          2            1   \n",
       "1  1002945      5          4           4         5          7           10   \n",
       "2  1015425      3          1           1         1          2            2   \n",
       "3  1016277      6          8           8         1          3            4   \n",
       "4  1017023      4          1           1         3          2            1   \n",
       "\n",
       "   chromatin  normal_nucleoli  mitoses  class  \n",
       "0          3                1        1      2  \n",
       "1          3                2        1      2  \n",
       "2          3                1        1      2  \n",
       "3          3                7        1      2  \n",
       "4          3                1        1      2  "
      ]
     },
     "execution_count": 5,
     "metadata": {},
     "output_type": "execute_result"
    }
   ],
   "source": [
    "df.head()"
   ]
  },
  {
   "cell_type": "code",
   "execution_count": 6,
   "metadata": {},
   "outputs": [],
   "source": [
    "df_label = df['class']\n",
    "df_features = df.drop('class',axis=1)"
   ]
  },
  {
   "cell_type": "code",
   "execution_count": 7,
   "metadata": {},
   "outputs": [
    {
     "data": {
      "text/plain": [
       "Index(['id', 'clump', 'cell_size', 'cell_shape', 'adhesion', 'epithlial',\n",
       "       'bare_nuclei', 'chromatin', 'normal_nucleoli', 'mitoses'],\n",
       "      dtype='object')"
      ]
     },
     "execution_count": 7,
     "metadata": {},
     "output_type": "execute_result"
    }
   ],
   "source": [
    "df_features.columns"
   ]
  },
  {
   "cell_type": "code",
   "execution_count": 8,
   "metadata": {},
   "outputs": [
    {
     "data": {
      "text/plain": [
       "2    444\n",
       "4    239\n",
       "Name: class, dtype: int64"
      ]
     },
     "execution_count": 8,
     "metadata": {},
     "output_type": "execute_result"
    }
   ],
   "source": [
    "df_label.value_counts()"
   ]
  },
  {
   "cell_type": "code",
   "execution_count": 9,
   "metadata": {},
   "outputs": [
    {
     "data": {
      "text/plain": [
       "DecisionTreeClassifier(random_state=26)"
      ]
     },
     "execution_count": 9,
     "metadata": {},
     "output_type": "execute_result"
    }
   ],
   "source": [
    "X_train, X_test, y_train, y_test = train_test_split(df_features,df_label,test_size=0.3,random_state=26)\n",
    "dt_clf = DecisionTreeClassifier(random_state=26)\n",
    "dt_clf.fit(X_train, y_train)"
   ]
  },
  {
   "cell_type": "markdown",
   "metadata": {
    "id": "u6IKzxcAz9pq"
   },
   "source": [
    "## 3-2. 학습한 모델을 graphviz모듈로 시각화 해주세요.\n",
    "\n"
   ]
  },
  {
   "cell_type": "markdown",
   "metadata": {
    "id": "KFsq7Q5J2gub"
   },
   "source": [
    "* 하이퍼 파라미터는 제어하지 말아주세요!"
   ]
  },
  {
   "cell_type": "markdown",
   "metadata": {
    "id": "1qmD3pQ22WN-"
   },
   "source": [
    "* class_names=['2','4']로 지정해 주세요!\n"
   ]
  },
  {
   "cell_type": "markdown",
   "metadata": {
    "id": "8k4biaYy25R5"
   },
   "source": [
    "* impurity와 filled 속성은 True로 지정해주세요!"
   ]
  },
  {
   "cell_type": "markdown",
   "metadata": {
    "id": "NLozQ_H-2WLQ"
   },
   "source": [
    "* 결정 트리 시각화 결과 모형에 어떤 문제점이 있는지 간단히 서술해주세요!"
   ]
  },
  {
   "cell_type": "code",
   "execution_count": 11,
   "metadata": {
    "colab": {
     "base_uri": "https://localhost:8080/",
     "height": 1000
    },
    "id": "63xy0sb5zhGc",
    "outputId": "2e6ff8d0-9aef-41b0-afcb-718f683a0d78"
   },
   "outputs": [
    {
     "data": {
      "image/svg+xml": [
       "<?xml version=\"1.0\" encoding=\"UTF-8\" standalone=\"no\"?>\r\n",
       "<!DOCTYPE svg PUBLIC \"-//W3C//DTD SVG 1.1//EN\"\r\n",
       " \"http://www.w3.org/Graphics/SVG/1.1/DTD/svg11.dtd\">\r\n",
       "<!-- Generated by graphviz version 2.38.0 (20140413.2041)\r\n",
       " -->\r\n",
       "<!-- Title: Tree Pages: 1 -->\r\n",
       "<svg width=\"1777pt\" height=\"790pt\"\r\n",
       " viewBox=\"0.00 0.00 1777.00 790.00\" xmlns=\"http://www.w3.org/2000/svg\" xmlns:xlink=\"http://www.w3.org/1999/xlink\">\r\n",
       "<g id=\"graph0\" class=\"graph\" transform=\"scale(1 1) rotate(0) translate(4 786)\">\r\n",
       "<title>Tree</title>\r\n",
       "<polygon fill=\"white\" stroke=\"none\" points=\"-4,4 -4,-786 1773,-786 1773,4 -4,4\"/>\r\n",
       "<!-- 0 -->\r\n",
       "<g id=\"node1\" class=\"node\"><title>0</title>\r\n",
       "<polygon fill=\"#f3c6a5\" stroke=\"black\" points=\"796,-782 678,-782 678,-699 796,-699 796,-782\"/>\r\n",
       "<text text-anchor=\"middle\" x=\"737\" y=\"-766.8\" font-family=\"Times New Roman,serif\" font-size=\"14.00\">cell_size &lt;= 3.5</text>\r\n",
       "<text text-anchor=\"middle\" x=\"737\" y=\"-751.8\" font-family=\"Times New Roman,serif\" font-size=\"14.00\">gini = 0.457</text>\r\n",
       "<text text-anchor=\"middle\" x=\"737\" y=\"-736.8\" font-family=\"Times New Roman,serif\" font-size=\"14.00\">samples = 478</text>\r\n",
       "<text text-anchor=\"middle\" x=\"737\" y=\"-721.8\" font-family=\"Times New Roman,serif\" font-size=\"14.00\">value = [309, 169]</text>\r\n",
       "<text text-anchor=\"middle\" x=\"737\" y=\"-706.8\" font-family=\"Times New Roman,serif\" font-size=\"14.00\">class = 2</text>\r\n",
       "</g>\r\n",
       "<!-- 1 -->\r\n",
       "<g id=\"node2\" class=\"node\"><title>1</title>\r\n",
       "<polygon fill=\"#e78c49\" stroke=\"black\" points=\"514,-663 392,-663 392,-580 514,-580 514,-663\"/>\r\n",
       "<text text-anchor=\"middle\" x=\"453\" y=\"-647.8\" font-family=\"Times New Roman,serif\" font-size=\"14.00\">bare_nuclei &lt;= 3.5</text>\r\n",
       "<text text-anchor=\"middle\" x=\"453\" y=\"-632.8\" font-family=\"Times New Roman,serif\" font-size=\"14.00\">gini = 0.142</text>\r\n",
       "<text text-anchor=\"middle\" x=\"453\" y=\"-617.8\" font-family=\"Times New Roman,serif\" font-size=\"14.00\">samples = 325</text>\r\n",
       "<text text-anchor=\"middle\" x=\"453\" y=\"-602.8\" font-family=\"Times New Roman,serif\" font-size=\"14.00\">value = [300, 25]</text>\r\n",
       "<text text-anchor=\"middle\" x=\"453\" y=\"-587.8\" font-family=\"Times New Roman,serif\" font-size=\"14.00\">class = 2</text>\r\n",
       "</g>\r\n",
       "<!-- 0&#45;&gt;1 -->\r\n",
       "<g id=\"edge1\" class=\"edge\"><title>0&#45;&gt;1</title>\r\n",
       "<path fill=\"none\" stroke=\"black\" d=\"M677.81,-715.115C632.851,-696.594 570.869,-671.059 523.371,-651.491\"/>\r\n",
       "<polygon fill=\"black\" stroke=\"black\" points=\"524.654,-648.234 514.074,-647.661 521.987,-654.706 524.654,-648.234\"/>\r\n",
       "<text text-anchor=\"middle\" x=\"523.686\" y=\"-667.04\" font-family=\"Times New Roman,serif\" font-size=\"14.00\">True</text>\r\n",
       "</g>\r\n",
       "<!-- 18 -->\r\n",
       "<g id=\"node19\" class=\"node\"><title>18</title>\r\n",
       "<polygon fill=\"#45a3e7\" stroke=\"black\" points=\"1089.5,-663 984.5,-663 984.5,-580 1089.5,-580 1089.5,-663\"/>\r\n",
       "<text text-anchor=\"middle\" x=\"1037\" y=\"-647.8\" font-family=\"Times New Roman,serif\" font-size=\"14.00\">cell_size &lt;= 4.5</text>\r\n",
       "<text text-anchor=\"middle\" x=\"1037\" y=\"-632.8\" font-family=\"Times New Roman,serif\" font-size=\"14.00\">gini = 0.111</text>\r\n",
       "<text text-anchor=\"middle\" x=\"1037\" y=\"-617.8\" font-family=\"Times New Roman,serif\" font-size=\"14.00\">samples = 153</text>\r\n",
       "<text text-anchor=\"middle\" x=\"1037\" y=\"-602.8\" font-family=\"Times New Roman,serif\" font-size=\"14.00\">value = [9, 144]</text>\r\n",
       "<text text-anchor=\"middle\" x=\"1037\" y=\"-587.8\" font-family=\"Times New Roman,serif\" font-size=\"14.00\">class = 4</text>\r\n",
       "</g>\r\n",
       "<!-- 0&#45;&gt;18 -->\r\n",
       "<g id=\"edge18\" class=\"edge\"><title>0&#45;&gt;18</title>\r\n",
       "<path fill=\"none\" stroke=\"black\" d=\"M796.27,-716.385C847.873,-696.26 922.422,-667.186 974.854,-646.737\"/>\r\n",
       "<polygon fill=\"black\" stroke=\"black\" points=\"976.332,-649.917 984.377,-643.023 973.788,-643.396 976.332,-649.917\"/>\r\n",
       "<text text-anchor=\"middle\" x=\"974.33\" y=\"-662.216\" font-family=\"Times New Roman,serif\" font-size=\"14.00\">False</text>\r\n",
       "</g>\r\n",
       "<!-- 2 -->\r\n",
       "<g id=\"node3\" class=\"node\"><title>2</title>\r\n",
       "<polygon fill=\"#e5823b\" stroke=\"black\" points=\"253,-544 107,-544 107,-461 253,-461 253,-544\"/>\r\n",
       "<text text-anchor=\"middle\" x=\"180\" y=\"-528.8\" font-family=\"Times New Roman,serif\" font-size=\"14.00\">normal_nucleoli &lt;= 2.5</text>\r\n",
       "<text text-anchor=\"middle\" x=\"180\" y=\"-513.8\" font-family=\"Times New Roman,serif\" font-size=\"14.00\">gini = 0.02</text>\r\n",
       "<text text-anchor=\"middle\" x=\"180\" y=\"-498.8\" font-family=\"Times New Roman,serif\" font-size=\"14.00\">samples = 292</text>\r\n",
       "<text text-anchor=\"middle\" x=\"180\" y=\"-483.8\" font-family=\"Times New Roman,serif\" font-size=\"14.00\">value = [289, 3]</text>\r\n",
       "<text text-anchor=\"middle\" x=\"180\" y=\"-468.8\" font-family=\"Times New Roman,serif\" font-size=\"14.00\">class = 2</text>\r\n",
       "</g>\r\n",
       "<!-- 1&#45;&gt;2 -->\r\n",
       "<g id=\"edge2\" class=\"edge\"><title>1&#45;&gt;2</title>\r\n",
       "<path fill=\"none\" stroke=\"black\" d=\"M391.733,-594.243C353.588,-577.895 304.042,-556.661 262.47,-538.844\"/>\r\n",
       "<polygon fill=\"black\" stroke=\"black\" points=\"263.753,-535.586 253.183,-534.864 260.996,-542.02 263.753,-535.586\"/>\r\n",
       "</g>\r\n",
       "<!-- 7 -->\r\n",
       "<g id=\"node8\" class=\"node\"><title>7</title>\r\n",
       "<polygon fill=\"#9ccef2\" stroke=\"black\" points=\"509.5,-544 396.5,-544 396.5,-461 509.5,-461 509.5,-544\"/>\r\n",
       "<text text-anchor=\"middle\" x=\"453\" y=\"-528.8\" font-family=\"Times New Roman,serif\" font-size=\"14.00\">chromatin &lt;= 1.5</text>\r\n",
       "<text text-anchor=\"middle\" x=\"453\" y=\"-513.8\" font-family=\"Times New Roman,serif\" font-size=\"14.00\">gini = 0.444</text>\r\n",
       "<text text-anchor=\"middle\" x=\"453\" y=\"-498.8\" font-family=\"Times New Roman,serif\" font-size=\"14.00\">samples = 33</text>\r\n",
       "<text text-anchor=\"middle\" x=\"453\" y=\"-483.8\" font-family=\"Times New Roman,serif\" font-size=\"14.00\">value = [11, 22]</text>\r\n",
       "<text text-anchor=\"middle\" x=\"453\" y=\"-468.8\" font-family=\"Times New Roman,serif\" font-size=\"14.00\">class = 4</text>\r\n",
       "</g>\r\n",
       "<!-- 1&#45;&gt;7 -->\r\n",
       "<g id=\"edge7\" class=\"edge\"><title>1&#45;&gt;7</title>\r\n",
       "<path fill=\"none\" stroke=\"black\" d=\"M453,-579.907C453,-571.649 453,-562.864 453,-554.302\"/>\r\n",
       "<polygon fill=\"black\" stroke=\"black\" points=\"456.5,-554.021 453,-544.021 449.5,-554.021 456.5,-554.021\"/>\r\n",
       "</g>\r\n",
       "<!-- 3 -->\r\n",
       "<g id=\"node4\" class=\"node\"><title>3</title>\r\n",
       "<polygon fill=\"#e58139\" stroke=\"black\" points=\"104,-417.5 0,-417.5 0,-349.5 104,-349.5 104,-417.5\"/>\r\n",
       "<text text-anchor=\"middle\" x=\"52\" y=\"-402.3\" font-family=\"Times New Roman,serif\" font-size=\"14.00\">gini = 0.0</text>\r\n",
       "<text text-anchor=\"middle\" x=\"52\" y=\"-387.3\" font-family=\"Times New Roman,serif\" font-size=\"14.00\">samples = 280</text>\r\n",
       "<text text-anchor=\"middle\" x=\"52\" y=\"-372.3\" font-family=\"Times New Roman,serif\" font-size=\"14.00\">value = [280, 0]</text>\r\n",
       "<text text-anchor=\"middle\" x=\"52\" y=\"-357.3\" font-family=\"Times New Roman,serif\" font-size=\"14.00\">class = 2</text>\r\n",
       "</g>\r\n",
       "<!-- 2&#45;&gt;3 -->\r\n",
       "<g id=\"edge3\" class=\"edge\"><title>2&#45;&gt;3</title>\r\n",
       "<path fill=\"none\" stroke=\"black\" d=\"M135.591,-460.907C122.674,-449.101 108.579,-436.217 95.7055,-424.45\"/>\r\n",
       "<polygon fill=\"black\" stroke=\"black\" points=\"98.0277,-421.83 88.2852,-417.667 93.3049,-426.997 98.0277,-421.83\"/>\r\n",
       "</g>\r\n",
       "<!-- 4 -->\r\n",
       "<g id=\"node5\" class=\"node\"><title>4</title>\r\n",
       "<polygon fill=\"#eeab7b\" stroke=\"black\" points=\"238,-425 122,-425 122,-342 238,-342 238,-425\"/>\r\n",
       "<text text-anchor=\"middle\" x=\"180\" y=\"-409.8\" font-family=\"Times New Roman,serif\" font-size=\"14.00\">cell_shape &lt;= 2.5</text>\r\n",
       "<text text-anchor=\"middle\" x=\"180\" y=\"-394.8\" font-family=\"Times New Roman,serif\" font-size=\"14.00\">gini = 0.375</text>\r\n",
       "<text text-anchor=\"middle\" x=\"180\" y=\"-379.8\" font-family=\"Times New Roman,serif\" font-size=\"14.00\">samples = 12</text>\r\n",
       "<text text-anchor=\"middle\" x=\"180\" y=\"-364.8\" font-family=\"Times New Roman,serif\" font-size=\"14.00\">value = [9, 3]</text>\r\n",
       "<text text-anchor=\"middle\" x=\"180\" y=\"-349.8\" font-family=\"Times New Roman,serif\" font-size=\"14.00\">class = 2</text>\r\n",
       "</g>\r\n",
       "<!-- 2&#45;&gt;4 -->\r\n",
       "<g id=\"edge4\" class=\"edge\"><title>2&#45;&gt;4</title>\r\n",
       "<path fill=\"none\" stroke=\"black\" d=\"M180,-460.907C180,-452.649 180,-443.864 180,-435.302\"/>\r\n",
       "<polygon fill=\"black\" stroke=\"black\" points=\"183.5,-435.021 180,-425.021 176.5,-435.021 183.5,-435.021\"/>\r\n",
       "</g>\r\n",
       "<!-- 5 -->\r\n",
       "<g id=\"node6\" class=\"node\"><title>5</title>\r\n",
       "<polygon fill=\"#e58139\" stroke=\"black\" points=\"116.5,-298.5 25.5,-298.5 25.5,-230.5 116.5,-230.5 116.5,-298.5\"/>\r\n",
       "<text text-anchor=\"middle\" x=\"71\" y=\"-283.3\" font-family=\"Times New Roman,serif\" font-size=\"14.00\">gini = 0.0</text>\r\n",
       "<text text-anchor=\"middle\" x=\"71\" y=\"-268.3\" font-family=\"Times New Roman,serif\" font-size=\"14.00\">samples = 9</text>\r\n",
       "<text text-anchor=\"middle\" x=\"71\" y=\"-253.3\" font-family=\"Times New Roman,serif\" font-size=\"14.00\">value = [9, 0]</text>\r\n",
       "<text text-anchor=\"middle\" x=\"71\" y=\"-238.3\" font-family=\"Times New Roman,serif\" font-size=\"14.00\">class = 2</text>\r\n",
       "</g>\r\n",
       "<!-- 4&#45;&gt;5 -->\r\n",
       "<g id=\"edge5\" class=\"edge\"><title>4&#45;&gt;5</title>\r\n",
       "<path fill=\"none\" stroke=\"black\" d=\"M142.183,-341.907C131.389,-330.321 119.629,-317.698 108.834,-306.111\"/>\r\n",
       "<polygon fill=\"black\" stroke=\"black\" points=\"111.277,-303.598 101.899,-298.667 106.155,-308.37 111.277,-303.598\"/>\r\n",
       "</g>\r\n",
       "<!-- 6 -->\r\n",
       "<g id=\"node7\" class=\"node\"><title>6</title>\r\n",
       "<polygon fill=\"#399de5\" stroke=\"black\" points=\"225.5,-298.5 134.5,-298.5 134.5,-230.5 225.5,-230.5 225.5,-298.5\"/>\r\n",
       "<text text-anchor=\"middle\" x=\"180\" y=\"-283.3\" font-family=\"Times New Roman,serif\" font-size=\"14.00\">gini = 0.0</text>\r\n",
       "<text text-anchor=\"middle\" x=\"180\" y=\"-268.3\" font-family=\"Times New Roman,serif\" font-size=\"14.00\">samples = 3</text>\r\n",
       "<text text-anchor=\"middle\" x=\"180\" y=\"-253.3\" font-family=\"Times New Roman,serif\" font-size=\"14.00\">value = [0, 3]</text>\r\n",
       "<text text-anchor=\"middle\" x=\"180\" y=\"-238.3\" font-family=\"Times New Roman,serif\" font-size=\"14.00\">class = 4</text>\r\n",
       "</g>\r\n",
       "<!-- 4&#45;&gt;6 -->\r\n",
       "<g id=\"edge6\" class=\"edge\"><title>4&#45;&gt;6</title>\r\n",
       "<path fill=\"none\" stroke=\"black\" d=\"M180,-341.907C180,-331.204 180,-319.615 180,-308.776\"/>\r\n",
       "<polygon fill=\"black\" stroke=\"black\" points=\"183.5,-308.667 180,-298.667 176.5,-308.667 183.5,-308.667\"/>\r\n",
       "</g>\r\n",
       "<!-- 8 -->\r\n",
       "<g id=\"node9\" class=\"node\"><title>8</title>\r\n",
       "<polygon fill=\"#eb9d65\" stroke=\"black\" points=\"450,-425 328,-425 328,-342 450,-342 450,-425\"/>\r\n",
       "<text text-anchor=\"middle\" x=\"389\" y=\"-409.8\" font-family=\"Times New Roman,serif\" font-size=\"14.00\">bare_nuclei &lt;= 5.5</text>\r\n",
       "<text text-anchor=\"middle\" x=\"389\" y=\"-394.8\" font-family=\"Times New Roman,serif\" font-size=\"14.00\">gini = 0.298</text>\r\n",
       "<text text-anchor=\"middle\" x=\"389\" y=\"-379.8\" font-family=\"Times New Roman,serif\" font-size=\"14.00\">samples = 11</text>\r\n",
       "<text text-anchor=\"middle\" x=\"389\" y=\"-364.8\" font-family=\"Times New Roman,serif\" font-size=\"14.00\">value = [9, 2]</text>\r\n",
       "<text text-anchor=\"middle\" x=\"389\" y=\"-349.8\" font-family=\"Times New Roman,serif\" font-size=\"14.00\">class = 2</text>\r\n",
       "</g>\r\n",
       "<!-- 7&#45;&gt;8 -->\r\n",
       "<g id=\"edge8\" class=\"edge\"><title>7&#45;&gt;8</title>\r\n",
       "<path fill=\"none\" stroke=\"black\" d=\"M430.796,-460.907C426.03,-452.195 420.944,-442.897 416.019,-433.893\"/>\r\n",
       "<polygon fill=\"black\" stroke=\"black\" points=\"419.035,-432.114 411.165,-425.021 412.894,-435.474 419.035,-432.114\"/>\r\n",
       "</g>\r\n",
       "<!-- 11 -->\r\n",
       "<g id=\"node12\" class=\"node\"><title>11</title>\r\n",
       "<polygon fill=\"#4da7e8\" stroke=\"black\" points=\"566,-425 468,-425 468,-342 566,-342 566,-425\"/>\r\n",
       "<text text-anchor=\"middle\" x=\"517\" y=\"-409.8\" font-family=\"Times New Roman,serif\" font-size=\"14.00\">clump &lt;= 1.5</text>\r\n",
       "<text text-anchor=\"middle\" x=\"517\" y=\"-394.8\" font-family=\"Times New Roman,serif\" font-size=\"14.00\">gini = 0.165</text>\r\n",
       "<text text-anchor=\"middle\" x=\"517\" y=\"-379.8\" font-family=\"Times New Roman,serif\" font-size=\"14.00\">samples = 22</text>\r\n",
       "<text text-anchor=\"middle\" x=\"517\" y=\"-364.8\" font-family=\"Times New Roman,serif\" font-size=\"14.00\">value = [2, 20]</text>\r\n",
       "<text text-anchor=\"middle\" x=\"517\" y=\"-349.8\" font-family=\"Times New Roman,serif\" font-size=\"14.00\">class = 4</text>\r\n",
       "</g>\r\n",
       "<!-- 7&#45;&gt;11 -->\r\n",
       "<g id=\"edge11\" class=\"edge\"><title>7&#45;&gt;11</title>\r\n",
       "<path fill=\"none\" stroke=\"black\" d=\"M475.204,-460.907C479.97,-452.195 485.056,-442.897 489.981,-433.893\"/>\r\n",
       "<polygon fill=\"black\" stroke=\"black\" points=\"493.106,-435.474 494.835,-425.021 486.965,-432.114 493.106,-435.474\"/>\r\n",
       "</g>\r\n",
       "<!-- 9 -->\r\n",
       "<g id=\"node10\" class=\"node\"><title>9</title>\r\n",
       "<polygon fill=\"#e58139\" stroke=\"black\" points=\"334.5,-298.5 243.5,-298.5 243.5,-230.5 334.5,-230.5 334.5,-298.5\"/>\r\n",
       "<text text-anchor=\"middle\" x=\"289\" y=\"-283.3\" font-family=\"Times New Roman,serif\" font-size=\"14.00\">gini = 0.0</text>\r\n",
       "<text text-anchor=\"middle\" x=\"289\" y=\"-268.3\" font-family=\"Times New Roman,serif\" font-size=\"14.00\">samples = 9</text>\r\n",
       "<text text-anchor=\"middle\" x=\"289\" y=\"-253.3\" font-family=\"Times New Roman,serif\" font-size=\"14.00\">value = [9, 0]</text>\r\n",
       "<text text-anchor=\"middle\" x=\"289\" y=\"-238.3\" font-family=\"Times New Roman,serif\" font-size=\"14.00\">class = 2</text>\r\n",
       "</g>\r\n",
       "<!-- 8&#45;&gt;9 -->\r\n",
       "<g id=\"edge9\" class=\"edge\"><title>8&#45;&gt;9</title>\r\n",
       "<path fill=\"none\" stroke=\"black\" d=\"M354.305,-341.907C344.497,-330.432 333.819,-317.938 323.993,-306.442\"/>\r\n",
       "<polygon fill=\"black\" stroke=\"black\" points=\"326.506,-303.995 317.348,-298.667 321.184,-308.543 326.506,-303.995\"/>\r\n",
       "</g>\r\n",
       "<!-- 10 -->\r\n",
       "<g id=\"node11\" class=\"node\"><title>10</title>\r\n",
       "<polygon fill=\"#399de5\" stroke=\"black\" points=\"443.5,-298.5 352.5,-298.5 352.5,-230.5 443.5,-230.5 443.5,-298.5\"/>\r\n",
       "<text text-anchor=\"middle\" x=\"398\" y=\"-283.3\" font-family=\"Times New Roman,serif\" font-size=\"14.00\">gini = 0.0</text>\r\n",
       "<text text-anchor=\"middle\" x=\"398\" y=\"-268.3\" font-family=\"Times New Roman,serif\" font-size=\"14.00\">samples = 2</text>\r\n",
       "<text text-anchor=\"middle\" x=\"398\" y=\"-253.3\" font-family=\"Times New Roman,serif\" font-size=\"14.00\">value = [0, 2]</text>\r\n",
       "<text text-anchor=\"middle\" x=\"398\" y=\"-238.3\" font-family=\"Times New Roman,serif\" font-size=\"14.00\">class = 4</text>\r\n",
       "</g>\r\n",
       "<!-- 8&#45;&gt;10 -->\r\n",
       "<g id=\"edge10\" class=\"edge\"><title>8&#45;&gt;10</title>\r\n",
       "<path fill=\"none\" stroke=\"black\" d=\"M392.123,-341.907C392.946,-331.204 393.837,-319.615 394.671,-308.776\"/>\r\n",
       "<polygon fill=\"black\" stroke=\"black\" points=\"398.171,-308.906 395.449,-298.667 391.192,-308.369 398.171,-308.906\"/>\r\n",
       "</g>\r\n",
       "<!-- 12 -->\r\n",
       "<g id=\"node13\" class=\"node\"><title>12</title>\r\n",
       "<polygon fill=\"#e58139\" stroke=\"black\" points=\"552.5,-298.5 461.5,-298.5 461.5,-230.5 552.5,-230.5 552.5,-298.5\"/>\r\n",
       "<text text-anchor=\"middle\" x=\"507\" y=\"-283.3\" font-family=\"Times New Roman,serif\" font-size=\"14.00\">gini = 0.0</text>\r\n",
       "<text text-anchor=\"middle\" x=\"507\" y=\"-268.3\" font-family=\"Times New Roman,serif\" font-size=\"14.00\">samples = 1</text>\r\n",
       "<text text-anchor=\"middle\" x=\"507\" y=\"-253.3\" font-family=\"Times New Roman,serif\" font-size=\"14.00\">value = [1, 0]</text>\r\n",
       "<text text-anchor=\"middle\" x=\"507\" y=\"-238.3\" font-family=\"Times New Roman,serif\" font-size=\"14.00\">class = 2</text>\r\n",
       "</g>\r\n",
       "<!-- 11&#45;&gt;12 -->\r\n",
       "<g id=\"edge12\" class=\"edge\"><title>11&#45;&gt;12</title>\r\n",
       "<path fill=\"none\" stroke=\"black\" d=\"M513.531,-341.907C512.616,-331.204 511.625,-319.615 510.699,-308.776\"/>\r\n",
       "<polygon fill=\"black\" stroke=\"black\" points=\"514.174,-308.333 509.835,-298.667 507.199,-308.929 514.174,-308.333\"/>\r\n",
       "</g>\r\n",
       "<!-- 13 -->\r\n",
       "<g id=\"node14\" class=\"node\"><title>13</title>\r\n",
       "<polygon fill=\"#43a2e6\" stroke=\"black\" points=\"671.5,-306 570.5,-306 570.5,-223 671.5,-223 671.5,-306\"/>\r\n",
       "<text text-anchor=\"middle\" x=\"621\" y=\"-290.8\" font-family=\"Times New Roman,serif\" font-size=\"14.00\">mitoses &lt;= 2.5</text>\r\n",
       "<text text-anchor=\"middle\" x=\"621\" y=\"-275.8\" font-family=\"Times New Roman,serif\" font-size=\"14.00\">gini = 0.091</text>\r\n",
       "<text text-anchor=\"middle\" x=\"621\" y=\"-260.8\" font-family=\"Times New Roman,serif\" font-size=\"14.00\">samples = 21</text>\r\n",
       "<text text-anchor=\"middle\" x=\"621\" y=\"-245.8\" font-family=\"Times New Roman,serif\" font-size=\"14.00\">value = [1, 20]</text>\r\n",
       "<text text-anchor=\"middle\" x=\"621\" y=\"-230.8\" font-family=\"Times New Roman,serif\" font-size=\"14.00\">class = 4</text>\r\n",
       "</g>\r\n",
       "<!-- 11&#45;&gt;13 -->\r\n",
       "<g id=\"edge13\" class=\"edge\"><title>11&#45;&gt;13</title>\r\n",
       "<path fill=\"none\" stroke=\"black\" d=\"M553.082,-341.907C561.149,-332.832 569.781,-323.121 578.094,-313.769\"/>\r\n",
       "<polygon fill=\"black\" stroke=\"black\" points=\"580.954,-315.82 584.982,-306.021 575.722,-311.17 580.954,-315.82\"/>\r\n",
       "</g>\r\n",
       "<!-- 14 -->\r\n",
       "<g id=\"node15\" class=\"node\"><title>14</title>\r\n",
       "<polygon fill=\"#399de5\" stroke=\"black\" points=\"530,-179.5 432,-179.5 432,-111.5 530,-111.5 530,-179.5\"/>\r\n",
       "<text text-anchor=\"middle\" x=\"481\" y=\"-164.3\" font-family=\"Times New Roman,serif\" font-size=\"14.00\">gini = 0.0</text>\r\n",
       "<text text-anchor=\"middle\" x=\"481\" y=\"-149.3\" font-family=\"Times New Roman,serif\" font-size=\"14.00\">samples = 18</text>\r\n",
       "<text text-anchor=\"middle\" x=\"481\" y=\"-134.3\" font-family=\"Times New Roman,serif\" font-size=\"14.00\">value = [0, 18]</text>\r\n",
       "<text text-anchor=\"middle\" x=\"481\" y=\"-119.3\" font-family=\"Times New Roman,serif\" font-size=\"14.00\">class = 4</text>\r\n",
       "</g>\r\n",
       "<!-- 13&#45;&gt;14 -->\r\n",
       "<g id=\"edge14\" class=\"edge\"><title>13&#45;&gt;14</title>\r\n",
       "<path fill=\"none\" stroke=\"black\" d=\"M572.428,-222.907C558.168,-210.99 542.595,-197.976 528.408,-186.12\"/>\r\n",
       "<polygon fill=\"black\" stroke=\"black\" points=\"530.605,-183.394 520.687,-179.667 526.116,-188.765 530.605,-183.394\"/>\r\n",
       "</g>\r\n",
       "<!-- 15 -->\r\n",
       "<g id=\"node16\" class=\"node\"><title>15</title>\r\n",
       "<polygon fill=\"#9ccef2\" stroke=\"black\" points=\"694,-187 548,-187 548,-104 694,-104 694,-187\"/>\r\n",
       "<text text-anchor=\"middle\" x=\"621\" y=\"-171.8\" font-family=\"Times New Roman,serif\" font-size=\"14.00\">normal_nucleoli &lt;= 4.5</text>\r\n",
       "<text text-anchor=\"middle\" x=\"621\" y=\"-156.8\" font-family=\"Times New Roman,serif\" font-size=\"14.00\">gini = 0.444</text>\r\n",
       "<text text-anchor=\"middle\" x=\"621\" y=\"-141.8\" font-family=\"Times New Roman,serif\" font-size=\"14.00\">samples = 3</text>\r\n",
       "<text text-anchor=\"middle\" x=\"621\" y=\"-126.8\" font-family=\"Times New Roman,serif\" font-size=\"14.00\">value = [1, 2]</text>\r\n",
       "<text text-anchor=\"middle\" x=\"621\" y=\"-111.8\" font-family=\"Times New Roman,serif\" font-size=\"14.00\">class = 4</text>\r\n",
       "</g>\r\n",
       "<!-- 13&#45;&gt;15 -->\r\n",
       "<g id=\"edge15\" class=\"edge\"><title>13&#45;&gt;15</title>\r\n",
       "<path fill=\"none\" stroke=\"black\" d=\"M621,-222.907C621,-214.649 621,-205.864 621,-197.302\"/>\r\n",
       "<polygon fill=\"black\" stroke=\"black\" points=\"624.5,-197.021 621,-187.021 617.5,-197.021 624.5,-197.021\"/>\r\n",
       "</g>\r\n",
       "<!-- 16 -->\r\n",
       "<g id=\"node17\" class=\"node\"><title>16</title>\r\n",
       "<polygon fill=\"#399de5\" stroke=\"black\" points=\"612.5,-68 521.5,-68 521.5,-0 612.5,-0 612.5,-68\"/>\r\n",
       "<text text-anchor=\"middle\" x=\"567\" y=\"-52.8\" font-family=\"Times New Roman,serif\" font-size=\"14.00\">gini = 0.0</text>\r\n",
       "<text text-anchor=\"middle\" x=\"567\" y=\"-37.8\" font-family=\"Times New Roman,serif\" font-size=\"14.00\">samples = 2</text>\r\n",
       "<text text-anchor=\"middle\" x=\"567\" y=\"-22.8\" font-family=\"Times New Roman,serif\" font-size=\"14.00\">value = [0, 2]</text>\r\n",
       "<text text-anchor=\"middle\" x=\"567\" y=\"-7.8\" font-family=\"Times New Roman,serif\" font-size=\"14.00\">class = 4</text>\r\n",
       "</g>\r\n",
       "<!-- 15&#45;&gt;16 -->\r\n",
       "<g id=\"edge16\" class=\"edge\"><title>15&#45;&gt;16</title>\r\n",
       "<path fill=\"none\" stroke=\"black\" d=\"M600.892,-103.726C596.664,-95.1527 592.195,-86.0891 587.937,-77.4555\"/>\r\n",
       "<polygon fill=\"black\" stroke=\"black\" points=\"590.984,-75.7203 583.422,-68.2996 584.706,-78.8164 590.984,-75.7203\"/>\r\n",
       "</g>\r\n",
       "<!-- 17 -->\r\n",
       "<g id=\"node18\" class=\"node\"><title>17</title>\r\n",
       "<polygon fill=\"#e58139\" stroke=\"black\" points=\"721.5,-68 630.5,-68 630.5,-0 721.5,-0 721.5,-68\"/>\r\n",
       "<text text-anchor=\"middle\" x=\"676\" y=\"-52.8\" font-family=\"Times New Roman,serif\" font-size=\"14.00\">gini = 0.0</text>\r\n",
       "<text text-anchor=\"middle\" x=\"676\" y=\"-37.8\" font-family=\"Times New Roman,serif\" font-size=\"14.00\">samples = 1</text>\r\n",
       "<text text-anchor=\"middle\" x=\"676\" y=\"-22.8\" font-family=\"Times New Roman,serif\" font-size=\"14.00\">value = [1, 0]</text>\r\n",
       "<text text-anchor=\"middle\" x=\"676\" y=\"-7.8\" font-family=\"Times New Roman,serif\" font-size=\"14.00\">class = 2</text>\r\n",
       "</g>\r\n",
       "<!-- 15&#45;&gt;17 -->\r\n",
       "<g id=\"edge17\" class=\"edge\"><title>15&#45;&gt;17</title>\r\n",
       "<path fill=\"none\" stroke=\"black\" d=\"M641.48,-103.726C645.786,-95.1527 650.339,-86.0891 654.675,-77.4555\"/>\r\n",
       "<polygon fill=\"black\" stroke=\"black\" points=\"657.913,-78.8067 659.274,-68.2996 651.658,-75.6647 657.913,-78.8067\"/>\r\n",
       "</g>\r\n",
       "<!-- 19 -->\r\n",
       "<g id=\"node20\" class=\"node\"><title>19</title>\r\n",
       "<polygon fill=\"#72b9ec\" stroke=\"black\" points=\"1091.5,-544 982.5,-544 982.5,-461 1091.5,-461 1091.5,-544\"/>\r\n",
       "<text text-anchor=\"middle\" x=\"1037\" y=\"-528.8\" font-family=\"Times New Roman,serif\" font-size=\"14.00\">id &lt;= 1199492.0</text>\r\n",
       "<text text-anchor=\"middle\" x=\"1037\" y=\"-513.8\" font-family=\"Times New Roman,serif\" font-size=\"14.00\">gini = 0.346</text>\r\n",
       "<text text-anchor=\"middle\" x=\"1037\" y=\"-498.8\" font-family=\"Times New Roman,serif\" font-size=\"14.00\">samples = 27</text>\r\n",
       "<text text-anchor=\"middle\" x=\"1037\" y=\"-483.8\" font-family=\"Times New Roman,serif\" font-size=\"14.00\">value = [6, 21]</text>\r\n",
       "<text text-anchor=\"middle\" x=\"1037\" y=\"-468.8\" font-family=\"Times New Roman,serif\" font-size=\"14.00\">class = 4</text>\r\n",
       "</g>\r\n",
       "<!-- 18&#45;&gt;19 -->\r\n",
       "<g id=\"edge19\" class=\"edge\"><title>18&#45;&gt;19</title>\r\n",
       "<path fill=\"none\" stroke=\"black\" d=\"M1037,-579.907C1037,-571.649 1037,-562.864 1037,-554.302\"/>\r\n",
       "<polygon fill=\"black\" stroke=\"black\" points=\"1040.5,-554.021 1037,-544.021 1033.5,-554.021 1040.5,-554.021\"/>\r\n",
       "</g>\r\n",
       "<!-- 32 -->\r\n",
       "<g id=\"node33\" class=\"node\"><title>32</title>\r\n",
       "<polygon fill=\"#3e9fe6\" stroke=\"black\" points=\"1414.5,-544 1307.5,-544 1307.5,-461 1414.5,-461 1414.5,-544\"/>\r\n",
       "<text text-anchor=\"middle\" x=\"1361\" y=\"-528.8\" font-family=\"Times New Roman,serif\" font-size=\"14.00\">adhesion &lt;= 1.5</text>\r\n",
       "<text text-anchor=\"middle\" x=\"1361\" y=\"-513.8\" font-family=\"Times New Roman,serif\" font-size=\"14.00\">gini = 0.046</text>\r\n",
       "<text text-anchor=\"middle\" x=\"1361\" y=\"-498.8\" font-family=\"Times New Roman,serif\" font-size=\"14.00\">samples = 126</text>\r\n",
       "<text text-anchor=\"middle\" x=\"1361\" y=\"-483.8\" font-family=\"Times New Roman,serif\" font-size=\"14.00\">value = [3, 123]</text>\r\n",
       "<text text-anchor=\"middle\" x=\"1361\" y=\"-468.8\" font-family=\"Times New Roman,serif\" font-size=\"14.00\">class = 4</text>\r\n",
       "</g>\r\n",
       "<!-- 18&#45;&gt;32 -->\r\n",
       "<g id=\"edge32\" class=\"edge\"><title>18&#45;&gt;32</title>\r\n",
       "<path fill=\"none\" stroke=\"black\" d=\"M1089.78,-601.442C1146.71,-580.882 1237.34,-548.156 1297.97,-526.26\"/>\r\n",
       "<polygon fill=\"black\" stroke=\"black\" points=\"1299.22,-529.531 1307.44,-522.842 1296.84,-522.947 1299.22,-529.531\"/>\r\n",
       "</g>\r\n",
       "<!-- 20 -->\r\n",
       "<g id=\"node21\" class=\"node\"><title>20</title>\r\n",
       "<polygon fill=\"#58ace9\" stroke=\"black\" points=\"1022,-425 924,-425 924,-342 1022,-342 1022,-425\"/>\r\n",
       "<text text-anchor=\"middle\" x=\"973\" y=\"-409.8\" font-family=\"Times New Roman,serif\" font-size=\"14.00\">clump &lt;= 4.5</text>\r\n",
       "<text text-anchor=\"middle\" x=\"973\" y=\"-394.8\" font-family=\"Times New Roman,serif\" font-size=\"14.00\">gini = 0.236</text>\r\n",
       "<text text-anchor=\"middle\" x=\"973\" y=\"-379.8\" font-family=\"Times New Roman,serif\" font-size=\"14.00\">samples = 22</text>\r\n",
       "<text text-anchor=\"middle\" x=\"973\" y=\"-364.8\" font-family=\"Times New Roman,serif\" font-size=\"14.00\">value = [3, 19]</text>\r\n",
       "<text text-anchor=\"middle\" x=\"973\" y=\"-349.8\" font-family=\"Times New Roman,serif\" font-size=\"14.00\">class = 4</text>\r\n",
       "</g>\r\n",
       "<!-- 19&#45;&gt;20 -->\r\n",
       "<g id=\"edge20\" class=\"edge\"><title>19&#45;&gt;20</title>\r\n",
       "<path fill=\"none\" stroke=\"black\" d=\"M1014.8,-460.907C1010.03,-452.195 1004.94,-442.897 1000.02,-433.893\"/>\r\n",
       "<polygon fill=\"black\" stroke=\"black\" points=\"1003.03,-432.114 995.165,-425.021 996.894,-435.474 1003.03,-432.114\"/>\r\n",
       "</g>\r\n",
       "<!-- 29 -->\r\n",
       "<g id=\"node30\" class=\"node\"><title>29</title>\r\n",
       "<polygon fill=\"#f6d5bd\" stroke=\"black\" points=\"1162,-425 1040,-425 1040,-342 1162,-342 1162,-425\"/>\r\n",
       "<text text-anchor=\"middle\" x=\"1101\" y=\"-409.8\" font-family=\"Times New Roman,serif\" font-size=\"14.00\">bare_nuclei &lt;= 8.5</text>\r\n",
       "<text text-anchor=\"middle\" x=\"1101\" y=\"-394.8\" font-family=\"Times New Roman,serif\" font-size=\"14.00\">gini = 0.48</text>\r\n",
       "<text text-anchor=\"middle\" x=\"1101\" y=\"-379.8\" font-family=\"Times New Roman,serif\" font-size=\"14.00\">samples = 5</text>\r\n",
       "<text text-anchor=\"middle\" x=\"1101\" y=\"-364.8\" font-family=\"Times New Roman,serif\" font-size=\"14.00\">value = [3, 2]</text>\r\n",
       "<text text-anchor=\"middle\" x=\"1101\" y=\"-349.8\" font-family=\"Times New Roman,serif\" font-size=\"14.00\">class = 2</text>\r\n",
       "</g>\r\n",
       "<!-- 19&#45;&gt;29 -->\r\n",
       "<g id=\"edge29\" class=\"edge\"><title>19&#45;&gt;29</title>\r\n",
       "<path fill=\"none\" stroke=\"black\" d=\"M1059.2,-460.907C1063.97,-452.195 1069.06,-442.897 1073.98,-433.893\"/>\r\n",
       "<polygon fill=\"black\" stroke=\"black\" points=\"1077.11,-435.474 1078.83,-425.021 1070.97,-432.114 1077.11,-435.474\"/>\r\n",
       "</g>\r\n",
       "<!-- 21 -->\r\n",
       "<g id=\"node22\" class=\"node\"><title>21</title>\r\n",
       "<polygon fill=\"#ffffff\" stroke=\"black\" points=\"912,-306 820,-306 820,-223 912,-223 912,-306\"/>\r\n",
       "<text text-anchor=\"middle\" x=\"866\" y=\"-290.8\" font-family=\"Times New Roman,serif\" font-size=\"14.00\">clump &lt;= 3.5</text>\r\n",
       "<text text-anchor=\"middle\" x=\"866\" y=\"-275.8\" font-family=\"Times New Roman,serif\" font-size=\"14.00\">gini = 0.5</text>\r\n",
       "<text text-anchor=\"middle\" x=\"866\" y=\"-260.8\" font-family=\"Times New Roman,serif\" font-size=\"14.00\">samples = 4</text>\r\n",
       "<text text-anchor=\"middle\" x=\"866\" y=\"-245.8\" font-family=\"Times New Roman,serif\" font-size=\"14.00\">value = [2, 2]</text>\r\n",
       "<text text-anchor=\"middle\" x=\"866\" y=\"-230.8\" font-family=\"Times New Roman,serif\" font-size=\"14.00\">class = 2</text>\r\n",
       "</g>\r\n",
       "<!-- 20&#45;&gt;21 -->\r\n",
       "<g id=\"edge21\" class=\"edge\"><title>20&#45;&gt;21</title>\r\n",
       "<path fill=\"none\" stroke=\"black\" d=\"M935.877,-341.907C927.494,-332.742 918.518,-322.927 909.887,-313.489\"/>\r\n",
       "<polygon fill=\"black\" stroke=\"black\" points=\"912.389,-311.038 903.057,-306.021 907.223,-315.762 912.389,-311.038\"/>\r\n",
       "</g>\r\n",
       "<!-- 24 -->\r\n",
       "<g id=\"node25\" class=\"node\"><title>24</title>\r\n",
       "<polygon fill=\"#45a3e7\" stroke=\"black\" points=\"1030,-306 930,-306 930,-223 1030,-223 1030,-306\"/>\r\n",
       "<text text-anchor=\"middle\" x=\"980\" y=\"-290.8\" font-family=\"Times New Roman,serif\" font-size=\"14.00\">epithlial &lt;= 6.5</text>\r\n",
       "<text text-anchor=\"middle\" x=\"980\" y=\"-275.8\" font-family=\"Times New Roman,serif\" font-size=\"14.00\">gini = 0.105</text>\r\n",
       "<text text-anchor=\"middle\" x=\"980\" y=\"-260.8\" font-family=\"Times New Roman,serif\" font-size=\"14.00\">samples = 18</text>\r\n",
       "<text text-anchor=\"middle\" x=\"980\" y=\"-245.8\" font-family=\"Times New Roman,serif\" font-size=\"14.00\">value = [1, 17]</text>\r\n",
       "<text text-anchor=\"middle\" x=\"980\" y=\"-230.8\" font-family=\"Times New Roman,serif\" font-size=\"14.00\">class = 4</text>\r\n",
       "</g>\r\n",
       "<!-- 20&#45;&gt;24 -->\r\n",
       "<g id=\"edge24\" class=\"edge\"><title>20&#45;&gt;24</title>\r\n",
       "<path fill=\"none\" stroke=\"black\" d=\"M975.429,-341.907C975.928,-333.558 976.46,-324.671 976.977,-316.02\"/>\r\n",
       "<polygon fill=\"black\" stroke=\"black\" points=\"980.472,-316.212 977.576,-306.021 973.485,-315.794 980.472,-316.212\"/>\r\n",
       "</g>\r\n",
       "<!-- 22 -->\r\n",
       "<g id=\"node23\" class=\"node\"><title>22</title>\r\n",
       "<polygon fill=\"#399de5\" stroke=\"black\" points=\"803.5,-179.5 712.5,-179.5 712.5,-111.5 803.5,-111.5 803.5,-179.5\"/>\r\n",
       "<text text-anchor=\"middle\" x=\"758\" y=\"-164.3\" font-family=\"Times New Roman,serif\" font-size=\"14.00\">gini = 0.0</text>\r\n",
       "<text text-anchor=\"middle\" x=\"758\" y=\"-149.3\" font-family=\"Times New Roman,serif\" font-size=\"14.00\">samples = 2</text>\r\n",
       "<text text-anchor=\"middle\" x=\"758\" y=\"-134.3\" font-family=\"Times New Roman,serif\" font-size=\"14.00\">value = [0, 2]</text>\r\n",
       "<text text-anchor=\"middle\" x=\"758\" y=\"-119.3\" font-family=\"Times New Roman,serif\" font-size=\"14.00\">class = 4</text>\r\n",
       "</g>\r\n",
       "<!-- 21&#45;&gt;22 -->\r\n",
       "<g id=\"edge22\" class=\"edge\"><title>21&#45;&gt;22</title>\r\n",
       "<path fill=\"none\" stroke=\"black\" d=\"M828.53,-222.907C817.835,-211.321 806.183,-198.698 795.487,-187.111\"/>\r\n",
       "<polygon fill=\"black\" stroke=\"black\" points=\"797.97,-184.641 788.616,-179.667 792.827,-189.389 797.97,-184.641\"/>\r\n",
       "</g>\r\n",
       "<!-- 23 -->\r\n",
       "<g id=\"node24\" class=\"node\"><title>23</title>\r\n",
       "<polygon fill=\"#e58139\" stroke=\"black\" points=\"912.5,-179.5 821.5,-179.5 821.5,-111.5 912.5,-111.5 912.5,-179.5\"/>\r\n",
       "<text text-anchor=\"middle\" x=\"867\" y=\"-164.3\" font-family=\"Times New Roman,serif\" font-size=\"14.00\">gini = 0.0</text>\r\n",
       "<text text-anchor=\"middle\" x=\"867\" y=\"-149.3\" font-family=\"Times New Roman,serif\" font-size=\"14.00\">samples = 2</text>\r\n",
       "<text text-anchor=\"middle\" x=\"867\" y=\"-134.3\" font-family=\"Times New Roman,serif\" font-size=\"14.00\">value = [2, 0]</text>\r\n",
       "<text text-anchor=\"middle\" x=\"867\" y=\"-119.3\" font-family=\"Times New Roman,serif\" font-size=\"14.00\">class = 2</text>\r\n",
       "</g>\r\n",
       "<!-- 21&#45;&gt;23 -->\r\n",
       "<g id=\"edge23\" class=\"edge\"><title>21&#45;&gt;23</title>\r\n",
       "<path fill=\"none\" stroke=\"black\" d=\"M866.347,-222.907C866.438,-212.204 866.537,-200.615 866.63,-189.776\"/>\r\n",
       "<polygon fill=\"black\" stroke=\"black\" points=\"870.131,-189.697 866.717,-179.667 863.131,-189.637 870.131,-189.697\"/>\r\n",
       "</g>\r\n",
       "<!-- 25 -->\r\n",
       "<g id=\"node26\" class=\"node\"><title>25</title>\r\n",
       "<polygon fill=\"#399de5\" stroke=\"black\" points=\"1029,-179.5 931,-179.5 931,-111.5 1029,-111.5 1029,-179.5\"/>\r\n",
       "<text text-anchor=\"middle\" x=\"980\" y=\"-164.3\" font-family=\"Times New Roman,serif\" font-size=\"14.00\">gini = 0.0</text>\r\n",
       "<text text-anchor=\"middle\" x=\"980\" y=\"-149.3\" font-family=\"Times New Roman,serif\" font-size=\"14.00\">samples = 16</text>\r\n",
       "<text text-anchor=\"middle\" x=\"980\" y=\"-134.3\" font-family=\"Times New Roman,serif\" font-size=\"14.00\">value = [0, 16]</text>\r\n",
       "<text text-anchor=\"middle\" x=\"980\" y=\"-119.3\" font-family=\"Times New Roman,serif\" font-size=\"14.00\">class = 4</text>\r\n",
       "</g>\r\n",
       "<!-- 24&#45;&gt;25 -->\r\n",
       "<g id=\"edge25\" class=\"edge\"><title>24&#45;&gt;25</title>\r\n",
       "<path fill=\"none\" stroke=\"black\" d=\"M980,-222.907C980,-212.204 980,-200.615 980,-189.776\"/>\r\n",
       "<polygon fill=\"black\" stroke=\"black\" points=\"983.5,-189.667 980,-179.667 976.5,-189.667 983.5,-189.667\"/>\r\n",
       "</g>\r\n",
       "<!-- 26 -->\r\n",
       "<g id=\"node27\" class=\"node\"><title>26</title>\r\n",
       "<polygon fill=\"#ffffff\" stroke=\"black\" points=\"1193,-187 1047,-187 1047,-104 1193,-104 1193,-187\"/>\r\n",
       "<text text-anchor=\"middle\" x=\"1120\" y=\"-171.8\" font-family=\"Times New Roman,serif\" font-size=\"14.00\">normal_nucleoli &lt;= 6.0</text>\r\n",
       "<text text-anchor=\"middle\" x=\"1120\" y=\"-156.8\" font-family=\"Times New Roman,serif\" font-size=\"14.00\">gini = 0.5</text>\r\n",
       "<text text-anchor=\"middle\" x=\"1120\" y=\"-141.8\" font-family=\"Times New Roman,serif\" font-size=\"14.00\">samples = 2</text>\r\n",
       "<text text-anchor=\"middle\" x=\"1120\" y=\"-126.8\" font-family=\"Times New Roman,serif\" font-size=\"14.00\">value = [1, 1]</text>\r\n",
       "<text text-anchor=\"middle\" x=\"1120\" y=\"-111.8\" font-family=\"Times New Roman,serif\" font-size=\"14.00\">class = 2</text>\r\n",
       "</g>\r\n",
       "<!-- 24&#45;&gt;26 -->\r\n",
       "<g id=\"edge26\" class=\"edge\"><title>24&#45;&gt;26</title>\r\n",
       "<path fill=\"none\" stroke=\"black\" d=\"M1028.57,-222.907C1039.87,-213.469 1051.98,-203.343 1063.58,-193.649\"/>\r\n",
       "<polygon fill=\"black\" stroke=\"black\" points=\"1066.08,-196.119 1071.51,-187.021 1061.6,-190.748 1066.08,-196.119\"/>\r\n",
       "</g>\r\n",
       "<!-- 27 -->\r\n",
       "<g id=\"node28\" class=\"node\"><title>27</title>\r\n",
       "<polygon fill=\"#e58139\" stroke=\"black\" points=\"1110.5,-68 1019.5,-68 1019.5,-0 1110.5,-0 1110.5,-68\"/>\r\n",
       "<text text-anchor=\"middle\" x=\"1065\" y=\"-52.8\" font-family=\"Times New Roman,serif\" font-size=\"14.00\">gini = 0.0</text>\r\n",
       "<text text-anchor=\"middle\" x=\"1065\" y=\"-37.8\" font-family=\"Times New Roman,serif\" font-size=\"14.00\">samples = 1</text>\r\n",
       "<text text-anchor=\"middle\" x=\"1065\" y=\"-22.8\" font-family=\"Times New Roman,serif\" font-size=\"14.00\">value = [1, 0]</text>\r\n",
       "<text text-anchor=\"middle\" x=\"1065\" y=\"-7.8\" font-family=\"Times New Roman,serif\" font-size=\"14.00\">class = 2</text>\r\n",
       "</g>\r\n",
       "<!-- 26&#45;&gt;27 -->\r\n",
       "<g id=\"edge27\" class=\"edge\"><title>26&#45;&gt;27</title>\r\n",
       "<path fill=\"none\" stroke=\"black\" d=\"M1099.52,-103.726C1095.21,-95.1527 1090.66,-86.0891 1086.32,-77.4555\"/>\r\n",
       "<polygon fill=\"black\" stroke=\"black\" points=\"1089.34,-75.6647 1081.73,-68.2996 1083.09,-78.8067 1089.34,-75.6647\"/>\r\n",
       "</g>\r\n",
       "<!-- 28 -->\r\n",
       "<g id=\"node29\" class=\"node\"><title>28</title>\r\n",
       "<polygon fill=\"#399de5\" stroke=\"black\" points=\"1219.5,-68 1128.5,-68 1128.5,-0 1219.5,-0 1219.5,-68\"/>\r\n",
       "<text text-anchor=\"middle\" x=\"1174\" y=\"-52.8\" font-family=\"Times New Roman,serif\" font-size=\"14.00\">gini = 0.0</text>\r\n",
       "<text text-anchor=\"middle\" x=\"1174\" y=\"-37.8\" font-family=\"Times New Roman,serif\" font-size=\"14.00\">samples = 1</text>\r\n",
       "<text text-anchor=\"middle\" x=\"1174\" y=\"-22.8\" font-family=\"Times New Roman,serif\" font-size=\"14.00\">value = [0, 1]</text>\r\n",
       "<text text-anchor=\"middle\" x=\"1174\" y=\"-7.8\" font-family=\"Times New Roman,serif\" font-size=\"14.00\">class = 4</text>\r\n",
       "</g>\r\n",
       "<!-- 26&#45;&gt;28 -->\r\n",
       "<g id=\"edge28\" class=\"edge\"><title>26&#45;&gt;28</title>\r\n",
       "<path fill=\"none\" stroke=\"black\" d=\"M1140.11,-103.726C1144.34,-95.1527 1148.81,-86.0891 1153.06,-77.4555\"/>\r\n",
       "<polygon fill=\"black\" stroke=\"black\" points=\"1156.29,-78.8164 1157.58,-68.2996 1150.02,-75.7203 1156.29,-78.8164\"/>\r\n",
       "</g>\r\n",
       "<!-- 30 -->\r\n",
       "<g id=\"node31\" class=\"node\"><title>30</title>\r\n",
       "<polygon fill=\"#e58139\" stroke=\"black\" points=\"1139.5,-298.5 1048.5,-298.5 1048.5,-230.5 1139.5,-230.5 1139.5,-298.5\"/>\r\n",
       "<text text-anchor=\"middle\" x=\"1094\" y=\"-283.3\" font-family=\"Times New Roman,serif\" font-size=\"14.00\">gini = 0.0</text>\r\n",
       "<text text-anchor=\"middle\" x=\"1094\" y=\"-268.3\" font-family=\"Times New Roman,serif\" font-size=\"14.00\">samples = 3</text>\r\n",
       "<text text-anchor=\"middle\" x=\"1094\" y=\"-253.3\" font-family=\"Times New Roman,serif\" font-size=\"14.00\">value = [3, 0]</text>\r\n",
       "<text text-anchor=\"middle\" x=\"1094\" y=\"-238.3\" font-family=\"Times New Roman,serif\" font-size=\"14.00\">class = 2</text>\r\n",
       "</g>\r\n",
       "<!-- 29&#45;&gt;30 -->\r\n",
       "<g id=\"edge30\" class=\"edge\"><title>29&#45;&gt;30</title>\r\n",
       "<path fill=\"none\" stroke=\"black\" d=\"M1098.57,-341.907C1097.93,-331.204 1097.24,-319.615 1096.59,-308.776\"/>\r\n",
       "<polygon fill=\"black\" stroke=\"black\" points=\"1100.08,-308.44 1095.98,-298.667 1093.09,-308.858 1100.08,-308.44\"/>\r\n",
       "</g>\r\n",
       "<!-- 31 -->\r\n",
       "<g id=\"node32\" class=\"node\"><title>31</title>\r\n",
       "<polygon fill=\"#399de5\" stroke=\"black\" points=\"1248.5,-298.5 1157.5,-298.5 1157.5,-230.5 1248.5,-230.5 1248.5,-298.5\"/>\r\n",
       "<text text-anchor=\"middle\" x=\"1203\" y=\"-283.3\" font-family=\"Times New Roman,serif\" font-size=\"14.00\">gini = 0.0</text>\r\n",
       "<text text-anchor=\"middle\" x=\"1203\" y=\"-268.3\" font-family=\"Times New Roman,serif\" font-size=\"14.00\">samples = 2</text>\r\n",
       "<text text-anchor=\"middle\" x=\"1203\" y=\"-253.3\" font-family=\"Times New Roman,serif\" font-size=\"14.00\">value = [0, 2]</text>\r\n",
       "<text text-anchor=\"middle\" x=\"1203\" y=\"-238.3\" font-family=\"Times New Roman,serif\" font-size=\"14.00\">class = 4</text>\r\n",
       "</g>\r\n",
       "<!-- 29&#45;&gt;31 -->\r\n",
       "<g id=\"edge31\" class=\"edge\"><title>29&#45;&gt;31</title>\r\n",
       "<path fill=\"none\" stroke=\"black\" d=\"M1136.39,-341.907C1146.39,-330.432 1157.28,-317.938 1167.31,-306.442\"/>\r\n",
       "<polygon fill=\"black\" stroke=\"black\" points=\"1170.15,-308.505 1174.09,-298.667 1164.88,-303.905 1170.15,-308.505\"/>\r\n",
       "</g>\r\n",
       "<!-- 33 -->\r\n",
       "<g id=\"node34\" class=\"node\"><title>33</title>\r\n",
       "<polygon fill=\"#7bbeee\" stroke=\"black\" points=\"1415.5,-425 1306.5,-425 1306.5,-342 1415.5,-342 1415.5,-425\"/>\r\n",
       "<text text-anchor=\"middle\" x=\"1361\" y=\"-409.8\" font-family=\"Times New Roman,serif\" font-size=\"14.00\">id &lt;= 1062323.5</text>\r\n",
       "<text text-anchor=\"middle\" x=\"1361\" y=\"-394.8\" font-family=\"Times New Roman,serif\" font-size=\"14.00\">gini = 0.375</text>\r\n",
       "<text text-anchor=\"middle\" x=\"1361\" y=\"-379.8\" font-family=\"Times New Roman,serif\" font-size=\"14.00\">samples = 8</text>\r\n",
       "<text text-anchor=\"middle\" x=\"1361\" y=\"-364.8\" font-family=\"Times New Roman,serif\" font-size=\"14.00\">value = [2, 6]</text>\r\n",
       "<text text-anchor=\"middle\" x=\"1361\" y=\"-349.8\" font-family=\"Times New Roman,serif\" font-size=\"14.00\">class = 4</text>\r\n",
       "</g>\r\n",
       "<!-- 32&#45;&gt;33 -->\r\n",
       "<g id=\"edge33\" class=\"edge\"><title>32&#45;&gt;33</title>\r\n",
       "<path fill=\"none\" stroke=\"black\" d=\"M1361,-460.907C1361,-452.649 1361,-443.864 1361,-435.302\"/>\r\n",
       "<polygon fill=\"black\" stroke=\"black\" points=\"1364.5,-435.021 1361,-425.021 1357.5,-435.021 1364.5,-435.021\"/>\r\n",
       "</g>\r\n",
       "<!-- 36 -->\r\n",
       "<g id=\"node37\" class=\"node\"><title>36</title>\r\n",
       "<polygon fill=\"#3b9ee5\" stroke=\"black\" points=\"1591.5,-425 1482.5,-425 1482.5,-342 1591.5,-342 1591.5,-425\"/>\r\n",
       "<text text-anchor=\"middle\" x=\"1537\" y=\"-409.8\" font-family=\"Times New Roman,serif\" font-size=\"14.00\">id &lt;= 1290191.0</text>\r\n",
       "<text text-anchor=\"middle\" x=\"1537\" y=\"-394.8\" font-family=\"Times New Roman,serif\" font-size=\"14.00\">gini = 0.017</text>\r\n",
       "<text text-anchor=\"middle\" x=\"1537\" y=\"-379.8\" font-family=\"Times New Roman,serif\" font-size=\"14.00\">samples = 118</text>\r\n",
       "<text text-anchor=\"middle\" x=\"1537\" y=\"-364.8\" font-family=\"Times New Roman,serif\" font-size=\"14.00\">value = [1, 117]</text>\r\n",
       "<text text-anchor=\"middle\" x=\"1537\" y=\"-349.8\" font-family=\"Times New Roman,serif\" font-size=\"14.00\">class = 4</text>\r\n",
       "</g>\r\n",
       "<!-- 32&#45;&gt;36 -->\r\n",
       "<g id=\"edge36\" class=\"edge\"><title>32&#45;&gt;36</title>\r\n",
       "<path fill=\"none\" stroke=\"black\" d=\"M1414.76,-465.76C1433.43,-453.35 1454.53,-439.321 1473.89,-426.455\"/>\r\n",
       "<polygon fill=\"black\" stroke=\"black\" points=\"1475.96,-429.279 1482.35,-420.828 1472.09,-423.45 1475.96,-429.279\"/>\r\n",
       "</g>\r\n",
       "<!-- 34 -->\r\n",
       "<g id=\"node35\" class=\"node\"><title>34</title>\r\n",
       "<polygon fill=\"#e58139\" stroke=\"black\" points=\"1357.5,-298.5 1266.5,-298.5 1266.5,-230.5 1357.5,-230.5 1357.5,-298.5\"/>\r\n",
       "<text text-anchor=\"middle\" x=\"1312\" y=\"-283.3\" font-family=\"Times New Roman,serif\" font-size=\"14.00\">gini = 0.0</text>\r\n",
       "<text text-anchor=\"middle\" x=\"1312\" y=\"-268.3\" font-family=\"Times New Roman,serif\" font-size=\"14.00\">samples = 2</text>\r\n",
       "<text text-anchor=\"middle\" x=\"1312\" y=\"-253.3\" font-family=\"Times New Roman,serif\" font-size=\"14.00\">value = [2, 0]</text>\r\n",
       "<text text-anchor=\"middle\" x=\"1312\" y=\"-238.3\" font-family=\"Times New Roman,serif\" font-size=\"14.00\">class = 2</text>\r\n",
       "</g>\r\n",
       "<!-- 33&#45;&gt;34 -->\r\n",
       "<g id=\"edge34\" class=\"edge\"><title>33&#45;&gt;34</title>\r\n",
       "<path fill=\"none\" stroke=\"black\" d=\"M1344,-341.907C1339.42,-330.983 1334.46,-319.137 1329.84,-308.107\"/>\r\n",
       "<polygon fill=\"black\" stroke=\"black\" points=\"1332.98,-306.539 1325.89,-298.667 1326.53,-309.243 1332.98,-306.539\"/>\r\n",
       "</g>\r\n",
       "<!-- 35 -->\r\n",
       "<g id=\"node36\" class=\"node\"><title>35</title>\r\n",
       "<polygon fill=\"#399de5\" stroke=\"black\" points=\"1466.5,-298.5 1375.5,-298.5 1375.5,-230.5 1466.5,-230.5 1466.5,-298.5\"/>\r\n",
       "<text text-anchor=\"middle\" x=\"1421\" y=\"-283.3\" font-family=\"Times New Roman,serif\" font-size=\"14.00\">gini = 0.0</text>\r\n",
       "<text text-anchor=\"middle\" x=\"1421\" y=\"-268.3\" font-family=\"Times New Roman,serif\" font-size=\"14.00\">samples = 6</text>\r\n",
       "<text text-anchor=\"middle\" x=\"1421\" y=\"-253.3\" font-family=\"Times New Roman,serif\" font-size=\"14.00\">value = [0, 6]</text>\r\n",
       "<text text-anchor=\"middle\" x=\"1421\" y=\"-238.3\" font-family=\"Times New Roman,serif\" font-size=\"14.00\">class = 4</text>\r\n",
       "</g>\r\n",
       "<!-- 33&#45;&gt;35 -->\r\n",
       "<g id=\"edge35\" class=\"edge\"><title>33&#45;&gt;35</title>\r\n",
       "<path fill=\"none\" stroke=\"black\" d=\"M1381.82,-341.907C1387.48,-330.873 1393.62,-318.898 1399.32,-307.773\"/>\r\n",
       "<polygon fill=\"black\" stroke=\"black\" points=\"1402.54,-309.162 1403.99,-298.667 1396.31,-305.968 1402.54,-309.162\"/>\r\n",
       "</g>\r\n",
       "<!-- 37 -->\r\n",
       "<g id=\"node38\" class=\"node\"><title>37</title>\r\n",
       "<polygon fill=\"#399de5\" stroke=\"black\" points=\"1589,-298.5 1485,-298.5 1485,-230.5 1589,-230.5 1589,-298.5\"/>\r\n",
       "<text text-anchor=\"middle\" x=\"1537\" y=\"-283.3\" font-family=\"Times New Roman,serif\" font-size=\"14.00\">gini = 0.0</text>\r\n",
       "<text text-anchor=\"middle\" x=\"1537\" y=\"-268.3\" font-family=\"Times New Roman,serif\" font-size=\"14.00\">samples = 102</text>\r\n",
       "<text text-anchor=\"middle\" x=\"1537\" y=\"-253.3\" font-family=\"Times New Roman,serif\" font-size=\"14.00\">value = [0, 102]</text>\r\n",
       "<text text-anchor=\"middle\" x=\"1537\" y=\"-238.3\" font-family=\"Times New Roman,serif\" font-size=\"14.00\">class = 4</text>\r\n",
       "</g>\r\n",
       "<!-- 36&#45;&gt;37 -->\r\n",
       "<g id=\"edge37\" class=\"edge\"><title>36&#45;&gt;37</title>\r\n",
       "<path fill=\"none\" stroke=\"black\" d=\"M1537,-341.907C1537,-331.204 1537,-319.615 1537,-308.776\"/>\r\n",
       "<polygon fill=\"black\" stroke=\"black\" points=\"1540.5,-308.667 1537,-298.667 1533.5,-308.667 1540.5,-308.667\"/>\r\n",
       "</g>\r\n",
       "<!-- 38 -->\r\n",
       "<g id=\"node39\" class=\"node\"><title>38</title>\r\n",
       "<polygon fill=\"#46a4e7\" stroke=\"black\" points=\"1720.5,-306 1607.5,-306 1607.5,-223 1720.5,-223 1720.5,-306\"/>\r\n",
       "<text text-anchor=\"middle\" x=\"1664\" y=\"-290.8\" font-family=\"Times New Roman,serif\" font-size=\"14.00\">chromatin &lt;= 4.5</text>\r\n",
       "<text text-anchor=\"middle\" x=\"1664\" y=\"-275.8\" font-family=\"Times New Roman,serif\" font-size=\"14.00\">gini = 0.117</text>\r\n",
       "<text text-anchor=\"middle\" x=\"1664\" y=\"-260.8\" font-family=\"Times New Roman,serif\" font-size=\"14.00\">samples = 16</text>\r\n",
       "<text text-anchor=\"middle\" x=\"1664\" y=\"-245.8\" font-family=\"Times New Roman,serif\" font-size=\"14.00\">value = [1, 15]</text>\r\n",
       "<text text-anchor=\"middle\" x=\"1664\" y=\"-230.8\" font-family=\"Times New Roman,serif\" font-size=\"14.00\">class = 4</text>\r\n",
       "</g>\r\n",
       "<!-- 36&#45;&gt;38 -->\r\n",
       "<g id=\"edge38\" class=\"edge\"><title>36&#45;&gt;38</title>\r\n",
       "<path fill=\"none\" stroke=\"black\" d=\"M1581.06,-341.907C1591.21,-332.56 1602.09,-322.538 1612.52,-312.929\"/>\r\n",
       "<polygon fill=\"black\" stroke=\"black\" points=\"1615.03,-315.371 1620.02,-306.021 1610.29,-310.222 1615.03,-315.371\"/>\r\n",
       "</g>\r\n",
       "<!-- 39 -->\r\n",
       "<g id=\"node40\" class=\"node\"><title>39</title>\r\n",
       "<polygon fill=\"#e58139\" stroke=\"black\" points=\"1652.5,-179.5 1561.5,-179.5 1561.5,-111.5 1652.5,-111.5 1652.5,-179.5\"/>\r\n",
       "<text text-anchor=\"middle\" x=\"1607\" y=\"-164.3\" font-family=\"Times New Roman,serif\" font-size=\"14.00\">gini = 0.0</text>\r\n",
       "<text text-anchor=\"middle\" x=\"1607\" y=\"-149.3\" font-family=\"Times New Roman,serif\" font-size=\"14.00\">samples = 1</text>\r\n",
       "<text text-anchor=\"middle\" x=\"1607\" y=\"-134.3\" font-family=\"Times New Roman,serif\" font-size=\"14.00\">value = [1, 0]</text>\r\n",
       "<text text-anchor=\"middle\" x=\"1607\" y=\"-119.3\" font-family=\"Times New Roman,serif\" font-size=\"14.00\">class = 2</text>\r\n",
       "</g>\r\n",
       "<!-- 38&#45;&gt;39 -->\r\n",
       "<g id=\"edge39\" class=\"edge\"><title>38&#45;&gt;39</title>\r\n",
       "<path fill=\"none\" stroke=\"black\" d=\"M1644.22,-222.907C1638.85,-211.873 1633.01,-199.898 1627.59,-188.773\"/>\r\n",
       "<polygon fill=\"black\" stroke=\"black\" points=\"1630.68,-187.124 1623.16,-179.667 1624.39,-190.19 1630.68,-187.124\"/>\r\n",
       "</g>\r\n",
       "<!-- 40 -->\r\n",
       "<g id=\"node41\" class=\"node\"><title>40</title>\r\n",
       "<polygon fill=\"#399de5\" stroke=\"black\" points=\"1769,-179.5 1671,-179.5 1671,-111.5 1769,-111.5 1769,-179.5\"/>\r\n",
       "<text text-anchor=\"middle\" x=\"1720\" y=\"-164.3\" font-family=\"Times New Roman,serif\" font-size=\"14.00\">gini = 0.0</text>\r\n",
       "<text text-anchor=\"middle\" x=\"1720\" y=\"-149.3\" font-family=\"Times New Roman,serif\" font-size=\"14.00\">samples = 15</text>\r\n",
       "<text text-anchor=\"middle\" x=\"1720\" y=\"-134.3\" font-family=\"Times New Roman,serif\" font-size=\"14.00\">value = [0, 15]</text>\r\n",
       "<text text-anchor=\"middle\" x=\"1720\" y=\"-119.3\" font-family=\"Times New Roman,serif\" font-size=\"14.00\">class = 4</text>\r\n",
       "</g>\r\n",
       "<!-- 38&#45;&gt;40 -->\r\n",
       "<g id=\"edge40\" class=\"edge\"><title>38&#45;&gt;40</title>\r\n",
       "<path fill=\"none\" stroke=\"black\" d=\"M1683.43,-222.907C1688.71,-211.873 1694.44,-199.898 1699.77,-188.773\"/>\r\n",
       "<polygon fill=\"black\" stroke=\"black\" points=\"1702.96,-190.198 1704.13,-179.667 1696.65,-187.176 1702.96,-190.198\"/>\r\n",
       "</g>\r\n",
       "</g>\r\n",
       "</svg>\r\n"
      ],
      "text/plain": [
       "<graphviz.files.Source at 0x21f8bc96250>"
      ]
     },
     "execution_count": 11,
     "metadata": {},
     "output_type": "execute_result"
    }
   ],
   "source": [
    "from sklearn.tree import export_graphviz\n",
    "\n",
    "export_graphviz(dt_clf,\n",
    "                out_file='9주차.dot',\n",
    "                class_names=['2','4'],\n",
    "                feature_names=df_features.columns,\n",
    "               impurity=True,\n",
    "               filled=True)\n",
    "\n",
    "import graphviz\n",
    "with open('9주차.dot') as f:\n",
    "    dot_graph = f.read()\n",
    "graphviz.Source(dot_graph)"
   ]
  },
  {
   "cell_type": "markdown",
   "metadata": {},
   "source": [
    "학습데이터에 지나치게 과적합 되었습니다."
   ]
  },
  {
   "cell_type": "markdown",
   "metadata": {
    "id": "Lji9wC-70NlX"
   },
   "source": [
    "## 3-3.GridSearchCV 모듈을 활용해서 결정 트리의 최적 하이퍼 파라미터를 찾고 모델에 적용한 후 다시 결정 트리를 시각화해주세요!\n"
   ]
  },
  {
   "cell_type": "markdown",
   "metadata": {
    "id": "wCA06tq22LG2"
   },
   "source": [
    "* GridSeacrchCV모듈에 지정한 parameters를 사용해주세요!"
   ]
  },
  {
   "cell_type": "markdown",
   "metadata": {
    "id": "uj0gSsgy2K6y"
   },
   "source": [
    "* cv=3로 지정해주세요!\n"
   ]
  },
  {
   "cell_type": "code",
   "execution_count": 42,
   "metadata": {
    "colab": {
     "base_uri": "https://localhost:8080/"
    },
    "id": "XE0vmUtGzhIt",
    "outputId": "53590186-d0b6-4ef0-f94d-6276af83bc58"
   },
   "outputs": [
    {
     "name": "stdout",
     "output_type": "stream",
     "text": [
      "최적 하이퍼 파라미터: {'max_depth': 3, 'max_leaf_nodes': 5, 'min_samples_leaf': 2, 'min_samples_split': 2}\n"
     ]
    }
   ],
   "source": [
    "from sklearn.model_selection import GridSearchCV\n",
    "parameters={'max_depth':[1,2,3,4,5,6],'min_samples_split':[2,3,4,5,6],'min_samples_leaf':[2,3,4,5,6],'max_leaf_nodes':[2,3,4,5,6]}\n",
    "dtree=DecisionTreeClassifier()\n",
    "grid_dtree=GridSearchCV(dtree,param_grid=parameters,cv=3,refit=True)\n",
    "grid_dtree.fit(X_train,y_train)\n",
    "print('최적 하이퍼 파라미터: {0}'.format(grid_dtree.best_params_))"
   ]
  },
  {
   "cell_type": "code",
   "execution_count": 43,
   "metadata": {
    "colab": {
     "base_uri": "https://localhost:8080/",
     "height": 597
    },
    "id": "3LSQsPfEzhLt",
    "outputId": "e9bb3ce9-e0d5-477b-e5f9-4e9578139a70"
   },
   "outputs": [
    {
     "name": "stdout",
     "output_type": "stream",
     "text": [
      "결정트리 예측 정확도:0.9512\n"
     ]
    },
    {
     "data": {
      "image/svg+xml": [
       "<?xml version=\"1.0\" encoding=\"UTF-8\" standalone=\"no\"?>\r\n",
       "<!DOCTYPE svg PUBLIC \"-//W3C//DTD SVG 1.1//EN\"\r\n",
       " \"http://www.w3.org/Graphics/SVG/1.1/DTD/svg11.dtd\">\r\n",
       "<!-- Generated by graphviz version 2.38.0 (20140413.2041)\r\n",
       " -->\r\n",
       "<!-- Title: Tree Pages: 1 -->\r\n",
       "<svg width=\"486pt\" height=\"433pt\"\r\n",
       " viewBox=\"0.00 0.00 486.00 433.00\" xmlns=\"http://www.w3.org/2000/svg\" xmlns:xlink=\"http://www.w3.org/1999/xlink\">\r\n",
       "<g id=\"graph0\" class=\"graph\" transform=\"scale(1 1) rotate(0) translate(4 429)\">\r\n",
       "<title>Tree</title>\r\n",
       "<polygon fill=\"white\" stroke=\"none\" points=\"-4,4 -4,-429 482,-429 482,4 -4,4\"/>\r\n",
       "<!-- 0 -->\r\n",
       "<g id=\"node1\" class=\"node\"><title>0</title>\r\n",
       "<polygon fill=\"#f3c6a5\" stroke=\"black\" points=\"302,-425 184,-425 184,-342 302,-342 302,-425\"/>\r\n",
       "<text text-anchor=\"middle\" x=\"243\" y=\"-409.8\" font-family=\"Times New Roman,serif\" font-size=\"14.00\">cell_size &lt;= 3.5</text>\r\n",
       "<text text-anchor=\"middle\" x=\"243\" y=\"-394.8\" font-family=\"Times New Roman,serif\" font-size=\"14.00\">gini = 0.457</text>\r\n",
       "<text text-anchor=\"middle\" x=\"243\" y=\"-379.8\" font-family=\"Times New Roman,serif\" font-size=\"14.00\">samples = 478</text>\r\n",
       "<text text-anchor=\"middle\" x=\"243\" y=\"-364.8\" font-family=\"Times New Roman,serif\" font-size=\"14.00\">value = [309, 169]</text>\r\n",
       "<text text-anchor=\"middle\" x=\"243\" y=\"-349.8\" font-family=\"Times New Roman,serif\" font-size=\"14.00\">class = 2</text>\r\n",
       "</g>\r\n",
       "<!-- 1 -->\r\n",
       "<g id=\"node2\" class=\"node\"><title>1</title>\r\n",
       "<polygon fill=\"#e78c49\" stroke=\"black\" points=\"238,-306 116,-306 116,-223 238,-223 238,-306\"/>\r\n",
       "<text text-anchor=\"middle\" x=\"177\" y=\"-290.8\" font-family=\"Times New Roman,serif\" font-size=\"14.00\">bare_nuclei &lt;= 3.5</text>\r\n",
       "<text text-anchor=\"middle\" x=\"177\" y=\"-275.8\" font-family=\"Times New Roman,serif\" font-size=\"14.00\">gini = 0.142</text>\r\n",
       "<text text-anchor=\"middle\" x=\"177\" y=\"-260.8\" font-family=\"Times New Roman,serif\" font-size=\"14.00\">samples = 325</text>\r\n",
       "<text text-anchor=\"middle\" x=\"177\" y=\"-245.8\" font-family=\"Times New Roman,serif\" font-size=\"14.00\">value = [300, 25]</text>\r\n",
       "<text text-anchor=\"middle\" x=\"177\" y=\"-230.8\" font-family=\"Times New Roman,serif\" font-size=\"14.00\">class = 2</text>\r\n",
       "</g>\r\n",
       "<!-- 0&#45;&gt;1 -->\r\n",
       "<g id=\"edge1\" class=\"edge\"><title>0&#45;&gt;1</title>\r\n",
       "<path fill=\"none\" stroke=\"black\" d=\"M220.102,-341.907C215.187,-333.195 209.942,-323.897 204.863,-314.893\"/>\r\n",
       "<polygon fill=\"black\" stroke=\"black\" points=\"207.82,-313.011 199.858,-306.021 201.723,-316.45 207.82,-313.011\"/>\r\n",
       "<text text-anchor=\"middle\" x=\"193.146\" y=\"-326.403\" font-family=\"Times New Roman,serif\" font-size=\"14.00\">True</text>\r\n",
       "</g>\r\n",
       "<!-- 2 -->\r\n",
       "<g id=\"node7\" class=\"node\"><title>2</title>\r\n",
       "<polygon fill=\"#45a3e7\" stroke=\"black\" points=\"361.5,-306 256.5,-306 256.5,-223 361.5,-223 361.5,-306\"/>\r\n",
       "<text text-anchor=\"middle\" x=\"309\" y=\"-290.8\" font-family=\"Times New Roman,serif\" font-size=\"14.00\">cell_size &lt;= 4.5</text>\r\n",
       "<text text-anchor=\"middle\" x=\"309\" y=\"-275.8\" font-family=\"Times New Roman,serif\" font-size=\"14.00\">gini = 0.111</text>\r\n",
       "<text text-anchor=\"middle\" x=\"309\" y=\"-260.8\" font-family=\"Times New Roman,serif\" font-size=\"14.00\">samples = 153</text>\r\n",
       "<text text-anchor=\"middle\" x=\"309\" y=\"-245.8\" font-family=\"Times New Roman,serif\" font-size=\"14.00\">value = [9, 144]</text>\r\n",
       "<text text-anchor=\"middle\" x=\"309\" y=\"-230.8\" font-family=\"Times New Roman,serif\" font-size=\"14.00\">class = 4</text>\r\n",
       "</g>\r\n",
       "<!-- 0&#45;&gt;2 -->\r\n",
       "<g id=\"edge6\" class=\"edge\"><title>0&#45;&gt;2</title>\r\n",
       "<path fill=\"none\" stroke=\"black\" d=\"M265.898,-341.907C270.813,-333.195 276.058,-323.897 281.137,-314.893\"/>\r\n",
       "<polygon fill=\"black\" stroke=\"black\" points=\"284.277,-316.45 286.142,-306.021 278.18,-313.011 284.277,-316.45\"/>\r\n",
       "<text text-anchor=\"middle\" x=\"292.854\" y=\"-326.403\" font-family=\"Times New Roman,serif\" font-size=\"14.00\">False</text>\r\n",
       "</g>\r\n",
       "<!-- 3 -->\r\n",
       "<g id=\"node3\" class=\"node\"><title>3</title>\r\n",
       "<polygon fill=\"#e5823b\" stroke=\"black\" points=\"104,-179.5 0,-179.5 0,-111.5 104,-111.5 104,-179.5\"/>\r\n",
       "<text text-anchor=\"middle\" x=\"52\" y=\"-164.3\" font-family=\"Times New Roman,serif\" font-size=\"14.00\">gini = 0.02</text>\r\n",
       "<text text-anchor=\"middle\" x=\"52\" y=\"-149.3\" font-family=\"Times New Roman,serif\" font-size=\"14.00\">samples = 292</text>\r\n",
       "<text text-anchor=\"middle\" x=\"52\" y=\"-134.3\" font-family=\"Times New Roman,serif\" font-size=\"14.00\">value = [289, 3]</text>\r\n",
       "<text text-anchor=\"middle\" x=\"52\" y=\"-119.3\" font-family=\"Times New Roman,serif\" font-size=\"14.00\">class = 2</text>\r\n",
       "</g>\r\n",
       "<!-- 1&#45;&gt;3 -->\r\n",
       "<g id=\"edge2\" class=\"edge\"><title>1&#45;&gt;3</title>\r\n",
       "<path fill=\"none\" stroke=\"black\" d=\"M133.632,-222.907C121.136,-211.211 107.51,-198.457 95.0339,-186.78\"/>\r\n",
       "<polygon fill=\"black\" stroke=\"black\" points=\"97.1274,-183.945 87.4348,-179.667 92.3439,-189.056 97.1274,-183.945\"/>\r\n",
       "</g>\r\n",
       "<!-- 4 -->\r\n",
       "<g id=\"node4\" class=\"node\"><title>4</title>\r\n",
       "<polygon fill=\"#9ccef2\" stroke=\"black\" points=\"235.5,-187 122.5,-187 122.5,-104 235.5,-104 235.5,-187\"/>\r\n",
       "<text text-anchor=\"middle\" x=\"179\" y=\"-171.8\" font-family=\"Times New Roman,serif\" font-size=\"14.00\">chromatin &lt;= 1.5</text>\r\n",
       "<text text-anchor=\"middle\" x=\"179\" y=\"-156.8\" font-family=\"Times New Roman,serif\" font-size=\"14.00\">gini = 0.444</text>\r\n",
       "<text text-anchor=\"middle\" x=\"179\" y=\"-141.8\" font-family=\"Times New Roman,serif\" font-size=\"14.00\">samples = 33</text>\r\n",
       "<text text-anchor=\"middle\" x=\"179\" y=\"-126.8\" font-family=\"Times New Roman,serif\" font-size=\"14.00\">value = [11, 22]</text>\r\n",
       "<text text-anchor=\"middle\" x=\"179\" y=\"-111.8\" font-family=\"Times New Roman,serif\" font-size=\"14.00\">class = 4</text>\r\n",
       "</g>\r\n",
       "<!-- 1&#45;&gt;4 -->\r\n",
       "<g id=\"edge3\" class=\"edge\"><title>1&#45;&gt;4</title>\r\n",
       "<path fill=\"none\" stroke=\"black\" d=\"M177.694,-222.907C177.837,-214.558 177.989,-205.671 178.136,-197.02\"/>\r\n",
       "<polygon fill=\"black\" stroke=\"black\" points=\"181.636,-197.079 178.307,-187.021 174.637,-196.959 181.636,-197.079\"/>\r\n",
       "</g>\r\n",
       "<!-- 5 -->\r\n",
       "<g id=\"node5\" class=\"node\"><title>5</title>\r\n",
       "<polygon fill=\"#eb9d65\" stroke=\"black\" points=\"167.5,-68 76.5,-68 76.5,-0 167.5,-0 167.5,-68\"/>\r\n",
       "<text text-anchor=\"middle\" x=\"122\" y=\"-52.8\" font-family=\"Times New Roman,serif\" font-size=\"14.00\">gini = 0.298</text>\r\n",
       "<text text-anchor=\"middle\" x=\"122\" y=\"-37.8\" font-family=\"Times New Roman,serif\" font-size=\"14.00\">samples = 11</text>\r\n",
       "<text text-anchor=\"middle\" x=\"122\" y=\"-22.8\" font-family=\"Times New Roman,serif\" font-size=\"14.00\">value = [9, 2]</text>\r\n",
       "<text text-anchor=\"middle\" x=\"122\" y=\"-7.8\" font-family=\"Times New Roman,serif\" font-size=\"14.00\">class = 2</text>\r\n",
       "</g>\r\n",
       "<!-- 4&#45;&gt;5 -->\r\n",
       "<g id=\"edge4\" class=\"edge\"><title>4&#45;&gt;5</title>\r\n",
       "<path fill=\"none\" stroke=\"black\" d=\"M157.775,-103.726C153.265,-95.0615 148.494,-85.8962 143.957,-77.1802\"/>\r\n",
       "<polygon fill=\"black\" stroke=\"black\" points=\"147.056,-75.5537 139.334,-68.2996 140.847,-78.7859 147.056,-75.5537\"/>\r\n",
       "</g>\r\n",
       "<!-- 6 -->\r\n",
       "<g id=\"node6\" class=\"node\"><title>6</title>\r\n",
       "<polygon fill=\"#4da7e8\" stroke=\"black\" points=\"284,-68 186,-68 186,-0 284,-0 284,-68\"/>\r\n",
       "<text text-anchor=\"middle\" x=\"235\" y=\"-52.8\" font-family=\"Times New Roman,serif\" font-size=\"14.00\">gini = 0.165</text>\r\n",
       "<text text-anchor=\"middle\" x=\"235\" y=\"-37.8\" font-family=\"Times New Roman,serif\" font-size=\"14.00\">samples = 22</text>\r\n",
       "<text text-anchor=\"middle\" x=\"235\" y=\"-22.8\" font-family=\"Times New Roman,serif\" font-size=\"14.00\">value = [2, 20]</text>\r\n",
       "<text text-anchor=\"middle\" x=\"235\" y=\"-7.8\" font-family=\"Times New Roman,serif\" font-size=\"14.00\">class = 4</text>\r\n",
       "</g>\r\n",
       "<!-- 4&#45;&gt;6 -->\r\n",
       "<g id=\"edge5\" class=\"edge\"><title>4&#45;&gt;6</title>\r\n",
       "<path fill=\"none\" stroke=\"black\" d=\"M199.852,-103.726C204.237,-95.1527 208.872,-86.0891 213.288,-77.4555\"/>\r\n",
       "<polygon fill=\"black\" stroke=\"black\" points=\"216.533,-78.7965 217.97,-68.2996 210.301,-75.6092 216.533,-78.7965\"/>\r\n",
       "</g>\r\n",
       "<!-- 7 -->\r\n",
       "<g id=\"node8\" class=\"node\"><title>7</title>\r\n",
       "<polygon fill=\"#72b9ec\" stroke=\"black\" points=\"356,-179.5 258,-179.5 258,-111.5 356,-111.5 356,-179.5\"/>\r\n",
       "<text text-anchor=\"middle\" x=\"307\" y=\"-164.3\" font-family=\"Times New Roman,serif\" font-size=\"14.00\">gini = 0.346</text>\r\n",
       "<text text-anchor=\"middle\" x=\"307\" y=\"-149.3\" font-family=\"Times New Roman,serif\" font-size=\"14.00\">samples = 27</text>\r\n",
       "<text text-anchor=\"middle\" x=\"307\" y=\"-134.3\" font-family=\"Times New Roman,serif\" font-size=\"14.00\">value = [6, 21]</text>\r\n",
       "<text text-anchor=\"middle\" x=\"307\" y=\"-119.3\" font-family=\"Times New Roman,serif\" font-size=\"14.00\">class = 4</text>\r\n",
       "</g>\r\n",
       "<!-- 2&#45;&gt;7 -->\r\n",
       "<g id=\"edge7\" class=\"edge\"><title>2&#45;&gt;7</title>\r\n",
       "<path fill=\"none\" stroke=\"black\" d=\"M308.306,-222.907C308.123,-212.204 307.925,-200.615 307.74,-189.776\"/>\r\n",
       "<polygon fill=\"black\" stroke=\"black\" points=\"311.237,-189.606 307.567,-179.667 304.238,-189.725 311.237,-189.606\"/>\r\n",
       "</g>\r\n",
       "<!-- 8 -->\r\n",
       "<g id=\"node9\" class=\"node\"><title>8</title>\r\n",
       "<polygon fill=\"#3e9fe6\" stroke=\"black\" points=\"478,-179.5 374,-179.5 374,-111.5 478,-111.5 478,-179.5\"/>\r\n",
       "<text text-anchor=\"middle\" x=\"426\" y=\"-164.3\" font-family=\"Times New Roman,serif\" font-size=\"14.00\">gini = 0.046</text>\r\n",
       "<text text-anchor=\"middle\" x=\"426\" y=\"-149.3\" font-family=\"Times New Roman,serif\" font-size=\"14.00\">samples = 126</text>\r\n",
       "<text text-anchor=\"middle\" x=\"426\" y=\"-134.3\" font-family=\"Times New Roman,serif\" font-size=\"14.00\">value = [3, 123]</text>\r\n",
       "<text text-anchor=\"middle\" x=\"426\" y=\"-119.3\" font-family=\"Times New Roman,serif\" font-size=\"14.00\">class = 4</text>\r\n",
       "</g>\r\n",
       "<!-- 2&#45;&gt;8 -->\r\n",
       "<g id=\"edge8\" class=\"edge\"><title>2&#45;&gt;8</title>\r\n",
       "<path fill=\"none\" stroke=\"black\" d=\"M349.593,-222.907C361.289,-211.211 374.043,-198.457 385.72,-186.78\"/>\r\n",
       "<polygon fill=\"black\" stroke=\"black\" points=\"388.237,-189.213 392.833,-179.667 383.287,-184.263 388.237,-189.213\"/>\r\n",
       "</g>\r\n",
       "</g>\r\n",
       "</svg>\r\n"
      ],
      "text/plain": [
       "<graphviz.files.Source at 0x21f918bc190>"
      ]
     },
     "execution_count": 43,
     "metadata": {},
     "output_type": "execute_result"
    }
   ],
   "source": [
    "from sklearn.metrics import accuracy_score\n",
    "\n",
    "dt_clf_best = grid_dtree.best_estimator_\n",
    "dt_clf_best.fit(X_train,y_train)\n",
    "pred = dt_clf_best.predict(X_test)\n",
    "accuracy = accuracy_score(y_test, pred)\n",
    "print('결정트리 예측 정확도:{0:.4f}'.format(accuracy_score(y_test, pred)))\n",
    "\n",
    "export_graphviz(dt_clf_best,\n",
    "                out_file='best.dot',\n",
    "                class_names=['2','4'],\n",
    "                feature_names=df_features.columns,\n",
    "                impurity=True,\n",
    "                filled=True)\n",
    "\n",
    "with open('best.dot') as d:\n",
    "    dot_graph=d.read()\n",
    "graphviz.Source(dot_graph)"
   ]
  },
  {
   "cell_type": "markdown",
   "metadata": {},
   "source": [
    "## 3-4. 결정트리에 사용된 피처들의 중요도를 파악해주세요!"
   ]
  },
  {
   "cell_type": "markdown",
   "metadata": {},
   "source": [
    "* 각 피처들의 중요도를 열 이름과 함께 출력해주세요"
   ]
  },
  {
   "cell_type": "markdown",
   "metadata": {},
   "source": [
    "* 각 피처의 중요도를 barplot을 이용해서 시각화해주세요."
   ]
  },
  {
   "cell_type": "code",
   "execution_count": 47,
   "metadata": {},
   "outputs": [
    {
     "data": {
      "text/plain": [
       "id                 0.000000\n",
       "clump              0.000000\n",
       "cell_size          0.825127\n",
       "cell_shape         0.000000\n",
       "adhesion           0.000000\n",
       "epithlial          0.000000\n",
       "bare_nuclei        0.134143\n",
       "chromatin          0.040731\n",
       "normal_nucleoli    0.000000\n",
       "mitoses            0.000000\n",
       "dtype: float64"
      ]
     },
     "execution_count": 47,
     "metadata": {},
     "output_type": "execute_result"
    }
   ],
   "source": [
    "import matplotlib.pyplot as plt\n",
    "ftr_importances_values = dt_clf_best.feature_importances_\n",
    "\n",
    "# Top 중요도로 정렬을 쉽게 하고, 시본(Seaborn)의 막대그래프로 쉽게 표현하기 위해 Series변환\n",
    "ftr_importances = pd.Series(ftr_importances_values, index=df_features.columns)\n",
    "ftr_importances"
   ]
  },
  {
   "cell_type": "code",
   "execution_count": 48,
   "metadata": {},
   "outputs": [
    {
     "data": {
      "image/png": "[encoded data removed]",
      "text/plain": [
       "<Figure size 576x432 with 1 Axes>"
      ]
     },
     "metadata": {
      "needs_background": "light"
     },
     "output_type": "display_data"
    }
   ],
   "source": [
    "# 중요도값 순으로 Series를 정렬\n",
    "ftr_top20 = ftr_importances.sort_values(ascending=False)[:20]\n",
    "plt.figure(figsize=(8,6))\n",
    "plt.title('Feature importances Top 20')\n",
    "sns.barplot(x=ftr_top20 , y = ftr_top20.index)\n",
    "plt.show()"
   ]
  },
  {
   "cell_type": "markdown",
   "metadata": {},
   "source": [
    "## 3-5. 가장 중요도가 높다고 판단되는 피처 2개를 선택하여 중요도에 따른 class의 결과값을 산점도로 나타내주세요!"
   ]
  },
  {
   "cell_type": "markdown",
   "metadata": {},
   "source": [
    "* class의 분류는 색으로 판단하며, 동그라미 마크를 사용하고, edgecolor='k'로 해주세요."
   ]
  },
  {
   "cell_type": "code",
   "execution_count": 50,
   "metadata": {
    "scrolled": true
   },
   "outputs": [
    {
     "data": {
      "text/plain": [
       "<matplotlib.collections.PathCollection at 0x21f92851700>"
      ]
     },
     "execution_count": 50,
     "metadata": {},
     "output_type": "execute_result"
    },
    {
     "data": {
      "image/png": "[encoded data removed]",
      "text/plain": [
       "<Figure size 432x288 with 1 Axes>"
      ]
     },
     "metadata": {
      "needs_background": "light"
     },
     "output_type": "display_data"
    }
   ],
   "source": [
    "plt.scatter(df['cell_size'],df['cell_shape'],marker='o',c=df_label.values,edgecolor='k')"
   ]
  },
  {
   "cell_type": "markdown",
   "metadata": {},
   "source": [
    "# 4. 주어진  'titanic_train.csv'를 GraphViz를 이용하여 결정트리의 규칙을 시각해주세요. 그리고 결정트리 생성에 미친 피처의 중요도를 막대그래프로 나타내주세요!"
   ]
  },
  {
   "cell_type": "markdown",
   "metadata": {},
   "source": [
    "* Survived 속성을 클래스 결정값 데이터 세트로 설정해주세요."
   ]
  },
  {
   "cell_type": "markdown",
   "metadata": {},
   "source": [
    "* 피처는 문자 type의 열은 제외한다."
   ]
  },
  {
   "cell_type": "markdown",
   "metadata": {},
   "source": [
    "* test data는 전체 데이터의 20%로 지정합니다."
   ]
  },
  {
   "cell_type": "markdown",
   "metadata": {},
   "source": [
    "* 과적합 방지를 위해 적절한 max_depth를 사용해주세요."
   ]
  },
  {
   "cell_type": "code",
   "execution_count": 1,
   "metadata": {},
   "outputs": [],
   "source": [
    "from sklearn.tree import DecisionTreeClassifier\n",
    "from sklearn.model_selection import train_test_split\n",
    "from sklearn.model_selection import GridSearchCV\n",
    "from sklearn.tree import export_graphviz\n",
    "import pandas as pd\n",
    "import numpy as np\n",
    "titanic=pd.read_csv('titanic_train.csv')"
   ]
  },
  {
   "cell_type": "code",
   "execution_count": 2,
   "metadata": {
    "scrolled": true
   },
   "outputs": [
    {
     "name": "stdout",
     "output_type": "stream",
     "text": [
      "<class 'pandas.core.frame.DataFrame'>\n",
      "RangeIndex: 891 entries, 0 to 890\n",
      "Data columns (total 12 columns):\n",
      " #   Column       Non-Null Count  Dtype  \n",
      "---  ------       --------------  -----  \n",
      " 0   PassengerId  891 non-null    int64  \n",
      " 1   Survived     891 non-null    int64  \n",
      " 2   Pclass       891 non-null    int64  \n",
      " 3   Name         891 non-null    object \n",
      " 4   Sex          891 non-null    object \n",
      " 5   Age          714 non-null    float64\n",
      " 6   SibSp        891 non-null    int64  \n",
      " 7   Parch        891 non-null    int64  \n",
      " 8   Ticket       891 non-null    object \n",
      " 9   Fare         891 non-null    float64\n",
      " 10  Cabin        204 non-null    object \n",
      " 11  Embarked     889 non-null    object \n",
      "dtypes: float64(2), int64(5), object(5)\n",
      "memory usage: 83.7+ KB\n"
     ]
    }
   ],
   "source": [
    "titanic.info()"
   ]
  },
  {
   "cell_type": "code",
   "execution_count": 3,
   "metadata": {
    "scrolled": true
   },
   "outputs": [
    {
     "data": {
      "text/plain": [
       "PassengerId      0\n",
       "Pclass           0\n",
       "Age            177\n",
       "SibSp            0\n",
       "Parch            0\n",
       "Fare             0\n",
       "dtype: int64"
      ]
     },
     "execution_count": 3,
     "metadata": {},
     "output_type": "execute_result"
    }
   ],
   "source": [
    "titanic_features=titanic[['PassengerId','Pclass','Age','SibSp','Parch','Fare']]\n",
    "titanic_labels=titanic[['Survived']]\n",
    "titanic_features.isna().sum()"
   ]
  },
  {
   "cell_type": "code",
   "execution_count": 7,
   "metadata": {},
   "outputs": [
    {
     "data": {
      "text/html": [
       "<div>\n",
       "<style scoped>\n",
       "    .dataframe tbody tr th:only-of-type {\n",
       "        vertical-align: middle;\n",
       "    }\n",
       "\n",
       "    .dataframe tbody tr th {\n",
       "        vertical-align: top;\n",
       "    }\n",
       "\n",
       "    .dataframe thead th {\n",
       "        text-align: right;\n",
       "    }\n",
       "</style>\n",
       "<table border=\"1\" class=\"dataframe\">\n",
       "  <thead>\n",
       "    <tr style=\"text-align: right;\">\n",
       "      <th></th>\n",
       "      <th>PassengerId</th>\n",
       "      <th>Pclass</th>\n",
       "      <th>Age</th>\n",
       "      <th>SibSp</th>\n",
       "      <th>Parch</th>\n",
       "      <th>Fare</th>\n",
       "    </tr>\n",
       "  </thead>\n",
       "  <tbody>\n",
       "    <tr>\n",
       "      <th>0</th>\n",
       "      <td>1</td>\n",
       "      <td>3</td>\n",
       "      <td>22.0</td>\n",
       "      <td>1</td>\n",
       "      <td>0</td>\n",
       "      <td>7.2500</td>\n",
       "    </tr>\n",
       "    <tr>\n",
       "      <th>1</th>\n",
       "      <td>2</td>\n",
       "      <td>1</td>\n",
       "      <td>38.0</td>\n",
       "      <td>1</td>\n",
       "      <td>0</td>\n",
       "      <td>71.2833</td>\n",
       "    </tr>\n",
       "    <tr>\n",
       "      <th>2</th>\n",
       "      <td>3</td>\n",
       "      <td>3</td>\n",
       "      <td>26.0</td>\n",
       "      <td>0</td>\n",
       "      <td>0</td>\n",
       "      <td>7.9250</td>\n",
       "    </tr>\n",
       "    <tr>\n",
       "      <th>3</th>\n",
       "      <td>4</td>\n",
       "      <td>1</td>\n",
       "      <td>35.0</td>\n",
       "      <td>1</td>\n",
       "      <td>0</td>\n",
       "      <td>53.1000</td>\n",
       "    </tr>\n",
       "    <tr>\n",
       "      <th>4</th>\n",
       "      <td>5</td>\n",
       "      <td>3</td>\n",
       "      <td>35.0</td>\n",
       "      <td>0</td>\n",
       "      <td>0</td>\n",
       "      <td>8.0500</td>\n",
       "    </tr>\n",
       "    <tr>\n",
       "      <th>...</th>\n",
       "      <td>...</td>\n",
       "      <td>...</td>\n",
       "      <td>...</td>\n",
       "      <td>...</td>\n",
       "      <td>...</td>\n",
       "      <td>...</td>\n",
       "    </tr>\n",
       "    <tr>\n",
       "      <th>886</th>\n",
       "      <td>887</td>\n",
       "      <td>2</td>\n",
       "      <td>27.0</td>\n",
       "      <td>0</td>\n",
       "      <td>0</td>\n",
       "      <td>13.0000</td>\n",
       "    </tr>\n",
       "    <tr>\n",
       "      <th>887</th>\n",
       "      <td>888</td>\n",
       "      <td>1</td>\n",
       "      <td>19.0</td>\n",
       "      <td>0</td>\n",
       "      <td>0</td>\n",
       "      <td>30.0000</td>\n",
       "    </tr>\n",
       "    <tr>\n",
       "      <th>888</th>\n",
       "      <td>889</td>\n",
       "      <td>3</td>\n",
       "      <td>NaN</td>\n",
       "      <td>1</td>\n",
       "      <td>2</td>\n",
       "      <td>23.4500</td>\n",
       "    </tr>\n",
       "    <tr>\n",
       "      <th>889</th>\n",
       "      <td>890</td>\n",
       "      <td>1</td>\n",
       "      <td>26.0</td>\n",
       "      <td>0</td>\n",
       "      <td>0</td>\n",
       "      <td>30.0000</td>\n",
       "    </tr>\n",
       "    <tr>\n",
       "      <th>890</th>\n",
       "      <td>891</td>\n",
       "      <td>3</td>\n",
       "      <td>32.0</td>\n",
       "      <td>0</td>\n",
       "      <td>0</td>\n",
       "      <td>7.7500</td>\n",
       "    </tr>\n",
       "  </tbody>\n",
       "</table>\n",
       "<p>891 rows × 6 columns</p>\n",
       "</div>"
      ],
      "text/plain": [
       "     PassengerId  Pclass   Age  SibSp  Parch     Fare\n",
       "0              1       3  22.0      1      0   7.2500\n",
       "1              2       1  38.0      1      0  71.2833\n",
       "2              3       3  26.0      0      0   7.9250\n",
       "3              4       1  35.0      1      0  53.1000\n",
       "4              5       3  35.0      0      0   8.0500\n",
       "..           ...     ...   ...    ...    ...      ...\n",
       "886          887       2  27.0      0      0  13.0000\n",
       "887          888       1  19.0      0      0  30.0000\n",
       "888          889       3   NaN      1      2  23.4500\n",
       "889          890       1  26.0      0      0  30.0000\n",
       "890          891       3  32.0      0      0   7.7500\n",
       "\n",
       "[891 rows x 6 columns]"
      ]
     },
     "execution_count": 7,
     "metadata": {},
     "output_type": "execute_result"
    }
   ],
   "source": [
    "titanic_features"
   ]
  },
  {
   "cell_type": "code",
   "execution_count": 8,
   "metadata": {},
   "outputs": [
    {
     "data": {
      "text/plain": [
       "<AxesSubplot:>"
      ]
     },
     "execution_count": 8,
     "metadata": {},
     "output_type": "execute_result"
    },
    {
     "data": {
      "image/png": "[encoded data removed]",
      "text/plain": [
       "<Figure size 1800x720 with 2 Axes>"
      ]
     },
     "metadata": {
      "needs_background": "light"
     },
     "output_type": "display_data"
    }
   ],
   "source": [
    "import missingno as msno\n",
    "msno.matrix(titanic_features)"
   ]
  },
  {
   "cell_type": "code",
   "execution_count": 55,
   "metadata": {},
   "outputs": [
    {
     "data": {
      "text/plain": [
       "PassengerId    0\n",
       "Pclass         0\n",
       "Age            0\n",
       "SibSp          0\n",
       "Parch          0\n",
       "Fare           0\n",
       "dtype: int64"
      ]
     },
     "execution_count": 55,
     "metadata": {},
     "output_type": "execute_result"
    }
   ],
   "source": [
    "titanic.dropna(subset=['Age'],axis=0,inplace=True)\n",
    "titanic_features=titanic[['PassengerId','Pclass','Age','SibSp','Parch','Fare']]\n",
    "titanic_labels=titanic[['Survived']]\n",
    "titanic_features.isna().sum()"
   ]
  },
  {
   "cell_type": "code",
   "execution_count": 56,
   "metadata": {},
   "outputs": [
    {
     "name": "stdout",
     "output_type": "stream",
     "text": [
      "최적 하이퍼 파라미터: {'max_depth': 4}\n"
     ]
    }
   ],
   "source": [
    "X_train,X_test,y_train,y_test=train_test_split(titanic_features,titanic_labels,test_size=0.2,random_state=22)\n",
    "dt_clf=DecisionTreeClassifier()\n",
    "dt_clf.fit(X_train,y_train)\n",
    "\n",
    "parameters={'max_depth':[1,2,3,4,5,6,7,8,9,10]}\n",
    "dtree=DecisionTreeClassifier()\n",
    "grid_dtree=GridSearchCV(dtree,param_grid=parameters,cv=5,refit=True)\n",
    "grid_dtree.fit(X_train,y_train)\n",
    "print('최적 하이퍼 파라미터: {0}'.format(grid_dtree.best_params_))"
   ]
  },
  {
   "cell_type": "code",
   "execution_count": 57,
   "metadata": {},
   "outputs": [
    {
     "data": {
      "image/svg+xml": [
       "<?xml version=\"1.0\" encoding=\"UTF-8\" standalone=\"no\"?>\r\n",
       "<!DOCTYPE svg PUBLIC \"-//W3C//DTD SVG 1.1//EN\"\r\n",
       " \"http://www.w3.org/Graphics/SVG/1.1/DTD/svg11.dtd\">\r\n",
       "<!-- Generated by graphviz version 2.38.0 (20140413.2041)\r\n",
       " -->\r\n",
       "<!-- Title: Tree Pages: 1 -->\r\n",
       "<svg width=\"1844pt\" height=\"552pt\"\r\n",
       " viewBox=\"0.00 0.00 1844.00 552.00\" xmlns=\"http://www.w3.org/2000/svg\" xmlns:xlink=\"http://www.w3.org/1999/xlink\">\r\n",
       "<g id=\"graph0\" class=\"graph\" transform=\"scale(1 1) rotate(0) translate(4 548)\">\r\n",
       "<title>Tree</title>\r\n",
       "<polygon fill=\"white\" stroke=\"none\" points=\"-4,4 -4,-548 1840,-548 1840,4 -4,4\"/>\r\n",
       "<!-- 0 -->\r\n",
       "<g id=\"node1\" class=\"node\"><title>0</title>\r\n",
       "<polygon fill=\"#f6d5bd\" stroke=\"black\" points=\"965.5,-544 847.5,-544 847.5,-461 965.5,-461 965.5,-544\"/>\r\n",
       "<text text-anchor=\"middle\" x=\"906.5\" y=\"-528.8\" font-family=\"Times New Roman,serif\" font-size=\"14.00\">Pclass &lt;= 2.5</text>\r\n",
       "<text text-anchor=\"middle\" x=\"906.5\" y=\"-513.8\" font-family=\"Times New Roman,serif\" font-size=\"14.00\">gini = 0.48</text>\r\n",
       "<text text-anchor=\"middle\" x=\"906.5\" y=\"-498.8\" font-family=\"Times New Roman,serif\" font-size=\"14.00\">samples = 571</text>\r\n",
       "<text text-anchor=\"middle\" x=\"906.5\" y=\"-483.8\" font-family=\"Times New Roman,serif\" font-size=\"14.00\">value = [343, 228]</text>\r\n",
       "<text text-anchor=\"middle\" x=\"906.5\" y=\"-468.8\" font-family=\"Times New Roman,serif\" font-size=\"14.00\">class = 0</text>\r\n",
       "</g>\r\n",
       "<!-- 1 -->\r\n",
       "<g id=\"node2\" class=\"node\"><title>1</title>\r\n",
       "<polygon fill=\"#cee7f9\" stroke=\"black\" points=\"731.5,-425 613.5,-425 613.5,-342 731.5,-342 731.5,-425\"/>\r\n",
       "<text text-anchor=\"middle\" x=\"672.5\" y=\"-409.8\" font-family=\"Times New Roman,serif\" font-size=\"14.00\">Fare &lt;= 13.646</text>\r\n",
       "<text text-anchor=\"middle\" x=\"672.5\" y=\"-394.8\" font-family=\"Times New Roman,serif\" font-size=\"14.00\">gini = 0.49</text>\r\n",
       "<text text-anchor=\"middle\" x=\"672.5\" y=\"-379.8\" font-family=\"Times New Roman,serif\" font-size=\"14.00\">samples = 279</text>\r\n",
       "<text text-anchor=\"middle\" x=\"672.5\" y=\"-364.8\" font-family=\"Times New Roman,serif\" font-size=\"14.00\">value = [120, 159]</text>\r\n",
       "<text text-anchor=\"middle\" x=\"672.5\" y=\"-349.8\" font-family=\"Times New Roman,serif\" font-size=\"14.00\">class = 1</text>\r\n",
       "</g>\r\n",
       "<!-- 0&#45;&gt;1 -->\r\n",
       "<g id=\"edge1\" class=\"edge\"><title>0&#45;&gt;1</title>\r\n",
       "<path fill=\"none\" stroke=\"black\" d=\"M847.452,-471.976C815.028,-455.764 774.659,-435.58 740.872,-418.686\"/>\r\n",
       "<polygon fill=\"black\" stroke=\"black\" points=\"742.039,-415.356 731.529,-414.015 738.908,-421.617 742.039,-415.356\"/>\r\n",
       "<text text-anchor=\"middle\" x=\"739.435\" y=\"-434.032\" font-family=\"Times New Roman,serif\" font-size=\"14.00\">True</text>\r\n",
       "</g>\r\n",
       "<!-- 16 -->\r\n",
       "<g id=\"node17\" class=\"node\"><title>16</title>\r\n",
       "<polygon fill=\"#eda876\" stroke=\"black\" points=\"1207,-425 1096,-425 1096,-342 1207,-342 1207,-425\"/>\r\n",
       "<text text-anchor=\"middle\" x=\"1151.5\" y=\"-409.8\" font-family=\"Times New Roman,serif\" font-size=\"14.00\">Age &lt;= 32.5</text>\r\n",
       "<text text-anchor=\"middle\" x=\"1151.5\" y=\"-394.8\" font-family=\"Times New Roman,serif\" font-size=\"14.00\">gini = 0.361</text>\r\n",
       "<text text-anchor=\"middle\" x=\"1151.5\" y=\"-379.8\" font-family=\"Times New Roman,serif\" font-size=\"14.00\">samples = 292</text>\r\n",
       "<text text-anchor=\"middle\" x=\"1151.5\" y=\"-364.8\" font-family=\"Times New Roman,serif\" font-size=\"14.00\">value = [223, 69]</text>\r\n",
       "<text text-anchor=\"middle\" x=\"1151.5\" y=\"-349.8\" font-family=\"Times New Roman,serif\" font-size=\"14.00\">class = 0</text>\r\n",
       "</g>\r\n",
       "<!-- 0&#45;&gt;16 -->\r\n",
       "<g id=\"edge16\" class=\"edge\"><title>0&#45;&gt;16</title>\r\n",
       "<path fill=\"none\" stroke=\"black\" d=\"M965.808,-473.178C1002.23,-455.783 1048.92,-433.486 1086.37,-415.603\"/>\r\n",
       "<polygon fill=\"black\" stroke=\"black\" points=\"1088.17,-418.624 1095.68,-411.157 1085.15,-412.308 1088.17,-418.624\"/>\r\n",
       "<text text-anchor=\"middle\" x=\"1087.35\" y=\"-431.027\" font-family=\"Times New Roman,serif\" font-size=\"14.00\">False</text>\r\n",
       "</g>\r\n",
       "<!-- 2 -->\r\n",
       "<g id=\"node3\" class=\"node\"><title>2</title>\r\n",
       "<polygon fill=\"#f1bd97\" stroke=\"black\" points=\"398.5,-306 258.5,-306 258.5,-223 398.5,-223 398.5,-306\"/>\r\n",
       "<text text-anchor=\"middle\" x=\"328.5\" y=\"-290.8\" font-family=\"Times New Roman,serif\" font-size=\"14.00\">PassengerId &lt;= 129.5</text>\r\n",
       "<text text-anchor=\"middle\" x=\"328.5\" y=\"-275.8\" font-family=\"Times New Roman,serif\" font-size=\"14.00\">gini = 0.437</text>\r\n",
       "<text text-anchor=\"middle\" x=\"328.5\" y=\"-260.8\" font-family=\"Times New Roman,serif\" font-size=\"14.00\">samples = 62</text>\r\n",
       "<text text-anchor=\"middle\" x=\"328.5\" y=\"-245.8\" font-family=\"Times New Roman,serif\" font-size=\"14.00\">value = [42, 20]</text>\r\n",
       "<text text-anchor=\"middle\" x=\"328.5\" y=\"-230.8\" font-family=\"Times New Roman,serif\" font-size=\"14.00\">class = 0</text>\r\n",
       "</g>\r\n",
       "<!-- 1&#45;&gt;2 -->\r\n",
       "<g id=\"edge2\" class=\"edge\"><title>1&#45;&gt;2</title>\r\n",
       "<path fill=\"none\" stroke=\"black\" d=\"M613.364,-362.387C556.838,-343.161 471.193,-314.032 408.571,-292.733\"/>\r\n",
       "<polygon fill=\"black\" stroke=\"black\" points=\"409.32,-289.292 398.726,-289.385 407.066,-295.919 409.32,-289.292\"/>\r\n",
       "</g>\r\n",
       "<!-- 9 -->\r\n",
       "<g id=\"node10\" class=\"node\"><title>9</title>\r\n",
       "<polygon fill=\"#a8d4f4\" stroke=\"black\" points=\"742.5,-306 602.5,-306 602.5,-223 742.5,-223 742.5,-306\"/>\r\n",
       "<text text-anchor=\"middle\" x=\"672.5\" y=\"-290.8\" font-family=\"Times New Roman,serif\" font-size=\"14.00\">PassengerId &lt;= 183.0</text>\r\n",
       "<text text-anchor=\"middle\" x=\"672.5\" y=\"-275.8\" font-family=\"Times New Roman,serif\" font-size=\"14.00\">gini = 0.46</text>\r\n",
       "<text text-anchor=\"middle\" x=\"672.5\" y=\"-260.8\" font-family=\"Times New Roman,serif\" font-size=\"14.00\">samples = 217</text>\r\n",
       "<text text-anchor=\"middle\" x=\"672.5\" y=\"-245.8\" font-family=\"Times New Roman,serif\" font-size=\"14.00\">value = [78, 139]</text>\r\n",
       "<text text-anchor=\"middle\" x=\"672.5\" y=\"-230.8\" font-family=\"Times New Roman,serif\" font-size=\"14.00\">class = 1</text>\r\n",
       "</g>\r\n",
       "<!-- 1&#45;&gt;9 -->\r\n",
       "<g id=\"edge9\" class=\"edge\"><title>1&#45;&gt;9</title>\r\n",
       "<path fill=\"none\" stroke=\"black\" d=\"M672.5,-341.907C672.5,-333.649 672.5,-324.864 672.5,-316.302\"/>\r\n",
       "<polygon fill=\"black\" stroke=\"black\" points=\"676,-316.021 672.5,-306.021 669,-316.021 676,-316.021\"/>\r\n",
       "</g>\r\n",
       "<!-- 3 -->\r\n",
       "<g id=\"node4\" class=\"node\"><title>3</title>\r\n",
       "<polygon fill=\"#88c4ef\" stroke=\"black\" points=\"200,-187 109,-187 109,-104 200,-104 200,-187\"/>\r\n",
       "<text text-anchor=\"middle\" x=\"154.5\" y=\"-171.8\" font-family=\"Times New Roman,serif\" font-size=\"14.00\">Age &lt;= 50.0</text>\r\n",
       "<text text-anchor=\"middle\" x=\"154.5\" y=\"-156.8\" font-family=\"Times New Roman,serif\" font-size=\"14.00\">gini = 0.408</text>\r\n",
       "<text text-anchor=\"middle\" x=\"154.5\" y=\"-141.8\" font-family=\"Times New Roman,serif\" font-size=\"14.00\">samples = 7</text>\r\n",
       "<text text-anchor=\"middle\" x=\"154.5\" y=\"-126.8\" font-family=\"Times New Roman,serif\" font-size=\"14.00\">value = [2, 5]</text>\r\n",
       "<text text-anchor=\"middle\" x=\"154.5\" y=\"-111.8\" font-family=\"Times New Roman,serif\" font-size=\"14.00\">class = 1</text>\r\n",
       "</g>\r\n",
       "<!-- 2&#45;&gt;3 -->\r\n",
       "<g id=\"edge3\" class=\"edge\"><title>2&#45;&gt;3</title>\r\n",
       "<path fill=\"none\" stroke=\"black\" d=\"M268.132,-222.907C248.81,-209.915 227.548,-195.619 208.695,-182.941\"/>\r\n",
       "<polygon fill=\"black\" stroke=\"black\" points=\"210.469,-179.917 200.217,-177.241 206.563,-185.725 210.469,-179.917\"/>\r\n",
       "</g>\r\n",
       "<!-- 6 -->\r\n",
       "<g id=\"node7\" class=\"node\"><title>6</title>\r\n",
       "<polygon fill=\"#efb083\" stroke=\"black\" points=\"380.5,-187 276.5,-187 276.5,-104 380.5,-104 380.5,-187\"/>\r\n",
       "<text text-anchor=\"middle\" x=\"328.5\" y=\"-171.8\" font-family=\"Times New Roman,serif\" font-size=\"14.00\">Age &lt;= 50.5</text>\r\n",
       "<text text-anchor=\"middle\" x=\"328.5\" y=\"-156.8\" font-family=\"Times New Roman,serif\" font-size=\"14.00\">gini = 0.397</text>\r\n",
       "<text text-anchor=\"middle\" x=\"328.5\" y=\"-141.8\" font-family=\"Times New Roman,serif\" font-size=\"14.00\">samples = 55</text>\r\n",
       "<text text-anchor=\"middle\" x=\"328.5\" y=\"-126.8\" font-family=\"Times New Roman,serif\" font-size=\"14.00\">value = [40, 15]</text>\r\n",
       "<text text-anchor=\"middle\" x=\"328.5\" y=\"-111.8\" font-family=\"Times New Roman,serif\" font-size=\"14.00\">class = 0</text>\r\n",
       "</g>\r\n",
       "<!-- 2&#45;&gt;6 -->\r\n",
       "<g id=\"edge6\" class=\"edge\"><title>2&#45;&gt;6</title>\r\n",
       "<path fill=\"none\" stroke=\"black\" d=\"M328.5,-222.907C328.5,-214.649 328.5,-205.864 328.5,-197.302\"/>\r\n",
       "<polygon fill=\"black\" stroke=\"black\" points=\"332,-197.021 328.5,-187.021 325,-197.021 332,-197.021\"/>\r\n",
       "</g>\r\n",
       "<!-- 4 -->\r\n",
       "<g id=\"node5\" class=\"node\"><title>4</title>\r\n",
       "<polygon fill=\"#61b1ea\" stroke=\"black\" points=\"91,-68 0,-68 0,-0 91,-0 91,-68\"/>\r\n",
       "<text text-anchor=\"middle\" x=\"45.5\" y=\"-52.8\" font-family=\"Times New Roman,serif\" font-size=\"14.00\">gini = 0.278</text>\r\n",
       "<text text-anchor=\"middle\" x=\"45.5\" y=\"-37.8\" font-family=\"Times New Roman,serif\" font-size=\"14.00\">samples = 6</text>\r\n",
       "<text text-anchor=\"middle\" x=\"45.5\" y=\"-22.8\" font-family=\"Times New Roman,serif\" font-size=\"14.00\">value = [1, 5]</text>\r\n",
       "<text text-anchor=\"middle\" x=\"45.5\" y=\"-7.8\" font-family=\"Times New Roman,serif\" font-size=\"14.00\">class = 1</text>\r\n",
       "</g>\r\n",
       "<!-- 3&#45;&gt;4 -->\r\n",
       "<g id=\"edge4\" class=\"edge\"><title>3&#45;&gt;4</title>\r\n",
       "<path fill=\"none\" stroke=\"black\" d=\"M113.912,-103.726C104.742,-94.5142 95.0093,-84.7364 85.8492,-75.5343\"/>\r\n",
       "<polygon fill=\"black\" stroke=\"black\" points=\"88.183,-72.9176 78.6475,-68.2996 83.2219,-77.8561 88.183,-72.9176\"/>\r\n",
       "</g>\r\n",
       "<!-- 5 -->\r\n",
       "<g id=\"node6\" class=\"node\"><title>5</title>\r\n",
       "<polygon fill=\"#e58139\" stroke=\"black\" points=\"200,-68 109,-68 109,-0 200,-0 200,-68\"/>\r\n",
       "<text text-anchor=\"middle\" x=\"154.5\" y=\"-52.8\" font-family=\"Times New Roman,serif\" font-size=\"14.00\">gini = 0.0</text>\r\n",
       "<text text-anchor=\"middle\" x=\"154.5\" y=\"-37.8\" font-family=\"Times New Roman,serif\" font-size=\"14.00\">samples = 1</text>\r\n",
       "<text text-anchor=\"middle\" x=\"154.5\" y=\"-22.8\" font-family=\"Times New Roman,serif\" font-size=\"14.00\">value = [1, 0]</text>\r\n",
       "<text text-anchor=\"middle\" x=\"154.5\" y=\"-7.8\" font-family=\"Times New Roman,serif\" font-size=\"14.00\">class = 0</text>\r\n",
       "</g>\r\n",
       "<!-- 3&#45;&gt;5 -->\r\n",
       "<g id=\"edge5\" class=\"edge\"><title>3&#45;&gt;5</title>\r\n",
       "<path fill=\"none\" stroke=\"black\" d=\"M154.5,-103.726C154.5,-95.5175 154.5,-86.8595 154.5,-78.56\"/>\r\n",
       "<polygon fill=\"black\" stroke=\"black\" points=\"158,-78.2996 154.5,-68.2996 151,-78.2996 158,-78.2996\"/>\r\n",
       "</g>\r\n",
       "<!-- 7 -->\r\n",
       "<g id=\"node8\" class=\"node\"><title>7</title>\r\n",
       "<polygon fill=\"#f1ba93\" stroke=\"black\" points=\"322.5,-68 218.5,-68 218.5,-0 322.5,-0 322.5,-68\"/>\r\n",
       "<text text-anchor=\"middle\" x=\"270.5\" y=\"-52.8\" font-family=\"Times New Roman,serif\" font-size=\"14.00\">gini = 0.43</text>\r\n",
       "<text text-anchor=\"middle\" x=\"270.5\" y=\"-37.8\" font-family=\"Times New Roman,serif\" font-size=\"14.00\">samples = 48</text>\r\n",
       "<text text-anchor=\"middle\" x=\"270.5\" y=\"-22.8\" font-family=\"Times New Roman,serif\" font-size=\"14.00\">value = [33, 15]</text>\r\n",
       "<text text-anchor=\"middle\" x=\"270.5\" y=\"-7.8\" font-family=\"Times New Roman,serif\" font-size=\"14.00\">class = 0</text>\r\n",
       "</g>\r\n",
       "<!-- 6&#45;&gt;7 -->\r\n",
       "<g id=\"edge7\" class=\"edge\"><title>6&#45;&gt;7</title>\r\n",
       "<path fill=\"none\" stroke=\"black\" d=\"M306.903,-103.726C302.313,-95.0615 297.459,-85.8962 292.842,-77.1802\"/>\r\n",
       "<polygon fill=\"black\" stroke=\"black\" points=\"295.912,-75.4982 288.138,-68.2996 289.726,-78.7748 295.912,-75.4982\"/>\r\n",
       "</g>\r\n",
       "<!-- 8 -->\r\n",
       "<g id=\"node9\" class=\"node\"><title>8</title>\r\n",
       "<polygon fill=\"#e58139\" stroke=\"black\" points=\"432,-68 341,-68 341,-0 432,-0 432,-68\"/>\r\n",
       "<text text-anchor=\"middle\" x=\"386.5\" y=\"-52.8\" font-family=\"Times New Roman,serif\" font-size=\"14.00\">gini = 0.0</text>\r\n",
       "<text text-anchor=\"middle\" x=\"386.5\" y=\"-37.8\" font-family=\"Times New Roman,serif\" font-size=\"14.00\">samples = 7</text>\r\n",
       "<text text-anchor=\"middle\" x=\"386.5\" y=\"-22.8\" font-family=\"Times New Roman,serif\" font-size=\"14.00\">value = [7, 0]</text>\r\n",
       "<text text-anchor=\"middle\" x=\"386.5\" y=\"-7.8\" font-family=\"Times New Roman,serif\" font-size=\"14.00\">class = 0</text>\r\n",
       "</g>\r\n",
       "<!-- 6&#45;&gt;8 -->\r\n",
       "<g id=\"edge8\" class=\"edge\"><title>6&#45;&gt;8</title>\r\n",
       "<path fill=\"none\" stroke=\"black\" d=\"M350.097,-103.726C354.687,-95.0615 359.541,-85.8962 364.158,-77.1802\"/>\r\n",
       "<polygon fill=\"black\" stroke=\"black\" points=\"367.274,-78.7748 368.862,-68.2996 361.088,-75.4982 367.274,-78.7748\"/>\r\n",
       "</g>\r\n",
       "<!-- 10 -->\r\n",
       "<g id=\"node11\" class=\"node\"><title>10</title>\r\n",
       "<polygon fill=\"#f4caab\" stroke=\"black\" points=\"669,-187 536,-187 536,-104 669,-104 669,-187\"/>\r\n",
       "<text text-anchor=\"middle\" x=\"602.5\" y=\"-171.8\" font-family=\"Times New Roman,serif\" font-size=\"14.00\">PassengerId &lt;= 18.5</text>\r\n",
       "<text text-anchor=\"middle\" x=\"602.5\" y=\"-156.8\" font-family=\"Times New Roman,serif\" font-size=\"14.00\">gini = 0.464</text>\r\n",
       "<text text-anchor=\"middle\" x=\"602.5\" y=\"-141.8\" font-family=\"Times New Roman,serif\" font-size=\"14.00\">samples = 41</text>\r\n",
       "<text text-anchor=\"middle\" x=\"602.5\" y=\"-126.8\" font-family=\"Times New Roman,serif\" font-size=\"14.00\">value = [26, 15]</text>\r\n",
       "<text text-anchor=\"middle\" x=\"602.5\" y=\"-111.8\" font-family=\"Times New Roman,serif\" font-size=\"14.00\">class = 0</text>\r\n",
       "</g>\r\n",
       "<!-- 9&#45;&gt;10 -->\r\n",
       "<g id=\"edge10\" class=\"edge\"><title>9&#45;&gt;10</title>\r\n",
       "<path fill=\"none\" stroke=\"black\" d=\"M648.214,-222.907C642.947,-214.105 637.322,-204.703 631.883,-195.612\"/>\r\n",
       "<polygon fill=\"black\" stroke=\"black\" points=\"634.881,-193.805 626.743,-187.021 628.874,-197.399 634.881,-193.805\"/>\r\n",
       "</g>\r\n",
       "<!-- 13 -->\r\n",
       "<g id=\"node14\" class=\"node\"><title>13</title>\r\n",
       "<polygon fill=\"#8cc6f0\" stroke=\"black\" points=\"798,-187 687,-187 687,-104 798,-104 798,-187\"/>\r\n",
       "<text text-anchor=\"middle\" x=\"742.5\" y=\"-171.8\" font-family=\"Times New Roman,serif\" font-size=\"14.00\">Age &lt;= 42.5</text>\r\n",
       "<text text-anchor=\"middle\" x=\"742.5\" y=\"-156.8\" font-family=\"Times New Roman,serif\" font-size=\"14.00\">gini = 0.416</text>\r\n",
       "<text text-anchor=\"middle\" x=\"742.5\" y=\"-141.8\" font-family=\"Times New Roman,serif\" font-size=\"14.00\">samples = 176</text>\r\n",
       "<text text-anchor=\"middle\" x=\"742.5\" y=\"-126.8\" font-family=\"Times New Roman,serif\" font-size=\"14.00\">value = [52, 124]</text>\r\n",
       "<text text-anchor=\"middle\" x=\"742.5\" y=\"-111.8\" font-family=\"Times New Roman,serif\" font-size=\"14.00\">class = 1</text>\r\n",
       "</g>\r\n",
       "<!-- 9&#45;&gt;13 -->\r\n",
       "<g id=\"edge13\" class=\"edge\"><title>9&#45;&gt;13</title>\r\n",
       "<path fill=\"none\" stroke=\"black\" d=\"M696.786,-222.907C702.053,-214.105 707.678,-204.703 713.117,-195.612\"/>\r\n",
       "<polygon fill=\"black\" stroke=\"black\" points=\"716.126,-197.399 718.257,-187.021 710.119,-193.805 716.126,-197.399\"/>\r\n",
       "</g>\r\n",
       "<!-- 11 -->\r\n",
       "<g id=\"node12\" class=\"node\"><title>11</title>\r\n",
       "<polygon fill=\"#6ab6ec\" stroke=\"black\" points=\"541,-68 450,-68 450,-0 541,-0 541,-68\"/>\r\n",
       "<text text-anchor=\"middle\" x=\"495.5\" y=\"-52.8\" font-family=\"Times New Roman,serif\" font-size=\"14.00\">gini = 0.32</text>\r\n",
       "<text text-anchor=\"middle\" x=\"495.5\" y=\"-37.8\" font-family=\"Times New Roman,serif\" font-size=\"14.00\">samples = 5</text>\r\n",
       "<text text-anchor=\"middle\" x=\"495.5\" y=\"-22.8\" font-family=\"Times New Roman,serif\" font-size=\"14.00\">value = [1, 4]</text>\r\n",
       "<text text-anchor=\"middle\" x=\"495.5\" y=\"-7.8\" font-family=\"Times New Roman,serif\" font-size=\"14.00\">class = 1</text>\r\n",
       "</g>\r\n",
       "<!-- 10&#45;&gt;11 -->\r\n",
       "<g id=\"edge11\" class=\"edge\"><title>10&#45;&gt;11</title>\r\n",
       "<path fill=\"none\" stroke=\"black\" d=\"M562.657,-103.726C553.655,-94.5142 544.101,-84.7364 535.109,-75.5343\"/>\r\n",
       "<polygon fill=\"black\" stroke=\"black\" points=\"537.532,-73.0057 528.039,-68.2996 532.525,-77.898 537.532,-73.0057\"/>\r\n",
       "</g>\r\n",
       "<!-- 12 -->\r\n",
       "<g id=\"node13\" class=\"node\"><title>12</title>\r\n",
       "<polygon fill=\"#f0b890\" stroke=\"black\" points=\"663.5,-68 559.5,-68 559.5,-0 663.5,-0 663.5,-68\"/>\r\n",
       "<text text-anchor=\"middle\" x=\"611.5\" y=\"-52.8\" font-family=\"Times New Roman,serif\" font-size=\"14.00\">gini = 0.424</text>\r\n",
       "<text text-anchor=\"middle\" x=\"611.5\" y=\"-37.8\" font-family=\"Times New Roman,serif\" font-size=\"14.00\">samples = 36</text>\r\n",
       "<text text-anchor=\"middle\" x=\"611.5\" y=\"-22.8\" font-family=\"Times New Roman,serif\" font-size=\"14.00\">value = [25, 11]</text>\r\n",
       "<text text-anchor=\"middle\" x=\"611.5\" y=\"-7.8\" font-family=\"Times New Roman,serif\" font-size=\"14.00\">class = 0</text>\r\n",
       "</g>\r\n",
       "<!-- 10&#45;&gt;12 -->\r\n",
       "<g id=\"edge12\" class=\"edge\"><title>10&#45;&gt;12</title>\r\n",
       "<path fill=\"none\" stroke=\"black\" d=\"M605.851,-103.726C606.533,-95.4263 607.253,-86.6671 607.942,-78.2834\"/>\r\n",
       "<polygon fill=\"black\" stroke=\"black\" points=\"611.432,-78.5527 608.763,-68.2996 604.456,-77.9793 611.432,-78.5527\"/>\r\n",
       "</g>\r\n",
       "<!-- 14 -->\r\n",
       "<g id=\"node15\" class=\"node\"><title>14</title>\r\n",
       "<polygon fill=\"#72b9ec\" stroke=\"black\" points=\"785.5,-68 681.5,-68 681.5,-0 785.5,-0 785.5,-68\"/>\r\n",
       "<text text-anchor=\"middle\" x=\"733.5\" y=\"-52.8\" font-family=\"Times New Roman,serif\" font-size=\"14.00\">gini = 0.346</text>\r\n",
       "<text text-anchor=\"middle\" x=\"733.5\" y=\"-37.8\" font-family=\"Times New Roman,serif\" font-size=\"14.00\">samples = 126</text>\r\n",
       "<text text-anchor=\"middle\" x=\"733.5\" y=\"-22.8\" font-family=\"Times New Roman,serif\" font-size=\"14.00\">value = [28, 98]</text>\r\n",
       "<text text-anchor=\"middle\" x=\"733.5\" y=\"-7.8\" font-family=\"Times New Roman,serif\" font-size=\"14.00\">class = 1</text>\r\n",
       "</g>\r\n",
       "<!-- 13&#45;&gt;14 -->\r\n",
       "<g id=\"edge14\" class=\"edge\"><title>13&#45;&gt;14</title>\r\n",
       "<path fill=\"none\" stroke=\"black\" d=\"M739.149,-103.726C738.467,-95.4263 737.747,-86.6671 737.058,-78.2834\"/>\r\n",
       "<polygon fill=\"black\" stroke=\"black\" points=\"740.544,-77.9793 736.237,-68.2996 733.568,-78.5527 740.544,-77.9793\"/>\r\n",
       "</g>\r\n",
       "<!-- 15 -->\r\n",
       "<g id=\"node16\" class=\"node\"><title>15</title>\r\n",
       "<polygon fill=\"#f0f7fd\" stroke=\"black\" points=\"907.5,-68 803.5,-68 803.5,-0 907.5,-0 907.5,-68\"/>\r\n",
       "<text text-anchor=\"middle\" x=\"855.5\" y=\"-52.8\" font-family=\"Times New Roman,serif\" font-size=\"14.00\">gini = 0.499</text>\r\n",
       "<text text-anchor=\"middle\" x=\"855.5\" y=\"-37.8\" font-family=\"Times New Roman,serif\" font-size=\"14.00\">samples = 50</text>\r\n",
       "<text text-anchor=\"middle\" x=\"855.5\" y=\"-22.8\" font-family=\"Times New Roman,serif\" font-size=\"14.00\">value = [24, 26]</text>\r\n",
       "<text text-anchor=\"middle\" x=\"855.5\" y=\"-7.8\" font-family=\"Times New Roman,serif\" font-size=\"14.00\">class = 1</text>\r\n",
       "</g>\r\n",
       "<!-- 13&#45;&gt;15 -->\r\n",
       "<g id=\"edge15\" class=\"edge\"><title>13&#45;&gt;15</title>\r\n",
       "<path fill=\"none\" stroke=\"black\" d=\"M784.577,-103.726C794.178,-94.423 804.374,-84.5428 813.952,-75.2612\"/>\r\n",
       "<polygon fill=\"black\" stroke=\"black\" points=\"816.39,-77.7721 821.136,-68.2996 811.519,-72.7451 816.39,-77.7721\"/>\r\n",
       "</g>\r\n",
       "<!-- 17 -->\r\n",
       "<g id=\"node18\" class=\"node\"><title>17</title>\r\n",
       "<polygon fill=\"#f0b489\" stroke=\"black\" points=\"1207,-306 1096,-306 1096,-223 1207,-223 1207,-306\"/>\r\n",
       "<text text-anchor=\"middle\" x=\"1151.5\" y=\"-290.8\" font-family=\"Times New Roman,serif\" font-size=\"14.00\">Age &lt;= 6.5</text>\r\n",
       "<text text-anchor=\"middle\" x=\"1151.5\" y=\"-275.8\" font-family=\"Times New Roman,serif\" font-size=\"14.00\">gini = 0.41</text>\r\n",
       "<text text-anchor=\"middle\" x=\"1151.5\" y=\"-260.8\" font-family=\"Times New Roman,serif\" font-size=\"14.00\">samples = 229</text>\r\n",
       "<text text-anchor=\"middle\" x=\"1151.5\" y=\"-245.8\" font-family=\"Times New Roman,serif\" font-size=\"14.00\">value = [163, 66]</text>\r\n",
       "<text text-anchor=\"middle\" x=\"1151.5\" y=\"-230.8\" font-family=\"Times New Roman,serif\" font-size=\"14.00\">class = 0</text>\r\n",
       "</g>\r\n",
       "<!-- 16&#45;&gt;17 -->\r\n",
       "<g id=\"edge17\" class=\"edge\"><title>16&#45;&gt;17</title>\r\n",
       "<path fill=\"none\" stroke=\"black\" d=\"M1151.5,-341.907C1151.5,-333.649 1151.5,-324.864 1151.5,-316.302\"/>\r\n",
       "<polygon fill=\"black\" stroke=\"black\" points=\"1155,-316.021 1151.5,-306.021 1148,-316.021 1155,-316.021\"/>\r\n",
       "</g>\r\n",
       "<!-- 24 -->\r\n",
       "<g id=\"node25\" class=\"node\"><title>24</title>\r\n",
       "<polygon fill=\"#e68743\" stroke=\"black\" points=\"1547.5,-306 1449.5,-306 1449.5,-223 1547.5,-223 1547.5,-306\"/>\r\n",
       "<text text-anchor=\"middle\" x=\"1498.5\" y=\"-290.8\" font-family=\"Times New Roman,serif\" font-size=\"14.00\">Age &lt;= 62.0</text>\r\n",
       "<text text-anchor=\"middle\" x=\"1498.5\" y=\"-275.8\" font-family=\"Times New Roman,serif\" font-size=\"14.00\">gini = 0.091</text>\r\n",
       "<text text-anchor=\"middle\" x=\"1498.5\" y=\"-260.8\" font-family=\"Times New Roman,serif\" font-size=\"14.00\">samples = 63</text>\r\n",
       "<text text-anchor=\"middle\" x=\"1498.5\" y=\"-245.8\" font-family=\"Times New Roman,serif\" font-size=\"14.00\">value = [60, 3]</text>\r\n",
       "<text text-anchor=\"middle\" x=\"1498.5\" y=\"-230.8\" font-family=\"Times New Roman,serif\" font-size=\"14.00\">class = 0</text>\r\n",
       "</g>\r\n",
       "<!-- 16&#45;&gt;24 -->\r\n",
       "<g id=\"edge24\" class=\"edge\"><title>16&#45;&gt;24</title>\r\n",
       "<path fill=\"none\" stroke=\"black\" d=\"M1207.25,-363.702C1270.94,-342.228 1374.71,-307.24 1439.66,-285.34\"/>\r\n",
       "<polygon fill=\"black\" stroke=\"black\" points=\"1440.99,-288.586 1449.34,-282.075 1438.75,-281.953 1440.99,-288.586\"/>\r\n",
       "</g>\r\n",
       "<!-- 18 -->\r\n",
       "<g id=\"node19\" class=\"node\"><title>18</title>\r\n",
       "<polygon fill=\"#e5f2fc\" stroke=\"black\" points=\"1140.5,-187 1036.5,-187 1036.5,-104 1140.5,-104 1140.5,-187\"/>\r\n",
       "<text text-anchor=\"middle\" x=\"1088.5\" y=\"-171.8\" font-family=\"Times New Roman,serif\" font-size=\"14.00\">SibSp &lt;= 2.5</text>\r\n",
       "<text text-anchor=\"middle\" x=\"1088.5\" y=\"-156.8\" font-family=\"Times New Roman,serif\" font-size=\"14.00\">gini = 0.497</text>\r\n",
       "<text text-anchor=\"middle\" x=\"1088.5\" y=\"-141.8\" font-family=\"Times New Roman,serif\" font-size=\"14.00\">samples = 28</text>\r\n",
       "<text text-anchor=\"middle\" x=\"1088.5\" y=\"-126.8\" font-family=\"Times New Roman,serif\" font-size=\"14.00\">value = [13, 15]</text>\r\n",
       "<text text-anchor=\"middle\" x=\"1088.5\" y=\"-111.8\" font-family=\"Times New Roman,serif\" font-size=\"14.00\">class = 1</text>\r\n",
       "</g>\r\n",
       "<!-- 17&#45;&gt;18 -->\r\n",
       "<g id=\"edge18\" class=\"edge\"><title>17&#45;&gt;18</title>\r\n",
       "<path fill=\"none\" stroke=\"black\" d=\"M1129.64,-222.907C1124.95,-214.195 1119.94,-204.897 1115.1,-195.893\"/>\r\n",
       "<polygon fill=\"black\" stroke=\"black\" points=\"1118.14,-194.166 1110.32,-187.021 1111.98,-197.485 1118.14,-194.166\"/>\r\n",
       "</g>\r\n",
       "<!-- 21 -->\r\n",
       "<g id=\"node22\" class=\"node\"><title>21</title>\r\n",
       "<polygon fill=\"#eeac7c\" stroke=\"black\" points=\"1270,-187 1159,-187 1159,-104 1270,-104 1270,-187\"/>\r\n",
       "<text text-anchor=\"middle\" x=\"1214.5\" y=\"-171.8\" font-family=\"Times New Roman,serif\" font-size=\"14.00\">SibSp &lt;= 1.5</text>\r\n",
       "<text text-anchor=\"middle\" x=\"1214.5\" y=\"-156.8\" font-family=\"Times New Roman,serif\" font-size=\"14.00\">gini = 0.379</text>\r\n",
       "<text text-anchor=\"middle\" x=\"1214.5\" y=\"-141.8\" font-family=\"Times New Roman,serif\" font-size=\"14.00\">samples = 201</text>\r\n",
       "<text text-anchor=\"middle\" x=\"1214.5\" y=\"-126.8\" font-family=\"Times New Roman,serif\" font-size=\"14.00\">value = [150, 51]</text>\r\n",
       "<text text-anchor=\"middle\" x=\"1214.5\" y=\"-111.8\" font-family=\"Times New Roman,serif\" font-size=\"14.00\">class = 0</text>\r\n",
       "</g>\r\n",
       "<!-- 17&#45;&gt;21 -->\r\n",
       "<g id=\"edge21\" class=\"edge\"><title>17&#45;&gt;21</title>\r\n",
       "<path fill=\"none\" stroke=\"black\" d=\"M1173.36,-222.907C1178.05,-214.195 1183.06,-204.897 1187.9,-195.893\"/>\r\n",
       "<polygon fill=\"black\" stroke=\"black\" points=\"1191.02,-197.485 1192.68,-187.021 1184.86,-194.166 1191.02,-197.485\"/>\r\n",
       "</g>\r\n",
       "<!-- 19 -->\r\n",
       "<g id=\"node20\" class=\"node\"><title>19</title>\r\n",
       "<polygon fill=\"#47a4e7\" stroke=\"black\" points=\"1023.5,-68 925.5,-68 925.5,-0 1023.5,-0 1023.5,-68\"/>\r\n",
       "<text text-anchor=\"middle\" x=\"974.5\" y=\"-52.8\" font-family=\"Times New Roman,serif\" font-size=\"14.00\">gini = 0.124</text>\r\n",
       "<text text-anchor=\"middle\" x=\"974.5\" y=\"-37.8\" font-family=\"Times New Roman,serif\" font-size=\"14.00\">samples = 15</text>\r\n",
       "<text text-anchor=\"middle\" x=\"974.5\" y=\"-22.8\" font-family=\"Times New Roman,serif\" font-size=\"14.00\">value = [1, 14]</text>\r\n",
       "<text text-anchor=\"middle\" x=\"974.5\" y=\"-7.8\" font-family=\"Times New Roman,serif\" font-size=\"14.00\">class = 1</text>\r\n",
       "</g>\r\n",
       "<!-- 18&#45;&gt;19 -->\r\n",
       "<g id=\"edge19\" class=\"edge\"><title>18&#45;&gt;19</title>\r\n",
       "<path fill=\"none\" stroke=\"black\" d=\"M1046.05,-103.726C1036.37,-94.423 1026.08,-84.5428 1016.42,-75.2612\"/>\r\n",
       "<polygon fill=\"black\" stroke=\"black\" points=\"1018.8,-72.7027 1009.17,-68.2996 1013.96,-77.7511 1018.8,-72.7027\"/>\r\n",
       "</g>\r\n",
       "<!-- 20 -->\r\n",
       "<g id=\"node21\" class=\"node\"><title>20</title>\r\n",
       "<polygon fill=\"#e78c49\" stroke=\"black\" points=\"1139.5,-68 1041.5,-68 1041.5,-0 1139.5,-0 1139.5,-68\"/>\r\n",
       "<text text-anchor=\"middle\" x=\"1090.5\" y=\"-52.8\" font-family=\"Times New Roman,serif\" font-size=\"14.00\">gini = 0.142</text>\r\n",
       "<text text-anchor=\"middle\" x=\"1090.5\" y=\"-37.8\" font-family=\"Times New Roman,serif\" font-size=\"14.00\">samples = 13</text>\r\n",
       "<text text-anchor=\"middle\" x=\"1090.5\" y=\"-22.8\" font-family=\"Times New Roman,serif\" font-size=\"14.00\">value = [12, 1]</text>\r\n",
       "<text text-anchor=\"middle\" x=\"1090.5\" y=\"-7.8\" font-family=\"Times New Roman,serif\" font-size=\"14.00\">class = 0</text>\r\n",
       "</g>\r\n",
       "<!-- 18&#45;&gt;20 -->\r\n",
       "<g id=\"edge20\" class=\"edge\"><title>18&#45;&gt;20</title>\r\n",
       "<path fill=\"none\" stroke=\"black\" d=\"M1089.24,-103.726C1089.39,-95.5175 1089.55,-86.8595 1089.7,-78.56\"/>\r\n",
       "<polygon fill=\"black\" stroke=\"black\" points=\"1093.21,-78.3619 1089.89,-68.2996 1086.21,-78.234 1093.21,-78.3619\"/>\r\n",
       "</g>\r\n",
       "<!-- 22 -->\r\n",
       "<g id=\"node23\" class=\"node\"><title>22</title>\r\n",
       "<polygon fill=\"#efb286\" stroke=\"black\" points=\"1269,-68 1158,-68 1158,-0 1269,-0 1269,-68\"/>\r\n",
       "<text text-anchor=\"middle\" x=\"1213.5\" y=\"-52.8\" font-family=\"Times New Roman,serif\" font-size=\"14.00\">gini = 0.403</text>\r\n",
       "<text text-anchor=\"middle\" x=\"1213.5\" y=\"-37.8\" font-family=\"Times New Roman,serif\" font-size=\"14.00\">samples = 179</text>\r\n",
       "<text text-anchor=\"middle\" x=\"1213.5\" y=\"-22.8\" font-family=\"Times New Roman,serif\" font-size=\"14.00\">value = [129, 50]</text>\r\n",
       "<text text-anchor=\"middle\" x=\"1213.5\" y=\"-7.8\" font-family=\"Times New Roman,serif\" font-size=\"14.00\">class = 0</text>\r\n",
       "</g>\r\n",
       "<!-- 21&#45;&gt;22 -->\r\n",
       "<g id=\"edge22\" class=\"edge\"><title>21&#45;&gt;22</title>\r\n",
       "<path fill=\"none\" stroke=\"black\" d=\"M1214.13,-103.726C1214.05,-95.5175 1213.97,-86.8595 1213.9,-78.56\"/>\r\n",
       "<polygon fill=\"black\" stroke=\"black\" points=\"1217.4,-78.2672 1213.8,-68.2996 1210.4,-78.3312 1217.4,-78.2672\"/>\r\n",
       "</g>\r\n",
       "<!-- 23 -->\r\n",
       "<g id=\"node24\" class=\"node\"><title>23</title>\r\n",
       "<polygon fill=\"#e68742\" stroke=\"black\" points=\"1385.5,-68 1287.5,-68 1287.5,-0 1385.5,-0 1385.5,-68\"/>\r\n",
       "<text text-anchor=\"middle\" x=\"1336.5\" y=\"-52.8\" font-family=\"Times New Roman,serif\" font-size=\"14.00\">gini = 0.087</text>\r\n",
       "<text text-anchor=\"middle\" x=\"1336.5\" y=\"-37.8\" font-family=\"Times New Roman,serif\" font-size=\"14.00\">samples = 22</text>\r\n",
       "<text text-anchor=\"middle\" x=\"1336.5\" y=\"-22.8\" font-family=\"Times New Roman,serif\" font-size=\"14.00\">value = [21, 1]</text>\r\n",
       "<text text-anchor=\"middle\" x=\"1336.5\" y=\"-7.8\" font-family=\"Times New Roman,serif\" font-size=\"14.00\">class = 0</text>\r\n",
       "</g>\r\n",
       "<!-- 21&#45;&gt;23 -->\r\n",
       "<g id=\"edge23\" class=\"edge\"><title>21&#45;&gt;23</title>\r\n",
       "<path fill=\"none\" stroke=\"black\" d=\"M1259.93,-103.726C1270.4,-94.3318 1281.52,-84.349 1291.95,-74.9883\"/>\r\n",
       "<polygon fill=\"black\" stroke=\"black\" points=\"1294.29,-77.5839 1299.4,-68.2996 1289.62,-72.3744 1294.29,-77.5839\"/>\r\n",
       "</g>\r\n",
       "<!-- 25 -->\r\n",
       "<g id=\"node26\" class=\"node\"><title>25</title>\r\n",
       "<polygon fill=\"#e68540\" stroke=\"black\" points=\"1568.5,-187 1428.5,-187 1428.5,-104 1568.5,-104 1568.5,-187\"/>\r\n",
       "<text text-anchor=\"middle\" x=\"1498.5\" y=\"-171.8\" font-family=\"Times New Roman,serif\" font-size=\"14.00\">PassengerId &lt;= 561.0</text>\r\n",
       "<text text-anchor=\"middle\" x=\"1498.5\" y=\"-156.8\" font-family=\"Times New Roman,serif\" font-size=\"14.00\">gini = 0.065</text>\r\n",
       "<text text-anchor=\"middle\" x=\"1498.5\" y=\"-141.8\" font-family=\"Times New Roman,serif\" font-size=\"14.00\">samples = 59</text>\r\n",
       "<text text-anchor=\"middle\" x=\"1498.5\" y=\"-126.8\" font-family=\"Times New Roman,serif\" font-size=\"14.00\">value = [57, 2]</text>\r\n",
       "<text text-anchor=\"middle\" x=\"1498.5\" y=\"-111.8\" font-family=\"Times New Roman,serif\" font-size=\"14.00\">class = 0</text>\r\n",
       "</g>\r\n",
       "<!-- 24&#45;&gt;25 -->\r\n",
       "<g id=\"edge25\" class=\"edge\"><title>24&#45;&gt;25</title>\r\n",
       "<path fill=\"none\" stroke=\"black\" d=\"M1498.5,-222.907C1498.5,-214.649 1498.5,-205.864 1498.5,-197.302\"/>\r\n",
       "<polygon fill=\"black\" stroke=\"black\" points=\"1502,-197.021 1498.5,-187.021 1495,-197.021 1502,-197.021\"/>\r\n",
       "</g>\r\n",
       "<!-- 28 -->\r\n",
       "<g id=\"node29\" class=\"node\"><title>28</title>\r\n",
       "<polygon fill=\"#eeab7b\" stroke=\"black\" points=\"1729.5,-187 1633.5,-187 1633.5,-104 1729.5,-104 1729.5,-187\"/>\r\n",
       "<text text-anchor=\"middle\" x=\"1681.5\" y=\"-171.8\" font-family=\"Times New Roman,serif\" font-size=\"14.00\">Fare &lt;= 8.681</text>\r\n",
       "<text text-anchor=\"middle\" x=\"1681.5\" y=\"-156.8\" font-family=\"Times New Roman,serif\" font-size=\"14.00\">gini = 0.375</text>\r\n",
       "<text text-anchor=\"middle\" x=\"1681.5\" y=\"-141.8\" font-family=\"Times New Roman,serif\" font-size=\"14.00\">samples = 4</text>\r\n",
       "<text text-anchor=\"middle\" x=\"1681.5\" y=\"-126.8\" font-family=\"Times New Roman,serif\" font-size=\"14.00\">value = [3, 1]</text>\r\n",
       "<text text-anchor=\"middle\" x=\"1681.5\" y=\"-111.8\" font-family=\"Times New Roman,serif\" font-size=\"14.00\">class = 0</text>\r\n",
       "</g>\r\n",
       "<!-- 24&#45;&gt;28 -->\r\n",
       "<g id=\"edge28\" class=\"edge\"><title>24&#45;&gt;28</title>\r\n",
       "<path fill=\"none\" stroke=\"black\" d=\"M1547.54,-232.146C1571.31,-216.948 1600,-198.609 1624.71,-182.807\"/>\r\n",
       "<polygon fill=\"black\" stroke=\"black\" points=\"1626.74,-185.668 1633.27,-177.332 1622.96,-179.77 1626.74,-185.668\"/>\r\n",
       "</g>\r\n",
       "<!-- 26 -->\r\n",
       "<g id=\"node27\" class=\"node\"><title>26</title>\r\n",
       "<polygon fill=\"#e78946\" stroke=\"black\" points=\"1501.5,-68 1403.5,-68 1403.5,-0 1501.5,-0 1501.5,-68\"/>\r\n",
       "<text text-anchor=\"middle\" x=\"1452.5\" y=\"-52.8\" font-family=\"Times New Roman,serif\" font-size=\"14.00\">gini = 0.117</text>\r\n",
       "<text text-anchor=\"middle\" x=\"1452.5\" y=\"-37.8\" font-family=\"Times New Roman,serif\" font-size=\"14.00\">samples = 32</text>\r\n",
       "<text text-anchor=\"middle\" x=\"1452.5\" y=\"-22.8\" font-family=\"Times New Roman,serif\" font-size=\"14.00\">value = [30, 2]</text>\r\n",
       "<text text-anchor=\"middle\" x=\"1452.5\" y=\"-7.8\" font-family=\"Times New Roman,serif\" font-size=\"14.00\">class = 0</text>\r\n",
       "</g>\r\n",
       "<!-- 25&#45;&gt;26 -->\r\n",
       "<g id=\"edge26\" class=\"edge\"><title>25&#45;&gt;26</title>\r\n",
       "<path fill=\"none\" stroke=\"black\" d=\"M1481.37,-103.726C1477.81,-95.2439 1474.04,-86.2819 1470.45,-77.7312\"/>\r\n",
       "<polygon fill=\"black\" stroke=\"black\" points=\"1473.59,-76.1635 1466.49,-68.2996 1467.14,-78.8747 1473.59,-76.1635\"/>\r\n",
       "</g>\r\n",
       "<!-- 27 -->\r\n",
       "<g id=\"node28\" class=\"node\"><title>27</title>\r\n",
       "<polygon fill=\"#e58139\" stroke=\"black\" points=\"1617.5,-68 1519.5,-68 1519.5,-0 1617.5,-0 1617.5,-68\"/>\r\n",
       "<text text-anchor=\"middle\" x=\"1568.5\" y=\"-52.8\" font-family=\"Times New Roman,serif\" font-size=\"14.00\">gini = 0.0</text>\r\n",
       "<text text-anchor=\"middle\" x=\"1568.5\" y=\"-37.8\" font-family=\"Times New Roman,serif\" font-size=\"14.00\">samples = 27</text>\r\n",
       "<text text-anchor=\"middle\" x=\"1568.5\" y=\"-22.8\" font-family=\"Times New Roman,serif\" font-size=\"14.00\">value = [27, 0]</text>\r\n",
       "<text text-anchor=\"middle\" x=\"1568.5\" y=\"-7.8\" font-family=\"Times New Roman,serif\" font-size=\"14.00\">class = 0</text>\r\n",
       "</g>\r\n",
       "<!-- 25&#45;&gt;27 -->\r\n",
       "<g id=\"edge27\" class=\"edge\"><title>25&#45;&gt;27</title>\r\n",
       "<path fill=\"none\" stroke=\"black\" d=\"M1524.57,-103.726C1530.16,-94.9703 1536.09,-85.7032 1541.71,-76.9051\"/>\r\n",
       "<polygon fill=\"black\" stroke=\"black\" points=\"1544.78,-78.6103 1547.21,-68.2996 1538.88,-74.8399 1544.78,-78.6103\"/>\r\n",
       "</g>\r\n",
       "<!-- 29 -->\r\n",
       "<g id=\"node30\" class=\"node\"><title>29</title>\r\n",
       "<polygon fill=\"#e58139\" stroke=\"black\" points=\"1727,-68 1636,-68 1636,-0 1727,-0 1727,-68\"/>\r\n",
       "<text text-anchor=\"middle\" x=\"1681.5\" y=\"-52.8\" font-family=\"Times New Roman,serif\" font-size=\"14.00\">gini = 0.0</text>\r\n",
       "<text text-anchor=\"middle\" x=\"1681.5\" y=\"-37.8\" font-family=\"Times New Roman,serif\" font-size=\"14.00\">samples = 3</text>\r\n",
       "<text text-anchor=\"middle\" x=\"1681.5\" y=\"-22.8\" font-family=\"Times New Roman,serif\" font-size=\"14.00\">value = [3, 0]</text>\r\n",
       "<text text-anchor=\"middle\" x=\"1681.5\" y=\"-7.8\" font-family=\"Times New Roman,serif\" font-size=\"14.00\">class = 0</text>\r\n",
       "</g>\r\n",
       "<!-- 28&#45;&gt;29 -->\r\n",
       "<g id=\"edge29\" class=\"edge\"><title>28&#45;&gt;29</title>\r\n",
       "<path fill=\"none\" stroke=\"black\" d=\"M1681.5,-103.726C1681.5,-95.5175 1681.5,-86.8595 1681.5,-78.56\"/>\r\n",
       "<polygon fill=\"black\" stroke=\"black\" points=\"1685,-78.2996 1681.5,-68.2996 1678,-78.2996 1685,-78.2996\"/>\r\n",
       "</g>\r\n",
       "<!-- 30 -->\r\n",
       "<g id=\"node31\" class=\"node\"><title>30</title>\r\n",
       "<polygon fill=\"#399de5\" stroke=\"black\" points=\"1836,-68 1745,-68 1745,-0 1836,-0 1836,-68\"/>\r\n",
       "<text text-anchor=\"middle\" x=\"1790.5\" y=\"-52.8\" font-family=\"Times New Roman,serif\" font-size=\"14.00\">gini = 0.0</text>\r\n",
       "<text text-anchor=\"middle\" x=\"1790.5\" y=\"-37.8\" font-family=\"Times New Roman,serif\" font-size=\"14.00\">samples = 1</text>\r\n",
       "<text text-anchor=\"middle\" x=\"1790.5\" y=\"-22.8\" font-family=\"Times New Roman,serif\" font-size=\"14.00\">value = [0, 1]</text>\r\n",
       "<text text-anchor=\"middle\" x=\"1790.5\" y=\"-7.8\" font-family=\"Times New Roman,serif\" font-size=\"14.00\">class = 1</text>\r\n",
       "</g>\r\n",
       "<!-- 28&#45;&gt;30 -->\r\n",
       "<g id=\"edge30\" class=\"edge\"><title>28&#45;&gt;30</title>\r\n",
       "<path fill=\"none\" stroke=\"black\" d=\"M1722.09,-103.726C1731.26,-94.5142 1740.99,-84.7364 1750.15,-75.5343\"/>\r\n",
       "<polygon fill=\"black\" stroke=\"black\" points=\"1752.78,-77.8561 1757.35,-68.2996 1747.82,-72.9176 1752.78,-77.8561\"/>\r\n",
       "</g>\r\n",
       "</g>\r\n",
       "</svg>\r\n"
      ],
      "text/plain": [
       "<graphviz.files.Source at 0x21f92762d00>"
      ]
     },
     "execution_count": 57,
     "metadata": {},
     "output_type": "execute_result"
    }
   ],
   "source": [
    "dt_clf_best=DecisionTreeClassifier(max_depth=4).fit(X_train,y_train)\n",
    "export_graphviz(dt_clf_best,out_file='best.dot',class_names=['0','1'],feature_names=list(titanic_features),impurity=True,filled=True)\n",
    "with open('best.dot') as d:\n",
    "    dot_graph=d.read()\n",
    "graphviz.Source(dot_graph)"
   ]
  },
  {
   "cell_type": "code",
   "execution_count": 58,
   "metadata": {},
   "outputs": [
    {
     "data": {
      "text/plain": [
       "<AxesSubplot:>"
      ]
     },
     "execution_count": 58,
     "metadata": {},
     "output_type": "execute_result"
    },
    {
     "data": {
      "image/png": "[encoded data removed]",
      "text/plain": [
       "<Figure size 432x288 with 1 Axes>"
      ]
     },
     "metadata": {
      "needs_background": "light"
     },
     "output_type": "display_data"
    }
   ],
   "source": [
    "sns.barplot(x=dt_clf.feature_importances_, y=list(titanic_features))"
   ]
  },
  {
   "cell_type": "code",
   "execution_count": null,
   "metadata": {},
   "outputs": [],
   "source": []
  }
 ],
 "metadata": {
  "colab": {
   "name": "복습과제 3번(시각화)",
   "provenance": []
  },
  "kernelspec": {
   "display_name": "Python 3",
   "language": "python",
   "name": "python3"
  },
  "language_info": {
   "codemirror_mode": {
    "name": "ipython",
    "version": 3
   },
   "file_extension": ".py",
   "mimetype": "text/x-python",
   "name": "python",
   "nbconvert_exporter": "python",
   "pygments_lexer": "ipython3",
   "version": "3.8.5"
  },
  "varInspector": {
   "cols": {
    "lenName": 16,
    "lenType": 16,
    "lenVar": 40
   },
   "kernels_config": {
    "python": {
     "delete_cmd_postfix": "",
     "delete_cmd_prefix": "del ",
     "library": "var_list.py",
     "varRefreshCmd": "print(var_dic_list())"
    },
    "r": {
     "delete_cmd_postfix": ") ",
     "delete_cmd_prefix": "rm(",
     "library": "var_list.r",
     "varRefreshCmd": "cat(var_dic_list()) "
    }
   },
   "types_to_exclude": [
    "module",
    "function",
    "builtin_function_or_method",
    "instance",
    "_Feature"
   ],
   "window_display": false
  }
 },
 "nbformat": 4,
 "nbformat_minor": 1
}
