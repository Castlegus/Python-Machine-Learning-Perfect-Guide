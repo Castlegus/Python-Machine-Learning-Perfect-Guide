{
 "cells": [
  {
   "cell_type": "markdown",
   "metadata": {},
   "source": [
    "# 1. AdaBoost"
   ]
  },
  {
   "cell_type": "code",
   "execution_count": 1,
   "metadata": {},
   "outputs": [
    {
     "data": {
      "text/html": [
       "<div>\n",
       "<style scoped>\n",
       "    .dataframe tbody tr th:only-of-type {\n",
       "        vertical-align: middle;\n",
       "    }\n",
       "\n",
       "    .dataframe tbody tr th {\n",
       "        vertical-align: top;\n",
       "    }\n",
       "\n",
       "    .dataframe thead th {\n",
       "        text-align: right;\n",
       "    }\n",
       "</style>\n",
       "<table border=\"1\" class=\"dataframe\">\n",
       "  <thead>\n",
       "    <tr style=\"text-align: right;\">\n",
       "      <th></th>\n",
       "      <th>variance</th>\n",
       "      <th>skewness</th>\n",
       "      <th>kurtosis</th>\n",
       "      <th>entropy</th>\n",
       "      <th>class</th>\n",
       "    </tr>\n",
       "  </thead>\n",
       "  <tbody>\n",
       "    <tr>\n",
       "      <th>0</th>\n",
       "      <td>4.54590</td>\n",
       "      <td>8.1674</td>\n",
       "      <td>-2.4586</td>\n",
       "      <td>-1.46210</td>\n",
       "      <td>0</td>\n",
       "    </tr>\n",
       "    <tr>\n",
       "      <th>1</th>\n",
       "      <td>3.86600</td>\n",
       "      <td>-2.6383</td>\n",
       "      <td>1.9242</td>\n",
       "      <td>0.10645</td>\n",
       "      <td>0</td>\n",
       "    </tr>\n",
       "    <tr>\n",
       "      <th>2</th>\n",
       "      <td>3.45660</td>\n",
       "      <td>9.5228</td>\n",
       "      <td>-4.0112</td>\n",
       "      <td>-3.59440</td>\n",
       "      <td>0</td>\n",
       "    </tr>\n",
       "    <tr>\n",
       "      <th>3</th>\n",
       "      <td>0.32924</td>\n",
       "      <td>-4.4552</td>\n",
       "      <td>4.5718</td>\n",
       "      <td>-0.98880</td>\n",
       "      <td>0</td>\n",
       "    </tr>\n",
       "    <tr>\n",
       "      <th>4</th>\n",
       "      <td>4.36840</td>\n",
       "      <td>9.6718</td>\n",
       "      <td>-3.9606</td>\n",
       "      <td>-3.16250</td>\n",
       "      <td>0</td>\n",
       "    </tr>\n",
       "  </tbody>\n",
       "</table>\n",
       "</div>"
      ],
      "text/plain": [
       "   variance  skewness  kurtosis  entropy  class\n",
       "0   4.54590    8.1674   -2.4586 -1.46210      0\n",
       "1   3.86600   -2.6383    1.9242  0.10645      0\n",
       "2   3.45660    9.5228   -4.0112 -3.59440      0\n",
       "3   0.32924   -4.4552    4.5718 -0.98880      0\n",
       "4   4.36840    9.6718   -3.9606 -3.16250      0"
      ]
     },
     "execution_count": 1,
     "metadata": {},
     "output_type": "execute_result"
    }
   ],
   "source": [
    "from sklearn.ensemble import AdaBoostClassifier\n",
    "from sklearn.tree import DecisionTreeClassifier\n",
    "import pandas as pd\n",
    "import numpy as np\n",
    "from sklearn.model_selection import train_test_split\n",
    "from sklearn.metrics import confusion_matrix\n",
    "\n",
    "df = pd.read_excel('./banknote.xlsx')\n",
    "df = df.drop([\"Unnamed: 0\"],axis = 1)\n",
    "df.head()"
   ]
  },
  {
   "cell_type": "markdown",
   "metadata": {},
   "source": [
    "### (1) 데이터 셋을 80%는 train 데이터, 20%는 test 데이터로 분리해주세요. (타겟은 class 열입니다)"
   ]
  },
  {
   "cell_type": "code",
   "execution_count": 2,
   "metadata": {},
   "outputs": [],
   "source": [
    "y = df['class']\n",
    "X = df.drop('class', axis=1)\n",
    "\n",
    "X_train, X_test, y_train, y_test = train_test_split(X,y, test_size=0.2, random_state=6)"
   ]
  },
  {
   "cell_type": "markdown",
   "metadata": {},
   "source": [
    "### (2) 200개의 의사 결정 트리 모형을 개별 모델로 사용하는 에이다부스트 분석기를 만들고 학습시켜주세요.\n",
    "#### (max_depth=1, algorithm='SAMME', learning_rate=0.5로 설정)"
   ]
  },
  {
   "cell_type": "code",
   "execution_count": 3,
   "metadata": {},
   "outputs": [
    {
     "data": {
      "text/plain": [
       "AdaBoostClassifier(algorithm='SAMME',\n",
       "                   base_estimator=DecisionTreeClassifier(max_depth=1),\n",
       "                   learning_rate=0.5, n_estimators=200, random_state=6)"
      ]
     },
     "execution_count": 3,
     "metadata": {},
     "output_type": "execute_result"
    }
   ],
   "source": [
    "ABC = AdaBoostClassifier(base_estimator = DecisionTreeClassifier(max_depth=1),\n",
    "                         n_estimators=200,\n",
    "                         algorithm='SAMME',\n",
    "                         learning_rate=0.5,\n",
    "                         random_state=6)\n",
    "ABC.fit(X_train, y_train)"
   ]
  },
  {
   "cell_type": "markdown",
   "metadata": {},
   "source": [
    "### (3) 학습시킨 데이터를 이용하여 예측을 수행하여 주세요. (predictions라는 변수 이름 사용)"
   ]
  },
  {
   "cell_type": "code",
   "execution_count": 4,
   "metadata": {},
   "outputs": [],
   "source": [
    "predictions = ABC.predict(X_test)"
   ]
  },
  {
   "cell_type": "markdown",
   "metadata": {},
   "source": [
    "### (4) 오차행렬(confusion matrix)을 이용해 모델을 평가해주세요."
   ]
  },
  {
   "cell_type": "code",
   "execution_count": 5,
   "metadata": {},
   "outputs": [
    {
     "data": {
      "text/plain": [
       "array([[149,   0],\n",
       "       [  0, 126]], dtype=int64)"
      ]
     },
     "execution_count": 5,
     "metadata": {},
     "output_type": "execute_result"
    }
   ],
   "source": [
    "confusion_matrix(y_test, predictions)"
   ]
  },
  {
   "cell_type": "markdown",
   "metadata": {},
   "source": [
    " # 2. gbm 알고리즘 재현해보기"
   ]
  },
  {
   "cell_type": "markdown",
   "metadata": {},
   "source": [
    "#### * regression tree를 이용해 gbm 알고리즘을 간단히 재현해보는 문제입니다. (슬라이드40참고) \n",
    "#### * 주어진 데이터를 이용하세요\n",
    "#### * 트리모형의 하이퍼 파라미터는 max_depth = 5만 사용해주세요"
   ]
  },
  {
   "cell_type": "code",
   "execution_count": 6,
   "metadata": {},
   "outputs": [],
   "source": [
    "import pandas as pd\n",
    "import numpy as np\n",
    "np.random.seed(42)\n",
    "X = np.random.rand(100, 1) - 0.5\n",
    "y = 3*X[:, 0]**2 + 0.05 * np.random.randn(100)"
   ]
  },
  {
   "cell_type": "markdown",
   "metadata": {},
   "source": [
    "### 1) DecisionTreeRegressor 이용하여 첫번째 weak learner를 만드세요"
   ]
  },
  {
   "cell_type": "code",
   "execution_count": 7,
   "metadata": {},
   "outputs": [],
   "source": [
    "from sklearn.tree import DecisionTreeRegressor"
   ]
  },
  {
   "cell_type": "code",
   "execution_count": null,
   "metadata": {},
   "outputs": [],
   "source": [
    "# 예?"
   ]
  },
  {
   "cell_type": "markdown",
   "metadata": {},
   "source": [
    "### 2) 잔차(y - f1(x))를 새로운 목표값 y2라 지정하고 이에 대한 두번째 weak learner를 만드세요"
   ]
  },
  {
   "cell_type": "code",
   "execution_count": null,
   "metadata": {},
   "outputs": [],
   "source": []
  },
  {
   "cell_type": "markdown",
   "metadata": {},
   "source": [
    "### 3) 다시 잔차(y- f1(x) - f2(x))를 새로운 목표값 y3라 지정하고 이에 대한 세번째 weak learner를 만드세요"
   ]
  },
  {
   "cell_type": "code",
   "execution_count": null,
   "metadata": {},
   "outputs": [],
   "source": []
  },
  {
   "cell_type": "markdown",
   "metadata": {},
   "source": [
    "### 4) 새롭게 주어진 데이터(X_new)를 대입한 최종 예측값을 출력하세요"
   ]
  },
  {
   "cell_type": "code",
   "execution_count": 3,
   "metadata": {},
   "outputs": [],
   "source": [
    "X_new = np.array([0.5,0.3,0.1])\n",
    "X_new = X_new.reshape(-1,1)"
   ]
  },
  {
   "cell_type": "code",
   "execution_count": null,
   "metadata": {},
   "outputs": [],
   "source": []
  },
  {
   "cell_type": "markdown",
   "metadata": {},
   "source": [
    "# 3. 사이킷런 래퍼 XGBoost"
   ]
  },
  {
   "cell_type": "markdown",
   "metadata": {},
   "source": [
    "- data.csv를 data1으로 읽어오세요.\n",
    "- 이 데이터는 음료수를 구분하는 데이터세트 입니다. \n",
    "- 타겟은 마지막 열이고, 나머지 열은 피처입니다.\n",
    "- 타겟 레이블 값의 종류는 0, 1, 2로 각각 음료수1, 음료수2, 음료수3 입니다."
   ]
  },
  {
   "cell_type": "code",
   "execution_count": 24,
   "metadata": {},
   "outputs": [],
   "source": [
    "data1 = pd.read_csv('data.csv')"
   ]
  },
  {
   "cell_type": "code",
   "execution_count": 25,
   "metadata": {},
   "outputs": [
    {
     "data": {
      "text/html": [
       "<div>\n",
       "<style scoped>\n",
       "    .dataframe tbody tr th:only-of-type {\n",
       "        vertical-align: middle;\n",
       "    }\n",
       "\n",
       "    .dataframe tbody tr th {\n",
       "        vertical-align: top;\n",
       "    }\n",
       "\n",
       "    .dataframe thead th {\n",
       "        text-align: right;\n",
       "    }\n",
       "</style>\n",
       "<table border=\"1\" class=\"dataframe\">\n",
       "  <thead>\n",
       "    <tr style=\"text-align: right;\">\n",
       "      <th></th>\n",
       "      <th>A</th>\n",
       "      <th>B</th>\n",
       "      <th>C</th>\n",
       "      <th>D</th>\n",
       "      <th>E</th>\n",
       "      <th>F</th>\n",
       "      <th>G</th>\n",
       "      <th>H</th>\n",
       "      <th>I</th>\n",
       "      <th>J</th>\n",
       "      <th>K</th>\n",
       "      <th>L</th>\n",
       "      <th>M</th>\n",
       "      <th>N</th>\n",
       "    </tr>\n",
       "  </thead>\n",
       "  <tbody>\n",
       "    <tr>\n",
       "      <th>173</th>\n",
       "      <td>13.71</td>\n",
       "      <td>5.65</td>\n",
       "      <td>2.45</td>\n",
       "      <td>20.5</td>\n",
       "      <td>95</td>\n",
       "      <td>1.68</td>\n",
       "      <td>0.61</td>\n",
       "      <td>0.52</td>\n",
       "      <td>1.06</td>\n",
       "      <td>7.7</td>\n",
       "      <td>0.64</td>\n",
       "      <td>1.74</td>\n",
       "      <td>740</td>\n",
       "      <td>2</td>\n",
       "    </tr>\n",
       "    <tr>\n",
       "      <th>174</th>\n",
       "      <td>13.40</td>\n",
       "      <td>3.91</td>\n",
       "      <td>2.48</td>\n",
       "      <td>23.0</td>\n",
       "      <td>102</td>\n",
       "      <td>1.80</td>\n",
       "      <td>0.75</td>\n",
       "      <td>0.43</td>\n",
       "      <td>1.41</td>\n",
       "      <td>7.3</td>\n",
       "      <td>0.70</td>\n",
       "      <td>1.56</td>\n",
       "      <td>750</td>\n",
       "      <td>2</td>\n",
       "    </tr>\n",
       "    <tr>\n",
       "      <th>175</th>\n",
       "      <td>13.27</td>\n",
       "      <td>4.28</td>\n",
       "      <td>2.26</td>\n",
       "      <td>20.0</td>\n",
       "      <td>120</td>\n",
       "      <td>1.59</td>\n",
       "      <td>0.69</td>\n",
       "      <td>0.43</td>\n",
       "      <td>1.35</td>\n",
       "      <td>10.2</td>\n",
       "      <td>0.59</td>\n",
       "      <td>1.56</td>\n",
       "      <td>835</td>\n",
       "      <td>2</td>\n",
       "    </tr>\n",
       "    <tr>\n",
       "      <th>176</th>\n",
       "      <td>13.17</td>\n",
       "      <td>2.59</td>\n",
       "      <td>2.37</td>\n",
       "      <td>20.0</td>\n",
       "      <td>120</td>\n",
       "      <td>1.65</td>\n",
       "      <td>0.68</td>\n",
       "      <td>0.53</td>\n",
       "      <td>1.46</td>\n",
       "      <td>9.3</td>\n",
       "      <td>0.60</td>\n",
       "      <td>1.62</td>\n",
       "      <td>840</td>\n",
       "      <td>2</td>\n",
       "    </tr>\n",
       "    <tr>\n",
       "      <th>177</th>\n",
       "      <td>14.13</td>\n",
       "      <td>4.10</td>\n",
       "      <td>2.74</td>\n",
       "      <td>24.5</td>\n",
       "      <td>96</td>\n",
       "      <td>2.05</td>\n",
       "      <td>0.76</td>\n",
       "      <td>0.56</td>\n",
       "      <td>1.35</td>\n",
       "      <td>9.2</td>\n",
       "      <td>0.61</td>\n",
       "      <td>1.60</td>\n",
       "      <td>560</td>\n",
       "      <td>2</td>\n",
       "    </tr>\n",
       "  </tbody>\n",
       "</table>\n",
       "</div>"
      ],
      "text/plain": [
       "         A     B     C     D    E     F     G     H     I     J     K     L  \\\n",
       "173  13.71  5.65  2.45  20.5   95  1.68  0.61  0.52  1.06   7.7  0.64  1.74   \n",
       "174  13.40  3.91  2.48  23.0  102  1.80  0.75  0.43  1.41   7.3  0.70  1.56   \n",
       "175  13.27  4.28  2.26  20.0  120  1.59  0.69  0.43  1.35  10.2  0.59  1.56   \n",
       "176  13.17  2.59  2.37  20.0  120  1.65  0.68  0.53  1.46   9.3  0.60  1.62   \n",
       "177  14.13  4.10  2.74  24.5   96  2.05  0.76  0.56  1.35   9.2  0.61  1.60   \n",
       "\n",
       "       M  N  \n",
       "173  740  2  \n",
       "174  750  2  \n",
       "175  835  2  \n",
       "176  840  2  \n",
       "177  560  2  "
      ]
     },
     "execution_count": 25,
     "metadata": {},
     "output_type": "execute_result"
    }
   ],
   "source": [
    "data1.tail()"
   ]
  },
  {
   "cell_type": "markdown",
   "metadata": {},
   "source": [
    "- train_test_split()에서 test_size은 0.2, random_state은 자신의 나이로 설정합니다.\n",
    "- xgboost를 사용하여 n_estimators=400, learning_rate=0.1, max_depth=3으로 설정하여 학습합니다.\n",
    "- fit()함수에서 early_stopping_rounds=100으로 설정해주세요. (하지만 e로 시작하는 다른 하이퍼 파라미터의 대한 값을 변경해야합니다.)"
   ]
  },
  {
   "cell_type": "code",
   "execution_count": 26,
   "metadata": {},
   "outputs": [],
   "source": [
    "X = data1.drop('N', axis=1)\n",
    "y = data1['N']\n",
    "\n",
    "X_train, X_test, y_train, y_test = train_test_split(X,y,test_size = 0.2, random_state=10)"
   ]
  },
  {
   "cell_type": "code",
   "execution_count": 29,
   "metadata": {},
   "outputs": [
    {
     "name": "stdout",
     "output_type": "stream",
     "text": [
      "[14:05:48] WARNING: C:/Users/Administrator/workspace/xgboost-win64_release_1.3.0/src/learner.cc:1061: Starting in XGBoost 1.3.0, the default evaluation metric used with the objective 'multi:softprob' was changed from 'merror' to 'mlogloss'. Explicitly set eval_metric if you'd like to restore the old behavior.\n",
      "[0]\tvalidation_0-mlogloss:1.00127\n",
      "[1]\tvalidation_0-mlogloss:0.92115\n",
      "[2]\tvalidation_0-mlogloss:0.84765\n",
      "[3]\tvalidation_0-mlogloss:0.78982\n",
      "[4]\tvalidation_0-mlogloss:0.73796\n",
      "[5]\tvalidation_0-mlogloss:0.68747\n",
      "[6]\tvalidation_0-mlogloss:0.64361\n",
      "[7]\tvalidation_0-mlogloss:0.60543\n",
      "[8]\tvalidation_0-mlogloss:0.57163\n",
      "[9]\tvalidation_0-mlogloss:0.54344\n",
      "[10]\tvalidation_0-mlogloss:0.51704\n",
      "[11]\tvalidation_0-mlogloss:0.49102\n",
      "[12]\tvalidation_0-mlogloss:0.47028\n",
      "[13]\tvalidation_0-mlogloss:0.45326\n",
      "[14]\tvalidation_0-mlogloss:0.43701\n",
      "[15]\tvalidation_0-mlogloss:0.42342\n",
      "[16]\tvalidation_0-mlogloss:0.41044\n",
      "[17]\tvalidation_0-mlogloss:0.40090\n",
      "[18]\tvalidation_0-mlogloss:0.39339\n",
      "[19]\tvalidation_0-mlogloss:0.38373\n",
      "[20]\tvalidation_0-mlogloss:0.37581\n",
      "[21]\tvalidation_0-mlogloss:0.37288\n",
      "[22]\tvalidation_0-mlogloss:0.36855\n",
      "[23]\tvalidation_0-mlogloss:0.36411\n",
      "[24]\tvalidation_0-mlogloss:0.36349\n",
      "[25]\tvalidation_0-mlogloss:0.36004\n",
      "[26]\tvalidation_0-mlogloss:0.35520\n",
      "[27]\tvalidation_0-mlogloss:0.35300\n",
      "[28]\tvalidation_0-mlogloss:0.35010\n",
      "[29]\tvalidation_0-mlogloss:0.35018\n",
      "[30]\tvalidation_0-mlogloss:0.34968\n",
      "[31]\tvalidation_0-mlogloss:0.34429\n",
      "[32]\tvalidation_0-mlogloss:0.34049\n",
      "[33]\tvalidation_0-mlogloss:0.34124\n",
      "[34]\tvalidation_0-mlogloss:0.33717\n",
      "[35]\tvalidation_0-mlogloss:0.33544\n",
      "[36]\tvalidation_0-mlogloss:0.33799\n",
      "[37]\tvalidation_0-mlogloss:0.33398\n",
      "[38]\tvalidation_0-mlogloss:0.33380\n",
      "[39]\tvalidation_0-mlogloss:0.33307\n",
      "[40]\tvalidation_0-mlogloss:0.32951\n",
      "[41]\tvalidation_0-mlogloss:0.32955\n",
      "[42]\tvalidation_0-mlogloss:0.32922\n",
      "[43]\tvalidation_0-mlogloss:0.32974\n",
      "[44]\tvalidation_0-mlogloss:0.32383\n",
      "[45]\tvalidation_0-mlogloss:0.32494\n",
      "[46]\tvalidation_0-mlogloss:0.32422\n",
      "[47]\tvalidation_0-mlogloss:0.32355\n",
      "[48]\tvalidation_0-mlogloss:0.32139\n",
      "[49]\tvalidation_0-mlogloss:0.31788\n",
      "[50]\tvalidation_0-mlogloss:0.31685\n",
      "[51]\tvalidation_0-mlogloss:0.31839\n",
      "[52]\tvalidation_0-mlogloss:0.31324\n",
      "[53]\tvalidation_0-mlogloss:0.30983\n",
      "[54]\tvalidation_0-mlogloss:0.31096\n",
      "[55]\tvalidation_0-mlogloss:0.30658\n",
      "[56]\tvalidation_0-mlogloss:0.30370\n",
      "[57]\tvalidation_0-mlogloss:0.30454\n",
      "[58]\tvalidation_0-mlogloss:0.30524\n",
      "[59]\tvalidation_0-mlogloss:0.30118\n",
      "[60]\tvalidation_0-mlogloss:0.29969\n",
      "[61]\tvalidation_0-mlogloss:0.30062\n",
      "[62]\tvalidation_0-mlogloss:0.30122\n",
      "[63]\tvalidation_0-mlogloss:0.29852\n",
      "[64]\tvalidation_0-mlogloss:0.29935\n",
      "[65]\tvalidation_0-mlogloss:0.30064\n",
      "[66]\tvalidation_0-mlogloss:0.30033\n",
      "[67]\tvalidation_0-mlogloss:0.30163\n",
      "[68]\tvalidation_0-mlogloss:0.30291\n",
      "[69]\tvalidation_0-mlogloss:0.30161\n",
      "[70]\tvalidation_0-mlogloss:0.30086\n",
      "[71]\tvalidation_0-mlogloss:0.30061\n",
      "[72]\tvalidation_0-mlogloss:0.30096\n",
      "[73]\tvalidation_0-mlogloss:0.30106\n",
      "[74]\tvalidation_0-mlogloss:0.30146\n",
      "[75]\tvalidation_0-mlogloss:0.30186\n",
      "[76]\tvalidation_0-mlogloss:0.30201\n",
      "[77]\tvalidation_0-mlogloss:0.30245\n",
      "[78]\tvalidation_0-mlogloss:0.30294\n",
      "[79]\tvalidation_0-mlogloss:0.30289\n",
      "[80]\tvalidation_0-mlogloss:0.30336\n",
      "[81]\tvalidation_0-mlogloss:0.30387\n",
      "[82]\tvalidation_0-mlogloss:0.30389\n",
      "[83]\tvalidation_0-mlogloss:0.30511\n",
      "[84]\tvalidation_0-mlogloss:0.30518\n",
      "[85]\tvalidation_0-mlogloss:0.30640\n",
      "[86]\tvalidation_0-mlogloss:0.30764\n",
      "[87]\tvalidation_0-mlogloss:0.30886\n",
      "[88]\tvalidation_0-mlogloss:0.30961\n",
      "[89]\tvalidation_0-mlogloss:0.31048\n",
      "[90]\tvalidation_0-mlogloss:0.31134\n",
      "[91]\tvalidation_0-mlogloss:0.31010\n",
      "[92]\tvalidation_0-mlogloss:0.31095\n",
      "[93]\tvalidation_0-mlogloss:0.30974\n",
      "[94]\tvalidation_0-mlogloss:0.31059\n",
      "[95]\tvalidation_0-mlogloss:0.30942\n",
      "[96]\tvalidation_0-mlogloss:0.31026\n",
      "[97]\tvalidation_0-mlogloss:0.30911\n",
      "[98]\tvalidation_0-mlogloss:0.30995\n",
      "[99]\tvalidation_0-mlogloss:0.30883\n",
      "[100]\tvalidation_0-mlogloss:0.30775\n",
      "[101]\tvalidation_0-mlogloss:0.30671\n",
      "[102]\tvalidation_0-mlogloss:0.30569\n",
      "[103]\tvalidation_0-mlogloss:0.30570\n",
      "[104]\tvalidation_0-mlogloss:0.30571\n",
      "[105]\tvalidation_0-mlogloss:0.30572\n",
      "[106]\tvalidation_0-mlogloss:0.30573\n",
      "[107]\tvalidation_0-mlogloss:0.30574\n",
      "[108]\tvalidation_0-mlogloss:0.30578\n",
      "[109]\tvalidation_0-mlogloss:0.30582\n",
      "[110]\tvalidation_0-mlogloss:0.30586\n",
      "[111]\tvalidation_0-mlogloss:0.30589\n",
      "[112]\tvalidation_0-mlogloss:0.30593\n",
      "[113]\tvalidation_0-mlogloss:0.30596\n",
      "[114]\tvalidation_0-mlogloss:0.30600\n",
      "[115]\tvalidation_0-mlogloss:0.30603\n",
      "[116]\tvalidation_0-mlogloss:0.30606\n",
      "[117]\tvalidation_0-mlogloss:0.30610\n",
      "[118]\tvalidation_0-mlogloss:0.30613\n",
      "[119]\tvalidation_0-mlogloss:0.30616\n",
      "[120]\tvalidation_0-mlogloss:0.30617\n",
      "[121]\tvalidation_0-mlogloss:0.30613\n",
      "[122]\tvalidation_0-mlogloss:0.30610\n",
      "[123]\tvalidation_0-mlogloss:0.30606\n",
      "[124]\tvalidation_0-mlogloss:0.30603\n",
      "[125]\tvalidation_0-mlogloss:0.30600\n",
      "[126]\tvalidation_0-mlogloss:0.30597\n",
      "[127]\tvalidation_0-mlogloss:0.30594\n",
      "[128]\tvalidation_0-mlogloss:0.30591\n",
      "[129]\tvalidation_0-mlogloss:0.30589\n",
      "[130]\tvalidation_0-mlogloss:0.30586\n",
      "[131]\tvalidation_0-mlogloss:0.30584\n",
      "[132]\tvalidation_0-mlogloss:0.30582\n",
      "[133]\tvalidation_0-mlogloss:0.30580\n",
      "[134]\tvalidation_0-mlogloss:0.30578\n",
      "[135]\tvalidation_0-mlogloss:0.30576\n",
      "[136]\tvalidation_0-mlogloss:0.30575\n",
      "[137]\tvalidation_0-mlogloss:0.30573\n",
      "[138]\tvalidation_0-mlogloss:0.30572\n",
      "[139]\tvalidation_0-mlogloss:0.30570\n",
      "[140]\tvalidation_0-mlogloss:0.30569\n",
      "[141]\tvalidation_0-mlogloss:0.30567\n",
      "[142]\tvalidation_0-mlogloss:0.30566\n",
      "[143]\tvalidation_0-mlogloss:0.30565\n",
      "[144]\tvalidation_0-mlogloss:0.30564\n",
      "[145]\tvalidation_0-mlogloss:0.30563\n",
      "[146]\tvalidation_0-mlogloss:0.30562\n",
      "[147]\tvalidation_0-mlogloss:0.30561\n",
      "[148]\tvalidation_0-mlogloss:0.30560\n",
      "[149]\tvalidation_0-mlogloss:0.30559\n",
      "[150]\tvalidation_0-mlogloss:0.30559\n",
      "[151]\tvalidation_0-mlogloss:0.30558\n",
      "[152]\tvalidation_0-mlogloss:0.30557\n",
      "[153]\tvalidation_0-mlogloss:0.30556\n",
      "[154]\tvalidation_0-mlogloss:0.30556\n",
      "[155]\tvalidation_0-mlogloss:0.30555\n",
      "[156]\tvalidation_0-mlogloss:0.30555\n",
      "[157]\tvalidation_0-mlogloss:0.30554\n",
      "[158]\tvalidation_0-mlogloss:0.30554\n",
      "[159]\tvalidation_0-mlogloss:0.30553\n",
      "[160]\tvalidation_0-mlogloss:0.30553\n",
      "[161]\tvalidation_0-mlogloss:0.30552\n",
      "[162]\tvalidation_0-mlogloss:0.30552\n",
      "[163]\tvalidation_0-mlogloss:0.30551\n"
     ]
    },
    {
     "data": {
      "text/plain": [
       "XGBClassifier(base_score=0.5, booster='gbtree', colsample_bylevel=1,\n",
       "              colsample_bynode=1, colsample_bytree=1, gamma=0, gpu_id=-1,\n",
       "              importance_type='gain', interaction_constraints='',\n",
       "              learning_rate=0.1, max_delta_step=0, max_depth=3,\n",
       "              min_child_weight=1, missing=nan, monotone_constraints='()',\n",
       "              n_estimators=400, n_jobs=4, num_parallel_tree=1,\n",
       "              objective='multi:softprob', random_state=0, reg_alpha=0,\n",
       "              reg_lambda=1, scale_pos_weight=None, subsample=1,\n",
       "              tree_method='exact', validate_parameters=1, verbosity=None)"
      ]
     },
     "execution_count": 29,
     "metadata": {},
     "output_type": "execute_result"
    }
   ],
   "source": [
    "from xgboost import XGBClassifier\n",
    "\n",
    "XGBC = XGBClassifier(n_estimators=400, learning_rate=0.1, max_depth=3)\n",
    "XGBC.fit(X_train, y_train, early_stopping_rounds=100, eval_set=[(X_test,y_test)])"
   ]
  },
  {
   "cell_type": "markdown",
   "metadata": {},
   "source": [
    "- test score의 평균값을 구하세요.(cv=5)"
   ]
  },
  {
   "cell_type": "code",
   "execution_count": 33,
   "metadata": {},
   "outputs": [
    {
     "name": "stderr",
     "output_type": "stream",
     "text": [
      "C:\\ProgramData\\Anaconda3\\lib\\site-packages\\xgboost\\sklearn.py:892: UserWarning: The use of label encoder in XGBClassifier is deprecated and will be removed in a future release. To remove this warning, do the following: 1) Pass option use_label_encoder=False when constructing XGBClassifier object; and 2) Encode your labels (y) as integers starting with 0, i.e. 0, 1, 2, ..., [num_class - 1].\n",
      "  warnings.warn(label_encoder_deprecation_msg, UserWarning)\n"
     ]
    },
    {
     "name": "stdout",
     "output_type": "stream",
     "text": [
      "[14:11:56] WARNING: C:/Users/Administrator/workspace/xgboost-win64_release_1.3.0/src/learner.cc:1061: Starting in XGBoost 1.3.0, the default evaluation metric used with the objective 'multi:softprob' was changed from 'merror' to 'mlogloss'. Explicitly set eval_metric if you'd like to restore the old behavior.\n",
      "[14:11:56] WARNING: C:/Users/Administrator/workspace/xgboost-win64_release_1.3.0/src/learner.cc:1061: Starting in XGBoost 1.3.0, the default evaluation metric used with the objective 'multi:softprob' was changed from 'merror' to 'mlogloss'. Explicitly set eval_metric if you'd like to restore the old behavior.\n",
      "[14:11:57] WARNING: C:/Users/Administrator/workspace/xgboost-win64_release_1.3.0/src/learner.cc:1061: Starting in XGBoost 1.3.0, the default evaluation metric used with the objective 'multi:softprob' was changed from 'merror' to 'mlogloss'. Explicitly set eval_metric if you'd like to restore the old behavior.\n",
      "[14:11:57] WARNING: C:/Users/Administrator/workspace/xgboost-win64_release_1.3.0/src/learner.cc:1061: Starting in XGBoost 1.3.0, the default evaluation metric used with the objective 'multi:softprob' was changed from 'merror' to 'mlogloss'. Explicitly set eval_metric if you'd like to restore the old behavior.\n",
      "[14:11:58] WARNING: C:/Users/Administrator/workspace/xgboost-win64_release_1.3.0/src/learner.cc:1061: Starting in XGBoost 1.3.0, the default evaluation metric used with the objective 'multi:softprob' was changed from 'merror' to 'mlogloss'. Explicitly set eval_metric if you'd like to restore the old behavior.\n",
      "[0.97222222 0.91666667 0.94444444 0.97142857 1.        ]\n",
      "avg test score: 0.9610(+/-0.0283)\n"
     ]
    }
   ],
   "source": [
    "from sklearn.model_selection import cross_validate\n",
    "\n",
    "cross_val = cross_validate(estimator=XGBC,\n",
    "                          X=X,\n",
    "                          y=y,\n",
    "                          cv=5)\n",
    "\n",
    "print(cross_val['test_score'])\n",
    "print('avg test score: {:.4f}(+/-{:.4f})'.format(cross_val['test_score'].mean(), cross_val['test_score'].std()))"
   ]
  },
  {
   "cell_type": "markdown",
   "metadata": {},
   "source": [
    "- 피처 중요도 그래프를 그리세오."
   ]
  },
  {
   "cell_type": "code",
   "execution_count": 34,
   "metadata": {},
   "outputs": [
    {
     "data": {
      "text/plain": [
       "<AxesSubplot:title={'center':'Feature importance'}, xlabel='F score', ylabel='Features'>"
      ]
     },
     "execution_count": 34,
     "metadata": {},
     "output_type": "execute_result"
    },
    {
     "data": {
      "image/png": "[encoded data removed]",
      "text/plain": [
       "<Figure size 720x864 with 1 Axes>"
      ]
     },
     "metadata": {
      "needs_background": "light"
     },
     "output_type": "display_data"
    }
   ],
   "source": [
    "from xgboost import plot_importance\n",
    "import matplotlib.pyplot as plt\n",
    "\n",
    "fig,ax = plt.subplots(figsize=(10,12))\n",
    "plot_importance(XGBC, ax=ax)"
   ]
  },
  {
   "cell_type": "markdown",
   "metadata": {},
   "source": [
    "- 트리로 시각화하세요."
   ]
  },
  {
   "cell_type": "code",
   "execution_count": 69,
   "metadata": {},
   "outputs": [
    {
     "data": {
      "text/plain": [
       "<AxesSubplot:>"
      ]
     },
     "execution_count": 69,
     "metadata": {},
     "output_type": "execute_result"
    },
    {
     "data": {
      "image/png": "[encoded data removed]",
      "text/plain": [
       "<Figure size 1440x360 with 1 Axes>"
      ]
     },
     "metadata": {
      "needs_background": "light"
     },
     "output_type": "display_data"
    }
   ],
   "source": [
    "from xgboost import plot_tree\n",
    "from matplotlib.pylab import rcParams\n",
    "\n",
    "rcParams['figure.figsize'] = (20,5)\n",
    "plot_tree(XGBC)"
   ]
  },
  {
   "cell_type": "markdown",
   "metadata": {},
   "source": [
    "# 4. 사이킷런 래퍼 LightGBM"
   ]
  },
  {
   "cell_type": "markdown",
   "metadata": {},
   "source": [
    "- data.csv를 다시 로드하여 data2로 읽어오세요.\n",
    "- 타겟은 마지막 M이고, M열을 제외한 나머지 열은 피처입니다.\n",
    "- 타겟 레이블 채소 파(cm)의 길이입니다."
   ]
  },
  {
   "cell_type": "code",
   "execution_count": 80,
   "metadata": {},
   "outputs": [
    {
     "data": {
      "text/html": [
       "<div>\n",
       "<style scoped>\n",
       "    .dataframe tbody tr th:only-of-type {\n",
       "        vertical-align: middle;\n",
       "    }\n",
       "\n",
       "    .dataframe tbody tr th {\n",
       "        vertical-align: top;\n",
       "    }\n",
       "\n",
       "    .dataframe thead th {\n",
       "        text-align: right;\n",
       "    }\n",
       "</style>\n",
       "<table border=\"1\" class=\"dataframe\">\n",
       "  <thead>\n",
       "    <tr style=\"text-align: right;\">\n",
       "      <th></th>\n",
       "      <th>A</th>\n",
       "      <th>B</th>\n",
       "      <th>C</th>\n",
       "      <th>D</th>\n",
       "      <th>E</th>\n",
       "      <th>F</th>\n",
       "      <th>G</th>\n",
       "      <th>H</th>\n",
       "      <th>I</th>\n",
       "      <th>J</th>\n",
       "      <th>K</th>\n",
       "      <th>L</th>\n",
       "      <th>M</th>\n",
       "      <th>N</th>\n",
       "    </tr>\n",
       "  </thead>\n",
       "  <tbody>\n",
       "    <tr>\n",
       "      <th>173</th>\n",
       "      <td>13.71</td>\n",
       "      <td>5.65</td>\n",
       "      <td>2.45</td>\n",
       "      <td>20.5</td>\n",
       "      <td>95</td>\n",
       "      <td>1.68</td>\n",
       "      <td>0.61</td>\n",
       "      <td>0.52</td>\n",
       "      <td>1.06</td>\n",
       "      <td>7.7</td>\n",
       "      <td>0.64</td>\n",
       "      <td>1.74</td>\n",
       "      <td>740</td>\n",
       "      <td>2</td>\n",
       "    </tr>\n",
       "    <tr>\n",
       "      <th>174</th>\n",
       "      <td>13.40</td>\n",
       "      <td>3.91</td>\n",
       "      <td>2.48</td>\n",
       "      <td>23.0</td>\n",
       "      <td>102</td>\n",
       "      <td>1.80</td>\n",
       "      <td>0.75</td>\n",
       "      <td>0.43</td>\n",
       "      <td>1.41</td>\n",
       "      <td>7.3</td>\n",
       "      <td>0.70</td>\n",
       "      <td>1.56</td>\n",
       "      <td>750</td>\n",
       "      <td>2</td>\n",
       "    </tr>\n",
       "    <tr>\n",
       "      <th>175</th>\n",
       "      <td>13.27</td>\n",
       "      <td>4.28</td>\n",
       "      <td>2.26</td>\n",
       "      <td>20.0</td>\n",
       "      <td>120</td>\n",
       "      <td>1.59</td>\n",
       "      <td>0.69</td>\n",
       "      <td>0.43</td>\n",
       "      <td>1.35</td>\n",
       "      <td>10.2</td>\n",
       "      <td>0.59</td>\n",
       "      <td>1.56</td>\n",
       "      <td>835</td>\n",
       "      <td>2</td>\n",
       "    </tr>\n",
       "    <tr>\n",
       "      <th>176</th>\n",
       "      <td>13.17</td>\n",
       "      <td>2.59</td>\n",
       "      <td>2.37</td>\n",
       "      <td>20.0</td>\n",
       "      <td>120</td>\n",
       "      <td>1.65</td>\n",
       "      <td>0.68</td>\n",
       "      <td>0.53</td>\n",
       "      <td>1.46</td>\n",
       "      <td>9.3</td>\n",
       "      <td>0.60</td>\n",
       "      <td>1.62</td>\n",
       "      <td>840</td>\n",
       "      <td>2</td>\n",
       "    </tr>\n",
       "    <tr>\n",
       "      <th>177</th>\n",
       "      <td>14.13</td>\n",
       "      <td>4.10</td>\n",
       "      <td>2.74</td>\n",
       "      <td>24.5</td>\n",
       "      <td>96</td>\n",
       "      <td>2.05</td>\n",
       "      <td>0.76</td>\n",
       "      <td>0.56</td>\n",
       "      <td>1.35</td>\n",
       "      <td>9.2</td>\n",
       "      <td>0.61</td>\n",
       "      <td>1.60</td>\n",
       "      <td>560</td>\n",
       "      <td>2</td>\n",
       "    </tr>\n",
       "  </tbody>\n",
       "</table>\n",
       "</div>"
      ],
      "text/plain": [
       "         A     B     C     D    E     F     G     H     I     J     K     L  \\\n",
       "173  13.71  5.65  2.45  20.5   95  1.68  0.61  0.52  1.06   7.7  0.64  1.74   \n",
       "174  13.40  3.91  2.48  23.0  102  1.80  0.75  0.43  1.41   7.3  0.70  1.56   \n",
       "175  13.27  4.28  2.26  20.0  120  1.59  0.69  0.43  1.35  10.2  0.59  1.56   \n",
       "176  13.17  2.59  2.37  20.0  120  1.65  0.68  0.53  1.46   9.3  0.60  1.62   \n",
       "177  14.13  4.10  2.74  24.5   96  2.05  0.76  0.56  1.35   9.2  0.61  1.60   \n",
       "\n",
       "       M  N  \n",
       "173  740  2  \n",
       "174  750  2  \n",
       "175  835  2  \n",
       "176  840  2  \n",
       "177  560  2  "
      ]
     },
     "execution_count": 80,
     "metadata": {},
     "output_type": "execute_result"
    }
   ],
   "source": [
    "data2 = pd.read_csv('data.csv')\n",
    "X = data2.drop('N', axis=1)\n",
    "y = data2['N']\n",
    "\n",
    "data2.tail()"
   ]
  },
  {
   "cell_type": "markdown",
   "metadata": {},
   "source": [
    "- train_test_split()에서 test_size은 0.2, random_state은 자신의 나이+10으로 설정합니다.\n",
    "- lightgbm를 사용하여 n_estimators=400으로 설정하여 학습합니다.\n",
    "- fit()함수에서 early_stopping_rounds=100으로 설정해주세요."
   ]
  },
  {
   "cell_type": "code",
   "execution_count": 81,
   "metadata": {},
   "outputs": [
    {
     "name": "stdout",
     "output_type": "stream",
     "text": [
      "[1]\tvalid_0's multi_logloss: 0.989851\n",
      "Training until validation scores don't improve for 100 rounds\n",
      "[2]\tvalid_0's multi_logloss: 0.883733\n",
      "[3]\tvalid_0's multi_logloss: 0.791286\n",
      "[4]\tvalid_0's multi_logloss: 0.720518\n",
      "[5]\tvalid_0's multi_logloss: 0.655596\n",
      "[6]\tvalid_0's multi_logloss: 0.60286\n",
      "[7]\tvalid_0's multi_logloss: 0.559521\n",
      "[8]\tvalid_0's multi_logloss: 0.509836\n",
      "[9]\tvalid_0's multi_logloss: 0.462974\n",
      "[10]\tvalid_0's multi_logloss: 0.4288\n",
      "[11]\tvalid_0's multi_logloss: 0.395199\n",
      "[12]\tvalid_0's multi_logloss: 0.366358\n",
      "[13]\tvalid_0's multi_logloss: 0.345652\n",
      "[14]\tvalid_0's multi_logloss: 0.322672\n",
      "[15]\tvalid_0's multi_logloss: 0.301335\n",
      "[16]\tvalid_0's multi_logloss: 0.286045\n",
      "[17]\tvalid_0's multi_logloss: 0.269233\n",
      "[18]\tvalid_0's multi_logloss: 0.252422\n",
      "[19]\tvalid_0's multi_logloss: 0.243212\n",
      "[20]\tvalid_0's multi_logloss: 0.227516\n",
      "[21]\tvalid_0's multi_logloss: 0.215545\n",
      "[22]\tvalid_0's multi_logloss: 0.200026\n",
      "[23]\tvalid_0's multi_logloss: 0.191708\n",
      "[24]\tvalid_0's multi_logloss: 0.181958\n",
      "[25]\tvalid_0's multi_logloss: 0.173402\n",
      "[26]\tvalid_0's multi_logloss: 0.163187\n",
      "[27]\tvalid_0's multi_logloss: 0.15529\n",
      "[28]\tvalid_0's multi_logloss: 0.146227\n",
      "[29]\tvalid_0's multi_logloss: 0.139194\n",
      "[30]\tvalid_0's multi_logloss: 0.132108\n",
      "[31]\tvalid_0's multi_logloss: 0.126652\n",
      "[32]\tvalid_0's multi_logloss: 0.119584\n",
      "[33]\tvalid_0's multi_logloss: 0.112897\n",
      "[34]\tvalid_0's multi_logloss: 0.106842\n",
      "[35]\tvalid_0's multi_logloss: 0.101645\n",
      "[36]\tvalid_0's multi_logloss: 0.0966631\n",
      "[37]\tvalid_0's multi_logloss: 0.0921065\n",
      "[38]\tvalid_0's multi_logloss: 0.0871067\n",
      "[39]\tvalid_0's multi_logloss: 0.0830031\n",
      "[40]\tvalid_0's multi_logloss: 0.0786558\n",
      "[41]\tvalid_0's multi_logloss: 0.0746774\n",
      "[42]\tvalid_0's multi_logloss: 0.0738975\n",
      "[43]\tvalid_0's multi_logloss: 0.0694288\n",
      "[44]\tvalid_0's multi_logloss: 0.0683322\n",
      "[45]\tvalid_0's multi_logloss: 0.0661893\n",
      "[46]\tvalid_0's multi_logloss: 0.0621244\n",
      "[47]\tvalid_0's multi_logloss: 0.0593675\n",
      "[48]\tvalid_0's multi_logloss: 0.0563295\n",
      "[49]\tvalid_0's multi_logloss: 0.0543121\n",
      "[50]\tvalid_0's multi_logloss: 0.0533157\n",
      "[51]\tvalid_0's multi_logloss: 0.0500071\n",
      "[52]\tvalid_0's multi_logloss: 0.0487406\n",
      "[53]\tvalid_0's multi_logloss: 0.0474407\n",
      "[54]\tvalid_0's multi_logloss: 0.0466367\n",
      "[55]\tvalid_0's multi_logloss: 0.045211\n",
      "[56]\tvalid_0's multi_logloss: 0.0422965\n",
      "[57]\tvalid_0's multi_logloss: 0.0404595\n",
      "[58]\tvalid_0's multi_logloss: 0.0399319\n",
      "[59]\tvalid_0's multi_logloss: 0.0377189\n",
      "[60]\tvalid_0's multi_logloss: 0.0368905\n",
      "[61]\tvalid_0's multi_logloss: 0.034669\n",
      "[62]\tvalid_0's multi_logloss: 0.0332057\n",
      "[63]\tvalid_0's multi_logloss: 0.0323009\n",
      "[64]\tvalid_0's multi_logloss: 0.030835\n",
      "[65]\tvalid_0's multi_logloss: 0.0297123\n",
      "[66]\tvalid_0's multi_logloss: 0.0291223\n",
      "[67]\tvalid_0's multi_logloss: 0.0273995\n",
      "[68]\tvalid_0's multi_logloss: 0.0268582\n",
      "[69]\tvalid_0's multi_logloss: 0.0264511\n",
      "[70]\tvalid_0's multi_logloss: 0.0258003\n",
      "[71]\tvalid_0's multi_logloss: 0.0249597\n",
      "[72]\tvalid_0's multi_logloss: 0.0234968\n",
      "[73]\tvalid_0's multi_logloss: 0.0226825\n",
      "[74]\tvalid_0's multi_logloss: 0.0217772\n",
      "[75]\tvalid_0's multi_logloss: 0.0203478\n",
      "[76]\tvalid_0's multi_logloss: 0.0200811\n",
      "[77]\tvalid_0's multi_logloss: 0.0187355\n",
      "[78]\tvalid_0's multi_logloss: 0.018057\n",
      "[79]\tvalid_0's multi_logloss: 0.017739\n",
      "[80]\tvalid_0's multi_logloss: 0.01648\n",
      "[81]\tvalid_0's multi_logloss: 0.0163172\n",
      "[82]\tvalid_0's multi_logloss: 0.0158951\n",
      "[83]\tvalid_0's multi_logloss: 0.0151091\n",
      "[84]\tvalid_0's multi_logloss: 0.0141249\n",
      "[85]\tvalid_0's multi_logloss: 0.0137823\n",
      "[86]\tvalid_0's multi_logloss: 0.0130529\n",
      "[87]\tvalid_0's multi_logloss: 0.0124138\n",
      "[88]\tvalid_0's multi_logloss: 0.0119254\n",
      "[89]\tvalid_0's multi_logloss: 0.0114176\n",
      "[90]\tvalid_0's multi_logloss: 0.0109947\n",
      "[91]\tvalid_0's multi_logloss: 0.010591\n",
      "[92]\tvalid_0's multi_logloss: 0.0102485\n",
      "[93]\tvalid_0's multi_logloss: 0.0103678\n",
      "[94]\tvalid_0's multi_logloss: 0.0095291\n",
      "[95]\tvalid_0's multi_logloss: 0.00924036\n",
      "[96]\tvalid_0's multi_logloss: 0.00894034\n",
      "[97]\tvalid_0's multi_logloss: 0.00882279\n",
      "[98]\tvalid_0's multi_logloss: 0.00839646\n",
      "[99]\tvalid_0's multi_logloss: 0.00832138\n",
      "[100]\tvalid_0's multi_logloss: 0.00833063\n",
      "[101]\tvalid_0's multi_logloss: 0.00789778\n",
      "[102]\tvalid_0's multi_logloss: 0.00803576\n",
      "[103]\tvalid_0's multi_logloss: 0.0074837\n",
      "[104]\tvalid_0's multi_logloss: 0.00713022\n",
      "[105]\tvalid_0's multi_logloss: 0.00693049\n",
      "[106]\tvalid_0's multi_logloss: 0.0067203\n",
      "[107]\tvalid_0's multi_logloss: 0.00637756\n",
      "[108]\tvalid_0's multi_logloss: 0.00634355\n",
      "[109]\tvalid_0's multi_logloss: 0.00610597\n",
      "[110]\tvalid_0's multi_logloss: 0.00570535\n",
      "[111]\tvalid_0's multi_logloss: 0.00542313\n",
      "[112]\tvalid_0's multi_logloss: 0.00538205\n",
      "[113]\tvalid_0's multi_logloss: 0.00537601\n",
      "[114]\tvalid_0's multi_logloss: 0.00544235\n",
      "[115]\tvalid_0's multi_logloss: 0.00545445\n",
      "[116]\tvalid_0's multi_logloss: 0.00568209\n",
      "[117]\tvalid_0's multi_logloss: 0.00592282\n",
      "[118]\tvalid_0's multi_logloss: 0.00593642\n",
      "[119]\tvalid_0's multi_logloss: 0.00608593\n",
      "[120]\tvalid_0's multi_logloss: 0.0059929\n",
      "[121]\tvalid_0's multi_logloss: 0.00607634\n",
      "[122]\tvalid_0's multi_logloss: 0.0061648\n",
      "[123]\tvalid_0's multi_logloss: 0.00607721\n",
      "[124]\tvalid_0's multi_logloss: 0.00589649\n",
      "[125]\tvalid_0's multi_logloss: 0.005864\n",
      "[126]\tvalid_0's multi_logloss: 0.00579341\n",
      "[127]\tvalid_0's multi_logloss: 0.00580884\n",
      "[128]\tvalid_0's multi_logloss: 0.00573144\n",
      "[129]\tvalid_0's multi_logloss: 0.00566564\n",
      "[130]\tvalid_0's multi_logloss: 0.00563897\n",
      "[131]\tvalid_0's multi_logloss: 0.005569\n",
      "[132]\tvalid_0's multi_logloss: 0.00554576\n",
      "[133]\tvalid_0's multi_logloss: 0.00548188\n",
      "[134]\tvalid_0's multi_logloss: 0.0054616\n",
      "[135]\tvalid_0's multi_logloss: 0.00540457\n",
      "[136]\tvalid_0's multi_logloss: 0.00538684\n",
      "[137]\tvalid_0's multi_logloss: 0.00534585\n",
      "[138]\tvalid_0's multi_logloss: 0.00533834\n",
      "[139]\tvalid_0's multi_logloss: 0.00529957\n",
      "[140]\tvalid_0's multi_logloss: 0.00530893\n",
      "[141]\tvalid_0's multi_logloss: 0.00528571\n",
      "[142]\tvalid_0's multi_logloss: 0.00527896\n",
      "[143]\tvalid_0's multi_logloss: 0.00524225\n",
      "[144]\tvalid_0's multi_logloss: 0.00525236\n",
      "[145]\tvalid_0's multi_logloss: 0.00521783\n",
      "[146]\tvalid_0's multi_logloss: 0.00521199\n",
      "[147]\tvalid_0's multi_logloss: 0.00519094\n",
      "[148]\tvalid_0's multi_logloss: 0.00521163\n",
      "[149]\tvalid_0's multi_logloss: 0.00517291\n",
      "[150]\tvalid_0's multi_logloss: 0.00518362\n",
      "[151]\tvalid_0's multi_logloss: 0.00516461\n",
      "[152]\tvalid_0's multi_logloss: 0.00513321\n",
      "[153]\tvalid_0's multi_logloss: 0.00514449\n",
      "[154]\tvalid_0's multi_logloss: 0.0051278\n",
      "[155]\tvalid_0's multi_logloss: 0.00513928\n",
      "[156]\tvalid_0's multi_logloss: 0.00511349\n",
      "[157]\tvalid_0's multi_logloss: 0.00512504\n",
      "[158]\tvalid_0's multi_logloss: 0.00510056\n",
      "[159]\tvalid_0's multi_logloss: 0.00511215\n",
      "[160]\tvalid_0's multi_logloss: 0.00508889\n",
      "[161]\tvalid_0's multi_logloss: 0.00510048\n",
      "[162]\tvalid_0's multi_logloss: 0.00507836\n",
      "[163]\tvalid_0's multi_logloss: 0.00504708\n",
      "[164]\tvalid_0's multi_logloss: 0.00505829\n",
      "[165]\tvalid_0's multi_logloss: 0.0050369\n",
      "[166]\tvalid_0's multi_logloss: 0.00500729\n",
      "[167]\tvalid_0's multi_logloss: 0.0049871\n",
      "[168]\tvalid_0's multi_logloss: 0.00498289\n",
      "[169]\tvalid_0's multi_logloss: 0.00499364\n",
      "[170]\tvalid_0's multi_logloss: 0.00497362\n",
      "[171]\tvalid_0's multi_logloss: 0.00494605\n",
      "[172]\tvalid_0's multi_logloss: 0.00493544\n",
      "[173]\tvalid_0's multi_logloss: 0.00491685\n",
      "[174]\tvalid_0's multi_logloss: 0.0049276\n",
      "[175]\tvalid_0's multi_logloss: 0.00490991\n",
      "[176]\tvalid_0's multi_logloss: 0.0049186\n",
      "[177]\tvalid_0's multi_logloss: 0.00492931\n",
      "[178]\tvalid_0's multi_logloss: 0.00491966\n",
      "[179]\tvalid_0's multi_logloss: 0.0049302\n",
      "[180]\tvalid_0's multi_logloss: 0.00492128\n",
      "[181]\tvalid_0's multi_logloss: 0.00493018\n",
      "[182]\tvalid_0's multi_logloss: 0.00494062\n",
      "[183]\tvalid_0's multi_logloss: 0.00493231\n",
      "[184]\tvalid_0's multi_logloss: 0.00494114\n",
      "[185]\tvalid_0's multi_logloss: 0.00495147\n",
      "[186]\tvalid_0's multi_logloss: 0.00493012\n",
      "[187]\tvalid_0's multi_logloss: 0.00493884\n",
      "[188]\tvalid_0's multi_logloss: 0.004949\n",
      "[189]\tvalid_0's multi_logloss: 0.00495873\n",
      "[190]\tvalid_0's multi_logloss: 0.00496801\n",
      "[191]\tvalid_0's multi_logloss: 0.00497686\n",
      "[192]\tvalid_0's multi_logloss: 0.00498528\n",
      "[193]\tvalid_0's multi_logloss: 0.00499328\n",
      "[194]\tvalid_0's multi_logloss: 0.00500087\n",
      "[195]\tvalid_0's multi_logloss: 0.00500805\n",
      "[196]\tvalid_0's multi_logloss: 0.00500062\n",
      "[197]\tvalid_0's multi_logloss: 0.00500765\n",
      "[198]\tvalid_0's multi_logloss: 0.00500041\n",
      "[199]\tvalid_0's multi_logloss: 0.00500729\n",
      "[200]\tvalid_0's multi_logloss: 0.00500023\n",
      "[201]\tvalid_0's multi_logloss: 0.00500696\n",
      "[202]\tvalid_0's multi_logloss: 0.00500008\n",
      "[203]\tvalid_0's multi_logloss: 0.00500665\n",
      "[204]\tvalid_0's multi_logloss: 0.00499995\n",
      "[205]\tvalid_0's multi_logloss: 0.00500638\n",
      "[206]\tvalid_0's multi_logloss: 0.00499985\n",
      "[207]\tvalid_0's multi_logloss: 0.00500614\n",
      "[208]\tvalid_0's multi_logloss: 0.00499976\n",
      "[209]\tvalid_0's multi_logloss: 0.00500591\n",
      "[210]\tvalid_0's multi_logloss: 0.0049997\n",
      "[211]\tvalid_0's multi_logloss: 0.00500571\n",
      "[212]\tvalid_0's multi_logloss: 0.00499965\n",
      "[213]\tvalid_0's multi_logloss: 0.00500553\n",
      "[214]\tvalid_0's multi_logloss: 0.00499961\n",
      "[215]\tvalid_0's multi_logloss: 0.00500537\n",
      "[216]\tvalid_0's multi_logloss: 0.0049996\n",
      "[217]\tvalid_0's multi_logloss: 0.00500523\n",
      "[218]\tvalid_0's multi_logloss: 0.00499959\n",
      "[219]\tvalid_0's multi_logloss: 0.0050051\n",
      "[220]\tvalid_0's multi_logloss: 0.0050103\n",
      "[221]\tvalid_0's multi_logloss: 0.00501519\n",
      "[222]\tvalid_0's multi_logloss: 0.0050198\n",
      "[223]\tvalid_0's multi_logloss: 0.00502414\n",
      "[224]\tvalid_0's multi_logloss: 0.00502822\n",
      "[225]\tvalid_0's multi_logloss: 0.00502558\n",
      "[226]\tvalid_0's multi_logloss: 0.00502956\n",
      "[227]\tvalid_0's multi_logloss: 0.005027\n",
      "[228]\tvalid_0's multi_logloss: 0.00503089\n",
      "[229]\tvalid_0's multi_logloss: 0.00502841\n",
      "[230]\tvalid_0's multi_logloss: 0.00503221\n",
      "[231]\tvalid_0's multi_logloss: 0.0050298\n",
      "[232]\tvalid_0's multi_logloss: 0.00503352\n",
      "[233]\tvalid_0's multi_logloss: 0.00503118\n",
      "[234]\tvalid_0's multi_logloss: 0.00503481\n",
      "[235]\tvalid_0's multi_logloss: 0.00503255\n",
      "[236]\tvalid_0's multi_logloss: 0.00503609\n",
      "[237]\tvalid_0's multi_logloss: 0.00503389\n",
      "[238]\tvalid_0's multi_logloss: 0.00503735\n",
      "[239]\tvalid_0's multi_logloss: 0.00503522\n",
      "[240]\tvalid_0's multi_logloss: 0.00503859\n",
      "[241]\tvalid_0's multi_logloss: 0.00503653\n",
      "[242]\tvalid_0's multi_logloss: 0.00503982\n",
      "[243]\tvalid_0's multi_logloss: 0.00503782\n",
      "[244]\tvalid_0's multi_logloss: 0.00504103\n",
      "[245]\tvalid_0's multi_logloss: 0.00503909\n",
      "[246]\tvalid_0's multi_logloss: 0.00504223\n",
      "[247]\tvalid_0's multi_logloss: 0.00504034\n",
      "[248]\tvalid_0's multi_logloss: 0.0050434\n",
      "[249]\tvalid_0's multi_logloss: 0.00504157\n",
      "[250]\tvalid_0's multi_logloss: 0.00504456\n",
      "[251]\tvalid_0's multi_logloss: 0.00504278\n",
      "[252]\tvalid_0's multi_logloss: 0.00504569\n",
      "[253]\tvalid_0's multi_logloss: 0.00504396\n",
      "[254]\tvalid_0's multi_logloss: 0.00504236\n",
      "[255]\tvalid_0's multi_logloss: 0.00504088\n",
      "[256]\tvalid_0's multi_logloss: 0.00503951\n",
      "[257]\tvalid_0's multi_logloss: 0.00503824\n",
      "[258]\tvalid_0's multi_logloss: 0.00503705\n",
      "[259]\tvalid_0's multi_logloss: 0.00503515\n",
      "[260]\tvalid_0's multi_logloss: 0.00503412\n",
      "[261]\tvalid_0's multi_logloss: 0.00503246\n",
      "[262]\tvalid_0's multi_logloss: 0.00503156\n",
      "[263]\tvalid_0's multi_logloss: 0.00503011\n",
      "[264]\tvalid_0's multi_logloss: 0.00502933\n",
      "[265]\tvalid_0's multi_logloss: 0.00502806\n",
      "[266]\tvalid_0's multi_logloss: 0.00502738\n",
      "[267]\tvalid_0's multi_logloss: 0.00502627\n",
      "[268]\tvalid_0's multi_logloss: 0.00502568\n",
      "[269]\tvalid_0's multi_logloss: 0.0050247\n",
      "[270]\tvalid_0's multi_logloss: 0.00502419\n",
      "[271]\tvalid_0's multi_logloss: 0.00502333\n",
      "[272]\tvalid_0's multi_logloss: 0.00502288\n",
      "[273]\tvalid_0's multi_logloss: 0.00502214\n",
      "[274]\tvalid_0's multi_logloss: 0.00502174\n",
      "[275]\tvalid_0's multi_logloss: 0.00501673\n",
      "Early stopping, best iteration is:\n",
      "[175]\tvalid_0's multi_logloss: 0.00490991\n"
     ]
    },
    {
     "data": {
      "text/plain": [
       "LGBMClassifier(n_estimators=400)"
      ]
     },
     "execution_count": 81,
     "metadata": {},
     "output_type": "execute_result"
    }
   ],
   "source": [
    "X_train, X_test, y_train, y_test = train_test_split(X,y,test_size=0.2, random_state=5)\n",
    "from lightgbm import LGBMClassifier\n",
    "lgbmc = LGBMClassifier(n_estimators=400)\n",
    "lgbmc.fit(X_train, y_train, early_stopping_rounds=100,eval_set=(X_test,y_test))"
   ]
  },
  {
   "cell_type": "markdown",
   "metadata": {},
   "source": [
    "- test score의 평균값을 구하세요.(cv=5)"
   ]
  },
  {
   "cell_type": "code",
   "execution_count": 83,
   "metadata": {},
   "outputs": [
    {
     "name": "stdout",
     "output_type": "stream",
     "text": [
      "[0.97222222 0.97222222 0.97222222 0.97142857 1.        ]\n",
      "avg test score: 0.9776(+/-0.0112)\n"
     ]
    }
   ],
   "source": [
    "from sklearn.model_selection import cross_validate\n",
    "\n",
    "cross_val = cross_validate(estimator=lgbmc,\n",
    "                          X=X,\n",
    "                          y=y,\n",
    "                          cv=5)\n",
    "\n",
    "print(cross_val['test_score'])\n",
    "print('avg test score: {:.4f}(+/-{:.4f})'.format(cross_val['test_score'].mean(), cross_val['test_score'].std()))"
   ]
  },
  {
   "cell_type": "markdown",
   "metadata": {},
   "source": [
    "- 피처 중요도 그래프를 그리세오."
   ]
  },
  {
   "cell_type": "code",
   "execution_count": 85,
   "metadata": {},
   "outputs": [
    {
     "data": {
      "text/plain": [
       "<AxesSubplot:title={'center':'Metric during training'}, xlabel='Iterations', ylabel='multi_logloss'>"
      ]
     },
     "execution_count": 85,
     "metadata": {},
     "output_type": "execute_result"
    },
    {
     "data": {
      "image/png": "[encoded data removed]",
      "text/plain": [
       "<Figure size 1440x360 with 1 Axes>"
      ]
     },
     "metadata": {
      "needs_background": "light"
     },
     "output_type": "display_data"
    }
   ],
   "source": [
    "from lightgbm import plot_metric\n",
    "plot_metric(lgbmc)"
   ]
  },
  {
   "cell_type": "code",
   "execution_count": 87,
   "metadata": {},
   "outputs": [
    {
     "data": {
      "text/plain": [
       "<AxesSubplot:title={'center':'Feature importance'}, xlabel='Feature importance', ylabel='Features'>"
      ]
     },
     "execution_count": 87,
     "metadata": {},
     "output_type": "execute_result"
    },
    {
     "data": {
      "image/png": "[encoded data removed]",
      "text/plain": [
       "<Figure size 720x864 with 1 Axes>"
      ]
     },
     "metadata": {
      "needs_background": "light"
     },
     "output_type": "display_data"
    }
   ],
   "source": [
    "from lightgbm import plot_importance\n",
    "\n",
    "fig,ax = plt.subplots(figsize=(10,12))\n",
    "plot_importance(lgbmc, ax=ax)"
   ]
  },
  {
   "cell_type": "markdown",
   "metadata": {},
   "source": [
    "- 트리로 시각화하세요."
   ]
  },
  {
   "cell_type": "code",
   "execution_count": 89,
   "metadata": {},
   "outputs": [
    {
     "data": {
      "text/plain": [
       "<AxesSubplot:>"
      ]
     },
     "execution_count": 89,
     "metadata": {},
     "output_type": "execute_result"
    },
    {
     "data": {
      "image/png": "[encoded data removed]",
      "text/plain": [
       "<Figure size 1440x360 with 1 Axes>"
      ]
     },
     "metadata": {
      "needs_background": "light"
     },
     "output_type": "display_data"
    }
   ],
   "source": [
    "from lightgbm import plot_tree\n",
    "plot_tree(lgbmc)"
   ]
  },
  {
   "cell_type": "code",
   "execution_count": null,
   "metadata": {},
   "outputs": [],
   "source": []
  }
 ],
 "metadata": {
  "kernelspec": {
   "display_name": "Python 3",
   "language": "python",
   "name": "python3"
  },
  "language_info": {
   "codemirror_mode": {
    "name": "ipython",
    "version": 3
   },
   "file_extension": ".py",
   "mimetype": "text/x-python",
   "name": "python",
   "nbconvert_exporter": "python",
   "pygments_lexer": "ipython3",
   "version": "3.8.5"
  },
  "toc": {
   "base_numbering": 1,
   "nav_menu": {},
   "number_sections": true,
   "sideBar": true,
   "skip_h1_title": false,
   "title_cell": "Table of Contents",
   "title_sidebar": "Contents",
   "toc_cell": false,
   "toc_position": {},
   "toc_section_display": true,
   "toc_window_display": false
  }
 },
 "nbformat": 4,
 "nbformat_minor": 2
}
