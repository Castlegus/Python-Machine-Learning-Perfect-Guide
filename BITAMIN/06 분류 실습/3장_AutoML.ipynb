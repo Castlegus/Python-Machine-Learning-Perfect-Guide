{
 "cells": [
  {
   "cell_type": "markdown",
   "metadata": {
    "id": "Ar1yRGWlFWyC"
   },
   "source": [
    "# autoML 라이브러리 pycaret 설치"
   ]
  },
  {
   "cell_type": "code",
   "execution_count": null,
   "metadata": {
    "colab": {
     "base_uri": "https://localhost:8080/"
    },
    "id": "8fPOKVDCRaqB",
    "outputId": "8ee658bc-d919-4049-de34-f6445fae69dd"
   },
   "outputs": [],
   "source": [
    "pip install pycaret"
   ]
  },
  {
   "cell_type": "code",
   "execution_count": 3,
   "metadata": {
    "colab": {
     "base_uri": "https://localhost:8080/",
     "height": 35
    },
    "id": "StMnFtngsyUx",
    "outputId": "96261373-2cc0-4800-f6e9-9155084a149d"
   },
   "outputs": [
    {
     "data": {
      "text/plain": [
       "'2.2.0'"
      ]
     },
     "execution_count": 3,
     "metadata": {},
     "output_type": "execute_result"
    }
   ],
   "source": [
    "# 버전 확인\n",
    "import pycaret\n",
    "pycaret.__version__"
   ]
  },
  {
   "cell_type": "markdown",
   "metadata": {
    "id": "a3rzudPxFfAr"
   },
   "source": [
    "# 데이터 로드"
   ]
  },
  {
   "cell_type": "code",
   "execution_count": 4,
   "metadata": {
    "id": "frr3o5wnRcyB"
   },
   "outputs": [],
   "source": [
    "import pandas as pd\n",
    "data = pd.read_csv('creditcard.csv')"
   ]
  },
  {
   "cell_type": "code",
   "execution_count": 5,
   "metadata": {
    "colab": {
     "base_uri": "https://localhost:8080/",
     "height": 215
    },
    "id": "WU4hMvfeTk-I",
    "outputId": "c9241285-c8fd-4ac9-eb68-8030152b4a31"
   },
   "outputs": [
    {
     "data": {
      "text/html": [
       "<div>\n",
       "<style scoped>\n",
       "    .dataframe tbody tr th:only-of-type {\n",
       "        vertical-align: middle;\n",
       "    }\n",
       "\n",
       "    .dataframe tbody tr th {\n",
       "        vertical-align: top;\n",
       "    }\n",
       "\n",
       "    .dataframe thead th {\n",
       "        text-align: right;\n",
       "    }\n",
       "</style>\n",
       "<table border=\"1\" class=\"dataframe\">\n",
       "  <thead>\n",
       "    <tr style=\"text-align: right;\">\n",
       "      <th></th>\n",
       "      <th>Time</th>\n",
       "      <th>V1</th>\n",
       "      <th>V2</th>\n",
       "      <th>V3</th>\n",
       "      <th>V4</th>\n",
       "      <th>V5</th>\n",
       "      <th>V6</th>\n",
       "      <th>V7</th>\n",
       "      <th>V8</th>\n",
       "      <th>V9</th>\n",
       "      <th>...</th>\n",
       "      <th>V21</th>\n",
       "      <th>V22</th>\n",
       "      <th>V23</th>\n",
       "      <th>V24</th>\n",
       "      <th>V25</th>\n",
       "      <th>V26</th>\n",
       "      <th>V27</th>\n",
       "      <th>V28</th>\n",
       "      <th>Amount</th>\n",
       "      <th>Class</th>\n",
       "    </tr>\n",
       "  </thead>\n",
       "  <tbody>\n",
       "    <tr>\n",
       "      <th>0</th>\n",
       "      <td>0.0</td>\n",
       "      <td>-1.359807</td>\n",
       "      <td>-0.072781</td>\n",
       "      <td>2.536347</td>\n",
       "      <td>1.378155</td>\n",
       "      <td>-0.338321</td>\n",
       "      <td>0.462388</td>\n",
       "      <td>0.239599</td>\n",
       "      <td>0.098698</td>\n",
       "      <td>0.363787</td>\n",
       "      <td>...</td>\n",
       "      <td>-0.018307</td>\n",
       "      <td>0.277838</td>\n",
       "      <td>-0.110474</td>\n",
       "      <td>0.066928</td>\n",
       "      <td>0.128539</td>\n",
       "      <td>-0.189115</td>\n",
       "      <td>0.133558</td>\n",
       "      <td>-0.021053</td>\n",
       "      <td>149.62</td>\n",
       "      <td>0</td>\n",
       "    </tr>\n",
       "    <tr>\n",
       "      <th>1</th>\n",
       "      <td>0.0</td>\n",
       "      <td>1.191857</td>\n",
       "      <td>0.266151</td>\n",
       "      <td>0.166480</td>\n",
       "      <td>0.448154</td>\n",
       "      <td>0.060018</td>\n",
       "      <td>-0.082361</td>\n",
       "      <td>-0.078803</td>\n",
       "      <td>0.085102</td>\n",
       "      <td>-0.255425</td>\n",
       "      <td>...</td>\n",
       "      <td>-0.225775</td>\n",
       "      <td>-0.638672</td>\n",
       "      <td>0.101288</td>\n",
       "      <td>-0.339846</td>\n",
       "      <td>0.167170</td>\n",
       "      <td>0.125895</td>\n",
       "      <td>-0.008983</td>\n",
       "      <td>0.014724</td>\n",
       "      <td>2.69</td>\n",
       "      <td>0</td>\n",
       "    </tr>\n",
       "    <tr>\n",
       "      <th>2</th>\n",
       "      <td>1.0</td>\n",
       "      <td>-1.358354</td>\n",
       "      <td>-1.340163</td>\n",
       "      <td>1.773209</td>\n",
       "      <td>0.379780</td>\n",
       "      <td>-0.503198</td>\n",
       "      <td>1.800499</td>\n",
       "      <td>0.791461</td>\n",
       "      <td>0.247676</td>\n",
       "      <td>-1.514654</td>\n",
       "      <td>...</td>\n",
       "      <td>0.247998</td>\n",
       "      <td>0.771679</td>\n",
       "      <td>0.909412</td>\n",
       "      <td>-0.689281</td>\n",
       "      <td>-0.327642</td>\n",
       "      <td>-0.139097</td>\n",
       "      <td>-0.055353</td>\n",
       "      <td>-0.059752</td>\n",
       "      <td>378.66</td>\n",
       "      <td>0</td>\n",
       "    </tr>\n",
       "    <tr>\n",
       "      <th>3</th>\n",
       "      <td>1.0</td>\n",
       "      <td>-0.966272</td>\n",
       "      <td>-0.185226</td>\n",
       "      <td>1.792993</td>\n",
       "      <td>-0.863291</td>\n",
       "      <td>-0.010309</td>\n",
       "      <td>1.247203</td>\n",
       "      <td>0.237609</td>\n",
       "      <td>0.377436</td>\n",
       "      <td>-1.387024</td>\n",
       "      <td>...</td>\n",
       "      <td>-0.108300</td>\n",
       "      <td>0.005274</td>\n",
       "      <td>-0.190321</td>\n",
       "      <td>-1.175575</td>\n",
       "      <td>0.647376</td>\n",
       "      <td>-0.221929</td>\n",
       "      <td>0.062723</td>\n",
       "      <td>0.061458</td>\n",
       "      <td>123.50</td>\n",
       "      <td>0</td>\n",
       "    </tr>\n",
       "    <tr>\n",
       "      <th>4</th>\n",
       "      <td>2.0</td>\n",
       "      <td>-1.158233</td>\n",
       "      <td>0.877737</td>\n",
       "      <td>1.548718</td>\n",
       "      <td>0.403034</td>\n",
       "      <td>-0.407193</td>\n",
       "      <td>0.095921</td>\n",
       "      <td>0.592941</td>\n",
       "      <td>-0.270533</td>\n",
       "      <td>0.817739</td>\n",
       "      <td>...</td>\n",
       "      <td>-0.009431</td>\n",
       "      <td>0.798278</td>\n",
       "      <td>-0.137458</td>\n",
       "      <td>0.141267</td>\n",
       "      <td>-0.206010</td>\n",
       "      <td>0.502292</td>\n",
       "      <td>0.219422</td>\n",
       "      <td>0.215153</td>\n",
       "      <td>69.99</td>\n",
       "      <td>0</td>\n",
       "    </tr>\n",
       "  </tbody>\n",
       "</table>\n",
       "<p>5 rows × 31 columns</p>\n",
       "</div>"
      ],
      "text/plain": [
       "   Time        V1        V2        V3        V4        V5        V6        V7  \\\n",
       "0   0.0 -1.359807 -0.072781  2.536347  1.378155 -0.338321  0.462388  0.239599   \n",
       "1   0.0  1.191857  0.266151  0.166480  0.448154  0.060018 -0.082361 -0.078803   \n",
       "2   1.0 -1.358354 -1.340163  1.773209  0.379780 -0.503198  1.800499  0.791461   \n",
       "3   1.0 -0.966272 -0.185226  1.792993 -0.863291 -0.010309  1.247203  0.237609   \n",
       "4   2.0 -1.158233  0.877737  1.548718  0.403034 -0.407193  0.095921  0.592941   \n",
       "\n",
       "         V8        V9  ...       V21       V22       V23       V24       V25  \\\n",
       "0  0.098698  0.363787  ... -0.018307  0.277838 -0.110474  0.066928  0.128539   \n",
       "1  0.085102 -0.255425  ... -0.225775 -0.638672  0.101288 -0.339846  0.167170   \n",
       "2  0.247676 -1.514654  ...  0.247998  0.771679  0.909412 -0.689281 -0.327642   \n",
       "3  0.377436 -1.387024  ... -0.108300  0.005274 -0.190321 -1.175575  0.647376   \n",
       "4 -0.270533  0.817739  ... -0.009431  0.798278 -0.137458  0.141267 -0.206010   \n",
       "\n",
       "        V26       V27       V28  Amount  Class  \n",
       "0 -0.189115  0.133558 -0.021053  149.62      0  \n",
       "1  0.125895 -0.008983  0.014724    2.69      0  \n",
       "2 -0.139097 -0.055353 -0.059752  378.66      0  \n",
       "3 -0.221929  0.062723  0.061458  123.50      0  \n",
       "4  0.502292  0.219422  0.215153   69.99      0  \n",
       "\n",
       "[5 rows x 31 columns]"
      ]
     },
     "execution_count": 5,
     "metadata": {},
     "output_type": "execute_result"
    }
   ],
   "source": [
    "data.head()"
   ]
  },
  {
   "cell_type": "code",
   "execution_count": 6,
   "metadata": {
    "id": "f2HLDPno6gMW"
   },
   "outputs": [],
   "source": [
    "# Time열 제거\n",
    "data.drop('Time',axis=1, inplace=True)"
   ]
  },
  {
   "cell_type": "markdown",
   "metadata": {
    "id": "bd4_9OKVFsyG"
   },
   "source": [
    "# Initialize Setup"
   ]
  },
  {
   "cell_type": "code",
   "execution_count": 1,
   "metadata": {
    "id": "QhGiIcxnT_Yx"
   },
   "outputs": [],
   "source": [
    "from pycaret.classification import *"
   ]
  },
  {
   "cell_type": "code",
   "execution_count": 2,
   "metadata": {
    "colab": {
     "base_uri": "https://localhost:8080/",
     "height": 1000,
     "referenced_widgets": [
      "ddb634affa4f47908ce65a3dce1b8307",
      "0b18da8a62384ef88d12aec6f4265617",
      "4ff51c6353114d6bb1f5b65bd89af886",
      "6b84a6dce3a9460f9ebf4471298fe850",
      "d28a9dd5a8874bde95619ebebcd3e56f",
      "febc129f5a1141eb8a2e14e4c837e01d"
     ]
    },
    "id": "qyrkgiBPTXs8",
    "outputId": "f73219c8-3952-4255-eab5-98a335b3e648",
    "scrolled": false
   },
   "outputs": [
    {
     "ename": "NameError",
     "evalue": "name 'data' is not defined",
     "output_type": "error",
     "traceback": [
      "\u001b[1;31m---------------------------------------------------------------------------\u001b[0m",
      "\u001b[1;31mNameError\u001b[0m                                 Traceback (most recent call last)",
      "\u001b[1;32m<ipython-input-2-92ba61268684>\u001b[0m in \u001b[0;36m<module>\u001b[1;34m\u001b[0m\n\u001b[1;32m----> 1\u001b[1;33m \u001b[0mclf\u001b[0m \u001b[1;33m=\u001b[0m \u001b[0msetup\u001b[0m\u001b[1;33m(\u001b[0m\u001b[0mdata\u001b[0m \u001b[1;33m=\u001b[0m \u001b[0mdata\u001b[0m\u001b[1;33m,\u001b[0m \u001b[0mtarget\u001b[0m \u001b[1;33m=\u001b[0m \u001b[1;34m'Class'\u001b[0m\u001b[1;33m,\u001b[0m\u001b[0mtrain_size\u001b[0m\u001b[1;33m=\u001b[0m\u001b[1;36m0.8\u001b[0m\u001b[1;33m,\u001b[0m \u001b[0msession_id\u001b[0m\u001b[1;33m=\u001b[0m\u001b[1;36m6\u001b[0m\u001b[1;33m)\u001b[0m\u001b[1;33m\u001b[0m\u001b[1;33m\u001b[0m\u001b[0m\n\u001b[0m",
      "\u001b[1;31mNameError\u001b[0m: name 'data' is not defined"
     ]
    }
   ],
   "source": [
    "clf = setup(data = data, target = 'Class',train_size=0.8, session_id=6)"
   ]
  },
  {
   "cell_type": "markdown",
   "metadata": {},
   "source": [
    "True로 설정하면 GPU 를 지원하는 알고리즘으로 훈련에 GPU 를 사용 하고 사용할 수없는 경우 CPU로 대체합니다. 'force'로 설정하면 GPU 지원 알고리즘 만 사용하고 사용할 수없는 경우 예외를 발생시킵니다. False이면 모든 알고리즘이 CPU 만 사용하여 훈련됩니다.\n",
    "\n",
    "GPU 지원 알고리즘 :\n",
    "\n",
    "Extreme Gradient Boosting, 추가 설치 필요 없음\n",
    "\n",
    "CatBoost Classifier, 추가 설치 필요 없음 ( GPU 는 데이터가 50,000 행 이상인 경우에만 활성화 됨)\n",
    "\n",
    "Light Gradient Boosting Machine, GPU 설치 필요 https://lightgbm.readthedocs.io/en/latest/GPU-Tutorial.html\n",
    "\n",
    "로지스틱 회귀, 능선 분류기, 랜덤 포레스트, K 이웃 분류기, 서포트 벡터 머신, cuML> = 0.15 필요 https://github.com/rapidsai/cuml"
   ]
  },
  {
   "cell_type": "code",
   "execution_count": 6,
   "metadata": {
    "colab": {
     "base_uri": "https://localhost:8080/",
     "height": 728
    },
    "id": "mZestvRAt6hU",
    "outputId": "055fc942-3518-4874-dc51-4f781f22107b",
    "scrolled": false
   },
   "outputs": [
    {
     "data": {
      "text/html": [
       "<div>\n",
       "<style scoped>\n",
       "    .dataframe tbody tr th:only-of-type {\n",
       "        vertical-align: middle;\n",
       "    }\n",
       "\n",
       "    .dataframe tbody tr th {\n",
       "        vertical-align: top;\n",
       "    }\n",
       "\n",
       "    .dataframe thead th {\n",
       "        text-align: right;\n",
       "    }\n",
       "</style>\n",
       "<table border=\"1\" class=\"dataframe\">\n",
       "  <thead>\n",
       "    <tr style=\"text-align: right;\">\n",
       "      <th></th>\n",
       "      <th>Name</th>\n",
       "      <th>GPU Enabled</th>\n",
       "    </tr>\n",
       "    <tr>\n",
       "      <th>ID</th>\n",
       "      <th></th>\n",
       "      <th></th>\n",
       "    </tr>\n",
       "  </thead>\n",
       "  <tbody>\n",
       "    <tr>\n",
       "      <th>lr</th>\n",
       "      <td>Logistic Regression</td>\n",
       "      <td>False</td>\n",
       "    </tr>\n",
       "    <tr>\n",
       "      <th>knn</th>\n",
       "      <td>K Neighbors Classifier</td>\n",
       "      <td>False</td>\n",
       "    </tr>\n",
       "    <tr>\n",
       "      <th>nb</th>\n",
       "      <td>Naive Bayes</td>\n",
       "      <td>False</td>\n",
       "    </tr>\n",
       "    <tr>\n",
       "      <th>dt</th>\n",
       "      <td>Decision Tree Classifier</td>\n",
       "      <td>False</td>\n",
       "    </tr>\n",
       "    <tr>\n",
       "      <th>svm</th>\n",
       "      <td>SVM - Linear Kernel</td>\n",
       "      <td>False</td>\n",
       "    </tr>\n",
       "    <tr>\n",
       "      <th>rbfsvm</th>\n",
       "      <td>SVM - Radial Kernel</td>\n",
       "      <td>False</td>\n",
       "    </tr>\n",
       "    <tr>\n",
       "      <th>gpc</th>\n",
       "      <td>Gaussian Process Classifier</td>\n",
       "      <td>False</td>\n",
       "    </tr>\n",
       "    <tr>\n",
       "      <th>mlp</th>\n",
       "      <td>MLP Classifier</td>\n",
       "      <td>False</td>\n",
       "    </tr>\n",
       "    <tr>\n",
       "      <th>ridge</th>\n",
       "      <td>Ridge Classifier</td>\n",
       "      <td>False</td>\n",
       "    </tr>\n",
       "    <tr>\n",
       "      <th>rf</th>\n",
       "      <td>Random Forest Classifier</td>\n",
       "      <td>False</td>\n",
       "    </tr>\n",
       "    <tr>\n",
       "      <th>qda</th>\n",
       "      <td>Quadratic Discriminant Analysis</td>\n",
       "      <td>False</td>\n",
       "    </tr>\n",
       "    <tr>\n",
       "      <th>ada</th>\n",
       "      <td>Ada Boost Classifier</td>\n",
       "      <td>False</td>\n",
       "    </tr>\n",
       "    <tr>\n",
       "      <th>gbc</th>\n",
       "      <td>Gradient Boosting Classifier</td>\n",
       "      <td>False</td>\n",
       "    </tr>\n",
       "    <tr>\n",
       "      <th>lda</th>\n",
       "      <td>Linear Discriminant Analysis</td>\n",
       "      <td>False</td>\n",
       "    </tr>\n",
       "    <tr>\n",
       "      <th>et</th>\n",
       "      <td>Extra Trees Classifier</td>\n",
       "      <td>False</td>\n",
       "    </tr>\n",
       "    <tr>\n",
       "      <th>xgboost</th>\n",
       "      <td>Extreme Gradient Boosting</td>\n",
       "      <td>False</td>\n",
       "    </tr>\n",
       "    <tr>\n",
       "      <th>lightgbm</th>\n",
       "      <td>Light Gradient Boosting Machine</td>\n",
       "      <td>False</td>\n",
       "    </tr>\n",
       "    <tr>\n",
       "      <th>catboost</th>\n",
       "      <td>CatBoost Classifier</td>\n",
       "      <td>False</td>\n",
       "    </tr>\n",
       "    <tr>\n",
       "      <th>Bagging</th>\n",
       "      <td>Bagging Classifier</td>\n",
       "      <td>False</td>\n",
       "    </tr>\n",
       "    <tr>\n",
       "      <th>Stacking</th>\n",
       "      <td>Stacking Classifier</td>\n",
       "      <td>False</td>\n",
       "    </tr>\n",
       "    <tr>\n",
       "      <th>Voting</th>\n",
       "      <td>Voting Classifier</td>\n",
       "      <td>False</td>\n",
       "    </tr>\n",
       "    <tr>\n",
       "      <th>CalibratedCV</th>\n",
       "      <td>Calibrated Classifier CV</td>\n",
       "      <td>False</td>\n",
       "    </tr>\n",
       "  </tbody>\n",
       "</table>\n",
       "</div>"
      ],
      "text/plain": [
       "                                         Name  GPU Enabled\n",
       "ID                                                        \n",
       "lr                        Logistic Regression        False\n",
       "knn                    K Neighbors Classifier        False\n",
       "nb                                Naive Bayes        False\n",
       "dt                   Decision Tree Classifier        False\n",
       "svm                       SVM - Linear Kernel        False\n",
       "rbfsvm                    SVM - Radial Kernel        False\n",
       "gpc               Gaussian Process Classifier        False\n",
       "mlp                            MLP Classifier        False\n",
       "ridge                        Ridge Classifier        False\n",
       "rf                   Random Forest Classifier        False\n",
       "qda           Quadratic Discriminant Analysis        False\n",
       "ada                      Ada Boost Classifier        False\n",
       "gbc              Gradient Boosting Classifier        False\n",
       "lda              Linear Discriminant Analysis        False\n",
       "et                     Extra Trees Classifier        False\n",
       "xgboost             Extreme Gradient Boosting        False\n",
       "lightgbm      Light Gradient Boosting Machine        False\n",
       "catboost                  CatBoost Classifier        False\n",
       "Bagging                    Bagging Classifier        False\n",
       "Stacking                  Stacking Classifier        False\n",
       "Voting                      Voting Classifier        False\n",
       "CalibratedCV         Calibrated Classifier CV        False"
      ]
     },
     "execution_count": 6,
     "metadata": {},
     "output_type": "execute_result"
    }
   ],
   "source": [
    "# GPU가 적용되는 모델 확인\n",
    "models(internal=True)[['Name', 'GPU Enabled']]"
   ]
  },
  {
   "cell_type": "markdown",
   "metadata": {
    "id": "3erj1q5bF7hO"
   },
   "source": [
    "# Compare Baseline\n",
    "- 15개 모델 비교\n",
    "- compare_models()"
   ]
  },
  {
   "cell_type": "code",
   "execution_count": 7,
   "metadata": {
    "colab": {
     "base_uri": "https://localhost:8080/",
     "height": 491,
     "referenced_widgets": [
      "bd38afc2c7784d85943e17d39720d3d8",
      "4e533210662540f3aaf43c977e10b122",
      "639e4942c00945d5a2822caea6ccd55e"
     ]
    },
    "id": "mPG7lApiUUb6",
    "outputId": "b73eee99-5bbb-4671-eeae-8ecb6d68c794"
   },
   "outputs": [
    {
     "data": {
      "text/html": [
       "<style  type=\"text/css\" >\n",
       "    #T_bf971afb_5281_11eb_bf5a_3cf011e79d79 th {\n",
       "          text-align: left;\n",
       "    }#T_bf971afb_5281_11eb_bf5a_3cf011e79d79row0_col0,#T_bf971afb_5281_11eb_bf5a_3cf011e79d79row0_col2,#T_bf971afb_5281_11eb_bf5a_3cf011e79d79row0_col3,#T_bf971afb_5281_11eb_bf5a_3cf011e79d79row0_col4,#T_bf971afb_5281_11eb_bf5a_3cf011e79d79row1_col0,#T_bf971afb_5281_11eb_bf5a_3cf011e79d79row1_col3,#T_bf971afb_5281_11eb_bf5a_3cf011e79d79row1_col5,#T_bf971afb_5281_11eb_bf5a_3cf011e79d79row1_col6,#T_bf971afb_5281_11eb_bf5a_3cf011e79d79row1_col7,#T_bf971afb_5281_11eb_bf5a_3cf011e79d79row2_col0,#T_bf971afb_5281_11eb_bf5a_3cf011e79d79row2_col2,#T_bf971afb_5281_11eb_bf5a_3cf011e79d79row2_col3,#T_bf971afb_5281_11eb_bf5a_3cf011e79d79row2_col4,#T_bf971afb_5281_11eb_bf5a_3cf011e79d79row2_col5,#T_bf971afb_5281_11eb_bf5a_3cf011e79d79row2_col6,#T_bf971afb_5281_11eb_bf5a_3cf011e79d79row2_col7,#T_bf971afb_5281_11eb_bf5a_3cf011e79d79row3_col0,#T_bf971afb_5281_11eb_bf5a_3cf011e79d79row3_col2,#T_bf971afb_5281_11eb_bf5a_3cf011e79d79row3_col3,#T_bf971afb_5281_11eb_bf5a_3cf011e79d79row3_col4,#T_bf971afb_5281_11eb_bf5a_3cf011e79d79row3_col5,#T_bf971afb_5281_11eb_bf5a_3cf011e79d79row3_col6,#T_bf971afb_5281_11eb_bf5a_3cf011e79d79row3_col7,#T_bf971afb_5281_11eb_bf5a_3cf011e79d79row4_col0,#T_bf971afb_5281_11eb_bf5a_3cf011e79d79row4_col1,#T_bf971afb_5281_11eb_bf5a_3cf011e79d79row4_col2,#T_bf971afb_5281_11eb_bf5a_3cf011e79d79row4_col3,#T_bf971afb_5281_11eb_bf5a_3cf011e79d79row4_col4,#T_bf971afb_5281_11eb_bf5a_3cf011e79d79row4_col5,#T_bf971afb_5281_11eb_bf5a_3cf011e79d79row4_col6,#T_bf971afb_5281_11eb_bf5a_3cf011e79d79row4_col7,#T_bf971afb_5281_11eb_bf5a_3cf011e79d79row5_col0,#T_bf971afb_5281_11eb_bf5a_3cf011e79d79row5_col1,#T_bf971afb_5281_11eb_bf5a_3cf011e79d79row5_col2,#T_bf971afb_5281_11eb_bf5a_3cf011e79d79row5_col3,#T_bf971afb_5281_11eb_bf5a_3cf011e79d79row5_col4,#T_bf971afb_5281_11eb_bf5a_3cf011e79d79row5_col5,#T_bf971afb_5281_11eb_bf5a_3cf011e79d79row5_col6,#T_bf971afb_5281_11eb_bf5a_3cf011e79d79row5_col7,#T_bf971afb_5281_11eb_bf5a_3cf011e79d79row6_col0,#T_bf971afb_5281_11eb_bf5a_3cf011e79d79row6_col1,#T_bf971afb_5281_11eb_bf5a_3cf011e79d79row6_col2,#T_bf971afb_5281_11eb_bf5a_3cf011e79d79row6_col3,#T_bf971afb_5281_11eb_bf5a_3cf011e79d79row6_col4,#T_bf971afb_5281_11eb_bf5a_3cf011e79d79row6_col5,#T_bf971afb_5281_11eb_bf5a_3cf011e79d79row6_col6,#T_bf971afb_5281_11eb_bf5a_3cf011e79d79row6_col7,#T_bf971afb_5281_11eb_bf5a_3cf011e79d79row7_col0,#T_bf971afb_5281_11eb_bf5a_3cf011e79d79row7_col1,#T_bf971afb_5281_11eb_bf5a_3cf011e79d79row7_col2,#T_bf971afb_5281_11eb_bf5a_3cf011e79d79row7_col3,#T_bf971afb_5281_11eb_bf5a_3cf011e79d79row7_col4,#T_bf971afb_5281_11eb_bf5a_3cf011e79d79row7_col5,#T_bf971afb_5281_11eb_bf5a_3cf011e79d79row7_col6,#T_bf971afb_5281_11eb_bf5a_3cf011e79d79row7_col7,#T_bf971afb_5281_11eb_bf5a_3cf011e79d79row8_col0,#T_bf971afb_5281_11eb_bf5a_3cf011e79d79row8_col1,#T_bf971afb_5281_11eb_bf5a_3cf011e79d79row8_col2,#T_bf971afb_5281_11eb_bf5a_3cf011e79d79row8_col3,#T_bf971afb_5281_11eb_bf5a_3cf011e79d79row8_col4,#T_bf971afb_5281_11eb_bf5a_3cf011e79d79row8_col5,#T_bf971afb_5281_11eb_bf5a_3cf011e79d79row8_col6,#T_bf971afb_5281_11eb_bf5a_3cf011e79d79row8_col7,#T_bf971afb_5281_11eb_bf5a_3cf011e79d79row9_col0,#T_bf971afb_5281_11eb_bf5a_3cf011e79d79row9_col1,#T_bf971afb_5281_11eb_bf5a_3cf011e79d79row9_col2,#T_bf971afb_5281_11eb_bf5a_3cf011e79d79row9_col3,#T_bf971afb_5281_11eb_bf5a_3cf011e79d79row9_col4,#T_bf971afb_5281_11eb_bf5a_3cf011e79d79row9_col5,#T_bf971afb_5281_11eb_bf5a_3cf011e79d79row9_col6,#T_bf971afb_5281_11eb_bf5a_3cf011e79d79row9_col7,#T_bf971afb_5281_11eb_bf5a_3cf011e79d79row10_col0,#T_bf971afb_5281_11eb_bf5a_3cf011e79d79row10_col1,#T_bf971afb_5281_11eb_bf5a_3cf011e79d79row10_col2,#T_bf971afb_5281_11eb_bf5a_3cf011e79d79row10_col3,#T_bf971afb_5281_11eb_bf5a_3cf011e79d79row10_col4,#T_bf971afb_5281_11eb_bf5a_3cf011e79d79row10_col5,#T_bf971afb_5281_11eb_bf5a_3cf011e79d79row10_col6,#T_bf971afb_5281_11eb_bf5a_3cf011e79d79row10_col7,#T_bf971afb_5281_11eb_bf5a_3cf011e79d79row11_col0,#T_bf971afb_5281_11eb_bf5a_3cf011e79d79row11_col1,#T_bf971afb_5281_11eb_bf5a_3cf011e79d79row11_col2,#T_bf971afb_5281_11eb_bf5a_3cf011e79d79row11_col3,#T_bf971afb_5281_11eb_bf5a_3cf011e79d79row11_col4,#T_bf971afb_5281_11eb_bf5a_3cf011e79d79row11_col5,#T_bf971afb_5281_11eb_bf5a_3cf011e79d79row11_col6,#T_bf971afb_5281_11eb_bf5a_3cf011e79d79row11_col7,#T_bf971afb_5281_11eb_bf5a_3cf011e79d79row12_col0,#T_bf971afb_5281_11eb_bf5a_3cf011e79d79row12_col1,#T_bf971afb_5281_11eb_bf5a_3cf011e79d79row12_col2,#T_bf971afb_5281_11eb_bf5a_3cf011e79d79row12_col3,#T_bf971afb_5281_11eb_bf5a_3cf011e79d79row12_col4,#T_bf971afb_5281_11eb_bf5a_3cf011e79d79row12_col5,#T_bf971afb_5281_11eb_bf5a_3cf011e79d79row12_col6,#T_bf971afb_5281_11eb_bf5a_3cf011e79d79row12_col7,#T_bf971afb_5281_11eb_bf5a_3cf011e79d79row13_col0,#T_bf971afb_5281_11eb_bf5a_3cf011e79d79row13_col1,#T_bf971afb_5281_11eb_bf5a_3cf011e79d79row13_col2,#T_bf971afb_5281_11eb_bf5a_3cf011e79d79row13_col3,#T_bf971afb_5281_11eb_bf5a_3cf011e79d79row13_col4,#T_bf971afb_5281_11eb_bf5a_3cf011e79d79row13_col5,#T_bf971afb_5281_11eb_bf5a_3cf011e79d79row13_col6,#T_bf971afb_5281_11eb_bf5a_3cf011e79d79row13_col7,#T_bf971afb_5281_11eb_bf5a_3cf011e79d79row14_col0,#T_bf971afb_5281_11eb_bf5a_3cf011e79d79row14_col1,#T_bf971afb_5281_11eb_bf5a_3cf011e79d79row14_col2,#T_bf971afb_5281_11eb_bf5a_3cf011e79d79row14_col4,#T_bf971afb_5281_11eb_bf5a_3cf011e79d79row14_col5,#T_bf971afb_5281_11eb_bf5a_3cf011e79d79row14_col6,#T_bf971afb_5281_11eb_bf5a_3cf011e79d79row14_col7{\n",
       "            text-align:  left;\n",
       "            text-align:  left;\n",
       "        }#T_bf971afb_5281_11eb_bf5a_3cf011e79d79row0_col1,#T_bf971afb_5281_11eb_bf5a_3cf011e79d79row0_col5,#T_bf971afb_5281_11eb_bf5a_3cf011e79d79row0_col6,#T_bf971afb_5281_11eb_bf5a_3cf011e79d79row0_col7,#T_bf971afb_5281_11eb_bf5a_3cf011e79d79row1_col1,#T_bf971afb_5281_11eb_bf5a_3cf011e79d79row1_col2,#T_bf971afb_5281_11eb_bf5a_3cf011e79d79row1_col4,#T_bf971afb_5281_11eb_bf5a_3cf011e79d79row2_col1,#T_bf971afb_5281_11eb_bf5a_3cf011e79d79row3_col1,#T_bf971afb_5281_11eb_bf5a_3cf011e79d79row14_col3{\n",
       "            text-align:  left;\n",
       "            text-align:  left;\n",
       "            background-color:  yellow;\n",
       "        }#T_bf971afb_5281_11eb_bf5a_3cf011e79d79row0_col8,#T_bf971afb_5281_11eb_bf5a_3cf011e79d79row1_col8,#T_bf971afb_5281_11eb_bf5a_3cf011e79d79row2_col8,#T_bf971afb_5281_11eb_bf5a_3cf011e79d79row3_col8,#T_bf971afb_5281_11eb_bf5a_3cf011e79d79row4_col8,#T_bf971afb_5281_11eb_bf5a_3cf011e79d79row5_col8,#T_bf971afb_5281_11eb_bf5a_3cf011e79d79row6_col8,#T_bf971afb_5281_11eb_bf5a_3cf011e79d79row7_col8,#T_bf971afb_5281_11eb_bf5a_3cf011e79d79row8_col8,#T_bf971afb_5281_11eb_bf5a_3cf011e79d79row9_col8,#T_bf971afb_5281_11eb_bf5a_3cf011e79d79row10_col8,#T_bf971afb_5281_11eb_bf5a_3cf011e79d79row11_col8,#T_bf971afb_5281_11eb_bf5a_3cf011e79d79row12_col8,#T_bf971afb_5281_11eb_bf5a_3cf011e79d79row14_col8{\n",
       "            text-align:  left;\n",
       "            text-align:  left;\n",
       "            background-color:  lightgrey;\n",
       "        }#T_bf971afb_5281_11eb_bf5a_3cf011e79d79row13_col8{\n",
       "            text-align:  left;\n",
       "            text-align:  left;\n",
       "            background-color:  yellow;\n",
       "            background-color:  lightgrey;\n",
       "        }</style><table id=\"T_bf971afb_5281_11eb_bf5a_3cf011e79d79\" ><thead>    <tr>        <th class=\"blank level0\" ></th>        <th class=\"col_heading level0 col0\" >Model</th>        <th class=\"col_heading level0 col1\" >Accuracy</th>        <th class=\"col_heading level0 col2\" >AUC</th>        <th class=\"col_heading level0 col3\" >Recall</th>        <th class=\"col_heading level0 col4\" >Prec.</th>        <th class=\"col_heading level0 col5\" >F1</th>        <th class=\"col_heading level0 col6\" >Kappa</th>        <th class=\"col_heading level0 col7\" >MCC</th>        <th class=\"col_heading level0 col8\" >TT (Sec)</th>    </tr></thead><tbody>\n",
       "                <tr>\n",
       "                        <th id=\"T_bf971afb_5281_11eb_bf5a_3cf011e79d79level0_row0\" class=\"row_heading level0 row0\" >xgboost</th>\n",
       "                        <td id=\"T_bf971afb_5281_11eb_bf5a_3cf011e79d79row0_col0\" class=\"data row0 col0\" >Extreme Gradient Boosting</td>\n",
       "                        <td id=\"T_bf971afb_5281_11eb_bf5a_3cf011e79d79row0_col1\" class=\"data row0 col1\" >0.9995</td>\n",
       "                        <td id=\"T_bf971afb_5281_11eb_bf5a_3cf011e79d79row0_col2\" class=\"data row0 col2\" >0.9736</td>\n",
       "                        <td id=\"T_bf971afb_5281_11eb_bf5a_3cf011e79d79row0_col3\" class=\"data row0 col3\" >0.7843</td>\n",
       "                        <td id=\"T_bf971afb_5281_11eb_bf5a_3cf011e79d79row0_col4\" class=\"data row0 col4\" >0.9279</td>\n",
       "                        <td id=\"T_bf971afb_5281_11eb_bf5a_3cf011e79d79row0_col5\" class=\"data row0 col5\" >0.8501</td>\n",
       "                        <td id=\"T_bf971afb_5281_11eb_bf5a_3cf011e79d79row0_col6\" class=\"data row0 col6\" >0.8498</td>\n",
       "                        <td id=\"T_bf971afb_5281_11eb_bf5a_3cf011e79d79row0_col7\" class=\"data row0 col7\" >0.8528</td>\n",
       "                        <td id=\"T_bf971afb_5281_11eb_bf5a_3cf011e79d79row0_col8\" class=\"data row0 col8\" >51.4900</td>\n",
       "            </tr>\n",
       "            <tr>\n",
       "                        <th id=\"T_bf971afb_5281_11eb_bf5a_3cf011e79d79level0_row1\" class=\"row_heading level0 row1\" >catboost</th>\n",
       "                        <td id=\"T_bf971afb_5281_11eb_bf5a_3cf011e79d79row1_col0\" class=\"data row1 col0\" >CatBoost Classifier</td>\n",
       "                        <td id=\"T_bf971afb_5281_11eb_bf5a_3cf011e79d79row1_col1\" class=\"data row1 col1\" >0.9995</td>\n",
       "                        <td id=\"T_bf971afb_5281_11eb_bf5a_3cf011e79d79row1_col2\" class=\"data row1 col2\" >0.9743</td>\n",
       "                        <td id=\"T_bf971afb_5281_11eb_bf5a_3cf011e79d79row1_col3\" class=\"data row1 col3\" >0.7817</td>\n",
       "                        <td id=\"T_bf971afb_5281_11eb_bf5a_3cf011e79d79row1_col4\" class=\"data row1 col4\" >0.9305</td>\n",
       "                        <td id=\"T_bf971afb_5281_11eb_bf5a_3cf011e79d79row1_col5\" class=\"data row1 col5\" >0.8496</td>\n",
       "                        <td id=\"T_bf971afb_5281_11eb_bf5a_3cf011e79d79row1_col6\" class=\"data row1 col6\" >0.8494</td>\n",
       "                        <td id=\"T_bf971afb_5281_11eb_bf5a_3cf011e79d79row1_col7\" class=\"data row1 col7\" >0.8526</td>\n",
       "                        <td id=\"T_bf971afb_5281_11eb_bf5a_3cf011e79d79row1_col8\" class=\"data row1 col8\" >83.1300</td>\n",
       "            </tr>\n",
       "            <tr>\n",
       "                        <th id=\"T_bf971afb_5281_11eb_bf5a_3cf011e79d79level0_row2\" class=\"row_heading level0 row2\" >rf</th>\n",
       "                        <td id=\"T_bf971afb_5281_11eb_bf5a_3cf011e79d79row2_col0\" class=\"data row2 col0\" >Random Forest Classifier</td>\n",
       "                        <td id=\"T_bf971afb_5281_11eb_bf5a_3cf011e79d79row2_col1\" class=\"data row2 col1\" >0.9995</td>\n",
       "                        <td id=\"T_bf971afb_5281_11eb_bf5a_3cf011e79d79row2_col2\" class=\"data row2 col2\" >0.9447</td>\n",
       "                        <td id=\"T_bf971afb_5281_11eb_bf5a_3cf011e79d79row2_col3\" class=\"data row2 col3\" >0.7665</td>\n",
       "                        <td id=\"T_bf971afb_5281_11eb_bf5a_3cf011e79d79row2_col4\" class=\"data row2 col4\" >0.9183</td>\n",
       "                        <td id=\"T_bf971afb_5281_11eb_bf5a_3cf011e79d79row2_col5\" class=\"data row2 col5\" >0.8354</td>\n",
       "                        <td id=\"T_bf971afb_5281_11eb_bf5a_3cf011e79d79row2_col6\" class=\"data row2 col6\" >0.8351</td>\n",
       "                        <td id=\"T_bf971afb_5281_11eb_bf5a_3cf011e79d79row2_col7\" class=\"data row2 col7\" >0.8386</td>\n",
       "                        <td id=\"T_bf971afb_5281_11eb_bf5a_3cf011e79d79row2_col8\" class=\"data row2 col8\" >66.0550</td>\n",
       "            </tr>\n",
       "            <tr>\n",
       "                        <th id=\"T_bf971afb_5281_11eb_bf5a_3cf011e79d79level0_row3\" class=\"row_heading level0 row3\" >et</th>\n",
       "                        <td id=\"T_bf971afb_5281_11eb_bf5a_3cf011e79d79row3_col0\" class=\"data row3 col0\" >Extra Trees Classifier</td>\n",
       "                        <td id=\"T_bf971afb_5281_11eb_bf5a_3cf011e79d79row3_col1\" class=\"data row3 col1\" >0.9995</td>\n",
       "                        <td id=\"T_bf971afb_5281_11eb_bf5a_3cf011e79d79row3_col2\" class=\"data row3 col2\" >0.9500</td>\n",
       "                        <td id=\"T_bf971afb_5281_11eb_bf5a_3cf011e79d79row3_col3\" class=\"data row3 col3\" >0.7640</td>\n",
       "                        <td id=\"T_bf971afb_5281_11eb_bf5a_3cf011e79d79row3_col4\" class=\"data row3 col4\" >0.9154</td>\n",
       "                        <td id=\"T_bf971afb_5281_11eb_bf5a_3cf011e79d79row3_col5\" class=\"data row3 col5\" >0.8326</td>\n",
       "                        <td id=\"T_bf971afb_5281_11eb_bf5a_3cf011e79d79row3_col6\" class=\"data row3 col6\" >0.8324</td>\n",
       "                        <td id=\"T_bf971afb_5281_11eb_bf5a_3cf011e79d79row3_col7\" class=\"data row3 col7\" >0.8359</td>\n",
       "                        <td id=\"T_bf971afb_5281_11eb_bf5a_3cf011e79d79row3_col8\" class=\"data row3 col8\" >16.8600</td>\n",
       "            </tr>\n",
       "            <tr>\n",
       "                        <th id=\"T_bf971afb_5281_11eb_bf5a_3cf011e79d79level0_row4\" class=\"row_heading level0 row4\" >lda</th>\n",
       "                        <td id=\"T_bf971afb_5281_11eb_bf5a_3cf011e79d79row4_col0\" class=\"data row4 col0\" >Linear Discriminant Analysis</td>\n",
       "                        <td id=\"T_bf971afb_5281_11eb_bf5a_3cf011e79d79row4_col1\" class=\"data row4 col1\" >0.9994</td>\n",
       "                        <td id=\"T_bf971afb_5281_11eb_bf5a_3cf011e79d79row4_col2\" class=\"data row4 col2\" >0.9009</td>\n",
       "                        <td id=\"T_bf971afb_5281_11eb_bf5a_3cf011e79d79row4_col3\" class=\"data row4 col3\" >0.7614</td>\n",
       "                        <td id=\"T_bf971afb_5281_11eb_bf5a_3cf011e79d79row4_col4\" class=\"data row4 col4\" >0.8634</td>\n",
       "                        <td id=\"T_bf971afb_5281_11eb_bf5a_3cf011e79d79row4_col5\" class=\"data row4 col5\" >0.8083</td>\n",
       "                        <td id=\"T_bf971afb_5281_11eb_bf5a_3cf011e79d79row4_col6\" class=\"data row4 col6\" >0.8079</td>\n",
       "                        <td id=\"T_bf971afb_5281_11eb_bf5a_3cf011e79d79row4_col7\" class=\"data row4 col7\" >0.8100</td>\n",
       "                        <td id=\"T_bf971afb_5281_11eb_bf5a_3cf011e79d79row4_col8\" class=\"data row4 col8\" >1.8900</td>\n",
       "            </tr>\n",
       "            <tr>\n",
       "                        <th id=\"T_bf971afb_5281_11eb_bf5a_3cf011e79d79level0_row5\" class=\"row_heading level0 row5\" >svm</th>\n",
       "                        <td id=\"T_bf971afb_5281_11eb_bf5a_3cf011e79d79row5_col0\" class=\"data row5 col0\" >SVM - Linear Kernel</td>\n",
       "                        <td id=\"T_bf971afb_5281_11eb_bf5a_3cf011e79d79row5_col1\" class=\"data row5 col1\" >0.9993</td>\n",
       "                        <td id=\"T_bf971afb_5281_11eb_bf5a_3cf011e79d79row5_col2\" class=\"data row5 col2\" >0.0000</td>\n",
       "                        <td id=\"T_bf971afb_5281_11eb_bf5a_3cf011e79d79row5_col3\" class=\"data row5 col3\" >0.7360</td>\n",
       "                        <td id=\"T_bf971afb_5281_11eb_bf5a_3cf011e79d79row5_col4\" class=\"data row5 col4\" >0.8231</td>\n",
       "                        <td id=\"T_bf971afb_5281_11eb_bf5a_3cf011e79d79row5_col5\" class=\"data row5 col5\" >0.7770</td>\n",
       "                        <td id=\"T_bf971afb_5281_11eb_bf5a_3cf011e79d79row5_col6\" class=\"data row5 col6\" >0.7766</td>\n",
       "                        <td id=\"T_bf971afb_5281_11eb_bf5a_3cf011e79d79row5_col7\" class=\"data row5 col7\" >0.7779</td>\n",
       "                        <td id=\"T_bf971afb_5281_11eb_bf5a_3cf011e79d79row5_col8\" class=\"data row5 col8\" >1.4100</td>\n",
       "            </tr>\n",
       "            <tr>\n",
       "                        <th id=\"T_bf971afb_5281_11eb_bf5a_3cf011e79d79level0_row6\" class=\"row_heading level0 row6\" >ada</th>\n",
       "                        <td id=\"T_bf971afb_5281_11eb_bf5a_3cf011e79d79row6_col0\" class=\"data row6 col0\" >Ada Boost Classifier</td>\n",
       "                        <td id=\"T_bf971afb_5281_11eb_bf5a_3cf011e79d79row6_col1\" class=\"data row6 col1\" >0.9992</td>\n",
       "                        <td id=\"T_bf971afb_5281_11eb_bf5a_3cf011e79d79row6_col2\" class=\"data row6 col2\" >0.9685</td>\n",
       "                        <td id=\"T_bf971afb_5281_11eb_bf5a_3cf011e79d79row6_col3\" class=\"data row6 col3\" >0.6853</td>\n",
       "                        <td id=\"T_bf971afb_5281_11eb_bf5a_3cf011e79d79row6_col4\" class=\"data row6 col4\" >0.8165</td>\n",
       "                        <td id=\"T_bf971afb_5281_11eb_bf5a_3cf011e79d79row6_col5\" class=\"data row6 col5\" >0.7451</td>\n",
       "                        <td id=\"T_bf971afb_5281_11eb_bf5a_3cf011e79d79row6_col6\" class=\"data row6 col6\" >0.7447</td>\n",
       "                        <td id=\"T_bf971afb_5281_11eb_bf5a_3cf011e79d79row6_col7\" class=\"data row6 col7\" >0.7476</td>\n",
       "                        <td id=\"T_bf971afb_5281_11eb_bf5a_3cf011e79d79row6_col8\" class=\"data row6 col8\" >36.6900</td>\n",
       "            </tr>\n",
       "            <tr>\n",
       "                        <th id=\"T_bf971afb_5281_11eb_bf5a_3cf011e79d79level0_row7\" class=\"row_heading level0 row7\" >lr</th>\n",
       "                        <td id=\"T_bf971afb_5281_11eb_bf5a_3cf011e79d79row7_col0\" class=\"data row7 col0\" >Logistic Regression</td>\n",
       "                        <td id=\"T_bf971afb_5281_11eb_bf5a_3cf011e79d79row7_col1\" class=\"data row7 col1\" >0.9992</td>\n",
       "                        <td id=\"T_bf971afb_5281_11eb_bf5a_3cf011e79d79row7_col2\" class=\"data row7 col2\" >0.9742</td>\n",
       "                        <td id=\"T_bf971afb_5281_11eb_bf5a_3cf011e79d79row7_col3\" class=\"data row7 col3\" >0.6421</td>\n",
       "                        <td id=\"T_bf971afb_5281_11eb_bf5a_3cf011e79d79row7_col4\" class=\"data row7 col4\" >0.8753</td>\n",
       "                        <td id=\"T_bf971afb_5281_11eb_bf5a_3cf011e79d79row7_col5\" class=\"data row7 col5\" >0.7358</td>\n",
       "                        <td id=\"T_bf971afb_5281_11eb_bf5a_3cf011e79d79row7_col6\" class=\"data row7 col6\" >0.7354</td>\n",
       "                        <td id=\"T_bf971afb_5281_11eb_bf5a_3cf011e79d79row7_col7\" class=\"data row7 col7\" >0.7467</td>\n",
       "                        <td id=\"T_bf971afb_5281_11eb_bf5a_3cf011e79d79row7_col8\" class=\"data row7 col8\" >19.5250</td>\n",
       "            </tr>\n",
       "            <tr>\n",
       "                        <th id=\"T_bf971afb_5281_11eb_bf5a_3cf011e79d79level0_row8\" class=\"row_heading level0 row8\" >gbc</th>\n",
       "                        <td id=\"T_bf971afb_5281_11eb_bf5a_3cf011e79d79row8_col0\" class=\"data row8 col0\" >Gradient Boosting Classifier</td>\n",
       "                        <td id=\"T_bf971afb_5281_11eb_bf5a_3cf011e79d79row8_col1\" class=\"data row8 col1\" >0.9992</td>\n",
       "                        <td id=\"T_bf971afb_5281_11eb_bf5a_3cf011e79d79row8_col2\" class=\"data row8 col2\" >0.8221</td>\n",
       "                        <td id=\"T_bf971afb_5281_11eb_bf5a_3cf011e79d79row8_col3\" class=\"data row8 col3\" >0.6472</td>\n",
       "                        <td id=\"T_bf971afb_5281_11eb_bf5a_3cf011e79d79row8_col4\" class=\"data row8 col4\" >0.8343</td>\n",
       "                        <td id=\"T_bf971afb_5281_11eb_bf5a_3cf011e79d79row8_col5\" class=\"data row8 col5\" >0.7255</td>\n",
       "                        <td id=\"T_bf971afb_5281_11eb_bf5a_3cf011e79d79row8_col6\" class=\"data row8 col6\" >0.7251</td>\n",
       "                        <td id=\"T_bf971afb_5281_11eb_bf5a_3cf011e79d79row8_col7\" class=\"data row8 col7\" >0.7327</td>\n",
       "                        <td id=\"T_bf971afb_5281_11eb_bf5a_3cf011e79d79row8_col8\" class=\"data row8 col8\" >172.3000</td>\n",
       "            </tr>\n",
       "            <tr>\n",
       "                        <th id=\"T_bf971afb_5281_11eb_bf5a_3cf011e79d79level0_row9\" class=\"row_heading level0 row9\" >dt</th>\n",
       "                        <td id=\"T_bf971afb_5281_11eb_bf5a_3cf011e79d79row9_col0\" class=\"data row9 col0\" >Decision Tree Classifier</td>\n",
       "                        <td id=\"T_bf971afb_5281_11eb_bf5a_3cf011e79d79row9_col1\" class=\"data row9 col1\" >0.9990</td>\n",
       "                        <td id=\"T_bf971afb_5281_11eb_bf5a_3cf011e79d79row9_col2\" class=\"data row9 col2\" >0.8627</td>\n",
       "                        <td id=\"T_bf971afb_5281_11eb_bf5a_3cf011e79d79row9_col3\" class=\"data row9 col3\" >0.7259</td>\n",
       "                        <td id=\"T_bf971afb_5281_11eb_bf5a_3cf011e79d79row9_col4\" class=\"data row9 col4\" >0.7073</td>\n",
       "                        <td id=\"T_bf971afb_5281_11eb_bf5a_3cf011e79d79row9_col5\" class=\"data row9 col5\" >0.7160</td>\n",
       "                        <td id=\"T_bf971afb_5281_11eb_bf5a_3cf011e79d79row9_col6\" class=\"data row9 col6\" >0.7155</td>\n",
       "                        <td id=\"T_bf971afb_5281_11eb_bf5a_3cf011e79d79row9_col7\" class=\"data row9 col7\" >0.7158</td>\n",
       "                        <td id=\"T_bf971afb_5281_11eb_bf5a_3cf011e79d79row9_col8\" class=\"data row9 col8\" >11.5000</td>\n",
       "            </tr>\n",
       "            <tr>\n",
       "                        <th id=\"T_bf971afb_5281_11eb_bf5a_3cf011e79d79level0_row10\" class=\"row_heading level0 row10\" >knn</th>\n",
       "                        <td id=\"T_bf971afb_5281_11eb_bf5a_3cf011e79d79row10_col0\" class=\"data row10 col0\" >K Neighbors Classifier</td>\n",
       "                        <td id=\"T_bf971afb_5281_11eb_bf5a_3cf011e79d79row10_col1\" class=\"data row10 col1\" >0.9991</td>\n",
       "                        <td id=\"T_bf971afb_5281_11eb_bf5a_3cf011e79d79row10_col2\" class=\"data row10 col2\" >0.8640</td>\n",
       "                        <td id=\"T_bf971afb_5281_11eb_bf5a_3cf011e79d79row10_col3\" class=\"data row10 col3\" >0.5609</td>\n",
       "                        <td id=\"T_bf971afb_5281_11eb_bf5a_3cf011e79d79row10_col4\" class=\"data row10 col4\" >0.8911</td>\n",
       "                        <td id=\"T_bf971afb_5281_11eb_bf5a_3cf011e79d79row10_col5\" class=\"data row10 col5\" >0.6885</td>\n",
       "                        <td id=\"T_bf971afb_5281_11eb_bf5a_3cf011e79d79row10_col6\" class=\"data row10 col6\" >0.6881</td>\n",
       "                        <td id=\"T_bf971afb_5281_11eb_bf5a_3cf011e79d79row10_col7\" class=\"data row10 col7\" >0.7066</td>\n",
       "                        <td id=\"T_bf971afb_5281_11eb_bf5a_3cf011e79d79row10_col8\" class=\"data row10 col8\" >142.1100</td>\n",
       "            </tr>\n",
       "            <tr>\n",
       "                        <th id=\"T_bf971afb_5281_11eb_bf5a_3cf011e79d79level0_row11\" class=\"row_heading level0 row11\" >ridge</th>\n",
       "                        <td id=\"T_bf971afb_5281_11eb_bf5a_3cf011e79d79row11_col0\" class=\"data row11 col0\" >Ridge Classifier</td>\n",
       "                        <td id=\"T_bf971afb_5281_11eb_bf5a_3cf011e79d79row11_col1\" class=\"data row11 col1\" >0.9989</td>\n",
       "                        <td id=\"T_bf971afb_5281_11eb_bf5a_3cf011e79d79row11_col2\" class=\"data row11 col2\" >0.0000</td>\n",
       "                        <td id=\"T_bf971afb_5281_11eb_bf5a_3cf011e79d79row11_col3\" class=\"data row11 col3\" >0.4264</td>\n",
       "                        <td id=\"T_bf971afb_5281_11eb_bf5a_3cf011e79d79row11_col4\" class=\"data row11 col4\" >0.8526</td>\n",
       "                        <td id=\"T_bf971afb_5281_11eb_bf5a_3cf011e79d79row11_col5\" class=\"data row11 col5\" >0.5663</td>\n",
       "                        <td id=\"T_bf971afb_5281_11eb_bf5a_3cf011e79d79row11_col6\" class=\"data row11 col6\" >0.5658</td>\n",
       "                        <td id=\"T_bf971afb_5281_11eb_bf5a_3cf011e79d79row11_col7\" class=\"data row11 col7\" >0.6012</td>\n",
       "                        <td id=\"T_bf971afb_5281_11eb_bf5a_3cf011e79d79row11_col8\" class=\"data row11 col8\" >0.9300</td>\n",
       "            </tr>\n",
       "            <tr>\n",
       "                        <th id=\"T_bf971afb_5281_11eb_bf5a_3cf011e79d79level0_row12\" class=\"row_heading level0 row12\" >lightgbm</th>\n",
       "                        <td id=\"T_bf971afb_5281_11eb_bf5a_3cf011e79d79row12_col0\" class=\"data row12 col0\" >Light Gradient Boosting Machine</td>\n",
       "                        <td id=\"T_bf971afb_5281_11eb_bf5a_3cf011e79d79row12_col1\" class=\"data row12 col1\" >0.9951</td>\n",
       "                        <td id=\"T_bf971afb_5281_11eb_bf5a_3cf011e79d79row12_col2\" class=\"data row12 col2\" >0.6921</td>\n",
       "                        <td id=\"T_bf971afb_5281_11eb_bf5a_3cf011e79d79row12_col3\" class=\"data row12 col3\" >0.5406</td>\n",
       "                        <td id=\"T_bf971afb_5281_11eb_bf5a_3cf011e79d79row12_col4\" class=\"data row12 col4\" >0.1857</td>\n",
       "                        <td id=\"T_bf971afb_5281_11eb_bf5a_3cf011e79d79row12_col5\" class=\"data row12 col5\" >0.2764</td>\n",
       "                        <td id=\"T_bf971afb_5281_11eb_bf5a_3cf011e79d79row12_col6\" class=\"data row12 col6\" >0.2745</td>\n",
       "                        <td id=\"T_bf971afb_5281_11eb_bf5a_3cf011e79d79row12_col7\" class=\"data row12 col7\" >0.3149</td>\n",
       "                        <td id=\"T_bf971afb_5281_11eb_bf5a_3cf011e79d79row12_col8\" class=\"data row12 col8\" >6.4950</td>\n",
       "            </tr>\n",
       "            <tr>\n",
       "                        <th id=\"T_bf971afb_5281_11eb_bf5a_3cf011e79d79level0_row13\" class=\"row_heading level0 row13\" >nb</th>\n",
       "                        <td id=\"T_bf971afb_5281_11eb_bf5a_3cf011e79d79row13_col0\" class=\"data row13 col0\" >Naive Bayes</td>\n",
       "                        <td id=\"T_bf971afb_5281_11eb_bf5a_3cf011e79d79row13_col1\" class=\"data row13 col1\" >0.9778</td>\n",
       "                        <td id=\"T_bf971afb_5281_11eb_bf5a_3cf011e79d79row13_col2\" class=\"data row13 col2\" >0.9623</td>\n",
       "                        <td id=\"T_bf971afb_5281_11eb_bf5a_3cf011e79d79row13_col3\" class=\"data row13 col3\" >0.8325</td>\n",
       "                        <td id=\"T_bf971afb_5281_11eb_bf5a_3cf011e79d79row13_col4\" class=\"data row13 col4\" >0.0618</td>\n",
       "                        <td id=\"T_bf971afb_5281_11eb_bf5a_3cf011e79d79row13_col5\" class=\"data row13 col5\" >0.1150</td>\n",
       "                        <td id=\"T_bf971afb_5281_11eb_bf5a_3cf011e79d79row13_col6\" class=\"data row13 col6\" >0.1121</td>\n",
       "                        <td id=\"T_bf971afb_5281_11eb_bf5a_3cf011e79d79row13_col7\" class=\"data row13 col7\" >0.2232</td>\n",
       "                        <td id=\"T_bf971afb_5281_11eb_bf5a_3cf011e79d79row13_col8\" class=\"data row13 col8\" >0.9200</td>\n",
       "            </tr>\n",
       "            <tr>\n",
       "                        <th id=\"T_bf971afb_5281_11eb_bf5a_3cf011e79d79level0_row14\" class=\"row_heading level0 row14\" >qda</th>\n",
       "                        <td id=\"T_bf971afb_5281_11eb_bf5a_3cf011e79d79row14_col0\" class=\"data row14 col0\" >Quadratic Discriminant Analysis</td>\n",
       "                        <td id=\"T_bf971afb_5281_11eb_bf5a_3cf011e79d79row14_col1\" class=\"data row14 col1\" >0.9768</td>\n",
       "                        <td id=\"T_bf971afb_5281_11eb_bf5a_3cf011e79d79row14_col2\" class=\"data row14 col2\" >0.9684</td>\n",
       "                        <td id=\"T_bf971afb_5281_11eb_bf5a_3cf011e79d79row14_col3\" class=\"data row14 col3\" >0.8629</td>\n",
       "                        <td id=\"T_bf971afb_5281_11eb_bf5a_3cf011e79d79row14_col4\" class=\"data row14 col4\" >0.0611</td>\n",
       "                        <td id=\"T_bf971afb_5281_11eb_bf5a_3cf011e79d79row14_col5\" class=\"data row14 col5\" >0.1140</td>\n",
       "                        <td id=\"T_bf971afb_5281_11eb_bf5a_3cf011e79d79row14_col6\" class=\"data row14 col6\" >0.1112</td>\n",
       "                        <td id=\"T_bf971afb_5281_11eb_bf5a_3cf011e79d79row14_col7\" class=\"data row14 col7\" >0.2260</td>\n",
       "                        <td id=\"T_bf971afb_5281_11eb_bf5a_3cf011e79d79row14_col8\" class=\"data row14 col8\" >1.2400</td>\n",
       "            </tr>\n",
       "    </tbody></table>"
      ],
      "text/plain": [
       "<pandas.io.formats.style.Styler at 0x2575a253cd0>"
      ]
     },
     "metadata": {},
     "output_type": "display_data"
    }
   ],
   "source": [
    "# F1스코어 기준 상위 3개 모델을 best3models에 저장 # 약 24분정도 소요됩니다.\n",
    "best3models = compare_models(sort='F1',n_select=3, fold=2)"
   ]
  },
  {
   "cell_type": "markdown",
   "metadata": {
    "id": "aQ1iyoc2Gidy"
   },
   "source": [
    "# Create Model\n",
    "- 책에서 사용한 모델(로지스틱회귀,lgbm) 만들기\n",
    "- create_model()\n",
    "\n",
    "#### 기본 하이퍼 파라미터를 사용하여 dt 훈련 dt\n",
    " = create_model ( 'dt')"
   ]
  },
  {
   "cell_type": "code",
   "execution_count": 8,
   "metadata": {
    "colab": {
     "base_uri": "https://localhost:8080/",
     "height": 254,
     "referenced_widgets": [
      "ab851558198e45b3a1cff931ca874414",
      "f769d3fb2f564848b6df099b86221000",
      "a402841fe62a4c39a6f40afd408134fe"
     ]
    },
    "id": "JJ5edLYMXsoL",
    "outputId": "dfddfbe5-42a5-4170-97ad-f9d1926222e8"
   },
   "outputs": [
    {
     "data": {
      "text/html": [
       "<style  type=\"text/css\" >\n",
       "#T_f63c0690_5281_11eb_9dec_3cf011e79d79row2_col0,#T_f63c0690_5281_11eb_9dec_3cf011e79d79row2_col1,#T_f63c0690_5281_11eb_9dec_3cf011e79d79row2_col2,#T_f63c0690_5281_11eb_9dec_3cf011e79d79row2_col3,#T_f63c0690_5281_11eb_9dec_3cf011e79d79row2_col4,#T_f63c0690_5281_11eb_9dec_3cf011e79d79row2_col5,#T_f63c0690_5281_11eb_9dec_3cf011e79d79row2_col6{\n",
       "            background:  yellow;\n",
       "        }</style><table id=\"T_f63c0690_5281_11eb_9dec_3cf011e79d79\" ><thead>    <tr>        <th class=\"blank level0\" ></th>        <th class=\"col_heading level0 col0\" >Accuracy</th>        <th class=\"col_heading level0 col1\" >AUC</th>        <th class=\"col_heading level0 col2\" >Recall</th>        <th class=\"col_heading level0 col3\" >Prec.</th>        <th class=\"col_heading level0 col4\" >F1</th>        <th class=\"col_heading level0 col5\" >Kappa</th>        <th class=\"col_heading level0 col6\" >MCC</th>    </tr></thead><tbody>\n",
       "                <tr>\n",
       "                        <th id=\"T_f63c0690_5281_11eb_9dec_3cf011e79d79level0_row0\" class=\"row_heading level0 row0\" >0</th>\n",
       "                        <td id=\"T_f63c0690_5281_11eb_9dec_3cf011e79d79row0_col0\" class=\"data row0 col0\" >0.9993</td>\n",
       "                        <td id=\"T_f63c0690_5281_11eb_9dec_3cf011e79d79row0_col1\" class=\"data row0 col1\" >0.9838</td>\n",
       "                        <td id=\"T_f63c0690_5281_11eb_9dec_3cf011e79d79row0_col2\" class=\"data row0 col2\" >0.7360</td>\n",
       "                        <td id=\"T_f63c0690_5281_11eb_9dec_3cf011e79d79row0_col3\" class=\"data row0 col3\" >0.8580</td>\n",
       "                        <td id=\"T_f63c0690_5281_11eb_9dec_3cf011e79d79row0_col4\" class=\"data row0 col4\" >0.7923</td>\n",
       "                        <td id=\"T_f63c0690_5281_11eb_9dec_3cf011e79d79row0_col5\" class=\"data row0 col5\" >0.7920</td>\n",
       "                        <td id=\"T_f63c0690_5281_11eb_9dec_3cf011e79d79row0_col6\" class=\"data row0 col6\" >0.7944</td>\n",
       "            </tr>\n",
       "            <tr>\n",
       "                        <th id=\"T_f63c0690_5281_11eb_9dec_3cf011e79d79level0_row1\" class=\"row_heading level0 row1\" >1</th>\n",
       "                        <td id=\"T_f63c0690_5281_11eb_9dec_3cf011e79d79row1_col0\" class=\"data row1 col0\" >0.9991</td>\n",
       "                        <td id=\"T_f63c0690_5281_11eb_9dec_3cf011e79d79row1_col1\" class=\"data row1 col1\" >0.9646</td>\n",
       "                        <td id=\"T_f63c0690_5281_11eb_9dec_3cf011e79d79row1_col2\" class=\"data row1 col2\" >0.5482</td>\n",
       "                        <td id=\"T_f63c0690_5281_11eb_9dec_3cf011e79d79row1_col3\" class=\"data row1 col3\" >0.8926</td>\n",
       "                        <td id=\"T_f63c0690_5281_11eb_9dec_3cf011e79d79row1_col4\" class=\"data row1 col4\" >0.6792</td>\n",
       "                        <td id=\"T_f63c0690_5281_11eb_9dec_3cf011e79d79row1_col5\" class=\"data row1 col5\" >0.6788</td>\n",
       "                        <td id=\"T_f63c0690_5281_11eb_9dec_3cf011e79d79row1_col6\" class=\"data row1 col6\" >0.6991</td>\n",
       "            </tr>\n",
       "            <tr>\n",
       "                        <th id=\"T_f63c0690_5281_11eb_9dec_3cf011e79d79level0_row2\" class=\"row_heading level0 row2\" >Mean</th>\n",
       "                        <td id=\"T_f63c0690_5281_11eb_9dec_3cf011e79d79row2_col0\" class=\"data row2 col0\" >0.9992</td>\n",
       "                        <td id=\"T_f63c0690_5281_11eb_9dec_3cf011e79d79row2_col1\" class=\"data row2 col1\" >0.9742</td>\n",
       "                        <td id=\"T_f63c0690_5281_11eb_9dec_3cf011e79d79row2_col2\" class=\"data row2 col2\" >0.6421</td>\n",
       "                        <td id=\"T_f63c0690_5281_11eb_9dec_3cf011e79d79row2_col3\" class=\"data row2 col3\" >0.8753</td>\n",
       "                        <td id=\"T_f63c0690_5281_11eb_9dec_3cf011e79d79row2_col4\" class=\"data row2 col4\" >0.7358</td>\n",
       "                        <td id=\"T_f63c0690_5281_11eb_9dec_3cf011e79d79row2_col5\" class=\"data row2 col5\" >0.7354</td>\n",
       "                        <td id=\"T_f63c0690_5281_11eb_9dec_3cf011e79d79row2_col6\" class=\"data row2 col6\" >0.7467</td>\n",
       "            </tr>\n",
       "            <tr>\n",
       "                        <th id=\"T_f63c0690_5281_11eb_9dec_3cf011e79d79level0_row3\" class=\"row_heading level0 row3\" >SD</th>\n",
       "                        <td id=\"T_f63c0690_5281_11eb_9dec_3cf011e79d79row3_col0\" class=\"data row3 col0\" >0.0001</td>\n",
       "                        <td id=\"T_f63c0690_5281_11eb_9dec_3cf011e79d79row3_col1\" class=\"data row3 col1\" >0.0096</td>\n",
       "                        <td id=\"T_f63c0690_5281_11eb_9dec_3cf011e79d79row3_col2\" class=\"data row3 col2\" >0.0939</td>\n",
       "                        <td id=\"T_f63c0690_5281_11eb_9dec_3cf011e79d79row3_col3\" class=\"data row3 col3\" >0.0173</td>\n",
       "                        <td id=\"T_f63c0690_5281_11eb_9dec_3cf011e79d79row3_col4\" class=\"data row3 col4\" >0.0566</td>\n",
       "                        <td id=\"T_f63c0690_5281_11eb_9dec_3cf011e79d79row3_col5\" class=\"data row3 col5\" >0.0566</td>\n",
       "                        <td id=\"T_f63c0690_5281_11eb_9dec_3cf011e79d79row3_col6\" class=\"data row3 col6\" >0.0476</td>\n",
       "            </tr>\n",
       "    </tbody></table>"
      ],
      "text/plain": [
       "<pandas.io.formats.style.Styler at 0x2575a2b1820>"
      ]
     },
     "metadata": {},
     "output_type": "display_data"
    }
   ],
   "source": [
    "# 로지스틱 회귀\n",
    "lr = create_model('lr', fold = 2)"
   ]
  },
  {
   "cell_type": "code",
   "execution_count": 9,
   "metadata": {
    "colab": {
     "base_uri": "https://localhost:8080/"
    },
    "id": "JciHbS9tMBqw",
    "outputId": "185f71b0-1d59-4cb7-abc3-daaf976701ec"
   },
   "outputs": [
    {
     "data": {
      "text/plain": [
       "LogisticRegression(C=1.0, class_weight=None, dual=False, fit_intercept=True,\n",
       "                   intercept_scaling=1, l1_ratio=None, max_iter=1000,\n",
       "                   multi_class='auto', n_jobs=None, penalty='l2',\n",
       "                   random_state=6, solver='lbfgs', tol=0.0001, verbose=0,\n",
       "                   warm_start=False)"
      ]
     },
     "execution_count": 9,
     "metadata": {},
     "output_type": "execute_result"
    }
   ],
   "source": [
    "lr"
   ]
  },
  {
   "cell_type": "code",
   "execution_count": 10,
   "metadata": {
    "colab": {
     "base_uri": "https://localhost:8080/",
     "height": 254,
     "referenced_widgets": [
      "edf2bb00221c4be18774b622e9efb3f3",
      "434b9163864c4835a67992f77823e629",
      "4fc392167b584085baa8837b051de3ff"
     ]
    },
    "id": "EVHW6a8ZG7cC",
    "outputId": "06e4f3c9-6c3d-4251-f946-4952c0cb0c14"
   },
   "outputs": [
    {
     "data": {
      "text/html": [
       "<style  type=\"text/css\" >\n",
       "#T_0558b45a_5282_11eb_b226_3cf011e79d79row2_col0,#T_0558b45a_5282_11eb_b226_3cf011e79d79row2_col1,#T_0558b45a_5282_11eb_b226_3cf011e79d79row2_col2,#T_0558b45a_5282_11eb_b226_3cf011e79d79row2_col3,#T_0558b45a_5282_11eb_b226_3cf011e79d79row2_col4,#T_0558b45a_5282_11eb_b226_3cf011e79d79row2_col5,#T_0558b45a_5282_11eb_b226_3cf011e79d79row2_col6{\n",
       "            background:  yellow;\n",
       "        }</style><table id=\"T_0558b45a_5282_11eb_b226_3cf011e79d79\" ><thead>    <tr>        <th class=\"blank level0\" ></th>        <th class=\"col_heading level0 col0\" >Accuracy</th>        <th class=\"col_heading level0 col1\" >AUC</th>        <th class=\"col_heading level0 col2\" >Recall</th>        <th class=\"col_heading level0 col3\" >Prec.</th>        <th class=\"col_heading level0 col4\" >F1</th>        <th class=\"col_heading level0 col5\" >Kappa</th>        <th class=\"col_heading level0 col6\" >MCC</th>    </tr></thead><tbody>\n",
       "                <tr>\n",
       "                        <th id=\"T_0558b45a_5282_11eb_b226_3cf011e79d79level0_row0\" class=\"row_heading level0 row0\" >0</th>\n",
       "                        <td id=\"T_0558b45a_5282_11eb_b226_3cf011e79d79row0_col0\" class=\"data row0 col0\" >0.9953</td>\n",
       "                        <td id=\"T_0558b45a_5282_11eb_b226_3cf011e79d79row0_col1\" class=\"data row0 col1\" >0.6736</td>\n",
       "                        <td id=\"T_0558b45a_5282_11eb_b226_3cf011e79d79row0_col2\" class=\"data row0 col2\" >0.5178</td>\n",
       "                        <td id=\"T_0558b45a_5282_11eb_b226_3cf011e79d79row0_col3\" class=\"data row0 col3\" >0.1865</td>\n",
       "                        <td id=\"T_0558b45a_5282_11eb_b226_3cf011e79d79row0_col4\" class=\"data row0 col4\" >0.2742</td>\n",
       "                        <td id=\"T_0558b45a_5282_11eb_b226_3cf011e79d79row0_col5\" class=\"data row0 col5\" >0.2723</td>\n",
       "                        <td id=\"T_0558b45a_5282_11eb_b226_3cf011e79d79row0_col6\" class=\"data row0 col6\" >0.3089</td>\n",
       "            </tr>\n",
       "            <tr>\n",
       "                        <th id=\"T_0558b45a_5282_11eb_b226_3cf011e79d79level0_row1\" class=\"row_heading level0 row1\" >1</th>\n",
       "                        <td id=\"T_0558b45a_5282_11eb_b226_3cf011e79d79row1_col0\" class=\"data row1 col0\" >0.9950</td>\n",
       "                        <td id=\"T_0558b45a_5282_11eb_b226_3cf011e79d79row1_col1\" class=\"data row1 col1\" >0.7106</td>\n",
       "                        <td id=\"T_0558b45a_5282_11eb_b226_3cf011e79d79row1_col2\" class=\"data row1 col2\" >0.5635</td>\n",
       "                        <td id=\"T_0558b45a_5282_11eb_b226_3cf011e79d79row1_col3\" class=\"data row1 col3\" >0.1850</td>\n",
       "                        <td id=\"T_0558b45a_5282_11eb_b226_3cf011e79d79row1_col4\" class=\"data row1 col4\" >0.2785</td>\n",
       "                        <td id=\"T_0558b45a_5282_11eb_b226_3cf011e79d79row1_col5\" class=\"data row1 col5\" >0.2767</td>\n",
       "                        <td id=\"T_0558b45a_5282_11eb_b226_3cf011e79d79row1_col6\" class=\"data row1 col6\" >0.3210</td>\n",
       "            </tr>\n",
       "            <tr>\n",
       "                        <th id=\"T_0558b45a_5282_11eb_b226_3cf011e79d79level0_row2\" class=\"row_heading level0 row2\" >Mean</th>\n",
       "                        <td id=\"T_0558b45a_5282_11eb_b226_3cf011e79d79row2_col0\" class=\"data row2 col0\" >0.9951</td>\n",
       "                        <td id=\"T_0558b45a_5282_11eb_b226_3cf011e79d79row2_col1\" class=\"data row2 col1\" >0.6921</td>\n",
       "                        <td id=\"T_0558b45a_5282_11eb_b226_3cf011e79d79row2_col2\" class=\"data row2 col2\" >0.5406</td>\n",
       "                        <td id=\"T_0558b45a_5282_11eb_b226_3cf011e79d79row2_col3\" class=\"data row2 col3\" >0.1857</td>\n",
       "                        <td id=\"T_0558b45a_5282_11eb_b226_3cf011e79d79row2_col4\" class=\"data row2 col4\" >0.2764</td>\n",
       "                        <td id=\"T_0558b45a_5282_11eb_b226_3cf011e79d79row2_col5\" class=\"data row2 col5\" >0.2745</td>\n",
       "                        <td id=\"T_0558b45a_5282_11eb_b226_3cf011e79d79row2_col6\" class=\"data row2 col6\" >0.3149</td>\n",
       "            </tr>\n",
       "            <tr>\n",
       "                        <th id=\"T_0558b45a_5282_11eb_b226_3cf011e79d79level0_row3\" class=\"row_heading level0 row3\" >SD</th>\n",
       "                        <td id=\"T_0558b45a_5282_11eb_b226_3cf011e79d79row3_col0\" class=\"data row3 col0\" >0.0002</td>\n",
       "                        <td id=\"T_0558b45a_5282_11eb_b226_3cf011e79d79row3_col1\" class=\"data row3 col1\" >0.0185</td>\n",
       "                        <td id=\"T_0558b45a_5282_11eb_b226_3cf011e79d79row3_col2\" class=\"data row3 col2\" >0.0228</td>\n",
       "                        <td id=\"T_0558b45a_5282_11eb_b226_3cf011e79d79row3_col3\" class=\"data row3 col3\" >0.0007</td>\n",
       "                        <td id=\"T_0558b45a_5282_11eb_b226_3cf011e79d79row3_col4\" class=\"data row3 col4\" >0.0022</td>\n",
       "                        <td id=\"T_0558b45a_5282_11eb_b226_3cf011e79d79row3_col5\" class=\"data row3 col5\" >0.0022</td>\n",
       "                        <td id=\"T_0558b45a_5282_11eb_b226_3cf011e79d79row3_col6\" class=\"data row3 col6\" >0.0061</td>\n",
       "            </tr>\n",
       "    </tbody></table>"
      ],
      "text/plain": [
       "<pandas.io.formats.style.Styler at 0x2575a3baeb0>"
      ]
     },
     "metadata": {},
     "output_type": "display_data"
    }
   ],
   "source": [
    "# lightgbm\n",
    "lgbm = create_model('lightgbm', fold= 2 )"
   ]
  },
  {
   "cell_type": "code",
   "execution_count": 11,
   "metadata": {
    "colab": {
     "base_uri": "https://localhost:8080/"
    },
    "id": "aa5EfcWbMXP8",
    "outputId": "b42a41a9-930c-4f51-d5bd-494313385667"
   },
   "outputs": [
    {
     "data": {
      "text/plain": [
       "LGBMClassifier(boosting_type='gbdt', class_weight=None, colsample_bytree=1.0,\n",
       "               importance_type='split', learning_rate=0.1, max_depth=-1,\n",
       "               min_child_samples=20, min_child_weight=0.001, min_split_gain=0.0,\n",
       "               n_estimators=100, n_jobs=-1, num_leaves=31, objective=None,\n",
       "               random_state=6, reg_alpha=0.0, reg_lambda=0.0, silent=True,\n",
       "               subsample=1.0, subsample_for_bin=200000, subsample_freq=0)"
      ]
     },
     "execution_count": 11,
     "metadata": {},
     "output_type": "execute_result"
    }
   ],
   "source": [
    "lgbm"
   ]
  },
  {
   "cell_type": "markdown",
   "metadata": {
    "id": "rGy6HL3VISDp"
   },
   "source": [
    "# Tune Hyperparameters\n",
    "- 하이퍼파라미터 튜닝\n",
    "- tune_model()\n",
    "\n",
    "#### scikit-learn으로 하이퍼 파라미터 조정 (기본값)\n",
    " tuned_dt_sklearn = tune_model (dt)\n",
    "#### scikit-optimize로 하이퍼 파라미터 조정\n",
    " tuned_dt_skopt = tune_model (dt, search_library = 'scikit-optimize')\n",
    "#### optuna로 하이퍼 파라미터 조정\n",
    " tuned_dt_optuna = tune_model (dt, search_library = 'optuna')\n",
    "#### tune-sklearn으로 하이퍼 파라미터 조정\n",
    " tuned_dt_tuneskl = tune_model (dt, search_library = 'tune-sklearn')"
   ]
  },
  {
   "cell_type": "code",
   "execution_count": 12,
   "metadata": {
    "colab": {
     "base_uri": "https://localhost:8080/",
     "height": 254,
     "referenced_widgets": [
      "efc8a84e843e42798635d8cec822f7d2",
      "aa75a5cce1f643f9a0ababc61e12dc0e",
      "13471c7c328b4caa852f688146aa52dd"
     ]
    },
    "id": "l4Zng4PPHx6d",
    "outputId": "f363fe49-bc84-4724-a0ce-7660e6322be6"
   },
   "outputs": [
    {
     "data": {
      "text/html": [
       "<style  type=\"text/css\" >\n",
       "#T_9afa3a0e_5282_11eb_a872_3cf011e79d79row2_col0,#T_9afa3a0e_5282_11eb_a872_3cf011e79d79row2_col1,#T_9afa3a0e_5282_11eb_a872_3cf011e79d79row2_col2,#T_9afa3a0e_5282_11eb_a872_3cf011e79d79row2_col3,#T_9afa3a0e_5282_11eb_a872_3cf011e79d79row2_col4,#T_9afa3a0e_5282_11eb_a872_3cf011e79d79row2_col5,#T_9afa3a0e_5282_11eb_a872_3cf011e79d79row2_col6{\n",
       "            background:  yellow;\n",
       "        }</style><table id=\"T_9afa3a0e_5282_11eb_a872_3cf011e79d79\" ><thead>    <tr>        <th class=\"blank level0\" ></th>        <th class=\"col_heading level0 col0\" >Accuracy</th>        <th class=\"col_heading level0 col1\" >AUC</th>        <th class=\"col_heading level0 col2\" >Recall</th>        <th class=\"col_heading level0 col3\" >Prec.</th>        <th class=\"col_heading level0 col4\" >F1</th>        <th class=\"col_heading level0 col5\" >Kappa</th>        <th class=\"col_heading level0 col6\" >MCC</th>    </tr></thead><tbody>\n",
       "                <tr>\n",
       "                        <th id=\"T_9afa3a0e_5282_11eb_a872_3cf011e79d79level0_row0\" class=\"row_heading level0 row0\" >0</th>\n",
       "                        <td id=\"T_9afa3a0e_5282_11eb_a872_3cf011e79d79row0_col0\" class=\"data row0 col0\" >0.9993</td>\n",
       "                        <td id=\"T_9afa3a0e_5282_11eb_a872_3cf011e79d79row0_col1\" class=\"data row0 col1\" >0.9839</td>\n",
       "                        <td id=\"T_9afa3a0e_5282_11eb_a872_3cf011e79d79row0_col2\" class=\"data row0 col2\" >0.7411</td>\n",
       "                        <td id=\"T_9afa3a0e_5282_11eb_a872_3cf011e79d79row0_col3\" class=\"data row0 col3\" >0.8588</td>\n",
       "                        <td id=\"T_9afa3a0e_5282_11eb_a872_3cf011e79d79row0_col4\" class=\"data row0 col4\" >0.7956</td>\n",
       "                        <td id=\"T_9afa3a0e_5282_11eb_a872_3cf011e79d79row0_col5\" class=\"data row0 col5\" >0.7953</td>\n",
       "                        <td id=\"T_9afa3a0e_5282_11eb_a872_3cf011e79d79row0_col6\" class=\"data row0 col6\" >0.7975</td>\n",
       "            </tr>\n",
       "            <tr>\n",
       "                        <th id=\"T_9afa3a0e_5282_11eb_a872_3cf011e79d79level0_row1\" class=\"row_heading level0 row1\" >1</th>\n",
       "                        <td id=\"T_9afa3a0e_5282_11eb_a872_3cf011e79d79row1_col0\" class=\"data row1 col0\" >0.9991</td>\n",
       "                        <td id=\"T_9afa3a0e_5282_11eb_a872_3cf011e79d79row1_col1\" class=\"data row1 col1\" >0.9633</td>\n",
       "                        <td id=\"T_9afa3a0e_5282_11eb_a872_3cf011e79d79row1_col2\" class=\"data row1 col2\" >0.5584</td>\n",
       "                        <td id=\"T_9afa3a0e_5282_11eb_a872_3cf011e79d79row1_col3\" class=\"data row1 col3\" >0.8943</td>\n",
       "                        <td id=\"T_9afa3a0e_5282_11eb_a872_3cf011e79d79row1_col4\" class=\"data row1 col4\" >0.6875</td>\n",
       "                        <td id=\"T_9afa3a0e_5282_11eb_a872_3cf011e79d79row1_col5\" class=\"data row1 col5\" >0.6871</td>\n",
       "                        <td id=\"T_9afa3a0e_5282_11eb_a872_3cf011e79d79row1_col6\" class=\"data row1 col6\" >0.7063</td>\n",
       "            </tr>\n",
       "            <tr>\n",
       "                        <th id=\"T_9afa3a0e_5282_11eb_a872_3cf011e79d79level0_row2\" class=\"row_heading level0 row2\" >Mean</th>\n",
       "                        <td id=\"T_9afa3a0e_5282_11eb_a872_3cf011e79d79row2_col0\" class=\"data row2 col0\" >0.9992</td>\n",
       "                        <td id=\"T_9afa3a0e_5282_11eb_a872_3cf011e79d79row2_col1\" class=\"data row2 col1\" >0.9736</td>\n",
       "                        <td id=\"T_9afa3a0e_5282_11eb_a872_3cf011e79d79row2_col2\" class=\"data row2 col2\" >0.6497</td>\n",
       "                        <td id=\"T_9afa3a0e_5282_11eb_a872_3cf011e79d79row2_col3\" class=\"data row2 col3\" >0.8766</td>\n",
       "                        <td id=\"T_9afa3a0e_5282_11eb_a872_3cf011e79d79row2_col4\" class=\"data row2 col4\" >0.7416</td>\n",
       "                        <td id=\"T_9afa3a0e_5282_11eb_a872_3cf011e79d79row2_col5\" class=\"data row2 col5\" >0.7412</td>\n",
       "                        <td id=\"T_9afa3a0e_5282_11eb_a872_3cf011e79d79row2_col6\" class=\"data row2 col6\" >0.7519</td>\n",
       "            </tr>\n",
       "            <tr>\n",
       "                        <th id=\"T_9afa3a0e_5282_11eb_a872_3cf011e79d79level0_row3\" class=\"row_heading level0 row3\" >SD</th>\n",
       "                        <td id=\"T_9afa3a0e_5282_11eb_a872_3cf011e79d79row3_col0\" class=\"data row3 col0\" >0.0001</td>\n",
       "                        <td id=\"T_9afa3a0e_5282_11eb_a872_3cf011e79d79row3_col1\" class=\"data row3 col1\" >0.0103</td>\n",
       "                        <td id=\"T_9afa3a0e_5282_11eb_a872_3cf011e79d79row3_col2\" class=\"data row3 col2\" >0.0914</td>\n",
       "                        <td id=\"T_9afa3a0e_5282_11eb_a872_3cf011e79d79row3_col3\" class=\"data row3 col3\" >0.0177</td>\n",
       "                        <td id=\"T_9afa3a0e_5282_11eb_a872_3cf011e79d79row3_col4\" class=\"data row3 col4\" >0.0541</td>\n",
       "                        <td id=\"T_9afa3a0e_5282_11eb_a872_3cf011e79d79row3_col5\" class=\"data row3 col5\" >0.0541</td>\n",
       "                        <td id=\"T_9afa3a0e_5282_11eb_a872_3cf011e79d79row3_col6\" class=\"data row3 col6\" >0.0456</td>\n",
       "            </tr>\n",
       "    </tbody></table>"
      ],
      "text/plain": [
       "<pandas.io.formats.style.Styler at 0x2575a357580>"
      ]
     },
     "metadata": {},
     "output_type": "display_data"
    }
   ],
   "source": [
    "# 로지스틱 회귀 \n",
    "tuned_lr = tune_model(lr, fold = 2, optimize='F1')"
   ]
  },
  {
   "cell_type": "code",
   "execution_count": 13,
   "metadata": {
    "colab": {
     "base_uri": "https://localhost:8080/"
    },
    "id": "iFzfIdIYI9d7",
    "outputId": "bceaa6cb-d343-4be4-f2ef-84d49e1d7913"
   },
   "outputs": [
    {
     "data": {
      "text/plain": [
       "LogisticRegression(C=8.026, class_weight={}, dual=False, fit_intercept=True,\n",
       "                   intercept_scaling=1, l1_ratio=None, max_iter=1000,\n",
       "                   multi_class='auto', n_jobs=None, penalty='l2',\n",
       "                   random_state=6, solver='lbfgs', tol=0.0001, verbose=0,\n",
       "                   warm_start=False)"
      ]
     },
     "execution_count": 13,
     "metadata": {},
     "output_type": "execute_result"
    }
   ],
   "source": [
    "tuned_lr"
   ]
  },
  {
   "cell_type": "code",
   "execution_count": 14,
   "metadata": {
    "colab": {
     "base_uri": "https://localhost:8080/",
     "height": 254,
     "referenced_widgets": [
      "70ba8cb05dfe434980f7914034464864",
      "1f399b85c3964b4a8a17c74f9d84c867",
      "97286b492960495e8bff229f753794c0"
     ]
    },
    "id": "n-L2sYlhIq3_",
    "outputId": "9aac41bc-3b53-480f-ab3e-aee667451e28"
   },
   "outputs": [
    {
     "data": {
      "text/html": [
       "<style  type=\"text/css\" >\n",
       "#T_be0c8a61_5282_11eb_9f6e_3cf011e79d79row2_col0,#T_be0c8a61_5282_11eb_9f6e_3cf011e79d79row2_col1,#T_be0c8a61_5282_11eb_9f6e_3cf011e79d79row2_col2,#T_be0c8a61_5282_11eb_9f6e_3cf011e79d79row2_col3,#T_be0c8a61_5282_11eb_9f6e_3cf011e79d79row2_col4,#T_be0c8a61_5282_11eb_9f6e_3cf011e79d79row2_col5,#T_be0c8a61_5282_11eb_9f6e_3cf011e79d79row2_col6{\n",
       "            background:  yellow;\n",
       "        }</style><table id=\"T_be0c8a61_5282_11eb_9f6e_3cf011e79d79\" ><thead>    <tr>        <th class=\"blank level0\" ></th>        <th class=\"col_heading level0 col0\" >Accuracy</th>        <th class=\"col_heading level0 col1\" >AUC</th>        <th class=\"col_heading level0 col2\" >Recall</th>        <th class=\"col_heading level0 col3\" >Prec.</th>        <th class=\"col_heading level0 col4\" >F1</th>        <th class=\"col_heading level0 col5\" >Kappa</th>        <th class=\"col_heading level0 col6\" >MCC</th>    </tr></thead><tbody>\n",
       "                <tr>\n",
       "                        <th id=\"T_be0c8a61_5282_11eb_9f6e_3cf011e79d79level0_row0\" class=\"row_heading level0 row0\" >0</th>\n",
       "                        <td id=\"T_be0c8a61_5282_11eb_9f6e_3cf011e79d79row0_col0\" class=\"data row0 col0\" >0.9995</td>\n",
       "                        <td id=\"T_be0c8a61_5282_11eb_9f6e_3cf011e79d79row0_col1\" class=\"data row0 col1\" >0.9786</td>\n",
       "                        <td id=\"T_be0c8a61_5282_11eb_9f6e_3cf011e79d79row0_col2\" class=\"data row0 col2\" >0.7868</td>\n",
       "                        <td id=\"T_be0c8a61_5282_11eb_9f6e_3cf011e79d79row0_col3\" class=\"data row0 col3\" >0.9226</td>\n",
       "                        <td id=\"T_be0c8a61_5282_11eb_9f6e_3cf011e79d79row0_col4\" class=\"data row0 col4\" >0.8493</td>\n",
       "                        <td id=\"T_be0c8a61_5282_11eb_9f6e_3cf011e79d79row0_col5\" class=\"data row0 col5\" >0.8491</td>\n",
       "                        <td id=\"T_be0c8a61_5282_11eb_9f6e_3cf011e79d79row0_col6\" class=\"data row0 col6\" >0.8518</td>\n",
       "            </tr>\n",
       "            <tr>\n",
       "                        <th id=\"T_be0c8a61_5282_11eb_9f6e_3cf011e79d79level0_row1\" class=\"row_heading level0 row1\" >1</th>\n",
       "                        <td id=\"T_be0c8a61_5282_11eb_9f6e_3cf011e79d79row1_col0\" class=\"data row1 col0\" >0.9995</td>\n",
       "                        <td id=\"T_be0c8a61_5282_11eb_9f6e_3cf011e79d79row1_col1\" class=\"data row1 col1\" >0.9805</td>\n",
       "                        <td id=\"T_be0c8a61_5282_11eb_9f6e_3cf011e79d79row1_col2\" class=\"data row1 col2\" >0.7411</td>\n",
       "                        <td id=\"T_be0c8a61_5282_11eb_9f6e_3cf011e79d79row1_col3\" class=\"data row1 col3\" >0.9419</td>\n",
       "                        <td id=\"T_be0c8a61_5282_11eb_9f6e_3cf011e79d79row1_col4\" class=\"data row1 col4\" >0.8295</td>\n",
       "                        <td id=\"T_be0c8a61_5282_11eb_9f6e_3cf011e79d79row1_col5\" class=\"data row1 col5\" >0.8293</td>\n",
       "                        <td id=\"T_be0c8a61_5282_11eb_9f6e_3cf011e79d79row1_col6\" class=\"data row1 col6\" >0.8353</td>\n",
       "            </tr>\n",
       "            <tr>\n",
       "                        <th id=\"T_be0c8a61_5282_11eb_9f6e_3cf011e79d79level0_row2\" class=\"row_heading level0 row2\" >Mean</th>\n",
       "                        <td id=\"T_be0c8a61_5282_11eb_9f6e_3cf011e79d79row2_col0\" class=\"data row2 col0\" >0.9995</td>\n",
       "                        <td id=\"T_be0c8a61_5282_11eb_9f6e_3cf011e79d79row2_col1\" class=\"data row2 col1\" >0.9795</td>\n",
       "                        <td id=\"T_be0c8a61_5282_11eb_9f6e_3cf011e79d79row2_col2\" class=\"data row2 col2\" >0.7640</td>\n",
       "                        <td id=\"T_be0c8a61_5282_11eb_9f6e_3cf011e79d79row2_col3\" class=\"data row2 col3\" >0.9323</td>\n",
       "                        <td id=\"T_be0c8a61_5282_11eb_9f6e_3cf011e79d79row2_col4\" class=\"data row2 col4\" >0.8394</td>\n",
       "                        <td id=\"T_be0c8a61_5282_11eb_9f6e_3cf011e79d79row2_col5\" class=\"data row2 col5\" >0.8392</td>\n",
       "                        <td id=\"T_be0c8a61_5282_11eb_9f6e_3cf011e79d79row2_col6\" class=\"data row2 col6\" >0.8435</td>\n",
       "            </tr>\n",
       "            <tr>\n",
       "                        <th id=\"T_be0c8a61_5282_11eb_9f6e_3cf011e79d79level0_row3\" class=\"row_heading level0 row3\" >SD</th>\n",
       "                        <td id=\"T_be0c8a61_5282_11eb_9f6e_3cf011e79d79row3_col0\" class=\"data row3 col0\" >0.0000</td>\n",
       "                        <td id=\"T_be0c8a61_5282_11eb_9f6e_3cf011e79d79row3_col1\" class=\"data row3 col1\" >0.0009</td>\n",
       "                        <td id=\"T_be0c8a61_5282_11eb_9f6e_3cf011e79d79row3_col2\" class=\"data row3 col2\" >0.0228</td>\n",
       "                        <td id=\"T_be0c8a61_5282_11eb_9f6e_3cf011e79d79row3_col3\" class=\"data row3 col3\" >0.0097</td>\n",
       "                        <td id=\"T_be0c8a61_5282_11eb_9f6e_3cf011e79d79row3_col4\" class=\"data row3 col4\" >0.0099</td>\n",
       "                        <td id=\"T_be0c8a61_5282_11eb_9f6e_3cf011e79d79row3_col5\" class=\"data row3 col5\" >0.0099</td>\n",
       "                        <td id=\"T_be0c8a61_5282_11eb_9f6e_3cf011e79d79row3_col6\" class=\"data row3 col6\" >0.0083</td>\n",
       "            </tr>\n",
       "    </tbody></table>"
      ],
      "text/plain": [
       "<pandas.io.formats.style.Styler at 0x25750879e80>"
      ]
     },
     "metadata": {},
     "output_type": "display_data"
    }
   ],
   "source": [
    "# lightgbm\n",
    "tuned_lgbm = tune_model(lgbm, fold = 2, optimize='F1')"
   ]
  },
  {
   "cell_type": "code",
   "execution_count": 15,
   "metadata": {
    "colab": {
     "base_uri": "https://localhost:8080/"
    },
    "id": "antN7fxmI-P4",
    "outputId": "9501239c-0b3e-494e-ebb5-1962976b980b"
   },
   "outputs": [
    {
     "data": {
      "text/plain": [
       "LGBMClassifier(bagging_fraction=0.5, bagging_freq=2, boosting_type='gbdt',\n",
       "               class_weight=None, colsample_bytree=1.0, feature_fraction=0.9,\n",
       "               importance_type='split', learning_rate=0.234, max_depth=-1,\n",
       "               min_child_samples=75, min_child_weight=0.001, min_split_gain=0.3,\n",
       "               n_estimators=100, n_jobs=-1, num_leaves=80, objective=None,\n",
       "               random_state=6, reg_alpha=0.5, reg_lambda=2, silent=True,\n",
       "               subsample=1.0, subsample_for_bin=200000, subsample_freq=0)"
      ]
     },
     "execution_count": 15,
     "metadata": {},
     "output_type": "execute_result"
    }
   ],
   "source": [
    "tuned_lgbm"
   ]
  },
  {
   "cell_type": "markdown",
   "metadata": {
    "id": "F5iLdjc2OCaj"
   },
   "source": [
    "## 하이퍼 파라미터 튜닝 결과\n",
    "- 로지스틱 회귀 소폭 상승했으나\n",
    "- lgbm은 대폭 상승"
   ]
  },
  {
   "cell_type": "markdown",
   "metadata": {
    "id": "ubzqoQt7KI4u"
   },
   "source": [
    "# Analyze Model\n",
    "- 다양한 시각화\n",
    "- plot_model()"
   ]
  },
  {
   "cell_type": "code",
   "execution_count": 16,
   "metadata": {
    "colab": {
     "base_uri": "https://localhost:8080/",
     "height": 376,
     "referenced_widgets": [
      "911c77a07f424896acedcf764af03547",
      "8aea772f259642bdab9cfce74f5fbb20",
      "be14e33910c94c71a8760da1ef769ca2"
     ]
    },
    "id": "vx3ird3DPDdg",
    "outputId": "d179e3d5-3304-4066-d8ff-d0560556d0a6"
   },
   "outputs": [
    {
     "data": {
      "image/png": "[encoded data removed]",
      "text/plain": [
       "<Figure size 576x396 with 1 Axes>"
      ]
     },
     "metadata": {},
     "output_type": "display_data"
    }
   ],
   "source": [
    "plot_model(tuned_lgbm, 'auc')"
   ]
  },
  {
   "cell_type": "code",
   "execution_count": 17,
   "metadata": {
    "colab": {
     "base_uri": "https://localhost:8080/",
     "height": 401,
     "referenced_widgets": [
      "8aa7e1a6f7bb4287ad6f7bbfd83dba86",
      "fb338802ec0c4256853646bb30d742ec",
      "99e20e3257574cf5ba242c11a28a6971"
     ]
    },
    "id": "PVaE1gNyO2S_",
    "outputId": "8091714e-64f6-480e-b7b3-7ae77f5e334d"
   },
   "outputs": [
    {
     "data": {
      "image/png": "[encoded data removed]",
      "text/plain": [
       "<Figure size 576x396 with 1 Axes>"
      ]
     },
     "metadata": {},
     "output_type": "display_data"
    }
   ],
   "source": [
    "plot_model(tuned_lgbm,'confusion_matrix')"
   ]
  },
  {
   "cell_type": "code",
   "execution_count": 18,
   "metadata": {
    "colab": {
     "base_uri": "https://localhost:8080/",
     "height": 478,
     "referenced_widgets": [
      "47427e358d814c1bb00e995b3111ba90",
      "01277bf20e4c4008a8c5df9bb231522a",
      "98a3bbd0a22c4b9798766e2b683eb5f4"
     ]
    },
    "id": "i-dKgzwsOsH3",
    "outputId": "f4b747b0-178f-41a8-fee2-5db923434a24",
    "scrolled": true
   },
   "outputs": [
    {
     "data": {
      "image/png": "[encoded data removed]",
      "text/plain": [
       "<Figure size 800x500 with 1 Axes>"
      ]
     },
     "metadata": {},
     "output_type": "display_data"
    }
   ],
   "source": [
    "plot_model(tuned_lgbm, plot = 'feature')"
   ]
  },
  {
   "cell_type": "code",
   "execution_count": 19,
   "metadata": {
    "colab": {
     "base_uri": "https://localhost:8080/",
     "height": 376,
     "referenced_widgets": [
      "b04e0c4f2caf49429c7257e85a950bff",
      "3b252b33a41f47e6b88c2e0683191f4b",
      "8988e25beeee4f678cc1a9657f3e1d25"
     ]
    },
    "id": "de7W2dj0O5Hv",
    "outputId": "c8d7f534-b207-426f-ce90-ff4b6e68472b",
    "scrolled": false
   },
   "outputs": [
    {
     "data": {
      "image/png": "[encoded data removed]",
      "text/plain": [
       "<Figure size 576x396 with 1 Axes>"
      ]
     },
     "metadata": {},
     "output_type": "display_data"
    }
   ],
   "source": [
    "plot_model(tuned_lgbm,'learning') # 약 4분 소요됩니다."
   ]
  },
  {
   "cell_type": "code",
   "execution_count": 20,
   "metadata": {
    "colab": {
     "base_uri": "https://localhost:8080/",
     "height": 376,
     "referenced_widgets": [
      "90ddf41eaaa24268b308d84e8a732a47",
      "8edc1c80c9e948f7b3899dcad7fdc2b0",
      "bc54634e862043339a3881513839a5dc"
     ]
    },
    "id": "3UpqDYjvUR-r",
    "outputId": "2a156adf-db2a-4cba-b42a-29fc9c3737bc"
   },
   "outputs": [
    {
     "data": {
      "image/png": "[encoded data removed]",
      "text/plain": [
       "<Figure size 576x396 with 1 Axes>"
      ]
     },
     "metadata": {},
     "output_type": "display_data"
    }
   ],
   "source": [
    "plot_model(tuned_lgbm, 'threshold') # 약 4분 소요됩니다."
   ]
  },
  {
   "cell_type": "markdown",
   "metadata": {
    "id": "V2QRyFAmKci3"
   },
   "source": [
    "# Blend Models\n",
    "- 다시 돌아와서, 앞서 만든 best3models의 세 모델로 앙상블(soft vote)하기\n",
    "- blend_models()"
   ]
  },
  {
   "cell_type": "code",
   "execution_count": 21,
   "metadata": {
    "colab": {
     "base_uri": "https://localhost:8080/",
     "height": 254,
     "referenced_widgets": [
      "5f16944efc86408ba11e4b4f78f3f2ad",
      "685e5bed0f9f4f81bee34101638f1550",
      "fbbc1d2ff9bc4f94964a7d3b7b329c64"
     ]
    },
    "id": "N6NFGYzKKqLz",
    "outputId": "e06e7d27-e637-433f-c2e8-4d7c7bce367d"
   },
   "outputs": [
    {
     "data": {
      "text/html": [
       "<style  type=\"text/css\" >\n",
       "#T_246eced3_5286_11eb_8e9d_3cf011e79d79row2_col0,#T_246eced3_5286_11eb_8e9d_3cf011e79d79row2_col1,#T_246eced3_5286_11eb_8e9d_3cf011e79d79row2_col2,#T_246eced3_5286_11eb_8e9d_3cf011e79d79row2_col3,#T_246eced3_5286_11eb_8e9d_3cf011e79d79row2_col4,#T_246eced3_5286_11eb_8e9d_3cf011e79d79row2_col5,#T_246eced3_5286_11eb_8e9d_3cf011e79d79row2_col6{\n",
       "            background:  yellow;\n",
       "        }</style><table id=\"T_246eced3_5286_11eb_8e9d_3cf011e79d79\" ><thead>    <tr>        <th class=\"blank level0\" ></th>        <th class=\"col_heading level0 col0\" >Accuracy</th>        <th class=\"col_heading level0 col1\" >AUC</th>        <th class=\"col_heading level0 col2\" >Recall</th>        <th class=\"col_heading level0 col3\" >Prec.</th>        <th class=\"col_heading level0 col4\" >F1</th>        <th class=\"col_heading level0 col5\" >Kappa</th>        <th class=\"col_heading level0 col6\" >MCC</th>    </tr></thead><tbody>\n",
       "                <tr>\n",
       "                        <th id=\"T_246eced3_5286_11eb_8e9d_3cf011e79d79level0_row0\" class=\"row_heading level0 row0\" >0</th>\n",
       "                        <td id=\"T_246eced3_5286_11eb_8e9d_3cf011e79d79row0_col0\" class=\"data row0 col0\" >0.9996</td>\n",
       "                        <td id=\"T_246eced3_5286_11eb_8e9d_3cf011e79d79row0_col1\" class=\"data row0 col1\" >0.9824</td>\n",
       "                        <td id=\"T_246eced3_5286_11eb_8e9d_3cf011e79d79row0_col2\" class=\"data row0 col2\" >0.7919</td>\n",
       "                        <td id=\"T_246eced3_5286_11eb_8e9d_3cf011e79d79row0_col3\" class=\"data row0 col3\" >0.9455</td>\n",
       "                        <td id=\"T_246eced3_5286_11eb_8e9d_3cf011e79d79row0_col4\" class=\"data row0 col4\" >0.8619</td>\n",
       "                        <td id=\"T_246eced3_5286_11eb_8e9d_3cf011e79d79row0_col5\" class=\"data row0 col5\" >0.8617</td>\n",
       "                        <td id=\"T_246eced3_5286_11eb_8e9d_3cf011e79d79row0_col6\" class=\"data row0 col6\" >0.8651</td>\n",
       "            </tr>\n",
       "            <tr>\n",
       "                        <th id=\"T_246eced3_5286_11eb_8e9d_3cf011e79d79level0_row1\" class=\"row_heading level0 row1\" >1</th>\n",
       "                        <td id=\"T_246eced3_5286_11eb_8e9d_3cf011e79d79row1_col0\" class=\"data row1 col0\" >0.9995</td>\n",
       "                        <td id=\"T_246eced3_5286_11eb_8e9d_3cf011e79d79row1_col1\" class=\"data row1 col1\" >0.9783</td>\n",
       "                        <td id=\"T_246eced3_5286_11eb_8e9d_3cf011e79d79row1_col2\" class=\"data row1 col2\" >0.7665</td>\n",
       "                        <td id=\"T_246eced3_5286_11eb_8e9d_3cf011e79d79row1_col3\" class=\"data row1 col3\" >0.9321</td>\n",
       "                        <td id=\"T_246eced3_5286_11eb_8e9d_3cf011e79d79row1_col4\" class=\"data row1 col4\" >0.8412</td>\n",
       "                        <td id=\"T_246eced3_5286_11eb_8e9d_3cf011e79d79row1_col5\" class=\"data row1 col5\" >0.8410</td>\n",
       "                        <td id=\"T_246eced3_5286_11eb_8e9d_3cf011e79d79row1_col6\" class=\"data row1 col6\" >0.8450</td>\n",
       "            </tr>\n",
       "            <tr>\n",
       "                        <th id=\"T_246eced3_5286_11eb_8e9d_3cf011e79d79level0_row2\" class=\"row_heading level0 row2\" >Mean</th>\n",
       "                        <td id=\"T_246eced3_5286_11eb_8e9d_3cf011e79d79row2_col0\" class=\"data row2 col0\" >0.9995</td>\n",
       "                        <td id=\"T_246eced3_5286_11eb_8e9d_3cf011e79d79row2_col1\" class=\"data row2 col1\" >0.9804</td>\n",
       "                        <td id=\"T_246eced3_5286_11eb_8e9d_3cf011e79d79row2_col2\" class=\"data row2 col2\" >0.7792</td>\n",
       "                        <td id=\"T_246eced3_5286_11eb_8e9d_3cf011e79d79row2_col3\" class=\"data row2 col3\" >0.9388</td>\n",
       "                        <td id=\"T_246eced3_5286_11eb_8e9d_3cf011e79d79row2_col4\" class=\"data row2 col4\" >0.8516</td>\n",
       "                        <td id=\"T_246eced3_5286_11eb_8e9d_3cf011e79d79row2_col5\" class=\"data row2 col5\" >0.8513</td>\n",
       "                        <td id=\"T_246eced3_5286_11eb_8e9d_3cf011e79d79row2_col6\" class=\"data row2 col6\" >0.8550</td>\n",
       "            </tr>\n",
       "            <tr>\n",
       "                        <th id=\"T_246eced3_5286_11eb_8e9d_3cf011e79d79level0_row3\" class=\"row_heading level0 row3\" >SD</th>\n",
       "                        <td id=\"T_246eced3_5286_11eb_8e9d_3cf011e79d79row3_col0\" class=\"data row3 col0\" >0.0000</td>\n",
       "                        <td id=\"T_246eced3_5286_11eb_8e9d_3cf011e79d79row3_col1\" class=\"data row3 col1\" >0.0021</td>\n",
       "                        <td id=\"T_246eced3_5286_11eb_8e9d_3cf011e79d79row3_col2\" class=\"data row3 col2\" >0.0127</td>\n",
       "                        <td id=\"T_246eced3_5286_11eb_8e9d_3cf011e79d79row3_col3\" class=\"data row3 col3\" >0.0067</td>\n",
       "                        <td id=\"T_246eced3_5286_11eb_8e9d_3cf011e79d79row3_col4\" class=\"data row3 col4\" >0.0103</td>\n",
       "                        <td id=\"T_246eced3_5286_11eb_8e9d_3cf011e79d79row3_col5\" class=\"data row3 col5\" >0.0103</td>\n",
       "                        <td id=\"T_246eced3_5286_11eb_8e9d_3cf011e79d79row3_col6\" class=\"data row3 col6\" >0.0100</td>\n",
       "            </tr>\n",
       "    </tbody></table>"
      ],
      "text/plain": [
       "<pandas.io.formats.style.Styler at 0x25702755a60>"
      ]
     },
     "metadata": {},
     "output_type": "display_data"
    }
   ],
   "source": [
    "blended = blend_models(estimator_list = best3models, fold = 2, method = 'soft') # 약 15분 소요됩니다."
   ]
  },
  {
   "cell_type": "markdown",
   "metadata": {
    "id": "zfqNSISGLZ68"
   },
   "source": [
    "# 모델 예측 (Prediction)\n",
    "- predict_model()\n",
    "- setup 환경에 이미 hold-out set이 존재하므로 해당 데이터에 대해 예측을 하여 모델 성능을 확인하겠습니다.\n"
   ]
  },
  {
   "cell_type": "code",
   "execution_count": 22,
   "metadata": {
    "colab": {
     "base_uri": "https://localhost:8080/",
     "height": 77
    },
    "id": "SLcCSN3QLa14",
    "outputId": "9f6cfac8-993e-478e-993f-372b0aa64728"
   },
   "outputs": [
    {
     "data": {
      "text/html": [
       "<style  type=\"text/css\" >\n",
       "</style><table id=\"T_3156ae75_5286_11eb_b4d6_3cf011e79d79\" ><thead>    <tr>        <th class=\"blank level0\" ></th>        <th class=\"col_heading level0 col0\" >Model</th>        <th class=\"col_heading level0 col1\" >Accuracy</th>        <th class=\"col_heading level0 col2\" >AUC</th>        <th class=\"col_heading level0 col3\" >Recall</th>        <th class=\"col_heading level0 col4\" >Prec.</th>        <th class=\"col_heading level0 col5\" >F1</th>        <th class=\"col_heading level0 col6\" >Kappa</th>        <th class=\"col_heading level0 col7\" >MCC</th>    </tr></thead><tbody>\n",
       "                <tr>\n",
       "                        <th id=\"T_3156ae75_5286_11eb_b4d6_3cf011e79d79level0_row0\" class=\"row_heading level0 row0\" >0</th>\n",
       "                        <td id=\"T_3156ae75_5286_11eb_b4d6_3cf011e79d79row0_col0\" class=\"data row0 col0\" >Voting Classifier</td>\n",
       "                        <td id=\"T_3156ae75_5286_11eb_b4d6_3cf011e79d79row0_col1\" class=\"data row0 col1\" >0.9996</td>\n",
       "                        <td id=\"T_3156ae75_5286_11eb_b4d6_3cf011e79d79row0_col2\" class=\"data row0 col2\" >0.9787</td>\n",
       "                        <td id=\"T_3156ae75_5286_11eb_b4d6_3cf011e79d79row0_col3\" class=\"data row0 col3\" >0.8061</td>\n",
       "                        <td id=\"T_3156ae75_5286_11eb_b4d6_3cf011e79d79row0_col4\" class=\"data row0 col4\" >0.9634</td>\n",
       "                        <td id=\"T_3156ae75_5286_11eb_b4d6_3cf011e79d79row0_col5\" class=\"data row0 col5\" >0.8778</td>\n",
       "                        <td id=\"T_3156ae75_5286_11eb_b4d6_3cf011e79d79row0_col6\" class=\"data row0 col6\" >0.8776</td>\n",
       "                        <td id=\"T_3156ae75_5286_11eb_b4d6_3cf011e79d79row0_col7\" class=\"data row0 col7\" >0.8811</td>\n",
       "            </tr>\n",
       "    </tbody></table>"
      ],
      "text/plain": [
       "<pandas.io.formats.style.Styler at 0x25702fba970>"
      ]
     },
     "metadata": {},
     "output_type": "display_data"
    }
   ],
   "source": [
    "pred_holdout = predict_model(blended)"
   ]
  },
  {
   "cell_type": "markdown",
   "metadata": {
    "id": "6HkOoOXwLpDJ"
   },
   "source": [
    "# 전체 데이터에 대한 재학습 (Re-training the model on whole data)\n",
    "-  final_model()\n",
    "- 현재까지 실험은 주어진 train 데이터를 다시 한 번 train / validation으로 나눠서 실험을 한 것이므로, 전체 train 데이터에 학습되어 있지 않습니다.\n",
    "최적의 성능을 위해 전체 데이터에 학습을 시켜주도록 하겠습니다."
   ]
  },
  {
   "cell_type": "code",
   "execution_count": null,
   "metadata": {
    "id": "Qj0EkHFMLqRO"
   },
   "outputs": [],
   "source": [
    "# 안 돌려도 됨\n",
    "final_model = finalize_model(blended)"
   ]
  },
  {
   "attachments": {},
   "cell_type": "markdown",
   "metadata": {
    "id": "haJFYpiYU1Cr"
   },
   "source": [
    "# 결론\n",
    "- 정규화, 로그변환, 이상치제거, SMOTE 등을 직접 하지 않고 모두 기계에게 맡기는 AutoML\n",
    "- Pycaret 이 제공하는 기본적인 기능을 사용했으나, 유의미한 결과를 얻을 수 있었음\n",
    "- 추가 작업을 통해 성능을 더 향상시킬 수 있을거라 기대됨\n",
    "- 홈페이지와 공식 문서가 매우 잘 정리되어 있으니 관심있다면 공부해 보는 것도 좋을 것 같습니다."
   ]
  },
  {
   "cell_type": "code",
   "execution_count": null,
   "metadata": {
    "id": "13bjaqn5SpUf"
   },
   "outputs": [],
   "source": []
  }
 ],
 "metadata": {
  "accelerator": "GPU",
  "colab": {
   "collapsed_sections": [],
   "name": "Untitled0.ipynb",
   "provenance": []
  },
  "kernelspec": {
   "display_name": "Python 3",
   "language": "python",
   "name": "python3"
  },
  "language_info": {
   "codemirror_mode": {
    "name": "ipython",
    "version": 3
   },
   "file_extension": ".py",
   "mimetype": "text/x-python",
   "name": "python",
   "nbconvert_exporter": "python",
   "pygments_lexer": "ipython3",
   "version": "3.8.5"
  },
  "widgets": {
   "application/vnd.jupyter.widget-state+json": {
    "01277bf20e4c4008a8c5df9bb231522a": {
     "model_module": "@jupyter-widgets/controls",
     "model_name": "ProgressStyleModel",
     "state": {
      "_model_module": "@jupyter-widgets/controls",
      "_model_module_version": "1.5.0",
      "_model_name": "ProgressStyleModel",
      "_view_count": null,
      "_view_module": "@jupyter-widgets/base",
      "_view_module_version": "1.2.0",
      "_view_name": "StyleView",
      "bar_color": null,
      "description_width": ""
     }
    },
    "0b18da8a62384ef88d12aec6f4265617": {
     "model_module": "@jupyter-widgets/controls",
     "model_name": "ProgressStyleModel",
     "state": {
      "_model_module": "@jupyter-widgets/controls",
      "_model_module_version": "1.5.0",
      "_model_name": "ProgressStyleModel",
      "_view_count": null,
      "_view_module": "@jupyter-widgets/base",
      "_view_module_version": "1.2.0",
      "_view_name": "StyleView",
      "bar_color": null,
      "description_width": ""
     }
    },
    "13471c7c328b4caa852f688146aa52dd": {
     "model_module": "@jupyter-widgets/base",
     "model_name": "LayoutModel",
     "state": {
      "_model_module": "@jupyter-widgets/base",
      "_model_module_version": "1.2.0",
      "_model_name": "LayoutModel",
      "_view_count": null,
      "_view_module": "@jupyter-widgets/base",
      "_view_module_version": "1.2.0",
      "_view_name": "LayoutView",
      "align_content": null,
      "align_items": null,
      "align_self": null,
      "border": null,
      "bottom": null,
      "display": null,
      "flex": null,
      "flex_flow": null,
      "grid_area": null,
      "grid_auto_columns": null,
      "grid_auto_flow": null,
      "grid_auto_rows": null,
      "grid_column": null,
      "grid_gap": null,
      "grid_row": null,
      "grid_template_areas": null,
      "grid_template_columns": null,
      "grid_template_rows": null,
      "height": null,
      "justify_content": null,
      "justify_items": null,
      "left": null,
      "margin": null,
      "max_height": null,
      "max_width": null,
      "min_height": null,
      "min_width": null,
      "object_fit": null,
      "object_position": null,
      "order": null,
      "overflow": null,
      "overflow_x": null,
      "overflow_y": null,
      "padding": null,
      "right": null,
      "top": null,
      "visibility": null,
      "width": null
     }
    },
    "1f399b85c3964b4a8a17c74f9d84c867": {
     "model_module": "@jupyter-widgets/controls",
     "model_name": "ProgressStyleModel",
     "state": {
      "_model_module": "@jupyter-widgets/controls",
      "_model_module_version": "1.5.0",
      "_model_name": "ProgressStyleModel",
      "_view_count": null,
      "_view_module": "@jupyter-widgets/base",
      "_view_module_version": "1.2.0",
      "_view_name": "StyleView",
      "bar_color": null,
      "description_width": ""
     }
    },
    "3b252b33a41f47e6b88c2e0683191f4b": {
     "model_module": "@jupyter-widgets/controls",
     "model_name": "ProgressStyleModel",
     "state": {
      "_model_module": "@jupyter-widgets/controls",
      "_model_module_version": "1.5.0",
      "_model_name": "ProgressStyleModel",
      "_view_count": null,
      "_view_module": "@jupyter-widgets/base",
      "_view_module_version": "1.2.0",
      "_view_name": "StyleView",
      "bar_color": null,
      "description_width": ""
     }
    },
    "434b9163864c4835a67992f77823e629": {
     "model_module": "@jupyter-widgets/controls",
     "model_name": "ProgressStyleModel",
     "state": {
      "_model_module": "@jupyter-widgets/controls",
      "_model_module_version": "1.5.0",
      "_model_name": "ProgressStyleModel",
      "_view_count": null,
      "_view_module": "@jupyter-widgets/base",
      "_view_module_version": "1.2.0",
      "_view_name": "StyleView",
      "bar_color": null,
      "description_width": ""
     }
    },
    "47427e358d814c1bb00e995b3111ba90": {
     "model_module": "@jupyter-widgets/controls",
     "model_name": "IntProgressModel",
     "state": {
      "_dom_classes": [],
      "_model_module": "@jupyter-widgets/controls",
      "_model_module_version": "1.5.0",
      "_model_name": "IntProgressModel",
      "_view_count": null,
      "_view_module": "@jupyter-widgets/controls",
      "_view_module_version": "1.5.0",
      "_view_name": "ProgressView",
      "bar_style": "",
      "description": "Processing: ",
      "description_tooltip": null,
      "layout": "IPY_MODEL_98a3bbd0a22c4b9798766e2b683eb5f4",
      "max": 5,
      "min": 0,
      "orientation": "horizontal",
      "style": "IPY_MODEL_01277bf20e4c4008a8c5df9bb231522a",
      "value": 5
     }
    },
    "4e533210662540f3aaf43c977e10b122": {
     "model_module": "@jupyter-widgets/controls",
     "model_name": "ProgressStyleModel",
     "state": {
      "_model_module": "@jupyter-widgets/controls",
      "_model_module_version": "1.5.0",
      "_model_name": "ProgressStyleModel",
      "_view_count": null,
      "_view_module": "@jupyter-widgets/base",
      "_view_module_version": "1.2.0",
      "_view_name": "StyleView",
      "bar_color": null,
      "description_width": ""
     }
    },
    "4fc392167b584085baa8837b051de3ff": {
     "model_module": "@jupyter-widgets/base",
     "model_name": "LayoutModel",
     "state": {
      "_model_module": "@jupyter-widgets/base",
      "_model_module_version": "1.2.0",
      "_model_name": "LayoutModel",
      "_view_count": null,
      "_view_module": "@jupyter-widgets/base",
      "_view_module_version": "1.2.0",
      "_view_name": "LayoutView",
      "align_content": null,
      "align_items": null,
      "align_self": null,
      "border": null,
      "bottom": null,
      "display": null,
      "flex": null,
      "flex_flow": null,
      "grid_area": null,
      "grid_auto_columns": null,
      "grid_auto_flow": null,
      "grid_auto_rows": null,
      "grid_column": null,
      "grid_gap": null,
      "grid_row": null,
      "grid_template_areas": null,
      "grid_template_columns": null,
      "grid_template_rows": null,
      "height": null,
      "justify_content": null,
      "justify_items": null,
      "left": null,
      "margin": null,
      "max_height": null,
      "max_width": null,
      "min_height": null,
      "min_width": null,
      "object_fit": null,
      "object_position": null,
      "order": null,
      "overflow": null,
      "overflow_x": null,
      "overflow_y": null,
      "padding": null,
      "right": null,
      "top": null,
      "visibility": null,
      "width": null
     }
    },
    "4ff51c6353114d6bb1f5b65bd89af886": {
     "model_module": "@jupyter-widgets/base",
     "model_name": "LayoutModel",
     "state": {
      "_model_module": "@jupyter-widgets/base",
      "_model_module_version": "1.2.0",
      "_model_name": "LayoutModel",
      "_view_count": null,
      "_view_module": "@jupyter-widgets/base",
      "_view_module_version": "1.2.0",
      "_view_name": "LayoutView",
      "align_content": null,
      "align_items": null,
      "align_self": null,
      "border": null,
      "bottom": null,
      "display": null,
      "flex": null,
      "flex_flow": null,
      "grid_area": null,
      "grid_auto_columns": null,
      "grid_auto_flow": null,
      "grid_auto_rows": null,
      "grid_column": null,
      "grid_gap": null,
      "grid_row": null,
      "grid_template_areas": null,
      "grid_template_columns": null,
      "grid_template_rows": null,
      "height": null,
      "justify_content": null,
      "justify_items": null,
      "left": null,
      "margin": null,
      "max_height": null,
      "max_width": null,
      "min_height": null,
      "min_width": null,
      "object_fit": null,
      "object_position": null,
      "order": null,
      "overflow": null,
      "overflow_x": null,
      "overflow_y": null,
      "padding": null,
      "right": null,
      "top": null,
      "visibility": null,
      "width": null
     }
    },
    "5f16944efc86408ba11e4b4f78f3f2ad": {
     "model_module": "@jupyter-widgets/controls",
     "model_name": "IntProgressModel",
     "state": {
      "_dom_classes": [],
      "_model_module": "@jupyter-widgets/controls",
      "_model_module_version": "1.5.0",
      "_model_name": "IntProgressModel",
      "_view_count": null,
      "_view_module": "@jupyter-widgets/controls",
      "_view_module_version": "1.5.0",
      "_view_name": "ProgressView",
      "bar_style": "",
      "description": "Processing: ",
      "description_tooltip": null,
      "layout": "IPY_MODEL_fbbc1d2ff9bc4f94964a7d3b7b329c64",
      "max": 6,
      "min": 0,
      "orientation": "horizontal",
      "style": "IPY_MODEL_685e5bed0f9f4f81bee34101638f1550",
      "value": 6
     }
    },
    "639e4942c00945d5a2822caea6ccd55e": {
     "model_module": "@jupyter-widgets/base",
     "model_name": "LayoutModel",
     "state": {
      "_model_module": "@jupyter-widgets/base",
      "_model_module_version": "1.2.0",
      "_model_name": "LayoutModel",
      "_view_count": null,
      "_view_module": "@jupyter-widgets/base",
      "_view_module_version": "1.2.0",
      "_view_name": "LayoutView",
      "align_content": null,
      "align_items": null,
      "align_self": null,
      "border": null,
      "bottom": null,
      "display": null,
      "flex": null,
      "flex_flow": null,
      "grid_area": null,
      "grid_auto_columns": null,
      "grid_auto_flow": null,
      "grid_auto_rows": null,
      "grid_column": null,
      "grid_gap": null,
      "grid_row": null,
      "grid_template_areas": null,
      "grid_template_columns": null,
      "grid_template_rows": null,
      "height": null,
      "justify_content": null,
      "justify_items": null,
      "left": null,
      "margin": null,
      "max_height": null,
      "max_width": null,
      "min_height": null,
      "min_width": null,
      "object_fit": null,
      "object_position": null,
      "order": null,
      "overflow": null,
      "overflow_x": null,
      "overflow_y": null,
      "padding": null,
      "right": null,
      "top": null,
      "visibility": null,
      "width": null
     }
    },
    "685e5bed0f9f4f81bee34101638f1550": {
     "model_module": "@jupyter-widgets/controls",
     "model_name": "ProgressStyleModel",
     "state": {
      "_model_module": "@jupyter-widgets/controls",
      "_model_module_version": "1.5.0",
      "_model_name": "ProgressStyleModel",
      "_view_count": null,
      "_view_module": "@jupyter-widgets/base",
      "_view_module_version": "1.2.0",
      "_view_name": "StyleView",
      "bar_color": null,
      "description_width": ""
     }
    },
    "6b84a6dce3a9460f9ebf4471298fe850": {
     "model_module": "@jupyter-widgets/controls",
     "model_name": "TextModel",
     "state": {
      "_dom_classes": [],
      "_model_module": "@jupyter-widgets/controls",
      "_model_module_version": "1.5.0",
      "_model_name": "TextModel",
      "_view_count": null,
      "_view_module": "@jupyter-widgets/controls",
      "_view_module_version": "1.5.0",
      "_view_name": "TextView",
      "continuous_update": true,
      "description": "",
      "description_tooltip": null,
      "disabled": false,
      "layout": "IPY_MODEL_febc129f5a1141eb8a2e14e4c837e01d",
      "placeholder": "​",
      "style": "IPY_MODEL_d28a9dd5a8874bde95619ebebcd3e56f",
      "value": "Following data types have been inferred automatically, if they are correct press enter to continue or type 'quit' otherwise."
     }
    },
    "70ba8cb05dfe434980f7914034464864": {
     "model_module": "@jupyter-widgets/controls",
     "model_name": "IntProgressModel",
     "state": {
      "_dom_classes": [],
      "_model_module": "@jupyter-widgets/controls",
      "_model_module_version": "1.5.0",
      "_model_name": "IntProgressModel",
      "_view_count": null,
      "_view_module": "@jupyter-widgets/controls",
      "_view_module_version": "1.5.0",
      "_view_name": "ProgressView",
      "bar_style": "",
      "description": "Processing: ",
      "description_tooltip": null,
      "layout": "IPY_MODEL_97286b492960495e8bff229f753794c0",
      "max": 7,
      "min": 0,
      "orientation": "horizontal",
      "style": "IPY_MODEL_1f399b85c3964b4a8a17c74f9d84c867",
      "value": 7
     }
    },
    "8988e25beeee4f678cc1a9657f3e1d25": {
     "model_module": "@jupyter-widgets/base",
     "model_name": "LayoutModel",
     "state": {
      "_model_module": "@jupyter-widgets/base",
      "_model_module_version": "1.2.0",
      "_model_name": "LayoutModel",
      "_view_count": null,
      "_view_module": "@jupyter-widgets/base",
      "_view_module_version": "1.2.0",
      "_view_name": "LayoutView",
      "align_content": null,
      "align_items": null,
      "align_self": null,
      "border": null,
      "bottom": null,
      "display": null,
      "flex": null,
      "flex_flow": null,
      "grid_area": null,
      "grid_auto_columns": null,
      "grid_auto_flow": null,
      "grid_auto_rows": null,
      "grid_column": null,
      "grid_gap": null,
      "grid_row": null,
      "grid_template_areas": null,
      "grid_template_columns": null,
      "grid_template_rows": null,
      "height": null,
      "justify_content": null,
      "justify_items": null,
      "left": null,
      "margin": null,
      "max_height": null,
      "max_width": null,
      "min_height": null,
      "min_width": null,
      "object_fit": null,
      "object_position": null,
      "order": null,
      "overflow": null,
      "overflow_x": null,
      "overflow_y": null,
      "padding": null,
      "right": null,
      "top": null,
      "visibility": null,
      "width": null
     }
    },
    "8aa7e1a6f7bb4287ad6f7bbfd83dba86": {
     "model_module": "@jupyter-widgets/controls",
     "model_name": "IntProgressModel",
     "state": {
      "_dom_classes": [],
      "_model_module": "@jupyter-widgets/controls",
      "_model_module_version": "1.5.0",
      "_model_name": "IntProgressModel",
      "_view_count": null,
      "_view_module": "@jupyter-widgets/controls",
      "_view_module_version": "1.5.0",
      "_view_name": "ProgressView",
      "bar_style": "",
      "description": "Processing: ",
      "description_tooltip": null,
      "layout": "IPY_MODEL_99e20e3257574cf5ba242c11a28a6971",
      "max": 5,
      "min": 0,
      "orientation": "horizontal",
      "style": "IPY_MODEL_fb338802ec0c4256853646bb30d742ec",
      "value": 5
     }
    },
    "8aea772f259642bdab9cfce74f5fbb20": {
     "model_module": "@jupyter-widgets/controls",
     "model_name": "ProgressStyleModel",
     "state": {
      "_model_module": "@jupyter-widgets/controls",
      "_model_module_version": "1.5.0",
      "_model_name": "ProgressStyleModel",
      "_view_count": null,
      "_view_module": "@jupyter-widgets/base",
      "_view_module_version": "1.2.0",
      "_view_name": "StyleView",
      "bar_color": null,
      "description_width": ""
     }
    },
    "8edc1c80c9e948f7b3899dcad7fdc2b0": {
     "model_module": "@jupyter-widgets/controls",
     "model_name": "ProgressStyleModel",
     "state": {
      "_model_module": "@jupyter-widgets/controls",
      "_model_module_version": "1.5.0",
      "_model_name": "ProgressStyleModel",
      "_view_count": null,
      "_view_module": "@jupyter-widgets/base",
      "_view_module_version": "1.2.0",
      "_view_name": "StyleView",
      "bar_color": null,
      "description_width": ""
     }
    },
    "90ddf41eaaa24268b308d84e8a732a47": {
     "model_module": "@jupyter-widgets/controls",
     "model_name": "IntProgressModel",
     "state": {
      "_dom_classes": [],
      "_model_module": "@jupyter-widgets/controls",
      "_model_module_version": "1.5.0",
      "_model_name": "IntProgressModel",
      "_view_count": null,
      "_view_module": "@jupyter-widgets/controls",
      "_view_module_version": "1.5.0",
      "_view_name": "ProgressView",
      "bar_style": "",
      "description": "Processing: ",
      "description_tooltip": null,
      "layout": "IPY_MODEL_bc54634e862043339a3881513839a5dc",
      "max": 5,
      "min": 0,
      "orientation": "horizontal",
      "style": "IPY_MODEL_8edc1c80c9e948f7b3899dcad7fdc2b0",
      "value": 5
     }
    },
    "911c77a07f424896acedcf764af03547": {
     "model_module": "@jupyter-widgets/controls",
     "model_name": "IntProgressModel",
     "state": {
      "_dom_classes": [],
      "_model_module": "@jupyter-widgets/controls",
      "_model_module_version": "1.5.0",
      "_model_name": "IntProgressModel",
      "_view_count": null,
      "_view_module": "@jupyter-widgets/controls",
      "_view_module_version": "1.5.0",
      "_view_name": "ProgressView",
      "bar_style": "",
      "description": "Processing: ",
      "description_tooltip": null,
      "layout": "IPY_MODEL_be14e33910c94c71a8760da1ef769ca2",
      "max": 5,
      "min": 0,
      "orientation": "horizontal",
      "style": "IPY_MODEL_8aea772f259642bdab9cfce74f5fbb20",
      "value": 5
     }
    },
    "97286b492960495e8bff229f753794c0": {
     "model_module": "@jupyter-widgets/base",
     "model_name": "LayoutModel",
     "state": {
      "_model_module": "@jupyter-widgets/base",
      "_model_module_version": "1.2.0",
      "_model_name": "LayoutModel",
      "_view_count": null,
      "_view_module": "@jupyter-widgets/base",
      "_view_module_version": "1.2.0",
      "_view_name": "LayoutView",
      "align_content": null,
      "align_items": null,
      "align_self": null,
      "border": null,
      "bottom": null,
      "display": null,
      "flex": null,
      "flex_flow": null,
      "grid_area": null,
      "grid_auto_columns": null,
      "grid_auto_flow": null,
      "grid_auto_rows": null,
      "grid_column": null,
      "grid_gap": null,
      "grid_row": null,
      "grid_template_areas": null,
      "grid_template_columns": null,
      "grid_template_rows": null,
      "height": null,
      "justify_content": null,
      "justify_items": null,
      "left": null,
      "margin": null,
      "max_height": null,
      "max_width": null,
      "min_height": null,
      "min_width": null,
      "object_fit": null,
      "object_position": null,
      "order": null,
      "overflow": null,
      "overflow_x": null,
      "overflow_y": null,
      "padding": null,
      "right": null,
      "top": null,
      "visibility": null,
      "width": null
     }
    },
    "98a3bbd0a22c4b9798766e2b683eb5f4": {
     "model_module": "@jupyter-widgets/base",
     "model_name": "LayoutModel",
     "state": {
      "_model_module": "@jupyter-widgets/base",
      "_model_module_version": "1.2.0",
      "_model_name": "LayoutModel",
      "_view_count": null,
      "_view_module": "@jupyter-widgets/base",
      "_view_module_version": "1.2.0",
      "_view_name": "LayoutView",
      "align_content": null,
      "align_items": null,
      "align_self": null,
      "border": null,
      "bottom": null,
      "display": null,
      "flex": null,
      "flex_flow": null,
      "grid_area": null,
      "grid_auto_columns": null,
      "grid_auto_flow": null,
      "grid_auto_rows": null,
      "grid_column": null,
      "grid_gap": null,
      "grid_row": null,
      "grid_template_areas": null,
      "grid_template_columns": null,
      "grid_template_rows": null,
      "height": null,
      "justify_content": null,
      "justify_items": null,
      "left": null,
      "margin": null,
      "max_height": null,
      "max_width": null,
      "min_height": null,
      "min_width": null,
      "object_fit": null,
      "object_position": null,
      "order": null,
      "overflow": null,
      "overflow_x": null,
      "overflow_y": null,
      "padding": null,
      "right": null,
      "top": null,
      "visibility": null,
      "width": null
     }
    },
    "99e20e3257574cf5ba242c11a28a6971": {
     "model_module": "@jupyter-widgets/base",
     "model_name": "LayoutModel",
     "state": {
      "_model_module": "@jupyter-widgets/base",
      "_model_module_version": "1.2.0",
      "_model_name": "LayoutModel",
      "_view_count": null,
      "_view_module": "@jupyter-widgets/base",
      "_view_module_version": "1.2.0",
      "_view_name": "LayoutView",
      "align_content": null,
      "align_items": null,
      "align_self": null,
      "border": null,
      "bottom": null,
      "display": null,
      "flex": null,
      "flex_flow": null,
      "grid_area": null,
      "grid_auto_columns": null,
      "grid_auto_flow": null,
      "grid_auto_rows": null,
      "grid_column": null,
      "grid_gap": null,
      "grid_row": null,
      "grid_template_areas": null,
      "grid_template_columns": null,
      "grid_template_rows": null,
      "height": null,
      "justify_content": null,
      "justify_items": null,
      "left": null,
      "margin": null,
      "max_height": null,
      "max_width": null,
      "min_height": null,
      "min_width": null,
      "object_fit": null,
      "object_position": null,
      "order": null,
      "overflow": null,
      "overflow_x": null,
      "overflow_y": null,
      "padding": null,
      "right": null,
      "top": null,
      "visibility": null,
      "width": null
     }
    },
    "a402841fe62a4c39a6f40afd408134fe": {
     "model_module": "@jupyter-widgets/base",
     "model_name": "LayoutModel",
     "state": {
      "_model_module": "@jupyter-widgets/base",
      "_model_module_version": "1.2.0",
      "_model_name": "LayoutModel",
      "_view_count": null,
      "_view_module": "@jupyter-widgets/base",
      "_view_module_version": "1.2.0",
      "_view_name": "LayoutView",
      "align_content": null,
      "align_items": null,
      "align_self": null,
      "border": null,
      "bottom": null,
      "display": null,
      "flex": null,
      "flex_flow": null,
      "grid_area": null,
      "grid_auto_columns": null,
      "grid_auto_flow": null,
      "grid_auto_rows": null,
      "grid_column": null,
      "grid_gap": null,
      "grid_row": null,
      "grid_template_areas": null,
      "grid_template_columns": null,
      "grid_template_rows": null,
      "height": null,
      "justify_content": null,
      "justify_items": null,
      "left": null,
      "margin": null,
      "max_height": null,
      "max_width": null,
      "min_height": null,
      "min_width": null,
      "object_fit": null,
      "object_position": null,
      "order": null,
      "overflow": null,
      "overflow_x": null,
      "overflow_y": null,
      "padding": null,
      "right": null,
      "top": null,
      "visibility": null,
      "width": null
     }
    },
    "aa75a5cce1f643f9a0ababc61e12dc0e": {
     "model_module": "@jupyter-widgets/controls",
     "model_name": "ProgressStyleModel",
     "state": {
      "_model_module": "@jupyter-widgets/controls",
      "_model_module_version": "1.5.0",
      "_model_name": "ProgressStyleModel",
      "_view_count": null,
      "_view_module": "@jupyter-widgets/base",
      "_view_module_version": "1.2.0",
      "_view_name": "StyleView",
      "bar_color": null,
      "description_width": ""
     }
    },
    "ab851558198e45b3a1cff931ca874414": {
     "model_module": "@jupyter-widgets/controls",
     "model_name": "IntProgressModel",
     "state": {
      "_dom_classes": [],
      "_model_module": "@jupyter-widgets/controls",
      "_model_module_version": "1.5.0",
      "_model_name": "IntProgressModel",
      "_view_count": null,
      "_view_module": "@jupyter-widgets/controls",
      "_view_module_version": "1.5.0",
      "_view_name": "ProgressView",
      "bar_style": "",
      "description": "Processing: ",
      "description_tooltip": null,
      "layout": "IPY_MODEL_a402841fe62a4c39a6f40afd408134fe",
      "max": 4,
      "min": 0,
      "orientation": "horizontal",
      "style": "IPY_MODEL_f769d3fb2f564848b6df099b86221000",
      "value": 4
     }
    },
    "b04e0c4f2caf49429c7257e85a950bff": {
     "model_module": "@jupyter-widgets/controls",
     "model_name": "IntProgressModel",
     "state": {
      "_dom_classes": [],
      "_model_module": "@jupyter-widgets/controls",
      "_model_module_version": "1.5.0",
      "_model_name": "IntProgressModel",
      "_view_count": null,
      "_view_module": "@jupyter-widgets/controls",
      "_view_module_version": "1.5.0",
      "_view_name": "ProgressView",
      "bar_style": "",
      "description": "Processing: ",
      "description_tooltip": null,
      "layout": "IPY_MODEL_8988e25beeee4f678cc1a9657f3e1d25",
      "max": 5,
      "min": 0,
      "orientation": "horizontal",
      "style": "IPY_MODEL_3b252b33a41f47e6b88c2e0683191f4b",
      "value": 5
     }
    },
    "bc54634e862043339a3881513839a5dc": {
     "model_module": "@jupyter-widgets/base",
     "model_name": "LayoutModel",
     "state": {
      "_model_module": "@jupyter-widgets/base",
      "_model_module_version": "1.2.0",
      "_model_name": "LayoutModel",
      "_view_count": null,
      "_view_module": "@jupyter-widgets/base",
      "_view_module_version": "1.2.0",
      "_view_name": "LayoutView",
      "align_content": null,
      "align_items": null,
      "align_self": null,
      "border": null,
      "bottom": null,
      "display": null,
      "flex": null,
      "flex_flow": null,
      "grid_area": null,
      "grid_auto_columns": null,
      "grid_auto_flow": null,
      "grid_auto_rows": null,
      "grid_column": null,
      "grid_gap": null,
      "grid_row": null,
      "grid_template_areas": null,
      "grid_template_columns": null,
      "grid_template_rows": null,
      "height": null,
      "justify_content": null,
      "justify_items": null,
      "left": null,
      "margin": null,
      "max_height": null,
      "max_width": null,
      "min_height": null,
      "min_width": null,
      "object_fit": null,
      "object_position": null,
      "order": null,
      "overflow": null,
      "overflow_x": null,
      "overflow_y": null,
      "padding": null,
      "right": null,
      "top": null,
      "visibility": null,
      "width": null
     }
    },
    "bd38afc2c7784d85943e17d39720d3d8": {
     "model_module": "@jupyter-widgets/controls",
     "model_name": "IntProgressModel",
     "state": {
      "_dom_classes": [],
      "_model_module": "@jupyter-widgets/controls",
      "_model_module_version": "1.5.0",
      "_model_name": "IntProgressModel",
      "_view_count": null,
      "_view_module": "@jupyter-widgets/controls",
      "_view_module_version": "1.5.0",
      "_view_name": "ProgressView",
      "bar_style": "",
      "description": "Processing: ",
      "description_tooltip": null,
      "layout": "IPY_MODEL_639e4942c00945d5a2822caea6ccd55e",
      "max": 79,
      "min": 0,
      "orientation": "horizontal",
      "style": "IPY_MODEL_4e533210662540f3aaf43c977e10b122",
      "value": 79
     }
    },
    "be14e33910c94c71a8760da1ef769ca2": {
     "model_module": "@jupyter-widgets/base",
     "model_name": "LayoutModel",
     "state": {
      "_model_module": "@jupyter-widgets/base",
      "_model_module_version": "1.2.0",
      "_model_name": "LayoutModel",
      "_view_count": null,
      "_view_module": "@jupyter-widgets/base",
      "_view_module_version": "1.2.0",
      "_view_name": "LayoutView",
      "align_content": null,
      "align_items": null,
      "align_self": null,
      "border": null,
      "bottom": null,
      "display": null,
      "flex": null,
      "flex_flow": null,
      "grid_area": null,
      "grid_auto_columns": null,
      "grid_auto_flow": null,
      "grid_auto_rows": null,
      "grid_column": null,
      "grid_gap": null,
      "grid_row": null,
      "grid_template_areas": null,
      "grid_template_columns": null,
      "grid_template_rows": null,
      "height": null,
      "justify_content": null,
      "justify_items": null,
      "left": null,
      "margin": null,
      "max_height": null,
      "max_width": null,
      "min_height": null,
      "min_width": null,
      "object_fit": null,
      "object_position": null,
      "order": null,
      "overflow": null,
      "overflow_x": null,
      "overflow_y": null,
      "padding": null,
      "right": null,
      "top": null,
      "visibility": null,
      "width": null
     }
    },
    "d28a9dd5a8874bde95619ebebcd3e56f": {
     "model_module": "@jupyter-widgets/controls",
     "model_name": "DescriptionStyleModel",
     "state": {
      "_model_module": "@jupyter-widgets/controls",
      "_model_module_version": "1.5.0",
      "_model_name": "DescriptionStyleModel",
      "_view_count": null,
      "_view_module": "@jupyter-widgets/base",
      "_view_module_version": "1.2.0",
      "_view_name": "StyleView",
      "description_width": ""
     }
    },
    "ddb634affa4f47908ce65a3dce1b8307": {
     "model_module": "@jupyter-widgets/controls",
     "model_name": "IntProgressModel",
     "state": {
      "_dom_classes": [],
      "_model_module": "@jupyter-widgets/controls",
      "_model_module_version": "1.5.0",
      "_model_name": "IntProgressModel",
      "_view_count": null,
      "_view_module": "@jupyter-widgets/controls",
      "_view_module_version": "1.5.0",
      "_view_name": "ProgressView",
      "bar_style": "",
      "description": "Processing: ",
      "description_tooltip": null,
      "layout": "IPY_MODEL_4ff51c6353114d6bb1f5b65bd89af886",
      "max": 3,
      "min": 0,
      "orientation": "horizontal",
      "style": "IPY_MODEL_0b18da8a62384ef88d12aec6f4265617",
      "value": 3
     }
    },
    "edf2bb00221c4be18774b622e9efb3f3": {
     "model_module": "@jupyter-widgets/controls",
     "model_name": "IntProgressModel",
     "state": {
      "_dom_classes": [],
      "_model_module": "@jupyter-widgets/controls",
      "_model_module_version": "1.5.0",
      "_model_name": "IntProgressModel",
      "_view_count": null,
      "_view_module": "@jupyter-widgets/controls",
      "_view_module_version": "1.5.0",
      "_view_name": "ProgressView",
      "bar_style": "",
      "description": "Processing: ",
      "description_tooltip": null,
      "layout": "IPY_MODEL_4fc392167b584085baa8837b051de3ff",
      "max": 4,
      "min": 0,
      "orientation": "horizontal",
      "style": "IPY_MODEL_434b9163864c4835a67992f77823e629",
      "value": 4
     }
    },
    "efc8a84e843e42798635d8cec822f7d2": {
     "model_module": "@jupyter-widgets/controls",
     "model_name": "IntProgressModel",
     "state": {
      "_dom_classes": [],
      "_model_module": "@jupyter-widgets/controls",
      "_model_module_version": "1.5.0",
      "_model_name": "IntProgressModel",
      "_view_count": null,
      "_view_module": "@jupyter-widgets/controls",
      "_view_module_version": "1.5.0",
      "_view_name": "ProgressView",
      "bar_style": "",
      "description": "Processing: ",
      "description_tooltip": null,
      "layout": "IPY_MODEL_13471c7c328b4caa852f688146aa52dd",
      "max": 7,
      "min": 0,
      "orientation": "horizontal",
      "style": "IPY_MODEL_aa75a5cce1f643f9a0ababc61e12dc0e",
      "value": 7
     }
    },
    "f769d3fb2f564848b6df099b86221000": {
     "model_module": "@jupyter-widgets/controls",
     "model_name": "ProgressStyleModel",
     "state": {
      "_model_module": "@jupyter-widgets/controls",
      "_model_module_version": "1.5.0",
      "_model_name": "ProgressStyleModel",
      "_view_count": null,
      "_view_module": "@jupyter-widgets/base",
      "_view_module_version": "1.2.0",
      "_view_name": "StyleView",
      "bar_color": null,
      "description_width": ""
     }
    },
    "fb338802ec0c4256853646bb30d742ec": {
     "model_module": "@jupyter-widgets/controls",
     "model_name": "ProgressStyleModel",
     "state": {
      "_model_module": "@jupyter-widgets/controls",
      "_model_module_version": "1.5.0",
      "_model_name": "ProgressStyleModel",
      "_view_count": null,
      "_view_module": "@jupyter-widgets/base",
      "_view_module_version": "1.2.0",
      "_view_name": "StyleView",
      "bar_color": null,
      "description_width": ""
     }
    },
    "fbbc1d2ff9bc4f94964a7d3b7b329c64": {
     "model_module": "@jupyter-widgets/base",
     "model_name": "LayoutModel",
     "state": {
      "_model_module": "@jupyter-widgets/base",
      "_model_module_version": "1.2.0",
      "_model_name": "LayoutModel",
      "_view_count": null,
      "_view_module": "@jupyter-widgets/base",
      "_view_module_version": "1.2.0",
      "_view_name": "LayoutView",
      "align_content": null,
      "align_items": null,
      "align_self": null,
      "border": null,
      "bottom": null,
      "display": null,
      "flex": null,
      "flex_flow": null,
      "grid_area": null,
      "grid_auto_columns": null,
      "grid_auto_flow": null,
      "grid_auto_rows": null,
      "grid_column": null,
      "grid_gap": null,
      "grid_row": null,
      "grid_template_areas": null,
      "grid_template_columns": null,
      "grid_template_rows": null,
      "height": null,
      "justify_content": null,
      "justify_items": null,
      "left": null,
      "margin": null,
      "max_height": null,
      "max_width": null,
      "min_height": null,
      "min_width": null,
      "object_fit": null,
      "object_position": null,
      "order": null,
      "overflow": null,
      "overflow_x": null,
      "overflow_y": null,
      "padding": null,
      "right": null,
      "top": null,
      "visibility": null,
      "width": null
     }
    },
    "febc129f5a1141eb8a2e14e4c837e01d": {
     "model_module": "@jupyter-widgets/base",
     "model_name": "LayoutModel",
     "state": {
      "_model_module": "@jupyter-widgets/base",
      "_model_module_version": "1.2.0",
      "_model_name": "LayoutModel",
      "_view_count": null,
      "_view_module": "@jupyter-widgets/base",
      "_view_module_version": "1.2.0",
      "_view_name": "LayoutView",
      "align_content": null,
      "align_items": null,
      "align_self": null,
      "border": null,
      "bottom": null,
      "display": null,
      "flex": null,
      "flex_flow": null,
      "grid_area": null,
      "grid_auto_columns": null,
      "grid_auto_flow": null,
      "grid_auto_rows": null,
      "grid_column": null,
      "grid_gap": null,
      "grid_row": null,
      "grid_template_areas": null,
      "grid_template_columns": null,
      "grid_template_rows": null,
      "height": null,
      "justify_content": null,
      "justify_items": null,
      "left": null,
      "margin": null,
      "max_height": null,
      "max_width": null,
      "min_height": null,
      "min_width": null,
      "object_fit": null,
      "object_position": null,
      "order": null,
      "overflow": null,
      "overflow_x": null,
      "overflow_y": null,
      "padding": null,
      "right": null,
      "top": null,
      "visibility": null,
      "width": "100%"
     }
    }
   }
  }
 },
 "nbformat": 4,
 "nbformat_minor": 1
}
