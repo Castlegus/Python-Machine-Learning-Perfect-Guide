{
 "cells": [
  {
   "cell_type": "code",
   "execution_count": 7,
   "metadata": {},
   "outputs": [
    {
     "name": "stdout",
     "output_type": "stream",
     "text": [
      "[[-0.212 -0.285 -0.574 -0.44 ]\n",
      " [-0.33   1.184  1.615  0.367]\n",
      " [-0.014  0.63   1.71  -1.327]\n",
      " [ 0.402 -0.191  1.404 -1.969]]\n"
     ]
    }
   ],
   "source": [
    "import numpy as np\n",
    "from numpy.linalg import svd\n",
    "\n",
    "np.random.seed(121)\n",
    "a = np.random.randn(4,4)\n",
    "print(np.round(a,3))"
   ]
  },
  {
   "cell_type": "code",
   "execution_count": 8,
   "metadata": {},
   "outputs": [
    {
     "name": "stdout",
     "output_type": "stream",
     "text": [
      "(4, 4) (4,) (4, 4)\n",
      "U matrix:\n",
      " [[-0.079 -0.318  0.867  0.376]\n",
      " [ 0.383  0.787  0.12   0.469]\n",
      " [ 0.656  0.022  0.357 -0.664]\n",
      " [ 0.645 -0.529 -0.328  0.444]]\n",
      "Sigma Value:\n",
      " [3.423 2.023 0.463 0.079]\n",
      "Vt matrix:\n",
      " [[ 0.041  0.224  0.786 -0.574]\n",
      " [-0.2    0.562  0.37   0.712]\n",
      " [-0.778  0.395 -0.333 -0.357]\n",
      " [-0.593 -0.692  0.366  0.189]]\n"
     ]
    }
   ],
   "source": [
    "U,Sigma,Vt = svd(a)\n",
    "\n",
    "print(U.shape, Sigma.shape, Vt.shape)\n",
    "print('U matrix:\\n', np.round(U,3))\n",
    "print('Sigma Value:\\n', np.round(Sigma,3))\n",
    "print('Vt matrix:\\n', np.round(Vt,3))"
   ]
  },
  {
   "cell_type": "code",
   "execution_count": 9,
   "metadata": {},
   "outputs": [
    {
     "name": "stdout",
     "output_type": "stream",
     "text": [
      "[[-0.212 -0.285 -0.574 -0.44 ]\n",
      " [-0.33   1.184  1.615  0.367]\n",
      " [-0.014  0.63   1.71  -1.327]\n",
      " [ 0.402 -0.191  1.404 -1.969]]\n"
     ]
    }
   ],
   "source": [
    "# 원본행렬로 복원\n",
    "Sigma_mat = np.diag(Sigma)\n",
    "a_ = np.dot(np.dot(U, Sigma_mat),Vt)\n",
    "print(np.round(a_,3))"
   ]
  },
  {
   "cell_type": "code",
   "execution_count": 10,
   "metadata": {},
   "outputs": [
    {
     "name": "stdout",
     "output_type": "stream",
     "text": [
      "[[-0.212 -0.285 -0.574 -0.44 ]\n",
      " [-0.33   1.184  1.615  0.367]\n",
      " [-0.542  0.899  1.041 -0.073]\n",
      " [-0.212 -0.285 -0.574 -0.44 ]]\n"
     ]
    }
   ],
   "source": [
    "# 로우간 의존성이 있는 경우\n",
    "a[2]=a[0]+a[1]\n",
    "a[3]=a[0]\n",
    "print(np.round(a,3))"
   ]
  },
  {
   "cell_type": "code",
   "execution_count": 12,
   "metadata": {},
   "outputs": [
    {
     "name": "stdout",
     "output_type": "stream",
     "text": [
      "(4, 4) (4,) (4, 4)\n",
      "Sigma Value:\n",
      " [2.663 0.807 0.    0.   ]\n"
     ]
    }
   ],
   "source": [
    "U,Sigma,Vt = svd(a)\n",
    "print(U.shape, Sigma.shape, Vt.shape)\n",
    "print('Sigma Value:\\n',np.round(Sigma,3))"
   ]
  },
  {
   "cell_type": "code",
   "execution_count": 13,
   "metadata": {},
   "outputs": [],
   "source": [
    "# Sigma 값 중 2개가 0으로 변했다. 즉, 선형 독립인 로우 벡터의 개수가 2개라는 의미"
   ]
  },
  {
   "cell_type": "code",
   "execution_count": 15,
   "metadata": {},
   "outputs": [
    {
     "name": "stdout",
     "output_type": "stream",
     "text": [
      "(4, 2) (2, 2) (2, 4)\n",
      "[[-0.212 -0.285 -0.574 -0.44 ]\n",
      " [-0.33   1.184  1.615  0.367]\n",
      " [-0.542  0.899  1.041 -0.073]\n",
      " [-0.212 -0.285 -0.574 -0.44 ]]\n"
     ]
    }
   ],
   "source": [
    "# 원본 행렬로 복원\n",
    "\n",
    "U_ = U[:,:2]\n",
    "Sigma_ = np.diag(Sigma[:2])\n",
    "Vt_ = Vt[:2]\n",
    "\n",
    "print(U_.shape, Sigma_.shape, Vt_.shape)\n",
    "\n",
    "a_ = np.dot(U_,np.dot(Sigma_,Vt_))\n",
    "print(np.round(a,3))"
   ]
  },
  {
   "cell_type": "markdown",
   "metadata": {},
   "source": [
    "### Truncated SVD"
   ]
  },
  {
   "cell_type": "code",
   "execution_count": 23,
   "metadata": {},
   "outputs": [
    {
     "name": "stdout",
     "output_type": "stream",
     "text": [
      "원본행렬:\n",
      " [[0.11133083 0.21076757 0.23296249 0.15194456 0.83017814 0.40791941]\n",
      " [0.5557906  0.74552394 0.24849976 0.9686594  0.95268418 0.48984885]\n",
      " [0.01829731 0.85760612 0.40493829 0.62247394 0.29537149 0.92958852]\n",
      " [0.4056155  0.56730065 0.24575605 0.22573721 0.03827786 0.58098021]\n",
      " [0.82925331 0.77326256 0.94693849 0.73632338 0.67328275 0.74517176]\n",
      " [0.51161442 0.46920965 0.6439515  0.82081228 0.14548493 0.01806415]]\n",
      "\n",
      "분해 행렬 차원: (6, 6) (6,) (6, 6)\n",
      "\n",
      "Sigma값 행렬: [3.2535007  0.88116505 0.83865238 0.55463089 0.35834824 0.0349925 ]\n"
     ]
    }
   ],
   "source": [
    "import numpy as np\n",
    "from scipy.sparse.linalg import svds\n",
    "from scipy.linalg import svd\n",
    "\n",
    "np.random.seed(121)\n",
    "matrix = np.random.random((6,6))\n",
    "print('원본행렬:\\n',matrix)\n",
    "\n",
    "U,Sigma,Vt = svd(matrix, full_matrices=False)\n",
    "print('\\n분해 행렬 차원:',U.shape,Sigma.shape,Vt.shape)\n",
    "print('\\nSigma값 행렬:',Sigma)"
   ]
  },
  {
   "cell_type": "code",
   "execution_count": 32,
   "metadata": {},
   "outputs": [
    {
     "name": "stdout",
     "output_type": "stream",
     "text": [
      "\n",
      "Truncated SVD 분해 행렬 차원: (6, 4) (4,) (4, 6)\n",
      "\n",
      "Truncated SVD Sigma값 행렬: [0.55463089 0.83865238 0.88116505 3.2535007 ]\n",
      "\n",
      "Truncated SVD로 분해 후 복원 행렬:\n",
      " [[0.19222941 0.21792946 0.15951023 0.14084013 0.81641405 0.42533093]\n",
      " [0.44874275 0.72204422 0.34594106 0.99148577 0.96866325 0.4754868 ]\n",
      " [0.12656662 0.88860729 0.30625735 0.59517439 0.28036734 0.93961948]\n",
      " [0.23989012 0.51026588 0.39697353 0.27308905 0.05971563 0.57156395]\n",
      " [0.83806144 0.78847467 0.93868685 0.72673231 0.6740867  0.73812389]\n",
      " [0.59726589 0.47953891 0.56613544 0.80746028 0.13135039 0.03479656]]\n"
     ]
    }
   ],
   "source": [
    "# Truncated SVD로 Sigma 행렬의 특이값을 4개로 하여 Truncated SVD 수행\n",
    "num_components=4\n",
    "U_tr,Sigma_tr,Vt_tr = svds(matrix, k=num_components)\n",
    "print('\\nTruncated SVD 분해 행렬 차원:', U_tr.shape,Sigma_tr.shape,Vt_tr.shape)\n",
    "print('\\nTruncated SVD Sigma값 행렬:',Sigma_tr)\n",
    "matrix_tr = np.dot(np.dot(U_tr,np.diag(Sigma_tr)),Vt_tr)\n",
    "\n",
    "print('\\nTruncated SVD로 분해 후 복원 행렬:\\n', matrix_tr)"
   ]
  },
  {
   "cell_type": "markdown",
   "metadata": {},
   "source": [
    "##### full_matrices=False의 의미에 대한 저자의 답변\n",
    "일반적으로 svd는 MxN 행렬을 MxM , MxN, NXN 으로 분해합니다. \n",
    "\n",
    "full_matrices=True이면 앞과 같이 분해하는 것이고 full_matrices=False이면 compact 한 형태로 svd를 수행합니다.\n",
    "\n",
    "svd 가 full_matrices = True이면 차원분해, full_matrices=False이면 차원 축소로 생각하셔도 됩니다."
   ]
  },
  {
   "cell_type": "markdown",
   "metadata": {},
   "source": [
    "## 사이킷런 TruncatedSVD 클래스를 이용한 변환\n",
    "사이킷런의 TruncatedSVD 클래스는 사이파이의 svds와 같이 Truncated SVD 연산을 수행해 원본 행렬을 분해한 U,Sigma,Vt 행렬을 반환하지는 않는다."
   ]
  },
  {
   "cell_type": "code",
   "execution_count": 33,
   "metadata": {},
   "outputs": [],
   "source": [
    "from sklearn.decomposition import TruncatedSVD, PCA\n",
    "from sklearn.datasets import load_iris\n",
    "import matplotlib.pyplot as plt\n",
    "%matplotlib inline\n",
    "\n",
    "iris=load_iris()\n",
    "iris_ftrs = iris.data\n",
    "\n",
    "# 2개의 주요 컴포넌트로 TruncatedSVD 변환\n",
    "tsvd = TruncatedSVD(n_components=2)\n",
    "tsvd.fit(iris_ftrs)\n",
    "iris_tsvd = tsvd.transform(iris_ftrs)"
   ]
  },
  {
   "cell_type": "code",
   "execution_count": 38,
   "metadata": {},
   "outputs": [
    {
     "data": {
      "text/plain": [
       "array([[ 5.91274714e+00,  2.30203322e+00],\n",
       "       [ 5.57248242e+00,  1.97182599e+00],\n",
       "       [ 5.44697714e+00,  2.09520636e+00],\n",
       "       [ 5.43645948e+00,  1.87038151e+00],\n",
       "       [ 5.87564494e+00,  2.32829018e+00],\n",
       "       [ 6.47759822e+00,  2.32464996e+00],\n",
       "       [ 5.51597520e+00,  2.07090423e+00],\n",
       "       [ 5.85092859e+00,  2.14807482e+00],\n",
       "       [ 5.15891972e+00,  1.77506408e+00],\n",
       "       [ 5.64500117e+00,  1.99000106e+00],\n",
       "       [ 6.26539771e+00,  2.42576813e+00],\n",
       "       [ 5.75200785e+00,  2.02037338e+00],\n",
       "       [ 5.48058085e+00,  1.97777558e+00],\n",
       "       [ 4.95112411e+00,  2.04828749e+00],\n",
       "       [ 6.52596417e+00,  2.91606081e+00],\n",
       "       [ 6.79037199e+00,  2.82500759e+00],\n",
       "       [ 6.27239468e+00,  2.60811578e+00],\n",
       "       [ 5.92953789e+00,  2.26766614e+00],\n",
       "       [ 6.64813130e+00,  2.38959506e+00],\n",
       "       [ 6.09486463e+00,  2.36082303e+00],\n",
       "       [ 6.25397363e+00,  2.12001187e+00],\n",
       "       [ 6.07364677e+00,  2.27178150e+00],\n",
       "       [ 5.36999813e+00,  2.49808604e+00],\n",
       "       [ 6.04100482e+00,  1.87698371e+00],\n",
       "       [ 5.90591050e+00,  1.80777402e+00],\n",
       "       [ 5.75019501e+00,  1.85851056e+00],\n",
       "       [ 5.93581099e+00,  2.00847420e+00],\n",
       "       [ 6.03915884e+00,  2.25958425e+00],\n",
       "       [ 5.94984934e+00,  2.27577626e+00],\n",
       "       [ 5.60087980e+00,  1.88260699e+00],\n",
       "       [ 5.63798200e+00,  1.85635003e+00],\n",
       "       [ 6.18495337e+00,  2.19301062e+00],\n",
       "       [ 6.25041979e+00,  2.62199803e+00],\n",
       "       [ 6.47925073e+00,  2.79842433e+00],\n",
       "       [ 5.66179193e+00,  1.95563398e+00],\n",
       "       [ 5.62100870e+00,  2.25132529e+00],\n",
       "       [ 6.16188952e+00,  2.48656963e+00],\n",
       "       [ 5.78374337e+00,  2.33423977e+00],\n",
       "       [ 5.14562746e+00,  1.90060499e+00],\n",
       "       [ 5.92603941e+00,  2.17649231e+00],\n",
       "       [ 5.80312619e+00,  2.31011510e+00],\n",
       "       [ 4.97146870e+00,  1.51193425e+00],\n",
       "       [ 5.22164469e+00,  2.00995389e+00],\n",
       "       [ 6.00740111e+00,  1.99441449e+00],\n",
       "       [ 6.31685893e+00,  2.04299013e+00],\n",
       "       [ 5.51416236e+00,  1.90904141e+00],\n",
       "       [ 6.12937476e+00,  2.32432366e+00],\n",
       "       [ 5.42316721e+00,  1.99592242e+00],\n",
       "       [ 6.19028689e+00,  2.39735064e+00],\n",
       "       [ 5.76161909e+00,  2.16426683e+00],\n",
       "       [ 9.12024508e+00, -7.30558200e-02],\n",
       "       [ 8.58376916e+00, -1.36194931e-01],\n",
       "       [ 9.12651817e+00, -3.32247752e-01],\n",
       "       [ 7.27560832e+00, -4.60955955e-01],\n",
       "       [ 8.55814639e+00, -3.97341697e-01],\n",
       "       [ 7.87237747e+00, -4.85081002e-01],\n",
       "       [ 8.66605949e+00, -2.86037963e-01],\n",
       "       [ 6.45347358e+00,  2.23799845e-02],\n",
       "       [ 8.63768432e+00, -2.45515595e-01],\n",
       "       [ 7.16780021e+00, -2.91011251e-01],\n",
       "       [ 6.47915170e+00, -3.09633237e-01],\n",
       "       [ 7.97829519e+00, -1.75031916e-01],\n",
       "       [ 7.56278153e+00, -2.70441712e-01],\n",
       "       [ 8.33022188e+00, -4.92836582e-01],\n",
       "       [ 7.37356730e+00,  1.78974058e-01],\n",
       "       [ 8.70300135e+00, -3.83374315e-04],\n",
       "       [ 7.90686540e+00, -4.72883753e-01],\n",
       "       [ 7.65390386e+00, -1.24770897e-01],\n",
       "       [ 8.05346136e+00, -7.39774413e-01],\n",
       "       [ 7.34185398e+00, -1.83588948e-01],\n",
       "       [ 8.41249000e+00, -5.93982991e-01],\n",
       "       [ 7.91631631e+00, -1.70787632e-02],\n",
       "       [ 8.44780157e+00, -8.30799394e-01],\n",
       "       [ 8.25863175e+00, -4.78776871e-01],\n",
       "       [ 8.33356003e+00, -8.97512089e-02],\n",
       "       [ 8.58988192e+00, -8.34753146e-02],\n",
       "       [ 8.86928986e+00, -4.19455056e-01],\n",
       "       [ 9.02317031e+00, -5.83357800e-01],\n",
       "       [ 8.16930004e+00, -4.13888242e-01],\n",
       "       [ 7.23297912e+00,  2.17335895e-01],\n",
       "       [ 7.17743366e+00, -1.95814432e-01],\n",
       "       [ 7.10934202e+00, -9.05808962e-02],\n",
       "       [ 7.58488360e+00, -5.17721477e-02],\n",
       "       [ 8.41787888e+00, -9.82802956e-01],\n",
       "       [ 7.75664376e+00, -5.29718734e-01],\n",
       "       [ 8.37613388e+00, -1.74883073e-01],\n",
       "       [ 8.87369476e+00, -2.47349822e-01],\n",
       "       [ 8.08169840e+00, -5.17081855e-01],\n",
       "       [ 7.66808034e+00, -1.20683770e-01],\n",
       "       [ 7.35162556e+00, -3.51607055e-01],\n",
       "       [ 7.57804696e+00, -5.46031346e-01],\n",
       "       [ 8.31692961e+00, -3.67295677e-01],\n",
       "       [ 7.59817587e+00, -1.77313053e-01],\n",
       "       [ 6.49057578e+00, -3.87697543e-03],\n",
       "       [ 7.60535538e+00, -3.55573575e-01],\n",
       "       [ 7.77770129e+00, -1.28765654e-01],\n",
       "       [ 7.75648343e+00, -2.17807185e-01],\n",
       "       [ 8.18333840e+00, -1.46586189e-01],\n",
       "       [ 6.50459193e+00,  3.12121701e-01],\n",
       "       [ 7.66717393e+00, -2.01615180e-01],\n",
       "       [ 9.48408779e+00, -1.51660561e+00],\n",
       "       [ 8.31802951e+00, -1.14273918e+00],\n",
       "       [ 9.85248456e+00, -1.24495426e+00],\n",
       "       [ 9.00931450e+00, -1.21126802e+00],\n",
       "       [ 9.36730953e+00, -1.37895983e+00],\n",
       "       [ 1.05871448e+01, -1.59893200e+00],\n",
       "       [ 7.22462810e+00, -1.01391260e+00],\n",
       "       [ 1.01195289e+01, -1.42315831e+00],\n",
       "       [ 9.26032507e+00, -1.45802877e+00],\n",
       "       [ 1.03254119e+01, -1.16769130e+00],\n",
       "       [ 9.05063906e+00, -7.04811578e-01],\n",
       "       [ 8.87129618e+00, -1.11396715e+00],\n",
       "       [ 9.42194857e+00, -1.04674091e+00],\n",
       "       [ 8.13239132e+00, -1.24400619e+00],\n",
       "       [ 8.43999189e+00, -1.25990013e+00],\n",
       "       [ 9.12850228e+00, -9.78063221e-01],\n",
       "       [ 9.14624386e+00, -1.02889214e+00],\n",
       "       [ 1.10344162e+01, -1.23835244e+00],\n",
       "       [ 1.06977054e+01, -2.07054584e+00],\n",
       "       [ 8.15974415e+00, -1.15094167e+00],\n",
       "       [ 9.70925990e+00, -1.11944159e+00],\n",
       "       [ 8.12000547e+00, -1.03753388e+00],\n",
       "       [ 1.06207486e+01, -1.71636278e+00],\n",
       "       [ 8.57419106e+00, -8.24551736e-01],\n",
       "       [ 9.56346538e+00, -1.05286796e+00],\n",
       "       [ 1.00045412e+01, -1.07495308e+00],\n",
       "       [ 8.48578798e+00, -7.27428321e-01],\n",
       "       [ 8.53799528e+00, -7.17363366e-01],\n",
       "       [ 9.09678896e+00, -1.34062623e+00],\n",
       "       [ 9.79234073e+00, -9.73834912e-01],\n",
       "       [ 1.00708200e+01, -1.34204944e+00],\n",
       "       [ 1.09971537e+01, -9.00183935e-01],\n",
       "       [ 9.11357971e+00, -1.37499331e+00],\n",
       "       [ 8.66442919e+00, -8.08508955e-01],\n",
       "       [ 8.67790400e+00, -1.29465803e+00],\n",
       "       [ 1.04393327e+01, -1.28491639e+00],\n",
       "       [ 9.30010211e+00, -1.14409826e+00],\n",
       "       [ 9.10914166e+00, -1.00263518e+00],\n",
       "       [ 8.41158358e+00, -6.74914401e-01],\n",
       "       [ 9.48376712e+00, -8.92782514e-01],\n",
       "       [ 9.48651952e+00, -1.19445165e+00],\n",
       "       [ 9.36344597e+00, -7.48917309e-01],\n",
       "       [ 8.31802951e+00, -1.14273918e+00],\n",
       "       [ 9.73675086e+00, -1.28959199e+00],\n",
       "       [ 9.63062839e+00, -1.19033628e+00],\n",
       "       [ 9.22651660e+00, -9.31293195e-01],\n",
       "       [ 8.56626547e+00, -1.03913417e+00],\n",
       "       [ 9.02592271e+00, -8.85026933e-01],\n",
       "       [ 9.10559876e+00, -9.96415757e-01],\n",
       "       [ 8.49037542e+00, -9.15931258e-01]])"
      ]
     },
     "execution_count": 38,
     "metadata": {},
     "output_type": "execute_result"
    }
   ],
   "source": [
    "iris_tsvd"
   ]
  },
  {
   "cell_type": "code",
   "execution_count": 35,
   "metadata": {},
   "outputs": [
    {
     "data": {
      "text/plain": [
       "Text(0, 0.5, 'TruncatedSVD Component2')"
      ]
     },
     "execution_count": 35,
     "metadata": {},
     "output_type": "execute_result"
    },
    {
     "data": {
      "image/png": "[encoded data removed]",
      "text/plain": [
       "<Figure size 432x288 with 1 Axes>"
      ]
     },
     "metadata": {
      "needs_background": "light"
     },
     "output_type": "display_data"
    }
   ],
   "source": [
    "plt.scatter(x=iris_tsvd[:,0], y=iris_tsvd[:,1], c=iris.target)\n",
    "plt.xlabel('TruncatedSVD Component1')\n",
    "plt.ylabel('TruncatedSVD Component2')"
   ]
  },
  {
   "cell_type": "code",
   "execution_count": 41,
   "metadata": {},
   "outputs": [],
   "source": [
    "# 붓꽃 데이터를 스케일링으로 변환한 뒤에 TruncatedSVD와 PCA 클래스 변환을 해 보자\n",
    "\n",
    "from sklearn.preprocessing import StandardScaler\n",
    "\n",
    "scaler = StandardScaler()\n",
    "iris_scaled = scaler.fit_transform(iris_ftrs)\n",
    "\n",
    "tsvd = TruncatedSVD(n_components=2)\n",
    "tsvd.fit(iris_scaled)\n",
    "iris_tsvd = tsvd.transform(iris_scaled)\n",
    "\n",
    "pca=PCA(n_components=2)\n",
    "pca.fit(iris_scaled)\n",
    "iris_pca = pca.transform(iris_scaled)"
   ]
  },
  {
   "cell_type": "code",
   "execution_count": 45,
   "metadata": {},
   "outputs": [
    {
     "data": {
      "text/plain": [
       "Text(0.5, 1.0, 'PCA Transformed')"
      ]
     },
     "execution_count": 45,
     "metadata": {},
     "output_type": "execute_result"
    },
    {
     "data": {
      "image/png": "[encoded data removed]",
      "text/plain": [
       "<Figure size 648x288 with 2 Axes>"
      ]
     },
     "metadata": {
      "needs_background": "light"
     },
     "output_type": "display_data"
    }
   ],
   "source": [
    "fig, (ax1,ax2) = plt.subplots(figsize=(9,4), ncols=2)\n",
    "ax1.scatter(x=iris_tsvd[:,0], y=iris_tsvd[:,1], c=iris.target)\n",
    "ax2.scatter(x=iris_pca[:,0], y=iris_pca[:,1], c=iris.target)\n",
    "\n",
    "ax1.set_title('Truncated SVD Transformed')\n",
    "ax2.set_title('PCA Transformed')"
   ]
  },
  {
   "cell_type": "code",
   "execution_count": 51,
   "metadata": {},
   "outputs": [
    {
     "name": "stdout",
     "output_type": "stream",
     "text": [
      "2.3293057297794443e-15\n",
      "-8.543513119185775e-17\n"
     ]
    }
   ],
   "source": [
    "print((iris_pca - iris_tsvd).mean())\n",
    "print((pca.components_ - tsvd.components_).mean())"
   ]
  },
  {
   "cell_type": "code",
   "execution_count": 52,
   "metadata": {},
   "outputs": [],
   "source": [
    "# 모두 0에 가까운 값이므로 2개의 변환이 서로 동일함을 알 수 있다.\n",
    "# 즉, 데이터 세트가 스케일링으로 데이터 중심이 동일해지면 사이킷런의 SVD와 PCA는 동일한 변환을 수행한다.\n",
    "# 이는 PCA가 SVD 알고리즘으로 구현됐음을 의미한다.\n",
    "\n",
    "# 하지만 PCA는 밀집행렬에 대한 변환만 가능하며 SVD는 희소행렬에 대한 변환도 가능하다."
   ]
  },
  {
   "cell_type": "markdown",
   "metadata": {},
   "source": [
    "## 05 NMF(Non-Negative Matrix Factorization)"
   ]
  },
  {
   "cell_type": "code",
   "execution_count": 55,
   "metadata": {},
   "outputs": [
    {
     "name": "stderr",
     "output_type": "stream",
     "text": [
      "C:\\ProgramData\\Anaconda3\\lib\\site-packages\\sklearn\\decomposition\\_nmf.py:1076: ConvergenceWarning: Maximum number of iterations 200 reached. Increase it to improve convergence.\n",
      "  warnings.warn(\"Maximum number of iterations %d reached. Increase it to\"\n"
     ]
    },
    {
     "data": {
      "text/plain": [
       "Text(0, 0.5, 'NMF Component2')"
      ]
     },
     "execution_count": 55,
     "metadata": {},
     "output_type": "execute_result"
    },
    {
     "data": {
      "image/png": "[encoded data removed]",
      "text/plain": [
       "<Figure size 432x288 with 1 Axes>"
      ]
     },
     "metadata": {
      "needs_background": "light"
     },
     "output_type": "display_data"
    }
   ],
   "source": [
    "from sklearn.decomposition import NMF\n",
    "from sklearn.datasets import load_iris\n",
    "import matplotlib.pyplot as plt\n",
    "%matplotlib inline\n",
    "\n",
    "iris=load_iris()\n",
    "iris_ftrs = iris.data\n",
    "nmf = NMF(n_components=2)\n",
    "nmf.fit(iris_ftrs)\n",
    "iris_nmf = nmf.transform(iris_ftrs)\n",
    "\n",
    "plt.scatter(x=iris_nmf[:,0], y=iris_nmf[:,1], c=iris.target)\n",
    "plt.xlabel('NMF Component1')\n",
    "plt.ylabel('NMF Component2')"
   ]
  },
  {
   "cell_type": "code",
   "execution_count": null,
   "metadata": {},
   "outputs": [],
   "source": []
  }
 ],
 "metadata": {
  "kernelspec": {
   "display_name": "Python 3",
   "language": "python",
   "name": "python3"
  },
  "language_info": {
   "codemirror_mode": {
    "name": "ipython",
    "version": 3
   },
   "file_extension": ".py",
   "mimetype": "text/x-python",
   "name": "python",
   "nbconvert_exporter": "python",
   "pygments_lexer": "ipython3",
   "version": "3.8.5"
  }
 },
 "nbformat": 4,
 "nbformat_minor": 4
}
